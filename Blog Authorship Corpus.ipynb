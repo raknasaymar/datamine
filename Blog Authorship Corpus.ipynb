{
  "nbformat": 4,
  "nbformat_minor": 0,
  "metadata": {
    "colab": {
      "name": "Statistical NLP_R8_Project1_Blog authorship.ipynb",
      "provenance": [],
      "collapsed_sections": []
    },
    "kernelspec": {
      "name": "python3",
      "display_name": "Python 3"
    }
  },
  "cells": [
    {
      "cell_type": "markdown",
      "metadata": {
        "id": "UT_J4tW84R5D",
        "colab_type": "text"
      },
      "source": [
        "## <center> **Statistical NLP - Blog Authorship Corpus** </center>"
      ]
    },
    {
      "cell_type": "markdown",
      "metadata": {
        "id": "XPTspjoQ4r8R",
        "colab_type": "text"
      },
      "source": [
        "Over 600,000 posts from more than 19 thousand bloggers\n",
        "\n",
        "The Blog Authorship Corpus consists of the collected posts of 19,320 bloggers gathered from blogger.com in August 2004. The corpus incorporates a total of 681,288 posts and over 140 million words - or approximately 35 posts and 7250 words per person.\n",
        "\n",
        "Each blog is presented as a separate file, the name of which indicates a blogger id# and the blogger’s self-provided gender, age, industry, and astrological sign. (All are labeled for gender and age but for many, industry and/or sign is marked as unknown).\n",
        "\n",
        "All bloggers included in the corpus fall into one of three age groups:<br>\n",
        "- 8240 \"10s\" blogs (ages 13-17),\n",
        "- 8086 \"20s\" blogs(ages 23-27)\n",
        "- 2994 \"30s\" blogs (ages 33-47)\n",
        "\n",
        "For each age group, there is an equal number of male and female bloggers.\n",
        "Each blog in the corpus includes at least 200 occurrences of common English words. All formatting has been stripped with two exceptions. Individual posts within a single blogger are separated by the date of the following post and links within a post are denoted by the label urllink.\n",
        "\n",
        "Link to dataset:\n",
        "https://www.kaggle.com/rtatman/blog-authorship-corpus"
      ]
    },
    {
      "cell_type": "markdown",
      "metadata": {
        "id": "RfSon7J04e4S",
        "colab_type": "text"
      },
      "source": [
        "**Import Necessary packages:**"
      ]
    },
    {
      "cell_type": "code",
      "metadata": {
        "id": "u-r8u8QSUWeV",
        "colab_type": "code",
        "outputId": "b7afa9ad-0907-43cb-c497-9a30598e0ca2",
        "colab": {
          "base_uri": "https://localhost:8080/",
          "height": 34
        }
      },
      "source": [
        "tensorflow_version 2.x"
      ],
      "execution_count": 0,
      "outputs": [
        {
          "output_type": "stream",
          "text": [
            "TensorFlow 2.x selected.\n"
          ],
          "name": "stdout"
        }
      ]
    },
    {
      "cell_type": "code",
      "metadata": {
        "id": "QIcwgJr6AJUL",
        "colab_type": "code",
        "outputId": "b57067ba-2e76-4a1f-def3-fd9605693c43",
        "colab": {
          "base_uri": "https://localhost:8080/",
          "height": 70
        }
      },
      "source": [
        "import nltk\n",
        "nltk.download('stopwords')"
      ],
      "execution_count": 0,
      "outputs": [
        {
          "output_type": "stream",
          "text": [
            "[nltk_data] Downloading package stopwords to /root/nltk_data...\n",
            "[nltk_data]   Unzipping corpora/stopwords.zip.\n"
          ],
          "name": "stdout"
        },
        {
          "output_type": "execute_result",
          "data": {
            "text/plain": [
              "True"
            ]
          },
          "metadata": {
            "tags": []
          },
          "execution_count": 2
        }
      ]
    },
    {
      "cell_type": "code",
      "metadata": {
        "id": "vWIcC0IIVrKv",
        "colab_type": "code",
        "colab": {}
      },
      "source": [
        "import tensorflow as tf\n",
        "\n",
        "import numpy as np\n",
        "import pandas as pd\n",
        "import os\n",
        "import matplotlib.pyplot as plt\n",
        "import seaborn as sns\n",
        "import re\n",
        "\n",
        "from sklearn.model_selection import train_test_split\n",
        "from sklearn.metrics import classification_report\n",
        "from sklearn.preprocessing import MultiLabelBinarizer\n",
        "from sklearn.feature_extraction.text import CountVectorizer, TfidfVectorizer\n",
        "from sklearn.linear_model import LogisticRegression\n",
        "from sklearn.multiclass import OneVsRestClassifier\n",
        "from sklearn import metrics\n",
        "\n",
        "from nltk.corpus import stopwords \n",
        "\n",
        "import warnings\n",
        "warnings.filterwarnings('ignore')"
      ],
      "execution_count": 0,
      "outputs": []
    },
    {
      "cell_type": "markdown",
      "metadata": {
        "id": "WzKsqFR-5NAs",
        "colab_type": "text"
      },
      "source": [
        "**Mount Drive:**"
      ]
    },
    {
      "cell_type": "code",
      "metadata": {
        "id": "_GcG2uLuVtlQ",
        "colab_type": "code",
        "outputId": "f243c6cc-1345-4f69-f447-eb8bad595d75",
        "colab": {
          "base_uri": "https://localhost:8080/",
          "height": 125
        }
      },
      "source": [
        "from google.colab import drive\n",
        "drive.mount('/content/drive')"
      ],
      "execution_count": 0,
      "outputs": [
        {
          "output_type": "stream",
          "text": [
            "Go to this URL in a browser: https://accounts.google.com/o/oauth2/auth?client_id=947318989803-6bn6qk8qdgf4n4g3pfee6491hc0brc4i.apps.googleusercontent.com&redirect_uri=urn%3aietf%3awg%3aoauth%3a2.0%3aoob&response_type=code&scope=email%20https%3a%2f%2fwww.googleapis.com%2fauth%2fdocs.test%20https%3a%2f%2fwww.googleapis.com%2fauth%2fdrive%20https%3a%2f%2fwww.googleapis.com%2fauth%2fdrive.photos.readonly%20https%3a%2f%2fwww.googleapis.com%2fauth%2fpeopleapi.readonly\n",
            "\n",
            "Enter your authorization code:\n",
            "··········\n",
            "Mounted at /content/drive\n"
          ],
          "name": "stdout"
        }
      ]
    },
    {
      "cell_type": "markdown",
      "metadata": {
        "id": "BYR3NJuW5P2c",
        "colab_type": "text"
      },
      "source": [
        "**Extract data from zip file:**"
      ]
    },
    {
      "cell_type": "code",
      "metadata": {
        "id": "C5gBmP_sVwsm",
        "colab_type": "code",
        "colab": {}
      },
      "source": [
        "project_path = \"/content/drive/My Drive/Statistical NLP/\""
      ],
      "execution_count": 0,
      "outputs": []
    },
    {
      "cell_type": "code",
      "metadata": {
        "id": "Ga4WwotxWAb6",
        "colab_type": "code",
        "colab": {}
      },
      "source": [
        "# from zipfile import ZipFile\n",
        "# with ZipFile(project_path + 'blog-authorship-corpus.zip', 'r') as z:\n",
        "#   z.extractall(project_path)"
      ],
      "execution_count": 0,
      "outputs": []
    },
    {
      "cell_type": "markdown",
      "metadata": {
        "id": "hED7Yw8S5U1Z",
        "colab_type": "text"
      },
      "source": [
        "### **1. Load the dataset (5 points)**"
      ]
    },
    {
      "cell_type": "code",
      "metadata": {
        "id": "eV-X12yFWT3n",
        "colab_type": "code",
        "colab": {}
      },
      "source": [
        "blog_df = pd.read_csv(project_path + 'blogtext.csv')"
      ],
      "execution_count": 0,
      "outputs": []
    },
    {
      "cell_type": "code",
      "metadata": {
        "id": "vqVl_ncCXnWY",
        "colab_type": "code",
        "outputId": "71e0cd9b-2c2a-4425-fb01-07a8d679fe5d",
        "colab": {
          "base_uri": "https://localhost:8080/",
          "height": 204
        }
      },
      "source": [
        "blog_df.head()"
      ],
      "execution_count": 0,
      "outputs": [
        {
          "output_type": "execute_result",
          "data": {
            "text/html": [
              "<div>\n",
              "<style scoped>\n",
              "    .dataframe tbody tr th:only-of-type {\n",
              "        vertical-align: middle;\n",
              "    }\n",
              "\n",
              "    .dataframe tbody tr th {\n",
              "        vertical-align: top;\n",
              "    }\n",
              "\n",
              "    .dataframe thead th {\n",
              "        text-align: right;\n",
              "    }\n",
              "</style>\n",
              "<table border=\"1\" class=\"dataframe\">\n",
              "  <thead>\n",
              "    <tr style=\"text-align: right;\">\n",
              "      <th></th>\n",
              "      <th>id</th>\n",
              "      <th>gender</th>\n",
              "      <th>age</th>\n",
              "      <th>topic</th>\n",
              "      <th>sign</th>\n",
              "      <th>date</th>\n",
              "      <th>text</th>\n",
              "    </tr>\n",
              "  </thead>\n",
              "  <tbody>\n",
              "    <tr>\n",
              "      <th>0</th>\n",
              "      <td>2059027</td>\n",
              "      <td>male</td>\n",
              "      <td>15</td>\n",
              "      <td>Student</td>\n",
              "      <td>Leo</td>\n",
              "      <td>14,May,2004</td>\n",
              "      <td>Info has been found (+/- 100 pages,...</td>\n",
              "    </tr>\n",
              "    <tr>\n",
              "      <th>1</th>\n",
              "      <td>2059027</td>\n",
              "      <td>male</td>\n",
              "      <td>15</td>\n",
              "      <td>Student</td>\n",
              "      <td>Leo</td>\n",
              "      <td>13,May,2004</td>\n",
              "      <td>These are the team members:   Drewe...</td>\n",
              "    </tr>\n",
              "    <tr>\n",
              "      <th>2</th>\n",
              "      <td>2059027</td>\n",
              "      <td>male</td>\n",
              "      <td>15</td>\n",
              "      <td>Student</td>\n",
              "      <td>Leo</td>\n",
              "      <td>12,May,2004</td>\n",
              "      <td>In het kader van kernfusie op aarde...</td>\n",
              "    </tr>\n",
              "    <tr>\n",
              "      <th>3</th>\n",
              "      <td>2059027</td>\n",
              "      <td>male</td>\n",
              "      <td>15</td>\n",
              "      <td>Student</td>\n",
              "      <td>Leo</td>\n",
              "      <td>12,May,2004</td>\n",
              "      <td>testing!!!  testing!!!</td>\n",
              "    </tr>\n",
              "    <tr>\n",
              "      <th>4</th>\n",
              "      <td>3581210</td>\n",
              "      <td>male</td>\n",
              "      <td>33</td>\n",
              "      <td>InvestmentBanking</td>\n",
              "      <td>Aquarius</td>\n",
              "      <td>11,June,2004</td>\n",
              "      <td>Thanks to Yahoo!'s Toolbar I can ...</td>\n",
              "    </tr>\n",
              "  </tbody>\n",
              "</table>\n",
              "</div>"
            ],
            "text/plain": [
              "        id  ...                                               text\n",
              "0  2059027  ...             Info has been found (+/- 100 pages,...\n",
              "1  2059027  ...             These are the team members:   Drewe...\n",
              "2  2059027  ...             In het kader van kernfusie op aarde...\n",
              "3  2059027  ...                   testing!!!  testing!!!          \n",
              "4  3581210  ...               Thanks to Yahoo!'s Toolbar I can ...\n",
              "\n",
              "[5 rows x 7 columns]"
            ]
          },
          "metadata": {
            "tags": []
          },
          "execution_count": 7
        }
      ]
    },
    {
      "cell_type": "markdown",
      "metadata": {
        "id": "gRYP_jNP5enf",
        "colab_type": "text"
      },
      "source": [
        "**View the shape of data:**"
      ]
    },
    {
      "cell_type": "code",
      "metadata": {
        "id": "nykc49WTYBWv",
        "colab_type": "code",
        "outputId": "7d7fe689-af04-4d34-954c-9eb452ea1338",
        "colab": {
          "base_uri": "https://localhost:8080/",
          "height": 34
        }
      },
      "source": [
        "blog_df.shape"
      ],
      "execution_count": 0,
      "outputs": [
        {
          "output_type": "execute_result",
          "data": {
            "text/plain": [
              "(681284, 7)"
            ]
          },
          "metadata": {
            "tags": []
          },
          "execution_count": 8
        }
      ]
    },
    {
      "cell_type": "markdown",
      "metadata": {
        "id": "-QK2uXGV5jmp",
        "colab_type": "text"
      },
      "source": [
        "**View dataset info:**"
      ]
    },
    {
      "cell_type": "code",
      "metadata": {
        "id": "LwgwMSkOXt_N",
        "colab_type": "code",
        "outputId": "ce0ec426-cab4-4685-bf06-f2d31b7882e3",
        "colab": {
          "base_uri": "https://localhost:8080/",
          "height": 230
        }
      },
      "source": [
        "blog_df.info()"
      ],
      "execution_count": 0,
      "outputs": [
        {
          "output_type": "stream",
          "text": [
            "<class 'pandas.core.frame.DataFrame'>\n",
            "RangeIndex: 681284 entries, 0 to 681283\n",
            "Data columns (total 7 columns):\n",
            "id        681284 non-null int64\n",
            "gender    681284 non-null object\n",
            "age       681284 non-null int64\n",
            "topic     681284 non-null object\n",
            "sign      681284 non-null object\n",
            "date      681284 non-null object\n",
            "text      681284 non-null object\n",
            "dtypes: int64(2), object(5)\n",
            "memory usage: 36.4+ MB\n"
          ],
          "name": "stdout"
        }
      ]
    },
    {
      "cell_type": "markdown",
      "metadata": {
        "id": "l5PxAqRo5qFS",
        "colab_type": "text"
      },
      "source": [
        "**We will extract only 25,000 records from the original data for ease of processing**"
      ]
    },
    {
      "cell_type": "code",
      "metadata": {
        "id": "0k6KaKSPZcOM",
        "colab_type": "code",
        "outputId": "ec0241b7-428d-4ceb-f595-e690e27bb043",
        "colab": {
          "base_uri": "https://localhost:8080/",
          "height": 34
        }
      },
      "source": [
        "blog_df_ss =  blog_df.head(25000)\n",
        "blog_df_ss.shape"
      ],
      "execution_count": 0,
      "outputs": [
        {
          "output_type": "execute_result",
          "data": {
            "text/plain": [
              "(25000, 7)"
            ]
          },
          "metadata": {
            "tags": []
          },
          "execution_count": 10
        }
      ]
    },
    {
      "cell_type": "code",
      "metadata": {
        "id": "-5HVXkylGIZl",
        "colab_type": "code",
        "outputId": "9e7cbfc9-5c65-417f-d60e-5528b6b19740",
        "colab": {
          "base_uri": "https://localhost:8080/",
          "height": 360
        }
      },
      "source": [
        "blog_df_ss.head(10)"
      ],
      "execution_count": 0,
      "outputs": [
        {
          "output_type": "execute_result",
          "data": {
            "text/html": [
              "<div>\n",
              "<style scoped>\n",
              "    .dataframe tbody tr th:only-of-type {\n",
              "        vertical-align: middle;\n",
              "    }\n",
              "\n",
              "    .dataframe tbody tr th {\n",
              "        vertical-align: top;\n",
              "    }\n",
              "\n",
              "    .dataframe thead th {\n",
              "        text-align: right;\n",
              "    }\n",
              "</style>\n",
              "<table border=\"1\" class=\"dataframe\">\n",
              "  <thead>\n",
              "    <tr style=\"text-align: right;\">\n",
              "      <th></th>\n",
              "      <th>id</th>\n",
              "      <th>gender</th>\n",
              "      <th>age</th>\n",
              "      <th>topic</th>\n",
              "      <th>sign</th>\n",
              "      <th>date</th>\n",
              "      <th>text</th>\n",
              "    </tr>\n",
              "  </thead>\n",
              "  <tbody>\n",
              "    <tr>\n",
              "      <th>0</th>\n",
              "      <td>2059027</td>\n",
              "      <td>male</td>\n",
              "      <td>15</td>\n",
              "      <td>Student</td>\n",
              "      <td>Leo</td>\n",
              "      <td>14,May,2004</td>\n",
              "      <td>Info has been found (+/- 100 pages,...</td>\n",
              "    </tr>\n",
              "    <tr>\n",
              "      <th>1</th>\n",
              "      <td>2059027</td>\n",
              "      <td>male</td>\n",
              "      <td>15</td>\n",
              "      <td>Student</td>\n",
              "      <td>Leo</td>\n",
              "      <td>13,May,2004</td>\n",
              "      <td>These are the team members:   Drewe...</td>\n",
              "    </tr>\n",
              "    <tr>\n",
              "      <th>2</th>\n",
              "      <td>2059027</td>\n",
              "      <td>male</td>\n",
              "      <td>15</td>\n",
              "      <td>Student</td>\n",
              "      <td>Leo</td>\n",
              "      <td>12,May,2004</td>\n",
              "      <td>In het kader van kernfusie op aarde...</td>\n",
              "    </tr>\n",
              "    <tr>\n",
              "      <th>3</th>\n",
              "      <td>2059027</td>\n",
              "      <td>male</td>\n",
              "      <td>15</td>\n",
              "      <td>Student</td>\n",
              "      <td>Leo</td>\n",
              "      <td>12,May,2004</td>\n",
              "      <td>testing!!!  testing!!!</td>\n",
              "    </tr>\n",
              "    <tr>\n",
              "      <th>4</th>\n",
              "      <td>3581210</td>\n",
              "      <td>male</td>\n",
              "      <td>33</td>\n",
              "      <td>InvestmentBanking</td>\n",
              "      <td>Aquarius</td>\n",
              "      <td>11,June,2004</td>\n",
              "      <td>Thanks to Yahoo!'s Toolbar I can ...</td>\n",
              "    </tr>\n",
              "    <tr>\n",
              "      <th>5</th>\n",
              "      <td>3581210</td>\n",
              "      <td>male</td>\n",
              "      <td>33</td>\n",
              "      <td>InvestmentBanking</td>\n",
              "      <td>Aquarius</td>\n",
              "      <td>10,June,2004</td>\n",
              "      <td>I had an interesting conversation...</td>\n",
              "    </tr>\n",
              "    <tr>\n",
              "      <th>6</th>\n",
              "      <td>3581210</td>\n",
              "      <td>male</td>\n",
              "      <td>33</td>\n",
              "      <td>InvestmentBanking</td>\n",
              "      <td>Aquarius</td>\n",
              "      <td>10,June,2004</td>\n",
              "      <td>Somehow Coca-Cola has a way of su...</td>\n",
              "    </tr>\n",
              "    <tr>\n",
              "      <th>7</th>\n",
              "      <td>3581210</td>\n",
              "      <td>male</td>\n",
              "      <td>33</td>\n",
              "      <td>InvestmentBanking</td>\n",
              "      <td>Aquarius</td>\n",
              "      <td>10,June,2004</td>\n",
              "      <td>If anything, Korea is a country o...</td>\n",
              "    </tr>\n",
              "    <tr>\n",
              "      <th>8</th>\n",
              "      <td>3581210</td>\n",
              "      <td>male</td>\n",
              "      <td>33</td>\n",
              "      <td>InvestmentBanking</td>\n",
              "      <td>Aquarius</td>\n",
              "      <td>10,June,2004</td>\n",
              "      <td>Take a read of this news article ...</td>\n",
              "    </tr>\n",
              "    <tr>\n",
              "      <th>9</th>\n",
              "      <td>3581210</td>\n",
              "      <td>male</td>\n",
              "      <td>33</td>\n",
              "      <td>InvestmentBanking</td>\n",
              "      <td>Aquarius</td>\n",
              "      <td>09,June,2004</td>\n",
              "      <td>I surf the English news sites a l...</td>\n",
              "    </tr>\n",
              "  </tbody>\n",
              "</table>\n",
              "</div>"
            ],
            "text/plain": [
              "        id  ...                                               text\n",
              "0  2059027  ...             Info has been found (+/- 100 pages,...\n",
              "1  2059027  ...             These are the team members:   Drewe...\n",
              "2  2059027  ...             In het kader van kernfusie op aarde...\n",
              "3  2059027  ...                   testing!!!  testing!!!          \n",
              "4  3581210  ...               Thanks to Yahoo!'s Toolbar I can ...\n",
              "5  3581210  ...               I had an interesting conversation...\n",
              "6  3581210  ...               Somehow Coca-Cola has a way of su...\n",
              "7  3581210  ...               If anything, Korea is a country o...\n",
              "8  3581210  ...               Take a read of this news article ...\n",
              "9  3581210  ...               I surf the English news sites a l...\n",
              "\n",
              "[10 rows x 7 columns]"
            ]
          },
          "metadata": {
            "tags": []
          },
          "execution_count": 11
        }
      ]
    },
    {
      "cell_type": "markdown",
      "metadata": {
        "id": "IQtnXeeT55Cq",
        "colab_type": "text"
      },
      "source": [
        "### **2. Preprocess rows of the “text” column (7.5 points)**"
      ]
    },
    {
      "cell_type": "code",
      "metadata": {
        "id": "VEq5-3sAiDHJ",
        "colab_type": "code",
        "colab": {}
      },
      "source": [
        "# a. Remove unwanted characters:\n",
        "blog_df_ss['text'] = blog_df_ss['text'].apply(lambda x: x.lower())\n",
        "\n",
        "# b. Convert text to lowercase\n",
        "blog_df_ss['text'] = blog_df_ss['text'].apply(lambda x: re.sub('[^0-9a-z]', \" \", x))\n",
        "\n",
        "# c. Remove unwanted spaces\n",
        "blog_df_ss['text'] = blog_df_ss['text'].apply(lambda x: x.strip())"
      ],
      "execution_count": 0,
      "outputs": []
    },
    {
      "cell_type": "code",
      "metadata": {
        "id": "n4aRDY7wGUAk",
        "colab_type": "code",
        "outputId": "11e728bd-e204-4e4e-8c5e-908d08b9ba7e",
        "colab": {
          "base_uri": "https://localhost:8080/",
          "height": 204
        }
      },
      "source": [
        "blog_df_ss.head(5)"
      ],
      "execution_count": 0,
      "outputs": [
        {
          "output_type": "execute_result",
          "data": {
            "text/html": [
              "<div>\n",
              "<style scoped>\n",
              "    .dataframe tbody tr th:only-of-type {\n",
              "        vertical-align: middle;\n",
              "    }\n",
              "\n",
              "    .dataframe tbody tr th {\n",
              "        vertical-align: top;\n",
              "    }\n",
              "\n",
              "    .dataframe thead th {\n",
              "        text-align: right;\n",
              "    }\n",
              "</style>\n",
              "<table border=\"1\" class=\"dataframe\">\n",
              "  <thead>\n",
              "    <tr style=\"text-align: right;\">\n",
              "      <th></th>\n",
              "      <th>id</th>\n",
              "      <th>gender</th>\n",
              "      <th>age</th>\n",
              "      <th>topic</th>\n",
              "      <th>sign</th>\n",
              "      <th>date</th>\n",
              "      <th>text</th>\n",
              "    </tr>\n",
              "  </thead>\n",
              "  <tbody>\n",
              "    <tr>\n",
              "      <th>0</th>\n",
              "      <td>2059027</td>\n",
              "      <td>male</td>\n",
              "      <td>15</td>\n",
              "      <td>Student</td>\n",
              "      <td>Leo</td>\n",
              "      <td>14,May,2004</td>\n",
              "      <td>info has been found      100 pages  and 4 5 mb...</td>\n",
              "    </tr>\n",
              "    <tr>\n",
              "      <th>1</th>\n",
              "      <td>2059027</td>\n",
              "      <td>male</td>\n",
              "      <td>15</td>\n",
              "      <td>Student</td>\n",
              "      <td>Leo</td>\n",
              "      <td>13,May,2004</td>\n",
              "      <td>these are the team members    drewes van der l...</td>\n",
              "    </tr>\n",
              "    <tr>\n",
              "      <th>2</th>\n",
              "      <td>2059027</td>\n",
              "      <td>male</td>\n",
              "      <td>15</td>\n",
              "      <td>Student</td>\n",
              "      <td>Leo</td>\n",
              "      <td>12,May,2004</td>\n",
              "      <td>in het kader van kernfusie op aarde   maak je ...</td>\n",
              "    </tr>\n",
              "    <tr>\n",
              "      <th>3</th>\n",
              "      <td>2059027</td>\n",
              "      <td>male</td>\n",
              "      <td>15</td>\n",
              "      <td>Student</td>\n",
              "      <td>Leo</td>\n",
              "      <td>12,May,2004</td>\n",
              "      <td>testing     testing</td>\n",
              "    </tr>\n",
              "    <tr>\n",
              "      <th>4</th>\n",
              "      <td>3581210</td>\n",
              "      <td>male</td>\n",
              "      <td>33</td>\n",
              "      <td>InvestmentBanking</td>\n",
              "      <td>Aquarius</td>\n",
              "      <td>11,June,2004</td>\n",
              "      <td>thanks to yahoo  s toolbar i can now  capture ...</td>\n",
              "    </tr>\n",
              "  </tbody>\n",
              "</table>\n",
              "</div>"
            ],
            "text/plain": [
              "        id  ...                                               text\n",
              "0  2059027  ...  info has been found      100 pages  and 4 5 mb...\n",
              "1  2059027  ...  these are the team members    drewes van der l...\n",
              "2  2059027  ...  in het kader van kernfusie op aarde   maak je ...\n",
              "3  2059027  ...                                testing     testing\n",
              "4  3581210  ...  thanks to yahoo  s toolbar i can now  capture ...\n",
              "\n",
              "[5 rows x 7 columns]"
            ]
          },
          "metadata": {
            "tags": []
          },
          "execution_count": 13
        }
      ]
    },
    {
      "cell_type": "markdown",
      "metadata": {
        "id": "xbAbdDXF6IMo",
        "colab_type": "text"
      },
      "source": [
        "**Remove stopwords:**"
      ]
    },
    {
      "cell_type": "code",
      "metadata": {
        "id": "7JKBYT-0BI-7",
        "colab_type": "code",
        "colab": {}
      },
      "source": [
        "stop_words = set(stopwords.words('english'))\n",
        "\n",
        "# Adding additional stop words \n",
        "stop_words.update(['zero','one','two','three','four','five','six','seven','eight','nine','ten'])\n",
        "\n",
        "stop_words_updt = re.compile(r\"\\b(\" + \"|\".join(stop_words) + \")\\\\W\", re.I)\n",
        "\n",
        "# Function to remove stopwords:\n",
        "def removeStopWords(sentence):\n",
        "    global stop_words_updt\n",
        "    return stop_words_updt.sub(\" \", sentence)\n",
        "\n",
        "# Call remove stopwords function:\n",
        "blog_df_ss['text'] = blog_df_ss['text'].apply(removeStopWords)"
      ],
      "execution_count": 0,
      "outputs": []
    },
    {
      "cell_type": "markdown",
      "metadata": {
        "id": "yfmSXvrs6L8r",
        "colab_type": "text"
      },
      "source": [
        "**View the cleaned dataset:**"
      ]
    },
    {
      "cell_type": "code",
      "metadata": {
        "id": "9mIp3N-DFvtr",
        "colab_type": "code",
        "outputId": "cb270f20-a24b-4982-a9db-69da6e772f19",
        "colab": {
          "base_uri": "https://localhost:8080/",
          "height": 360
        }
      },
      "source": [
        "blog_df_ss.head(10)"
      ],
      "execution_count": 0,
      "outputs": [
        {
          "output_type": "execute_result",
          "data": {
            "text/html": [
              "<div>\n",
              "<style scoped>\n",
              "    .dataframe tbody tr th:only-of-type {\n",
              "        vertical-align: middle;\n",
              "    }\n",
              "\n",
              "    .dataframe tbody tr th {\n",
              "        vertical-align: top;\n",
              "    }\n",
              "\n",
              "    .dataframe thead th {\n",
              "        text-align: right;\n",
              "    }\n",
              "</style>\n",
              "<table border=\"1\" class=\"dataframe\">\n",
              "  <thead>\n",
              "    <tr style=\"text-align: right;\">\n",
              "      <th></th>\n",
              "      <th>id</th>\n",
              "      <th>gender</th>\n",
              "      <th>age</th>\n",
              "      <th>topic</th>\n",
              "      <th>sign</th>\n",
              "      <th>date</th>\n",
              "      <th>text</th>\n",
              "    </tr>\n",
              "  </thead>\n",
              "  <tbody>\n",
              "    <tr>\n",
              "      <th>0</th>\n",
              "      <td>2059027</td>\n",
              "      <td>male</td>\n",
              "      <td>15</td>\n",
              "      <td>Student</td>\n",
              "      <td>Leo</td>\n",
              "      <td>14,May,2004</td>\n",
              "      <td>info   found      100 pages   4 5 mb   pdf fil...</td>\n",
              "    </tr>\n",
              "    <tr>\n",
              "      <th>1</th>\n",
              "      <td>2059027</td>\n",
              "      <td>male</td>\n",
              "      <td>15</td>\n",
              "      <td>Student</td>\n",
              "      <td>Leo</td>\n",
              "      <td>13,May,2004</td>\n",
              "      <td>team members    drewes van der laag        ...</td>\n",
              "    </tr>\n",
              "    <tr>\n",
              "      <th>2</th>\n",
              "      <td>2059027</td>\n",
              "      <td>male</td>\n",
              "      <td>15</td>\n",
              "      <td>Student</td>\n",
              "      <td>Leo</td>\n",
              "      <td>12,May,2004</td>\n",
              "      <td>het kader van kernfusie op aarde   maak je ei...</td>\n",
              "    </tr>\n",
              "    <tr>\n",
              "      <th>3</th>\n",
              "      <td>2059027</td>\n",
              "      <td>male</td>\n",
              "      <td>15</td>\n",
              "      <td>Student</td>\n",
              "      <td>Leo</td>\n",
              "      <td>12,May,2004</td>\n",
              "      <td>testing     testing</td>\n",
              "    </tr>\n",
              "    <tr>\n",
              "      <th>4</th>\n",
              "      <td>3581210</td>\n",
              "      <td>male</td>\n",
              "      <td>33</td>\n",
              "      <td>InvestmentBanking</td>\n",
              "      <td>Aquarius</td>\n",
              "      <td>11,June,2004</td>\n",
              "      <td>thanks  yahoo   toolbar     capture   urls  po...</td>\n",
              "    </tr>\n",
              "    <tr>\n",
              "      <th>5</th>\n",
              "      <td>3581210</td>\n",
              "      <td>male</td>\n",
              "      <td>33</td>\n",
              "      <td>InvestmentBanking</td>\n",
              "      <td>Aquarius</td>\n",
              "      <td>10,June,2004</td>\n",
              "      <td>interesting conversation   dad  morning    ...</td>\n",
              "    </tr>\n",
              "    <tr>\n",
              "      <th>6</th>\n",
              "      <td>3581210</td>\n",
              "      <td>male</td>\n",
              "      <td>33</td>\n",
              "      <td>InvestmentBanking</td>\n",
              "      <td>Aquarius</td>\n",
              "      <td>10,June,2004</td>\n",
              "      <td>somehow coca cola   way  summing  things  well...</td>\n",
              "    </tr>\n",
              "    <tr>\n",
              "      <th>7</th>\n",
              "      <td>3581210</td>\n",
              "      <td>male</td>\n",
              "      <td>33</td>\n",
              "      <td>InvestmentBanking</td>\n",
              "      <td>Aquarius</td>\n",
              "      <td>10,June,2004</td>\n",
              "      <td>anything  korea   country  extremes   everyth...</td>\n",
              "    </tr>\n",
              "    <tr>\n",
              "      <th>8</th>\n",
              "      <td>3581210</td>\n",
              "      <td>male</td>\n",
              "      <td>33</td>\n",
              "      <td>InvestmentBanking</td>\n",
              "      <td>Aquarius</td>\n",
              "      <td>10,June,2004</td>\n",
              "      <td>take  read   news article  urllink joongang il...</td>\n",
              "    </tr>\n",
              "    <tr>\n",
              "      <th>9</th>\n",
              "      <td>3581210</td>\n",
              "      <td>male</td>\n",
              "      <td>33</td>\n",
              "      <td>InvestmentBanking</td>\n",
              "      <td>Aquarius</td>\n",
              "      <td>09,June,2004</td>\n",
              "      <td>surf  english news sites  lot looking  tidbit...</td>\n",
              "    </tr>\n",
              "  </tbody>\n",
              "</table>\n",
              "</div>"
            ],
            "text/plain": [
              "        id  ...                                               text\n",
              "0  2059027  ...  info   found      100 pages   4 5 mb   pdf fil...\n",
              "1  2059027  ...     team members    drewes van der laag        ...\n",
              "2  2059027  ...   het kader van kernfusie op aarde   maak je ei...\n",
              "3  2059027  ...                                testing     testing\n",
              "4  3581210  ...  thanks  yahoo   toolbar     capture   urls  po...\n",
              "5  3581210  ...     interesting conversation   dad  morning    ...\n",
              "6  3581210  ...  somehow coca cola   way  summing  things  well...\n",
              "7  3581210  ...   anything  korea   country  extremes   everyth...\n",
              "8  3581210  ...  take  read   news article  urllink joongang il...\n",
              "9  3581210  ...   surf  english news sites  lot looking  tidbit...\n",
              "\n",
              "[10 rows x 7 columns]"
            ]
          },
          "metadata": {
            "tags": []
          },
          "execution_count": 15
        }
      ]
    },
    {
      "cell_type": "markdown",
      "metadata": {
        "id": "vrNEgMQe7GcS",
        "colab_type": "text"
      },
      "source": [
        "### **3. As we want to make this into a multi-label classification problem, you are required to merge all the label columns together, so that we have all the labels together for a particular sentence(7.5 points)**"
      ]
    },
    {
      "cell_type": "markdown",
      "metadata": {
        "id": "FCvL7gze69dJ",
        "colab_type": "text"
      },
      "source": [
        "**Dropping date column as it is not needed for our analysis:**"
      ]
    },
    {
      "cell_type": "code",
      "metadata": {
        "id": "X31jINU-F2Bj",
        "colab_type": "code",
        "colab": {}
      },
      "source": [
        "blog_df_ss = blog_df_ss.drop('date', axis=1)"
      ],
      "execution_count": 0,
      "outputs": []
    },
    {
      "cell_type": "code",
      "metadata": {
        "id": "cWCBjBoqJJWx",
        "colab_type": "code",
        "outputId": "3f4cb94e-420e-4cd0-e251-97a4c90e5252",
        "colab": {
          "base_uri": "https://localhost:8080/",
          "height": 111
        }
      },
      "source": [
        "blog_df_ss.head(2)"
      ],
      "execution_count": 0,
      "outputs": [
        {
          "output_type": "execute_result",
          "data": {
            "text/html": [
              "<div>\n",
              "<style scoped>\n",
              "    .dataframe tbody tr th:only-of-type {\n",
              "        vertical-align: middle;\n",
              "    }\n",
              "\n",
              "    .dataframe tbody tr th {\n",
              "        vertical-align: top;\n",
              "    }\n",
              "\n",
              "    .dataframe thead th {\n",
              "        text-align: right;\n",
              "    }\n",
              "</style>\n",
              "<table border=\"1\" class=\"dataframe\">\n",
              "  <thead>\n",
              "    <tr style=\"text-align: right;\">\n",
              "      <th></th>\n",
              "      <th>id</th>\n",
              "      <th>gender</th>\n",
              "      <th>age</th>\n",
              "      <th>topic</th>\n",
              "      <th>sign</th>\n",
              "      <th>text</th>\n",
              "    </tr>\n",
              "  </thead>\n",
              "  <tbody>\n",
              "    <tr>\n",
              "      <th>0</th>\n",
              "      <td>2059027</td>\n",
              "      <td>male</td>\n",
              "      <td>15</td>\n",
              "      <td>Student</td>\n",
              "      <td>Leo</td>\n",
              "      <td>info   found      100 pages   4 5 mb   pdf fil...</td>\n",
              "    </tr>\n",
              "    <tr>\n",
              "      <th>1</th>\n",
              "      <td>2059027</td>\n",
              "      <td>male</td>\n",
              "      <td>15</td>\n",
              "      <td>Student</td>\n",
              "      <td>Leo</td>\n",
              "      <td>team members    drewes van der laag        ...</td>\n",
              "    </tr>\n",
              "  </tbody>\n",
              "</table>\n",
              "</div>"
            ],
            "text/plain": [
              "        id gender  ...  sign                                               text\n",
              "0  2059027   male  ...   Leo  info   found      100 pages   4 5 mb   pdf fil...\n",
              "1  2059027   male  ...   Leo     team members    drewes van der laag        ...\n",
              "\n",
              "[2 rows x 6 columns]"
            ]
          },
          "metadata": {
            "tags": []
          },
          "execution_count": 17
        }
      ]
    },
    {
      "cell_type": "markdown",
      "metadata": {
        "id": "Y99IHYLF7EDk",
        "colab_type": "text"
      },
      "source": [
        "**Merging gender, age, topic and sign columns to create a single label column:**"
      ]
    },
    {
      "cell_type": "code",
      "metadata": {
        "id": "rNtCDVfYJPxy",
        "colab_type": "code",
        "colab": {}
      },
      "source": [
        "blog_df_ss['labels'] = blog_df_ss['gender'].astype(str) + ',' + blog_df_ss['age'].astype(str) + ',' + \\\n",
        "                       blog_df_ss['topic'].astype(str)  + ',' + blog_df_ss['sign'].astype(str)"
      ],
      "execution_count": 0,
      "outputs": []
    },
    {
      "cell_type": "code",
      "metadata": {
        "id": "A6FPL2C8KY7O",
        "colab_type": "code",
        "outputId": "9959e61f-4310-4765-b95e-f73f15adb4a3",
        "colab": {
          "base_uri": "https://localhost:8080/",
          "height": 360
        }
      },
      "source": [
        "blog_df_ss.head(10)"
      ],
      "execution_count": 0,
      "outputs": [
        {
          "output_type": "execute_result",
          "data": {
            "text/html": [
              "<div>\n",
              "<style scoped>\n",
              "    .dataframe tbody tr th:only-of-type {\n",
              "        vertical-align: middle;\n",
              "    }\n",
              "\n",
              "    .dataframe tbody tr th {\n",
              "        vertical-align: top;\n",
              "    }\n",
              "\n",
              "    .dataframe thead th {\n",
              "        text-align: right;\n",
              "    }\n",
              "</style>\n",
              "<table border=\"1\" class=\"dataframe\">\n",
              "  <thead>\n",
              "    <tr style=\"text-align: right;\">\n",
              "      <th></th>\n",
              "      <th>id</th>\n",
              "      <th>gender</th>\n",
              "      <th>age</th>\n",
              "      <th>topic</th>\n",
              "      <th>sign</th>\n",
              "      <th>text</th>\n",
              "      <th>labels</th>\n",
              "    </tr>\n",
              "  </thead>\n",
              "  <tbody>\n",
              "    <tr>\n",
              "      <th>0</th>\n",
              "      <td>2059027</td>\n",
              "      <td>male</td>\n",
              "      <td>15</td>\n",
              "      <td>Student</td>\n",
              "      <td>Leo</td>\n",
              "      <td>info   found      100 pages   4 5 mb   pdf fil...</td>\n",
              "      <td>male,15,Student,Leo</td>\n",
              "    </tr>\n",
              "    <tr>\n",
              "      <th>1</th>\n",
              "      <td>2059027</td>\n",
              "      <td>male</td>\n",
              "      <td>15</td>\n",
              "      <td>Student</td>\n",
              "      <td>Leo</td>\n",
              "      <td>team members    drewes van der laag        ...</td>\n",
              "      <td>male,15,Student,Leo</td>\n",
              "    </tr>\n",
              "    <tr>\n",
              "      <th>2</th>\n",
              "      <td>2059027</td>\n",
              "      <td>male</td>\n",
              "      <td>15</td>\n",
              "      <td>Student</td>\n",
              "      <td>Leo</td>\n",
              "      <td>het kader van kernfusie op aarde   maak je ei...</td>\n",
              "      <td>male,15,Student,Leo</td>\n",
              "    </tr>\n",
              "    <tr>\n",
              "      <th>3</th>\n",
              "      <td>2059027</td>\n",
              "      <td>male</td>\n",
              "      <td>15</td>\n",
              "      <td>Student</td>\n",
              "      <td>Leo</td>\n",
              "      <td>testing     testing</td>\n",
              "      <td>male,15,Student,Leo</td>\n",
              "    </tr>\n",
              "    <tr>\n",
              "      <th>4</th>\n",
              "      <td>3581210</td>\n",
              "      <td>male</td>\n",
              "      <td>33</td>\n",
              "      <td>InvestmentBanking</td>\n",
              "      <td>Aquarius</td>\n",
              "      <td>thanks  yahoo   toolbar     capture   urls  po...</td>\n",
              "      <td>male,33,InvestmentBanking,Aquarius</td>\n",
              "    </tr>\n",
              "    <tr>\n",
              "      <th>5</th>\n",
              "      <td>3581210</td>\n",
              "      <td>male</td>\n",
              "      <td>33</td>\n",
              "      <td>InvestmentBanking</td>\n",
              "      <td>Aquarius</td>\n",
              "      <td>interesting conversation   dad  morning    ...</td>\n",
              "      <td>male,33,InvestmentBanking,Aquarius</td>\n",
              "    </tr>\n",
              "    <tr>\n",
              "      <th>6</th>\n",
              "      <td>3581210</td>\n",
              "      <td>male</td>\n",
              "      <td>33</td>\n",
              "      <td>InvestmentBanking</td>\n",
              "      <td>Aquarius</td>\n",
              "      <td>somehow coca cola   way  summing  things  well...</td>\n",
              "      <td>male,33,InvestmentBanking,Aquarius</td>\n",
              "    </tr>\n",
              "    <tr>\n",
              "      <th>7</th>\n",
              "      <td>3581210</td>\n",
              "      <td>male</td>\n",
              "      <td>33</td>\n",
              "      <td>InvestmentBanking</td>\n",
              "      <td>Aquarius</td>\n",
              "      <td>anything  korea   country  extremes   everyth...</td>\n",
              "      <td>male,33,InvestmentBanking,Aquarius</td>\n",
              "    </tr>\n",
              "    <tr>\n",
              "      <th>8</th>\n",
              "      <td>3581210</td>\n",
              "      <td>male</td>\n",
              "      <td>33</td>\n",
              "      <td>InvestmentBanking</td>\n",
              "      <td>Aquarius</td>\n",
              "      <td>take  read   news article  urllink joongang il...</td>\n",
              "      <td>male,33,InvestmentBanking,Aquarius</td>\n",
              "    </tr>\n",
              "    <tr>\n",
              "      <th>9</th>\n",
              "      <td>3581210</td>\n",
              "      <td>male</td>\n",
              "      <td>33</td>\n",
              "      <td>InvestmentBanking</td>\n",
              "      <td>Aquarius</td>\n",
              "      <td>surf  english news sites  lot looking  tidbit...</td>\n",
              "      <td>male,33,InvestmentBanking,Aquarius</td>\n",
              "    </tr>\n",
              "  </tbody>\n",
              "</table>\n",
              "</div>"
            ],
            "text/plain": [
              "        id  ...                              labels\n",
              "0  2059027  ...                 male,15,Student,Leo\n",
              "1  2059027  ...                 male,15,Student,Leo\n",
              "2  2059027  ...                 male,15,Student,Leo\n",
              "3  2059027  ...                 male,15,Student,Leo\n",
              "4  3581210  ...  male,33,InvestmentBanking,Aquarius\n",
              "5  3581210  ...  male,33,InvestmentBanking,Aquarius\n",
              "6  3581210  ...  male,33,InvestmentBanking,Aquarius\n",
              "7  3581210  ...  male,33,InvestmentBanking,Aquarius\n",
              "8  3581210  ...  male,33,InvestmentBanking,Aquarius\n",
              "9  3581210  ...  male,33,InvestmentBanking,Aquarius\n",
              "\n",
              "[10 rows x 7 columns]"
            ]
          },
          "metadata": {
            "tags": []
          },
          "execution_count": 19
        }
      ]
    },
    {
      "cell_type": "markdown",
      "metadata": {
        "id": "UUN6oclt7qBt",
        "colab_type": "text"
      },
      "source": [
        "**Dropping the original gender, age, topic and sign columns:**"
      ]
    },
    {
      "cell_type": "code",
      "metadata": {
        "id": "f4Ng1XRrKjix",
        "colab_type": "code",
        "colab": {}
      },
      "source": [
        "blog_df_ss = blog_df_ss.drop(labels = ['gender', 'age', 'topic', 'sign'], axis=1)"
      ],
      "execution_count": 0,
      "outputs": []
    },
    {
      "cell_type": "code",
      "metadata": {
        "id": "HLNkVmVXL4Ix",
        "colab_type": "code",
        "outputId": "685ed81f-5ec8-4a8d-f399-50dd60b1bf5f",
        "colab": {
          "base_uri": "https://localhost:8080/",
          "height": 204
        }
      },
      "source": [
        "blog_df_ss.head()"
      ],
      "execution_count": 0,
      "outputs": [
        {
          "output_type": "execute_result",
          "data": {
            "text/html": [
              "<div>\n",
              "<style scoped>\n",
              "    .dataframe tbody tr th:only-of-type {\n",
              "        vertical-align: middle;\n",
              "    }\n",
              "\n",
              "    .dataframe tbody tr th {\n",
              "        vertical-align: top;\n",
              "    }\n",
              "\n",
              "    .dataframe thead th {\n",
              "        text-align: right;\n",
              "    }\n",
              "</style>\n",
              "<table border=\"1\" class=\"dataframe\">\n",
              "  <thead>\n",
              "    <tr style=\"text-align: right;\">\n",
              "      <th></th>\n",
              "      <th>id</th>\n",
              "      <th>text</th>\n",
              "      <th>labels</th>\n",
              "    </tr>\n",
              "  </thead>\n",
              "  <tbody>\n",
              "    <tr>\n",
              "      <th>0</th>\n",
              "      <td>2059027</td>\n",
              "      <td>info   found      100 pages   4 5 mb   pdf fil...</td>\n",
              "      <td>male,15,Student,Leo</td>\n",
              "    </tr>\n",
              "    <tr>\n",
              "      <th>1</th>\n",
              "      <td>2059027</td>\n",
              "      <td>team members    drewes van der laag        ...</td>\n",
              "      <td>male,15,Student,Leo</td>\n",
              "    </tr>\n",
              "    <tr>\n",
              "      <th>2</th>\n",
              "      <td>2059027</td>\n",
              "      <td>het kader van kernfusie op aarde   maak je ei...</td>\n",
              "      <td>male,15,Student,Leo</td>\n",
              "    </tr>\n",
              "    <tr>\n",
              "      <th>3</th>\n",
              "      <td>2059027</td>\n",
              "      <td>testing     testing</td>\n",
              "      <td>male,15,Student,Leo</td>\n",
              "    </tr>\n",
              "    <tr>\n",
              "      <th>4</th>\n",
              "      <td>3581210</td>\n",
              "      <td>thanks  yahoo   toolbar     capture   urls  po...</td>\n",
              "      <td>male,33,InvestmentBanking,Aquarius</td>\n",
              "    </tr>\n",
              "  </tbody>\n",
              "</table>\n",
              "</div>"
            ],
            "text/plain": [
              "        id  ...                              labels\n",
              "0  2059027  ...                 male,15,Student,Leo\n",
              "1  2059027  ...                 male,15,Student,Leo\n",
              "2  2059027  ...                 male,15,Student,Leo\n",
              "3  2059027  ...                 male,15,Student,Leo\n",
              "4  3581210  ...  male,33,InvestmentBanking,Aquarius\n",
              "\n",
              "[5 rows x 3 columns]"
            ]
          },
          "metadata": {
            "tags": []
          },
          "execution_count": 21
        }
      ]
    },
    {
      "cell_type": "markdown",
      "metadata": {
        "id": "MdLhjf3q7y3h",
        "colab_type": "text"
      },
      "source": [
        "### **4. Separate features and labels, and split the data into training and testing (5 points)**"
      ]
    },
    {
      "cell_type": "markdown",
      "metadata": {
        "id": "SGM6Lz2S72LZ",
        "colab_type": "text"
      },
      "source": [
        "**Split features and labels:**"
      ]
    },
    {
      "cell_type": "code",
      "metadata": {
        "id": "-tqfwEbjL6GE",
        "colab_type": "code",
        "colab": {}
      },
      "source": [
        "X = blog_df_ss.drop(labels = ['id','labels'], axis=1)\n",
        "y = blog_df_ss.drop(labels = ['id','text'], axis=1)"
      ],
      "execution_count": 0,
      "outputs": []
    },
    {
      "cell_type": "markdown",
      "metadata": {
        "id": "Uxw9FHvv76Fy",
        "colab_type": "text"
      },
      "source": [
        "**Split data into train and test:**"
      ]
    },
    {
      "cell_type": "code",
      "metadata": {
        "id": "qGf0aa3rMTwt",
        "colab_type": "code",
        "colab": {}
      },
      "source": [
        "X_train, X_test, y_train, y_test = train_test_split(X['text'], y['labels'], test_size=0.2, random_state=0, shuffle=True)"
      ],
      "execution_count": 0,
      "outputs": []
    },
    {
      "cell_type": "markdown",
      "metadata": {
        "id": "KT23iTXg8Abq",
        "colab_type": "text"
      },
      "source": [
        "**View sample train feature:**"
      ]
    },
    {
      "cell_type": "code",
      "metadata": {
        "id": "VIH6Ld-xMxV4",
        "colab_type": "code",
        "outputId": "320feb52-cd09-4854-8e6d-4923777cdbf3",
        "colab": {
          "base_uri": "https://localhost:8080/",
          "height": 123
        }
      },
      "source": [
        "X_train.head()"
      ],
      "execution_count": 0,
      "outputs": [
        {
          "output_type": "execute_result",
          "data": {
            "text/plain": [
              "10263    someone must  interested    feel        real  ...\n",
              "18409    friday      well  least    made  blog   weekly...\n",
              "13047    christmas     yup     still awake    got home ...\n",
              "21371                                              stewart\n",
              "16392    leaving   grabaawr   well    leaving   40 minu...\n",
              "Name: text, dtype: object"
            ]
          },
          "metadata": {
            "tags": []
          },
          "execution_count": 25
        }
      ]
    },
    {
      "cell_type": "markdown",
      "metadata": {
        "id": "WQVvmSgI8DtT",
        "colab_type": "text"
      },
      "source": [
        "**View sample train labels:**"
      ]
    },
    {
      "cell_type": "code",
      "metadata": {
        "id": "LuG_0rTCM4Ja",
        "colab_type": "code",
        "outputId": "78edb06f-e0f1-4573-f3ec-f8d7eab93c91",
        "colab": {
          "base_uri": "https://localhost:8080/",
          "height": 123
        }
      },
      "source": [
        "y_train.head()"
      ],
      "execution_count": 0,
      "outputs": [
        {
          "output_type": "execute_result",
          "data": {
            "text/plain": [
              "10263          male,17,Student,Cancer\n",
              "18409       female,27,Religion,Taurus\n",
              "13047    female,27,indUnk,Sagittarius\n",
              "21371            female,25,indUnk,Leo\n",
              "16392      male,27,indUnk,Sagittarius\n",
              "Name: labels, dtype: object"
            ]
          },
          "metadata": {
            "tags": []
          },
          "execution_count": 26
        }
      ]
    },
    {
      "cell_type": "markdown",
      "metadata": {
        "id": "gnejMBZs8K-K",
        "colab_type": "text"
      },
      "source": [
        "**View shapes of train and test data sets:**"
      ]
    },
    {
      "cell_type": "code",
      "metadata": {
        "id": "AFJxTPU2NEuS",
        "colab_type": "code",
        "outputId": "c0190ec3-8604-4c4f-d4a0-5ab3768416d8",
        "colab": {
          "base_uri": "https://localhost:8080/",
          "height": 87
        }
      },
      "source": [
        "print(X_train.shape)\n",
        "print(y_train.shape)\n",
        "print(X_test.shape)\n",
        "print(y_test.shape)"
      ],
      "execution_count": 0,
      "outputs": [
        {
          "output_type": "stream",
          "text": [
            "(20000,)\n",
            "(20000,)\n",
            "(5000,)\n",
            "(5000,)\n"
          ],
          "name": "stdout"
        }
      ]
    },
    {
      "cell_type": "markdown",
      "metadata": {
        "id": "GlOMIqvS8RCT",
        "colab_type": "text"
      },
      "source": [
        "### **5. Vectorize the features (5 points)**"
      ]
    },
    {
      "cell_type": "markdown",
      "metadata": {
        "id": "lRHRe39P8ZKR",
        "colab_type": "text"
      },
      "source": [
        "**a. Create a Bag of Words using count vectorizer:**\n",
        "*   Use ngram_range=(1, 2)\n",
        "*   Vectorize training and testing features\n",
        "\n"
      ]
    },
    {
      "cell_type": "code",
      "metadata": {
        "id": "PFXScVPcNNqI",
        "colab_type": "code",
        "colab": {}
      },
      "source": [
        "# Count Vectorizer:\n",
        "vectorizer = CountVectorizer(ngram_range=(1, 2))"
      ],
      "execution_count": 0,
      "outputs": []
    },
    {
      "cell_type": "code",
      "metadata": {
        "id": "VEbOrlmFNdEx",
        "colab_type": "code",
        "colab": {}
      },
      "source": [
        "# Vectorize training and testing features:\n",
        "X_train_dtm = vectorizer.fit_transform(X_train)\n",
        "X_test_dtm = vectorizer.transform(X_test)"
      ],
      "execution_count": 0,
      "outputs": []
    },
    {
      "cell_type": "markdown",
      "metadata": {
        "id": "vLOSuWNw8w4D",
        "colab_type": "text"
      },
      "source": [
        "**b. Print the term-document matrix**"
      ]
    },
    {
      "cell_type": "code",
      "metadata": {
        "id": "BKsAZrfVX2iF",
        "colab_type": "code",
        "colab": {}
      },
      "source": [
        "# Let's take 2 sample features to display the term-document matrix:\n",
        "train_ss = list(X_train[[100, 1]])"
      ],
      "execution_count": 0,
      "outputs": []
    },
    {
      "cell_type": "code",
      "metadata": {
        "id": "WNFnYE0UTQYK",
        "colab_type": "code",
        "outputId": "4e441013-2ae4-4c95-9dc9-af162daa5804",
        "colab": {
          "base_uri": "https://localhost:8080/",
          "height": 178
        }
      },
      "source": [
        "pd.DataFrame(vectorizer.fit_transform(train_ss).toarray(), columns=vectorizer.get_feature_names())"
      ],
      "execution_count": 0,
      "outputs": [
        {
          "output_type": "execute_result",
          "data": {
            "text/html": [
              "<div>\n",
              "<style scoped>\n",
              "    .dataframe tbody tr th:only-of-type {\n",
              "        vertical-align: middle;\n",
              "    }\n",
              "\n",
              "    .dataframe tbody tr th {\n",
              "        vertical-align: top;\n",
              "    }\n",
              "\n",
              "    .dataframe thead th {\n",
              "        text-align: right;\n",
              "    }\n",
              "</style>\n",
              "<table border=\"1\" class=\"dataframe\">\n",
              "  <thead>\n",
              "    <tr style=\"text-align: right;\">\n",
              "      <th></th>\n",
              "      <th>10mile</th>\n",
              "      <th>10mile fun</th>\n",
              "      <th>aaldering</th>\n",
              "      <th>aaldering urllink</th>\n",
              "      <th>able</th>\n",
              "      <th>able 10mile</th>\n",
              "      <th>abnormal</th>\n",
              "      <th>abnormal screwed</th>\n",
              "      <th>acceptable</th>\n",
              "      <th>acceptable whats</th>\n",
              "      <th>across</th>\n",
              "      <th>across abnormal</th>\n",
              "      <th>alongside</th>\n",
              "      <th>alongside psychology</th>\n",
              "      <th>also</th>\n",
              "      <th>also hav</th>\n",
              "      <th>although</th>\n",
              "      <th>although enough</th>\n",
              "      <th>although means</th>\n",
              "      <th>america</th>\n",
              "      <th>america cool</th>\n",
              "      <th>another</th>\n",
              "      <th>another year</th>\n",
              "      <th>another years</th>\n",
              "      <th>arrivedechi</th>\n",
              "      <th>atmosphere</th>\n",
              "      <th>atmosphere mayb</th>\n",
              "      <th>attracks</th>\n",
              "      <th>attracks bein</th>\n",
              "      <th>bad</th>\n",
              "      <th>bad bein</th>\n",
              "      <th>barmaid</th>\n",
              "      <th>barmaid every1</th>\n",
              "      <th>behaviour</th>\n",
              "      <th>behaviour acceptable</th>\n",
              "      <th>bein</th>\n",
              "      <th>bein barmaid</th>\n",
              "      <th>bein surrounded</th>\n",
              "      <th>better</th>\n",
              "      <th>better biggest</th>\n",
              "      <th>...</th>\n",
              "      <th>wait things</th>\n",
              "      <th>wana</th>\n",
              "      <th>wana able</th>\n",
              "      <th>wana die</th>\n",
              "      <th>wana im</th>\n",
              "      <th>wana live</th>\n",
              "      <th>wana speak</th>\n",
              "      <th>wana work</th>\n",
              "      <th>want</th>\n",
              "      <th>want im</th>\n",
              "      <th>wanting</th>\n",
              "      <th>wanting die</th>\n",
              "      <th>well</th>\n",
              "      <th>well arrivedechi</th>\n",
              "      <th>whats</th>\n",
              "      <th>whats good</th>\n",
              "      <th>whole</th>\n",
              "      <th>whole year</th>\n",
              "      <th>wish</th>\n",
              "      <th>wish summer</th>\n",
              "      <th>work</th>\n",
              "      <th>work bout</th>\n",
              "      <th>work fox</th>\n",
              "      <th>work italy</th>\n",
              "      <th>work pub</th>\n",
              "      <th>workin</th>\n",
              "      <th>workin whole</th>\n",
              "      <th>worst</th>\n",
              "      <th>worst possible</th>\n",
              "      <th>wot</th>\n",
              "      <th>wot mean</th>\n",
              "      <th>xie</th>\n",
              "      <th>xie urllink</th>\n",
              "      <th>year</th>\n",
              "      <th>year go</th>\n",
              "      <th>year guess</th>\n",
              "      <th>year raise</th>\n",
              "      <th>years</th>\n",
              "      <th>years england</th>\n",
              "      <th>years resolution</th>\n",
              "    </tr>\n",
              "  </thead>\n",
              "  <tbody>\n",
              "    <tr>\n",
              "      <th>0</th>\n",
              "      <td>1</td>\n",
              "      <td>1</td>\n",
              "      <td>0</td>\n",
              "      <td>0</td>\n",
              "      <td>1</td>\n",
              "      <td>1</td>\n",
              "      <td>1</td>\n",
              "      <td>1</td>\n",
              "      <td>1</td>\n",
              "      <td>1</td>\n",
              "      <td>1</td>\n",
              "      <td>1</td>\n",
              "      <td>1</td>\n",
              "      <td>1</td>\n",
              "      <td>1</td>\n",
              "      <td>1</td>\n",
              "      <td>2</td>\n",
              "      <td>1</td>\n",
              "      <td>1</td>\n",
              "      <td>1</td>\n",
              "      <td>1</td>\n",
              "      <td>2</td>\n",
              "      <td>1</td>\n",
              "      <td>1</td>\n",
              "      <td>1</td>\n",
              "      <td>1</td>\n",
              "      <td>1</td>\n",
              "      <td>1</td>\n",
              "      <td>1</td>\n",
              "      <td>1</td>\n",
              "      <td>1</td>\n",
              "      <td>1</td>\n",
              "      <td>1</td>\n",
              "      <td>1</td>\n",
              "      <td>1</td>\n",
              "      <td>2</td>\n",
              "      <td>1</td>\n",
              "      <td>1</td>\n",
              "      <td>1</td>\n",
              "      <td>1</td>\n",
              "      <td>...</td>\n",
              "      <td>1</td>\n",
              "      <td>7</td>\n",
              "      <td>1</td>\n",
              "      <td>2</td>\n",
              "      <td>1</td>\n",
              "      <td>1</td>\n",
              "      <td>1</td>\n",
              "      <td>1</td>\n",
              "      <td>1</td>\n",
              "      <td>1</td>\n",
              "      <td>1</td>\n",
              "      <td>1</td>\n",
              "      <td>1</td>\n",
              "      <td>1</td>\n",
              "      <td>1</td>\n",
              "      <td>1</td>\n",
              "      <td>1</td>\n",
              "      <td>1</td>\n",
              "      <td>1</td>\n",
              "      <td>1</td>\n",
              "      <td>4</td>\n",
              "      <td>1</td>\n",
              "      <td>1</td>\n",
              "      <td>1</td>\n",
              "      <td>1</td>\n",
              "      <td>1</td>\n",
              "      <td>1</td>\n",
              "      <td>1</td>\n",
              "      <td>1</td>\n",
              "      <td>1</td>\n",
              "      <td>1</td>\n",
              "      <td>0</td>\n",
              "      <td>0</td>\n",
              "      <td>3</td>\n",
              "      <td>1</td>\n",
              "      <td>1</td>\n",
              "      <td>1</td>\n",
              "      <td>2</td>\n",
              "      <td>1</td>\n",
              "      <td>1</td>\n",
              "    </tr>\n",
              "    <tr>\n",
              "      <th>1</th>\n",
              "      <td>0</td>\n",
              "      <td>0</td>\n",
              "      <td>1</td>\n",
              "      <td>1</td>\n",
              "      <td>0</td>\n",
              "      <td>0</td>\n",
              "      <td>0</td>\n",
              "      <td>0</td>\n",
              "      <td>0</td>\n",
              "      <td>0</td>\n",
              "      <td>0</td>\n",
              "      <td>0</td>\n",
              "      <td>0</td>\n",
              "      <td>0</td>\n",
              "      <td>0</td>\n",
              "      <td>0</td>\n",
              "      <td>0</td>\n",
              "      <td>0</td>\n",
              "      <td>0</td>\n",
              "      <td>0</td>\n",
              "      <td>0</td>\n",
              "      <td>0</td>\n",
              "      <td>0</td>\n",
              "      <td>0</td>\n",
              "      <td>0</td>\n",
              "      <td>0</td>\n",
              "      <td>0</td>\n",
              "      <td>0</td>\n",
              "      <td>0</td>\n",
              "      <td>0</td>\n",
              "      <td>0</td>\n",
              "      <td>0</td>\n",
              "      <td>0</td>\n",
              "      <td>0</td>\n",
              "      <td>0</td>\n",
              "      <td>0</td>\n",
              "      <td>0</td>\n",
              "      <td>0</td>\n",
              "      <td>0</td>\n",
              "      <td>0</td>\n",
              "      <td>...</td>\n",
              "      <td>0</td>\n",
              "      <td>0</td>\n",
              "      <td>0</td>\n",
              "      <td>0</td>\n",
              "      <td>0</td>\n",
              "      <td>0</td>\n",
              "      <td>0</td>\n",
              "      <td>0</td>\n",
              "      <td>0</td>\n",
              "      <td>0</td>\n",
              "      <td>0</td>\n",
              "      <td>0</td>\n",
              "      <td>0</td>\n",
              "      <td>0</td>\n",
              "      <td>0</td>\n",
              "      <td>0</td>\n",
              "      <td>0</td>\n",
              "      <td>0</td>\n",
              "      <td>0</td>\n",
              "      <td>0</td>\n",
              "      <td>0</td>\n",
              "      <td>0</td>\n",
              "      <td>0</td>\n",
              "      <td>0</td>\n",
              "      <td>0</td>\n",
              "      <td>0</td>\n",
              "      <td>0</td>\n",
              "      <td>0</td>\n",
              "      <td>0</td>\n",
              "      <td>0</td>\n",
              "      <td>0</td>\n",
              "      <td>1</td>\n",
              "      <td>1</td>\n",
              "      <td>0</td>\n",
              "      <td>0</td>\n",
              "      <td>0</td>\n",
              "      <td>0</td>\n",
              "      <td>0</td>\n",
              "      <td>0</td>\n",
              "      <td>0</td>\n",
              "    </tr>\n",
              "  </tbody>\n",
              "</table>\n",
              "<p>2 rows × 486 columns</p>\n",
              "</div>"
            ],
            "text/plain": [
              "   10mile  10mile fun  aaldering  ...  years  years england  years resolution\n",
              "0       1           1          0  ...      2              1                 1\n",
              "1       0           0          1  ...      0              0                 0\n",
              "\n",
              "[2 rows x 486 columns]"
            ]
          },
          "metadata": {
            "tags": []
          },
          "execution_count": 31
        }
      ]
    },
    {
      "cell_type": "markdown",
      "metadata": {
        "id": "JhXRFGJ59Vfz",
        "colab_type": "text"
      },
      "source": [
        "### **6. Create a dictionary to get the count of every label i.e. the key will be label name and value will be the total count of the label. Check below image for reference (5 points)**"
      ]
    },
    {
      "cell_type": "markdown",
      "metadata": {
        "id": "ksr8x7VL9axI",
        "colab_type": "text"
      },
      "source": [
        "**Check how many unique bloggers are present in our data subset:**"
      ]
    },
    {
      "cell_type": "code",
      "metadata": {
        "id": "SODUBc6r96xY",
        "colab_type": "code",
        "outputId": "06436b75-f11d-4e03-e10d-07c39c64215d",
        "colab": {
          "base_uri": "https://localhost:8080/",
          "height": 34
        }
      },
      "source": [
        "blog_df_ss['id'].nunique()"
      ],
      "execution_count": 0,
      "outputs": [
        {
          "output_type": "execute_result",
          "data": {
            "text/plain": [
              "659"
            ]
          },
          "metadata": {
            "tags": []
          },
          "execution_count": 32
        }
      ]
    },
    {
      "cell_type": "markdown",
      "metadata": {
        "id": "4Bh4orQ099ny",
        "colab_type": "text"
      },
      "source": [
        "**Create an unique data set of bloggers:**"
      ]
    },
    {
      "cell_type": "code",
      "metadata": {
        "id": "_a2GJp-J7_3L",
        "colab_type": "code",
        "colab": {}
      },
      "source": [
        "blog_df_ss_unq = blog_df_ss.groupby('id').first().reset_index()"
      ],
      "execution_count": 0,
      "outputs": []
    },
    {
      "cell_type": "markdown",
      "metadata": {
        "id": "AmLKoyfF9ias",
        "colab_type": "text"
      },
      "source": [
        "**View the unique data:**"
      ]
    },
    {
      "cell_type": "code",
      "metadata": {
        "id": "n-fnPldk-bAA",
        "colab_type": "code",
        "outputId": "cae9f13d-4faa-40a7-a945-a5cdf7e0054b",
        "colab": {
          "base_uri": "https://localhost:8080/",
          "height": 204
        }
      },
      "source": [
        "blog_df_ss_unq.head()"
      ],
      "execution_count": 0,
      "outputs": [
        {
          "output_type": "execute_result",
          "data": {
            "text/html": [
              "<div>\n",
              "<style scoped>\n",
              "    .dataframe tbody tr th:only-of-type {\n",
              "        vertical-align: middle;\n",
              "    }\n",
              "\n",
              "    .dataframe tbody tr th {\n",
              "        vertical-align: top;\n",
              "    }\n",
              "\n",
              "    .dataframe thead th {\n",
              "        text-align: right;\n",
              "    }\n",
              "</style>\n",
              "<table border=\"1\" class=\"dataframe\">\n",
              "  <thead>\n",
              "    <tr style=\"text-align: right;\">\n",
              "      <th></th>\n",
              "      <th>id</th>\n",
              "      <th>text</th>\n",
              "      <th>labels</th>\n",
              "    </tr>\n",
              "  </thead>\n",
              "  <tbody>\n",
              "    <tr>\n",
              "      <th>0</th>\n",
              "      <td>23191</td>\n",
              "      <td>twenty something    call    quarter life cris...</td>\n",
              "      <td>female,23,Advertising,Taurus</td>\n",
              "    </tr>\n",
              "    <tr>\n",
              "      <th>1</th>\n",
              "      <td>72355</td>\n",
              "      <td>saw  show  discovery   komodo dragon    menti...</td>\n",
              "      <td>male,27,indUnk,Leo</td>\n",
              "    </tr>\n",
              "    <tr>\n",
              "      <th>2</th>\n",
              "      <td>108780</td>\n",
              "      <td>several years ago  kyle came    idea   art exh...</td>\n",
              "      <td>female,25,indUnk,Leo</td>\n",
              "    </tr>\n",
              "    <tr>\n",
              "      <th>3</th>\n",
              "      <td>183164</td>\n",
              "      <td>mommy  ang sakit ng paa ko  bakit masakit yu...</td>\n",
              "      <td>female,27,indUnk,Taurus</td>\n",
              "    </tr>\n",
              "    <tr>\n",
              "      <th>4</th>\n",
              "      <td>299143</td>\n",
              "      <td>really write    night  instead    work  prob...</td>\n",
              "      <td>female,23,Engineering,Cancer</td>\n",
              "    </tr>\n",
              "  </tbody>\n",
              "</table>\n",
              "</div>"
            ],
            "text/plain": [
              "       id  ...                        labels\n",
              "0   23191  ...  female,23,Advertising,Taurus\n",
              "1   72355  ...            male,27,indUnk,Leo\n",
              "2  108780  ...          female,25,indUnk,Leo\n",
              "3  183164  ...       female,27,indUnk,Taurus\n",
              "4  299143  ...  female,23,Engineering,Cancer\n",
              "\n",
              "[5 rows x 3 columns]"
            ]
          },
          "metadata": {
            "tags": []
          },
          "execution_count": 34
        }
      ]
    },
    {
      "cell_type": "markdown",
      "metadata": {
        "id": "Xmjl8Ns8-FDT",
        "colab_type": "text"
      },
      "source": [
        "**Create a dictionary to get the count of every label:**"
      ]
    },
    {
      "cell_type": "code",
      "metadata": {
        "id": "ZdCDz2GP-iYE",
        "colab_type": "code",
        "outputId": "a5e422af-ce11-4a9b-80f3-ffe323f77a20",
        "colab": {
          "base_uri": "https://localhost:8080/",
          "height": 54
        }
      },
      "source": [
        "new_dict = {}\n",
        "\n",
        "for label in blog_df_ss_unq['labels'].str.split(','):\n",
        "  for val in label:\n",
        "    if val in new_dict:\n",
        "      new_dict[val] += 1\n",
        "    else:\n",
        "      new_dict[val] = 1\n",
        "\n",
        "print(new_dict)    "
      ],
      "execution_count": 0,
      "outputs": [
        {
          "output_type": "stream",
          "text": [
            "{'female': 330, '23': 68, 'Advertising': 5, 'Taurus': 52, 'male': 329, '27': 41, 'indUnk': 237, 'Leo': 57, '25': 57, 'Engineering': 11, 'Cancer': 67, 'Capricorn': 47, 'Libra': 48, '45': 5, 'Religion': 7, 'Aries': 67, 'Pisces': 43, '24': 57, 'Scorpio': 53, 'Banking': 6, 'Aquarius': 58, '17': 80, 'Student': 164, 'Gemini': 48, '38': 5, 'Internet': 20, 'Sagittarius': 70, '35': 16, 'Technology': 29, '34': 11, 'Arts': 25, '36': 10, 'Fashion': 2, '16': 71, '26': 50, '14': 47, 'Education': 40, 'Government': 6, 'Virgo': 49, 'BusinessServices': 12, '33': 25, '41': 5, 'Communications-Media': 9, 'Marketing': 5, '13': 16, '15': 58, '47': 2, 'Consulting': 9, 'Non-Profit': 13, '42': 5, '40': 2, '48': 2, 'Automotive': 4, '39': 7, '37': 7, 'Manufacturing': 1, 'LawEnforcement-Security': 3, 'Accounting': 5, 'Telecommunications': 3, '46': 6, '44': 3, 'Science': 7, 'Law': 5, 'Military': 3, 'Biotech': 1, 'RealEstate': 3, '43': 3, 'Sports-Recreation': 5, 'InvestmentBanking': 2, 'HumanResources': 3, 'Museums-Libraries': 5, 'Architecture': 2, 'Chemicals': 1, 'Construction': 1, 'Transportation': 1, 'Publishing': 3, 'Agriculture': 1}\n"
          ],
          "name": "stdout"
        }
      ]
    },
    {
      "cell_type": "markdown",
      "metadata": {
        "id": "YzcNKLUz-Lpy",
        "colab_type": "text"
      },
      "source": [
        "**View the length of new dictionary:**"
      ]
    },
    {
      "cell_type": "code",
      "metadata": {
        "id": "bwLBFvVxLpKE",
        "colab_type": "code",
        "outputId": "6429c771-cc6f-4d7c-cf01-9f4f61680821",
        "colab": {
          "base_uri": "https://localhost:8080/",
          "height": 34
        }
      },
      "source": [
        "len(new_dict)"
      ],
      "execution_count": 0,
      "outputs": [
        {
          "output_type": "execute_result",
          "data": {
            "text/plain": [
              "77"
            ]
          },
          "metadata": {
            "tags": []
          },
          "execution_count": 36
        }
      ]
    },
    {
      "cell_type": "markdown",
      "metadata": {
        "id": "8U-ElKBs-Pxs",
        "colab_type": "text"
      },
      "source": [
        "**Display the contents of dictionary in a easily readable format:**"
      ]
    },
    {
      "cell_type": "code",
      "metadata": {
        "id": "--mHy25NGtIi",
        "colab_type": "code",
        "outputId": "9c5f5b67-3538-4451-8f22-9a2550a2c829",
        "colab": {
          "base_uri": "https://localhost:8080/",
          "height": 1000
        }
      },
      "source": [
        "for k, v in new_dict.items():\n",
        "  print( '%s: %i' % (k, v) )"
      ],
      "execution_count": 0,
      "outputs": [
        {
          "output_type": "stream",
          "text": [
            "female: 330\n",
            "23: 68\n",
            "Advertising: 5\n",
            "Taurus: 52\n",
            "male: 329\n",
            "27: 41\n",
            "indUnk: 237\n",
            "Leo: 57\n",
            "25: 57\n",
            "Engineering: 11\n",
            "Cancer: 67\n",
            "Capricorn: 47\n",
            "Libra: 48\n",
            "45: 5\n",
            "Religion: 7\n",
            "Aries: 67\n",
            "Pisces: 43\n",
            "24: 57\n",
            "Scorpio: 53\n",
            "Banking: 6\n",
            "Aquarius: 58\n",
            "17: 80\n",
            "Student: 164\n",
            "Gemini: 48\n",
            "38: 5\n",
            "Internet: 20\n",
            "Sagittarius: 70\n",
            "35: 16\n",
            "Technology: 29\n",
            "34: 11\n",
            "Arts: 25\n",
            "36: 10\n",
            "Fashion: 2\n",
            "16: 71\n",
            "26: 50\n",
            "14: 47\n",
            "Education: 40\n",
            "Government: 6\n",
            "Virgo: 49\n",
            "BusinessServices: 12\n",
            "33: 25\n",
            "41: 5\n",
            "Communications-Media: 9\n",
            "Marketing: 5\n",
            "13: 16\n",
            "15: 58\n",
            "47: 2\n",
            "Consulting: 9\n",
            "Non-Profit: 13\n",
            "42: 5\n",
            "40: 2\n",
            "48: 2\n",
            "Automotive: 4\n",
            "39: 7\n",
            "37: 7\n",
            "Manufacturing: 1\n",
            "LawEnforcement-Security: 3\n",
            "Accounting: 5\n",
            "Telecommunications: 3\n",
            "46: 6\n",
            "44: 3\n",
            "Science: 7\n",
            "Law: 5\n",
            "Military: 3\n",
            "Biotech: 1\n",
            "RealEstate: 3\n",
            "43: 3\n",
            "Sports-Recreation: 5\n",
            "InvestmentBanking: 2\n",
            "HumanResources: 3\n",
            "Museums-Libraries: 5\n",
            "Architecture: 2\n",
            "Chemicals: 1\n",
            "Construction: 1\n",
            "Transportation: 1\n",
            "Publishing: 3\n",
            "Agriculture: 1\n"
          ],
          "name": "stdout"
        }
      ]
    },
    {
      "cell_type": "markdown",
      "metadata": {
        "id": "wSbO14gK-bdV",
        "colab_type": "text"
      },
      "source": [
        "### **7. Transform the labels - (7.5 points)**"
      ]
    },
    {
      "cell_type": "markdown",
      "metadata": {
        "id": "oTxziSGd-zlU",
        "colab_type": "text"
      },
      "source": [
        "**As we have noticed before, in this task each example can have multiple tags. To deal with such kind of prediction, we need to transform labels in a binary form and the prediction will be a mask of 0s and 1s. For this purpose, it is convenient to use MultiLabelBinarizer from sklearn**\n",
        "\n",
        "*   Convert your train and test labels using MultiLabelBinarizer"
      ]
    },
    {
      "cell_type": "code",
      "metadata": {
        "id": "DiRNJ7TzuneL",
        "colab_type": "code",
        "colab": {}
      },
      "source": [
        "y_train = [x.split(',') for x in y_train]\n",
        "y_test  = [x.split(',') for x in y_test]"
      ],
      "execution_count": 0,
      "outputs": []
    },
    {
      "cell_type": "markdown",
      "metadata": {
        "id": "b5n7qjZ9_FMK",
        "colab_type": "text"
      },
      "source": [
        "**MultiLabelBinarizer:**"
      ]
    },
    {
      "cell_type": "code",
      "metadata": {
        "id": "vc4TJUjqS9Tn",
        "colab_type": "code",
        "colab": {}
      },
      "source": [
        "mb = MultiLabelBinarizer()\n",
        "\n",
        "y_train = mb.fit_transform(y_train)\n",
        "y_test  = mb.transform(y_test)"
      ],
      "execution_count": 0,
      "outputs": []
    },
    {
      "cell_type": "markdown",
      "metadata": {
        "id": "dgBxhtvR_LkX",
        "colab_type": "text"
      },
      "source": [
        "**View y_train after applying MultiLabelBinarizer:**"
      ]
    },
    {
      "cell_type": "code",
      "metadata": {
        "id": "YThsHr7FToI_",
        "colab_type": "code",
        "outputId": "1fa49f41-35b3-43b8-b2d9-4a5c93eb26d5",
        "colab": {
          "base_uri": "https://localhost:8080/",
          "height": 141
        }
      },
      "source": [
        "y_train"
      ],
      "execution_count": 0,
      "outputs": [
        {
          "output_type": "execute_result",
          "data": {
            "text/plain": [
              "array([[0, 0, 0, ..., 0, 0, 1],\n",
              "       [0, 0, 0, ..., 1, 0, 0],\n",
              "       [0, 0, 0, ..., 1, 1, 0],\n",
              "       ...,\n",
              "       [0, 0, 0, ..., 1, 0, 0],\n",
              "       [0, 0, 0, ..., 0, 0, 1],\n",
              "       [0, 0, 0, ..., 0, 0, 1]])"
            ]
          },
          "metadata": {
            "tags": []
          },
          "execution_count": 40
        }
      ]
    },
    {
      "cell_type": "markdown",
      "metadata": {
        "id": "P6MIiYxm_R-a",
        "colab_type": "text"
      },
      "source": [
        "**View a single data in y_train after applying MultiLabelBinarizer to understand clearly:**"
      ]
    },
    {
      "cell_type": "code",
      "metadata": {
        "id": "s-SZiPACTpJy",
        "colab_type": "code",
        "outputId": "edb5bd44-9971-435d-ef3f-18217a55dc08",
        "colab": {
          "base_uri": "https://localhost:8080/",
          "height": 87
        }
      },
      "source": [
        "y_train[0]"
      ],
      "execution_count": 0,
      "outputs": [
        {
          "output_type": "execute_result",
          "data": {
            "text/plain": [
              "array([0, 0, 0, 0, 1, 0, 0, 0, 0, 0, 0, 0, 0, 0, 0, 0, 0, 0, 0, 0, 0, 0,\n",
              "       0, 0, 0, 0, 0, 0, 0, 0, 0, 0, 0, 0, 0, 0, 0, 1, 0, 0, 0, 0, 0, 0,\n",
              "       0, 0, 0, 0, 0, 0, 0, 0, 0, 0, 0, 0, 0, 0, 0, 0, 0, 0, 0, 0, 0, 0,\n",
              "       0, 0, 1, 0, 0, 0, 0, 0, 0, 0, 1])"
            ]
          },
          "metadata": {
            "tags": []
          },
          "execution_count": 41
        }
      ]
    },
    {
      "cell_type": "markdown",
      "metadata": {
        "id": "jm3ScUAE_Z-0",
        "colab_type": "text"
      },
      "source": [
        "**View a single data in y_test after applying MultiLabelBinarizer to understand clearly:**"
      ]
    },
    {
      "cell_type": "code",
      "metadata": {
        "id": "12gc47wWleRc",
        "colab_type": "code",
        "outputId": "7657c4c3-18c8-4b66-fc77-367d4dc0b847",
        "colab": {
          "base_uri": "https://localhost:8080/",
          "height": 87
        }
      },
      "source": [
        "y_test[5]"
      ],
      "execution_count": 0,
      "outputs": [
        {
          "output_type": "execute_result",
          "data": {
            "text/plain": [
              "array([0, 0, 0, 0, 0, 0, 0, 0, 0, 0, 0, 1, 0, 0, 0, 0, 0, 0, 0, 0, 0, 0,\n",
              "       0, 0, 0, 0, 0, 0, 0, 0, 0, 0, 0, 0, 0, 0, 0, 0, 0, 0, 0, 0, 0, 1,\n",
              "       0, 0, 0, 0, 0, 0, 0, 0, 0, 0, 0, 0, 0, 0, 0, 0, 1, 0, 0, 0, 0, 0,\n",
              "       0, 0, 0, 0, 0, 0, 0, 0, 0, 0, 1])"
            ]
          },
          "metadata": {
            "tags": []
          },
          "execution_count": 42
        }
      ]
    },
    {
      "cell_type": "markdown",
      "metadata": {
        "id": "MwBz4H0B_cb6",
        "colab_type": "text"
      },
      "source": [
        "**View what all are the classes as given by the binarizer:**"
      ]
    },
    {
      "cell_type": "code",
      "metadata": {
        "id": "4T62ijnFTuy_",
        "colab_type": "code",
        "outputId": "e6615cb6-3468-4b45-e459-644f0f45e9da",
        "colab": {
          "base_uri": "https://localhost:8080/",
          "height": 265
        }
      },
      "source": [
        "mb.classes_"
      ],
      "execution_count": 0,
      "outputs": [
        {
          "output_type": "execute_result",
          "data": {
            "text/plain": [
              "array(['13', '14', '15', '16', '17', '23', '24', '25', '26', '27', '33',\n",
              "       '34', '35', '36', '37', '38', '39', '40', '41', '42', '43', '44',\n",
              "       '45', '46', '47', '48', 'Accounting', 'Advertising', 'Agriculture',\n",
              "       'Aquarius', 'Architecture', 'Aries', 'Arts', 'Automotive',\n",
              "       'Banking', 'Biotech', 'BusinessServices', 'Cancer', 'Capricorn',\n",
              "       'Chemicals', 'Communications-Media', 'Construction', 'Consulting',\n",
              "       'Education', 'Engineering', 'Fashion', 'Gemini', 'Government',\n",
              "       'HumanResources', 'Internet', 'InvestmentBanking', 'Law',\n",
              "       'LawEnforcement-Security', 'Leo', 'Libra', 'Manufacturing',\n",
              "       'Marketing', 'Military', 'Museums-Libraries', 'Non-Profit',\n",
              "       'Pisces', 'Publishing', 'RealEstate', 'Religion', 'Sagittarius',\n",
              "       'Science', 'Scorpio', 'Sports-Recreation', 'Student', 'Taurus',\n",
              "       'Technology', 'Telecommunications', 'Transportation', 'Virgo',\n",
              "       'female', 'indUnk', 'male'], dtype=object)"
            ]
          },
          "metadata": {
            "tags": []
          },
          "execution_count": 43
        }
      ]
    },
    {
      "cell_type": "markdown",
      "metadata": {
        "id": "5u42Ozcr_puy",
        "colab_type": "text"
      },
      "source": [
        "### **8. Choose a classifier - (5 points)**"
      ]
    },
    {
      "cell_type": "markdown",
      "metadata": {
        "id": "hcC4dcgd_t1F",
        "colab_type": "text"
      },
      "source": [
        "**In this task, we suggest using the One-vs-Rest approach, which is implemented in\n",
        "OneVsRestClassifier class. In this approach k classifiers (= number of tags) are trained. As a basic classifier, use LogisticRegression. It is one of the simplest methods, but often it performs good enough in text classification tasks. It might take some time because the number of classifiers to train is large.**\n",
        "\n",
        "*   Use a linear classifier of your choice, wrap it up in OneVsRestClassifier to train it on every label"
      ]
    },
    {
      "cell_type": "code",
      "metadata": {
        "id": "to9lTFiyT0hG",
        "colab_type": "code",
        "colab": {}
      },
      "source": [
        "# Logistic regression & OneVsRest Classifier:\n",
        "\n",
        "logreg = LogisticRegression()\n",
        "ovr_clf = OneVsRestClassifier(logreg)"
      ],
      "execution_count": 0,
      "outputs": []
    },
    {
      "cell_type": "markdown",
      "metadata": {
        "id": "4QofDXQpAMEC",
        "colab_type": "text"
      },
      "source": [
        "**Fit the train data:**"
      ]
    },
    {
      "cell_type": "code",
      "metadata": {
        "id": "wO6JCLu3wsQJ",
        "colab_type": "code",
        "outputId": "2ce6905d-bc8e-4f90-b268-f7a062f4cded",
        "colab": {
          "base_uri": "https://localhost:8080/",
          "height": 194
        }
      },
      "source": [
        "ovr_clf.fit(X_train_dtm, y_train)"
      ],
      "execution_count": 0,
      "outputs": [
        {
          "output_type": "execute_result",
          "data": {
            "text/plain": [
              "OneVsRestClassifier(estimator=LogisticRegression(C=1.0, class_weight=None,\n",
              "                                                 dual=False, fit_intercept=True,\n",
              "                                                 intercept_scaling=1,\n",
              "                                                 l1_ratio=None, max_iter=100,\n",
              "                                                 multi_class='auto',\n",
              "                                                 n_jobs=None, penalty='l2',\n",
              "                                                 random_state=None,\n",
              "                                                 solver='lbfgs', tol=0.0001,\n",
              "                                                 verbose=0, warm_start=False),\n",
              "                    n_jobs=None)"
            ]
          },
          "metadata": {
            "tags": []
          },
          "execution_count": 45
        }
      ]
    },
    {
      "cell_type": "markdown",
      "metadata": {
        "id": "mUC8vsGnAQ3D",
        "colab_type": "text"
      },
      "source": [
        "**Predict on test data:**"
      ]
    },
    {
      "cell_type": "code",
      "metadata": {
        "id": "eZjuQzcZASQN",
        "colab_type": "code",
        "colab": {}
      },
      "source": [
        "y_pred = ovr_clf.predict(X_test_dtm)"
      ],
      "execution_count": 0,
      "outputs": []
    },
    {
      "cell_type": "markdown",
      "metadata": {
        "id": "NwfhzaPfAeJj",
        "colab_type": "text"
      },
      "source": [
        "### **9. Fit the classifier, make predictions and get the accuracy (5 points)**"
      ]
    },
    {
      "cell_type": "markdown",
      "metadata": {
        "id": "MQvSnBofAlp0",
        "colab_type": "text"
      },
      "source": [
        "**a. Print the following**\n",
        "\n",
        "*   Accuracy score\n",
        "*   F1 score\n",
        "*   Average precision score\n",
        "*   Average recall score\n"
      ]
    },
    {
      "cell_type": "markdown",
      "metadata": {
        "id": "4zIZrwd4WUz6",
        "colab_type": "text"
      },
      "source": [
        "**Let's take a quick look on the different types of averaging:**\n",
        "\n",
        "**'micro':**\n",
        "Calculate metrics globally by counting the total true positives, false negatives and false positives.\n",
        "\n",
        "**'macro':**\n",
        "Calculate metrics for each label, and find their unweighted mean. This does not take label imbalance into account.\n",
        "\n",
        "**'weighted':**\n",
        "Calculate metrics for each label, and find their average weighted by support (the number of true instances for each label). This alters ‘macro’ to account for label imbalance; it can result in an F-score that is not between precision and recall."
      ]
    },
    {
      "cell_type": "code",
      "metadata": {
        "id": "1zcW6iA7FcSo",
        "colab_type": "code",
        "outputId": "8fb7fb95-ce17-42e7-f829-930ec928d26f",
        "colab": {
          "base_uri": "https://localhost:8080/",
          "height": 1000
        }
      },
      "source": [
        "print(classification_report(y_test, y_pred))"
      ],
      "execution_count": 0,
      "outputs": [
        {
          "output_type": "stream",
          "text": [
            "              precision    recall  f1-score   support\n",
            "\n",
            "           0       0.79      0.16      0.27        69\n",
            "           1       0.76      0.23      0.35       208\n",
            "           2       0.69      0.15      0.25       241\n",
            "           3       0.77      0.24      0.37       362\n",
            "           4       0.76      0.28      0.41       533\n",
            "           5       0.72      0.22      0.33       570\n",
            "           6       0.86      0.34      0.49       523\n",
            "           7       0.71      0.11      0.19       247\n",
            "           8       0.85      0.15      0.26       292\n",
            "           9       0.75      0.30      0.43       560\n",
            "          10       0.71      0.14      0.23       184\n",
            "          11       0.96      0.58      0.72       151\n",
            "          12       0.79      0.34      0.48       499\n",
            "          13       0.92      0.50      0.65       332\n",
            "          14       0.50      0.03      0.06        29\n",
            "          15       0.00      0.00      0.00        19\n",
            "          16       1.00      0.29      0.44        21\n",
            "          17       1.00      0.25      0.40         4\n",
            "          18       0.00      0.00      0.00        19\n",
            "          19       0.00      0.00      0.00         8\n",
            "          20       0.00      0.00      0.00         4\n",
            "          21       0.00      0.00      0.00         0\n",
            "          22       0.00      0.00      0.00        13\n",
            "          23       0.75      0.07      0.14        40\n",
            "          24       0.67      0.09      0.16        22\n",
            "          25       0.72      0.26      0.38        50\n",
            "          26       0.00      0.00      0.00        10\n",
            "          27       1.00      0.40      0.57        10\n",
            "          28       0.00      0.00      0.00         9\n",
            "          29       0.85      0.32      0.46       485\n",
            "          30       1.00      0.14      0.25         7\n",
            "          31       0.74      0.49      0.59      1274\n",
            "          32       0.67      0.07      0.13       108\n",
            "          33       0.57      0.21      0.31        19\n",
            "          34       0.80      0.22      0.35        18\n",
            "          35       0.00      0.00      0.00         3\n",
            "          36       0.55      0.15      0.24        40\n",
            "          37       0.77      0.18      0.30       454\n",
            "          38       0.75      0.10      0.18       205\n",
            "          39       0.00      0.00      0.00         0\n",
            "          40       0.71      0.16      0.26        93\n",
            "          41       0.00      0.00      0.00         6\n",
            "          42       0.00      0.00      0.00        32\n",
            "          43       0.78      0.15      0.25       186\n",
            "          44       0.92      0.15      0.26       152\n",
            "          45       0.94      0.56      0.70       302\n",
            "          46       0.86      0.10      0.18       187\n",
            "          47       0.00      0.00      0.00        31\n",
            "          48       0.00      0.00      0.00         2\n",
            "          49       0.72      0.09      0.16       194\n",
            "          50       1.00      0.25      0.40        16\n",
            "          51       1.00      0.19      0.32        16\n",
            "          52       0.50      0.09      0.15        23\n",
            "          53       0.57      0.09      0.16       379\n",
            "          54       0.73      0.18      0.29       248\n",
            "          55       1.00      0.06      0.12        16\n",
            "          56       0.77      0.14      0.24        70\n",
            "          57       0.00      0.00      0.00         2\n",
            "          58       0.00      0.00      0.00        14\n",
            "          59       0.75      0.07      0.13        42\n",
            "          60       0.78      0.24      0.37       399\n",
            "          61       0.00      0.00      0.00         6\n",
            "          62       0.00      0.00      0.00         7\n",
            "          63       0.50      0.03      0.05        35\n",
            "          64       0.86      0.31      0.46       444\n",
            "          65       0.33      0.05      0.08        21\n",
            "          66       0.65      0.12      0.21       434\n",
            "          67       0.80      0.20      0.32        20\n",
            "          68       0.70      0.25      0.37       710\n",
            "          69       0.62      0.13      0.22       275\n",
            "          70       0.75      0.34      0.47       658\n",
            "          71       0.00      0.00      0.00         4\n",
            "          72       0.00      0.00      0.00        12\n",
            "          73       0.77      0.12      0.22       216\n",
            "          74       0.77      0.66      0.71      2279\n",
            "          75       0.73      0.53      0.62      2106\n",
            "          76       0.74      0.84      0.79      2721\n",
            "\n",
            "   micro avg       0.76      0.41      0.54     20000\n",
            "   macro avg       0.57      0.17      0.24     20000\n",
            "weighted avg       0.75      0.41      0.49     20000\n",
            " samples avg       0.72      0.41      0.49     20000\n",
            "\n"
          ],
          "name": "stdout"
        }
      ]
    },
    {
      "cell_type": "markdown",
      "metadata": {
        "id": "Upvf4av9kxTV",
        "colab_type": "text"
      },
      "source": [
        "**Let's also print the scores separately for a better understanding:**"
      ]
    },
    {
      "cell_type": "code",
      "metadata": {
        "id": "vOjOmN7zw35Y",
        "colab_type": "code",
        "outputId": "9cd341b8-c0ca-4727-e962-91a040483970",
        "colab": {
          "base_uri": "https://localhost:8080/",
          "height": 301
        }
      },
      "source": [
        " # Accuracy:\n",
        " print(\"\\033[1mAccuracy score :\\033[0m \", metrics.accuracy_score(y_test, y_pred))\n",
        "\n",
        " # F1 score:\n",
        " print(\"\\n\\033[1mF1 score:\\033[0m \")\n",
        " print(\"F1 score micro        : \", metrics.f1_score(y_test, y_pred,average='micro').round(2))\n",
        " print(\"F1 score macro        : \", metrics.f1_score(y_test, y_pred,average='macro').round(2))\n",
        " print(\"F1 score weighted     : \", metrics.f1_score(y_test, y_pred,average='weighted').round(2))\n",
        "\n",
        " # Precision:\n",
        " print(\"\\n\\033[1mPrecision:\\033[0m \")\n",
        " print(\"Precision score micro : \", metrics.precision_score(y_test, y_pred,average='micro').round(2))\n",
        " print(\"Precision score macro : \", metrics.precision_score(y_test, y_pred,average='macro').round(2))\n",
        " print(\"Precision weighted    : \", metrics.precision_score(y_test, y_pred,average='weighted').round(2))\n",
        "\n",
        " # Recall:\n",
        " print(\"\\n\\033[1mPecall:\\033[0m \")\n",
        " print(\"Recall score micro    : \", metrics.recall_score(y_test, y_pred,average='micro').round(2))\n",
        " print(\"Recall score macro    : \", metrics.recall_score(y_test, y_pred,average='macro').round(2))\n",
        " print(\"Recall score weighted : \", metrics.recall_score(y_test, y_pred,average='weighted').round(2))"
      ],
      "execution_count": 0,
      "outputs": [
        {
          "output_type": "stream",
          "text": [
            "\u001b[1mAccuracy score :\u001b[0m  0.158\n",
            "\n",
            "\u001b[1mF1 score:\u001b[0m \n",
            "F1 score micro        :  0.54\n",
            "F1 score macro        :  0.24\n",
            "F1 score weighted     :  0.49\n",
            "\n",
            "\u001b[1mPrecision:\u001b[0m \n",
            "Precision score micro :  0.76\n",
            "Precision score macro :  0.57\n",
            "Precision weighted    :  0.75\n",
            "\n",
            "\u001b[1mPecall:\u001b[0m \n",
            "Recall score micro    :  0.41\n",
            "Recall score macro    :  0.17\n",
            "Recall score weighted :  0.41\n"
          ],
          "name": "stdout"
        }
      ]
    },
    {
      "cell_type": "markdown",
      "metadata": {
        "id": "pEXHF_3bXFbC",
        "colab_type": "text"
      },
      "source": [
        "- As seen, our data is imbalanced as we have taken only a subset of the original data. Maximum class (76) count is 2721 and minimum class (39) count is 0.\n",
        "\n",
        "- For the maximum class, the scores are pretty good and for minimum the scores are 0 as expected\n",
        "\n",
        "**How to choose micro or micro averaging:**\n",
        "\n",
        "- Choosing macro or micro averaging depends purely on the problem statement. \n",
        "\n",
        "- If our class of interest is the majority one, then we usually go for micro-averaging. If goal for the classifier is to simply maximize its hits and minimize its misses, this would be the way to go.\n",
        "\n",
        "- However, if we value the minority class the most, then we should switch to a macro-averaged accuracy. This metric is insensitive to the imbalance of the classes and treats them all equal.\n",
        "\n",
        "- In many applications the latter is preferable as in diagnosing a disease that appears in 1% of the population.\n",
        "\n",
        "- The reason why micro-averaging is prevalent is because in most tasks, we would be interested in simply maximizing the number of correct predictions that the classifier makes. In these tasks, no class is more important than the others."
      ]
    },
    {
      "cell_type": "markdown",
      "metadata": {
        "id": "1a-En6oHo0t-",
        "colab_type": "text"
      },
      "source": [
        "**Scores are low since we have only taken a minimum portion of the original data for our model building process.**"
      ]
    },
    {
      "cell_type": "markdown",
      "metadata": {
        "id": "8lk045zjA6Ol",
        "colab_type": "text"
      },
      "source": [
        "### **10. Print true label and predicted label for any five examples (7.5 points)**"
      ]
    },
    {
      "cell_type": "code",
      "metadata": {
        "id": "LrYwP55p2li3",
        "colab_type": "code",
        "outputId": "4297af59-2455-4471-837d-061308ba3f9a",
        "colab": {
          "base_uri": "https://localhost:8080/",
          "height": 481
        }
      },
      "source": [
        "y_pred_inv = mb.inverse_transform(y_pred)\n",
        "y_test_inv = mb.inverse_transform(y_test)\n",
        "\n",
        "for x in range(20,25):\n",
        "    print('Title:\\t{}\\nTrue labels:\\t{}\\nPredicted labels:\\t{}\\n\\n'.format(\n",
        "        X_test.iloc[x],\n",
        "        ','.join(y_test_inv[x]),\n",
        "        ','.join(y_pred_inv[x])\n",
        "    ))"
      ],
      "execution_count": 0,
      "outputs": [
        {
          "output_type": "stream",
          "text": [
            "Title:\t response  fifer  earlier comment    wish   happy birthday     merely   wee hours  wednesday morning     blog     refer  earlier post      heeeeeeeee     oh  yeah   happy belated birthday  sarah      however     forget   lol  kidding\n",
            "True labels:\t17,Aquarius,female,indUnk\n",
            "Predicted labels:\tfemale,indUnk\n",
            "\n",
            "\n",
            "Title:\turllink stereolab  singer dies  bike accident    urllink click    article    wow      big fan  stereolab  music  high school    also makes   lot  cautious  riding  bicycle  particularly   get  campus     cross  busy road  people like  speed\n",
            "True labels:\t24,Aries,indUnk,male\n",
            "Predicted labels:\tAries,indUnk,male\n",
            "\n",
            "\n",
            "Title:\t   things     read      scan  headline  move     urllink     them\n",
            "True labels:\t36,Aries,Fashion,male\n",
            "Predicted labels:\tmale\n",
            "\n",
            "\n",
            "Title:\tdistractions    need  love     strong  powerful force       loved   love    experience  fulfillment   relationships falter  around    hard   hope   yet  need remains    nature yearns   things  yet   search   object   love    left wanting    wonder  people find      begins   still   need consumes     pray    hear others speak   need     consumes  life    pray    consumes mine     pray    balance   heavely  earthly  oftern twisted   earthly   see     heavenly surrounds   lives within    penetrates  soul      yet somehow   blinded    presence    trudge    sidewalk    trees   car   people    thoughts shift     devote  heart   fully devote     god    parking meter   mailbox   crosswalk    god   universe   mighty creator    gas station   pothole   noise    calls  name    hardly hear    traffic   planes   songs   head   dear god  scream louder       written  10 2 03   deal   vice  allowing  distractions   life  cloud  view  jesus\n",
            "True labels:\t25,Aries,BusinessServices,female\n",
            "Predicted labels:\t24,female,indUnk\n",
            "\n",
            "\n",
            "Title:\t morning  woke   early   go    dear roommate  guess      morning    play tennis    wow     nuts    right  ya      really great thin  never    since  came  singapore    loved tennis    even til   still love tennis    something  come   life    abt 11 years old     morning  went  play    really recall  memory   play tennis seriously   junior tennis player    12 level      best honor   tennis career  haha   runner   new face junior player  12 yrs old  northern region  thailand     awesome   ya          good old day   still remember     time jimmy corner   favourite player   dad graciously support   learn tennis  bought  racket    expensive   time  11 yrs old boy   coach     ex thailand national representative   trained   sent   competitions     idea whether  future  become pro player        ya finally u  know    make    u ask     dun know really     quit   enter sec  school    busy  school  get caught  new challege basketball    played  become  school representative    love sports       play basketball  school team since sec  school   moved  another vocational school   still play  new school    turning point      converted       captain   school team     suppose  made  decision whether   continue  play  school  quit becuz   time  practice     go church     need  time serving  church   also   last year   school     think ahead    heading next      really hard  laid  everything  say    quit    teammate asked   u crazy   u quit    answer came    mouth    god told   quit    laughed        really meant    god told    play  school anymore       better things lies ahead      made  decision       learned  obey god since     til       obey    tell        never regret         morning     time    flash back   good old days     say   god   past years        seen u directed  path indeed     plan  always  best       thank  lord         know  plans       declares  lord    plans  prosper     harm   plans  give  hope   future     call upon   come  pray       listen      seek   find    seek     heart    jeremiah 29 11 13 niv\n",
            "True labels:\t23,Aries,Non-Profit,male\n",
            "Predicted labels:\t16,Pisces,indUnk,male\n",
            "\n",
            "\n"
          ],
          "name": "stdout"
        }
      ]
    },
    {
      "cell_type": "markdown",
      "metadata": {
        "id": "kmrTGNKuk9L0",
        "colab_type": "text"
      },
      "source": [
        "## **Overall Summary:**\n",
        "\n",
        "- Imported the necessary packages\n",
        "- Extracted data from the zip file\n",
        "- Loaded the dataset into dataframe and used only 25,000 records for further processing\n",
        "- Data was preprocessed - Removed unwanted characters and spaces, converted text to lower case and removed stop words\n",
        "- Merged multiple columns (Gender, age, topic & sign) into single column and made that as the label. Dropped the original 4 columns from the dataframe\n",
        "- Separated features and labels and splitted the data into train & test in 80:20 ratio\n",
        "- Created Bag of Words using count vectorizer and created the document-term matrix\n",
        "- Created a dictionary to hold the labels and how often they occur in the document, just to get an idea on the count of multiple labels\n",
        "- Transformed the labels into 0s & 1s using multilabelbinarizer\n",
        "- Used logistic regression classifier and wrapped it up in OneVsRestClassifier to train it on every label\n",
        "- Train data was fit and prediction was done on test data\n",
        "- Printed accuracy, precision, recall, f1-score (micro, macro & weighted) to output\n",
        "- Also printed the original and predicted label for a random set of 5 samples."
      ]
    },
    {
      "cell_type": "markdown",
      "metadata": {
        "id": "zzHS5hPSZ5Gh",
        "colab_type": "text"
      },
      "source": [
        "### <center> **End of Statistical NLP_R8_Project1_Blog authorship** </center>"
      ]
    }
  ]
}