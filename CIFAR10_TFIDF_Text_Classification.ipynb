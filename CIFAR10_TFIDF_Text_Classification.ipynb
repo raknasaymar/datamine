{
  "nbformat": 4,
  "nbformat_minor": 0,
  "metadata": {
    "colab": {
      "name": "R8_External_Lab_Questions_CIFAR10_Transfer_Learning_TFIDF_Text_Classification.ipynb",
      "provenance": [],
      "collapsed_sections": []
    },
    "kernelspec": {
      "name": "python3",
      "display_name": "Python 3"
    }
  },
  "cells": [
    {
      "cell_type": "markdown",
      "metadata": {
        "id": "QGIsF1ADyJ58",
        "colab_type": "text"
      },
      "source": [
        "# Transfer Learning CIFAR10"
      ]
    },
    {
      "cell_type": "markdown",
      "metadata": {
        "id": "E-n6tVFayGBe",
        "colab_type": "text"
      },
      "source": [
        "* Train a simple convnet on the CIFAR dataset the first 5 output classes [0..4].\n",
        "* Freeze convolutional layers and fine-tune dense layers for the last 5 ouput classes [5..9].\n"
      ]
    },
    {
      "cell_type": "markdown",
      "metadata": {
        "id": "EUXDPFOVN09A",
        "colab_type": "text"
      },
      "source": [
        "**Import necessary libraries:**"
      ]
    },
    {
      "cell_type": "code",
      "metadata": {
        "id": "HX7W_yLeV-6Q",
        "colab_type": "code",
        "outputId": "1b2a2fbc-4b87-4a1e-8444-7adcf7b46887",
        "colab": {
          "base_uri": "https://localhost:8080/",
          "height": 34
        }
      },
      "source": [
        "%tensorflow_version 2.x"
      ],
      "execution_count": 0,
      "outputs": [
        {
          "output_type": "stream",
          "text": [
            "TensorFlow 2.x selected.\n"
          ],
          "name": "stdout"
        }
      ]
    },
    {
      "cell_type": "code",
      "metadata": {
        "id": "WsPCnrkcWJIL",
        "colab_type": "code",
        "colab": {}
      },
      "source": [
        "import tensorflow as tf\n",
        "\n",
        "import numpy as np\n",
        "import pandas as pd\n",
        "\n",
        "import warnings\n",
        "warnings.filterwarnings(\"ignore\")\n",
        "\n",
        "import matplotlib.pyplot as plt\n",
        "import seaborn as sns\n",
        "\n",
        "from sklearn.feature_extraction.text import TfidfVectorizer\n",
        "from sklearn.linear_model import LogisticRegression\n",
        "\n",
        "from sklearn import metrics\n",
        "from sklearn.metrics import confusion_matrix, classification_report"
      ],
      "execution_count": 0,
      "outputs": []
    },
    {
      "cell_type": "markdown",
      "metadata": {
        "id": "Cq8ejXHJyGYq",
        "colab_type": "text"
      },
      "source": [
        "### 1. Import CIFAR10 data and create 2 datasets with one dataset having classes from 0 to 4 and other having classes from 5 to 9 "
      ]
    },
    {
      "cell_type": "code",
      "metadata": {
        "id": "uWYbxnBayFUP",
        "colab_type": "code",
        "outputId": "187ce130-010b-45f0-c96a-7ac906646eb6",
        "colab": {
          "base_uri": "https://localhost:8080/",
          "height": 34
        }
      },
      "source": [
        "from keras.datasets import cifar10\n",
        "\n",
        "(X_train, y_train), (X_test, y_test) = cifar10.load_data()"
      ],
      "execution_count": 0,
      "outputs": [
        {
          "output_type": "stream",
          "text": [
            "Using TensorFlow backend.\n"
          ],
          "name": "stderr"
        }
      ]
    },
    {
      "cell_type": "markdown",
      "metadata": {
        "id": "SejTqlObN9Bu",
        "colab_type": "text"
      },
      "source": [
        "**Let's view what's the data:**"
      ]
    },
    {
      "cell_type": "code",
      "metadata": {
        "id": "JopJ5p6NXsmZ",
        "colab_type": "code",
        "outputId": "c2c15ce9-e8a7-43a2-8c85-5838b0512d6b",
        "colab": {
          "base_uri": "https://localhost:8080/",
          "height": 283
        }
      },
      "source": [
        "plt.imshow(X_train[60])"
      ],
      "execution_count": 0,
      "outputs": [
        {
          "output_type": "execute_result",
          "data": {
            "text/plain": [
              "<matplotlib.image.AxesImage at 0x7f76eb174e10>"
            ]
          },
          "metadata": {
            "tags": []
          },
          "execution_count": 4
        },
        {
          "output_type": "display_data",
          "data": {
            "image/png": "[encoded data removed]",
            "text/plain": [
              "<Figure size 432x288 with 1 Axes>"
            ]
          },
          "metadata": {
            "tags": []
          }
        }
      ]
    },
    {
      "cell_type": "markdown",
      "metadata": {
        "id": "4tQalXkEONpc",
        "colab_type": "text"
      },
      "source": [
        "**Let's view few more images fron the file:**"
      ]
    },
    {
      "cell_type": "code",
      "metadata": {
        "id": "bwGaGn9fOUu0",
        "colab_type": "code",
        "outputId": "fc941e66-ee4b-4595-cdcc-d686f96972a6",
        "colab": {
          "base_uri": "https://localhost:8080/",
          "height": 589
        }
      },
      "source": [
        "plt.figure(figsize=(10,10))\n",
        "for img in range(25):\n",
        "    plt.subplot(5, 5, img+1)\n",
        "    plt.xticks([])\n",
        "    plt.yticks([])\n",
        "    plt.grid(False)\n",
        "    plt.imshow(X_train[img])\n",
        "    plt.xlabel(y_train[img])\n",
        "plt.show()"
      ],
      "execution_count": 0,
      "outputs": [
        {
          "output_type": "display_data",
          "data": {
            "image/png": "[encoded data removed]",
            "text/plain": [
              "<Figure size 720x720 with 25 Axes>"
            ]
          },
          "metadata": {
            "tags": []
          }
        }
      ]
    },
    {
      "cell_type": "markdown",
      "metadata": {
        "id": "rjRKiIE3OdPw",
        "colab_type": "text"
      },
      "source": [
        "**Shape of data:**"
      ]
    },
    {
      "cell_type": "code",
      "metadata": {
        "id": "tpJ7W388Zbti",
        "colab_type": "code",
        "outputId": "f2127014-a930-45ab-b0b7-2733641cd8df",
        "colab": {
          "base_uri": "https://localhost:8080/",
          "height": 85
        }
      },
      "source": [
        "print(X_train.shape)\n",
        "print(X_test.shape)\n",
        "print(y_train.shape)\n",
        "print(y_test.shape)"
      ],
      "execution_count": 0,
      "outputs": [
        {
          "output_type": "stream",
          "text": [
            "(50000, 32, 32, 3)\n",
            "(10000, 32, 32, 3)\n",
            "(50000, 1)\n",
            "(10000, 1)\n"
          ],
          "name": "stdout"
        }
      ]
    },
    {
      "cell_type": "markdown",
      "metadata": {
        "id": "n10_90GtQsN9",
        "colab_type": "text"
      },
      "source": [
        "**Check unique count of target data in y_train:**"
      ]
    },
    {
      "cell_type": "code",
      "metadata": {
        "id": "bLdSVqeaZo3J",
        "colab_type": "code",
        "outputId": "4eaeb114-697a-4567-8bda-5a1d87edf72a",
        "colab": {
          "base_uri": "https://localhost:8080/",
          "height": 68
        }
      },
      "source": [
        "y_train_unq, y_train_unq_cnt = np.unique(y_train, return_counts=True)\n",
        "print(\"Frequency of unique values in y_train:\")\n",
        "print(np.asarray((y_train_unq, y_train_unq_cnt)))"
      ],
      "execution_count": 0,
      "outputs": [
        {
          "output_type": "stream",
          "text": [
            "Frequency of unique values in y_train:\n",
            "[[   0    1    2    3    4    5    6    7    8    9]\n",
            " [5000 5000 5000 5000 5000 5000 5000 5000 5000 5000]]\n"
          ],
          "name": "stdout"
        }
      ]
    },
    {
      "cell_type": "markdown",
      "metadata": {
        "id": "HsM4Q9SHQ4aK",
        "colab_type": "text"
      },
      "source": [
        "**Check unique count of target data in y_test:**"
      ]
    },
    {
      "cell_type": "code",
      "metadata": {
        "id": "XBO8jNKZee2E",
        "colab_type": "code",
        "outputId": "699053d3-31dd-49fc-af13-f0d6a25b6b10",
        "colab": {
          "base_uri": "https://localhost:8080/",
          "height": 68
        }
      },
      "source": [
        "y_test_unq, y_test_unq_cnt = np.unique(y_test, return_counts=True)\n",
        "print(\"Frequency of unique values in y_test:\")\n",
        "print(np.asarray((y_test_unq, y_test_unq_cnt)))"
      ],
      "execution_count": 0,
      "outputs": [
        {
          "output_type": "stream",
          "text": [
            "Frequency of unique values in y_test:\n",
            "[[   0    1    2    3    4    5    6    7    8    9]\n",
            " [1000 1000 1000 1000 1000 1000 1000 1000 1000 1000]]\n"
          ],
          "name": "stdout"
        }
      ]
    },
    {
      "cell_type": "markdown",
      "metadata": {
        "id": "zUfQZJE5RVd1",
        "colab_type": "text"
      },
      "source": [
        "**Convert target into 1-D array for further processing:**"
      ]
    },
    {
      "cell_type": "code",
      "metadata": {
        "id": "zVzPiii8NxP8",
        "colab_type": "code",
        "colab": {}
      },
      "source": [
        "y_train = y_train.ravel()\n",
        "\n",
        "y_test  = y_test.ravel()"
      ],
      "execution_count": 0,
      "outputs": []
    },
    {
      "cell_type": "code",
      "metadata": {
        "id": "qWHpoh3EKqm8",
        "colab_type": "code",
        "outputId": "99532365-a040-49eb-8643-e90a3f90fba3",
        "colab": {
          "base_uri": "https://localhost:8080/",
          "height": 34
        }
      },
      "source": [
        "y_train[0:5]"
      ],
      "execution_count": 0,
      "outputs": [
        {
          "output_type": "execute_result",
          "data": {
            "text/plain": [
              "array([6, 9, 9, 4, 1], dtype=uint8)"
            ]
          },
          "metadata": {
            "tags": []
          },
          "execution_count": 10
        }
      ]
    },
    {
      "cell_type": "markdown",
      "metadata": {
        "id": "ZwlWy4N9RcWJ",
        "colab_type": "text"
      },
      "source": [
        "**Split the data into 2: One with classes 0-4 and other with classes 5-9:**"
      ]
    },
    {
      "cell_type": "code",
      "metadata": {
        "id": "zN_bZFhR-kzJ",
        "colab_type": "code",
        "colab": {}
      },
      "source": [
        "X_train_1 = X_train[y_train <= 4]\n",
        "y_train_1 = y_train[y_train <= 4]\n",
        "X_test_1  = X_test[y_test <= 4]\n",
        "y_test_1  = y_test[y_test <= 4]\n",
        "\n",
        "\n",
        "X_train_2 = X_train[y_train > 4]\n",
        "y_train_2 = y_train[y_train > 4]\n",
        "X_test_2  = X_test[y_test > 4]\n",
        "y_test_2  = y_test[y_test > 4]"
      ],
      "execution_count": 0,
      "outputs": []
    },
    {
      "cell_type": "markdown",
      "metadata": {
        "id": "VSDQp4a5Rsi_",
        "colab_type": "text"
      },
      "source": [
        "**Check the shape of data now:**"
      ]
    },
    {
      "cell_type": "code",
      "metadata": {
        "id": "2MVsbcUVWFYc",
        "colab_type": "code",
        "outputId": "d93f0c04-2deb-4f0c-9aff-12cf0b64e036",
        "colab": {
          "base_uri": "https://localhost:8080/",
          "height": 153
        }
      },
      "source": [
        "print(X_train_1.shape)\n",
        "print(y_train_1.shape)\n",
        "print(X_train_2.shape)\n",
        "print(y_train_2.shape)\n",
        "\n",
        "print(X_test_1.shape)\n",
        "print(y_test_1.shape)\n",
        "print(X_test_2.shape)\n",
        "print(y_test_2.shape)"
      ],
      "execution_count": 0,
      "outputs": [
        {
          "output_type": "stream",
          "text": [
            "(25000, 32, 32, 3)\n",
            "(25000,)\n",
            "(25000, 32, 32, 3)\n",
            "(25000,)\n",
            "(5000, 32, 32, 3)\n",
            "(5000,)\n",
            "(5000, 32, 32, 3)\n",
            "(5000,)\n"
          ],
          "name": "stdout"
        }
      ]
    },
    {
      "cell_type": "markdown",
      "metadata": {
        "id": "HxG5U136Ryh8",
        "colab_type": "text"
      },
      "source": [
        "**Check if data is correctly split:**"
      ]
    },
    {
      "cell_type": "code",
      "metadata": {
        "id": "_Gk7WYJoIRTU",
        "colab_type": "code",
        "outputId": "c34d0a69-339e-4845-9524-3e7bcca66490",
        "colab": {
          "base_uri": "https://localhost:8080/",
          "height": 34
        }
      },
      "source": [
        "np.unique(y_test_1)"
      ],
      "execution_count": 0,
      "outputs": [
        {
          "output_type": "execute_result",
          "data": {
            "text/plain": [
              "array([0, 1, 2, 3, 4])"
            ]
          },
          "metadata": {
            "tags": []
          },
          "execution_count": 13
        }
      ]
    },
    {
      "cell_type": "code",
      "metadata": {
        "id": "7TIXdIthR3wf",
        "colab_type": "code",
        "outputId": "cd5da047-ee95-4bbc-bead-f79104c23bb7",
        "colab": {
          "base_uri": "https://localhost:8080/",
          "height": 34
        }
      },
      "source": [
        "np.unique(y_test_2)"
      ],
      "execution_count": 0,
      "outputs": [
        {
          "output_type": "execute_result",
          "data": {
            "text/plain": [
              "array([5, 6, 7, 8, 9])"
            ]
          },
          "metadata": {
            "tags": []
          },
          "execution_count": 14
        }
      ]
    },
    {
      "cell_type": "markdown",
      "metadata": {
        "id": "xtCKmQh4yXhT",
        "colab_type": "text"
      },
      "source": [
        "### 2. Use One-hot encoding to divide y_train and y_test into required no of output classes"
      ]
    },
    {
      "cell_type": "markdown",
      "metadata": {
        "id": "7PY-i4K4zdEO",
        "colab_type": "text"
      },
      "source": [
        "**One-hot encoding:**"
      ]
    },
    {
      "cell_type": "code",
      "metadata": {
        "id": "uN5O2kJ3yYa6",
        "colab_type": "code",
        "colab": {}
      },
      "source": [
        "y_train_1 = tf.keras.utils.to_categorical(y_train_1, num_classes = 5)\n",
        "y_test_1  = tf.keras.utils.to_categorical(y_test_1, num_classes = 5)"
      ],
      "execution_count": 0,
      "outputs": []
    },
    {
      "cell_type": "markdown",
      "metadata": {
        "id": "RlpgwZreTTbd",
        "colab_type": "text"
      },
      "source": [
        "*   In y_train_2 & y_test_2, class labels will start from 5 to 9 but for keras.utils.to_categorical the labels should start from 0\n",
        "*   so I will subtract 5 from train and test labels\n",
        "\n"
      ]
    },
    {
      "cell_type": "code",
      "metadata": {
        "id": "hzrmfOI8TgtU",
        "colab_type": "code",
        "colab": {}
      },
      "source": [
        "y_train_2 = y_train_2 - 5\n",
        "y_test_2  = y_test_2  - 5\n",
        "\n",
        "y_train_2 = tf.keras.utils.to_categorical(y_train_2, num_classes = 5)\n",
        "y_test_2  = tf.keras.utils.to_categorical(y_test_2, num_classes = 5)"
      ],
      "execution_count": 0,
      "outputs": []
    },
    {
      "cell_type": "markdown",
      "metadata": {
        "id": "QmWsm_-WzjKW",
        "colab_type": "text"
      },
      "source": [
        "**Convert values to float & Normalize:**"
      ]
    },
    {
      "cell_type": "code",
      "metadata": {
        "id": "p2zPkYScrVW0",
        "colab_type": "code",
        "colab": {}
      },
      "source": [
        "# Making sure that the values are float \n",
        "X_train_1 = X_train_1.astype('float32')\n",
        "X_test_1  = X_test_1.astype('float32')\n",
        "\n",
        "X_train_2 = X_train_2.astype('float32')\n",
        "X_test_2  = X_test_2.astype('float32')\n",
        "\n",
        "# Normalizing the RGB codes by dividing it to the max RGB value.\n",
        "X_train_1/= 255\n",
        "X_test_1/=255\n",
        "\n",
        "X_train_2/= 255\n",
        "X_test_2/=255"
      ],
      "execution_count": 0,
      "outputs": []
    },
    {
      "cell_type": "markdown",
      "metadata": {
        "id": "cuOiKWfeybAl",
        "colab_type": "text"
      },
      "source": [
        "### 3. Build a sequential neural network model which can classify the classes 0 to 4 of CIFAR10 dataset with at least 80% accuracy on test data"
      ]
    },
    {
      "cell_type": "code",
      "metadata": {
        "id": "uxx9RotxgL7C",
        "colab_type": "code",
        "colab": {}
      },
      "source": [
        "input_shape = (32, 32, 3)\n",
        "num_classes = 5"
      ],
      "execution_count": 0,
      "outputs": []
    },
    {
      "cell_type": "code",
      "metadata": {
        "id": "5HzxNbiiyoBD",
        "colab_type": "code",
        "colab": {}
      },
      "source": [
        "model = tf.keras.models.Sequential()\n",
        "\n",
        "model.add(tf.keras.layers.Conv2D(32, kernel_size=(3,3), input_shape=input_shape, activation=\"relu\", name=\"Conv_layer1\"))\n",
        "model.add(tf.keras.layers.MaxPooling2D())\n",
        "model.add(tf.keras.layers.Dropout(0.1))\n",
        "model.add(tf.keras.layers.BatchNormalization())\n",
        "\n",
        "model.add(tf.keras.layers.Conv2D(64, kernel_size=(3,3), activation=\"relu\", name=\"Conv_layer2\"))\n",
        "model.add(tf.keras.layers.MaxPooling2D())\n",
        "model.add(tf.keras.layers.Dropout(0.1))\n",
        "model.add(tf.keras.layers.BatchNormalization())\n",
        "\n",
        "model.add(tf.keras.layers.Conv2D(128, kernel_size=(3,3), activation=\"relu\", name=\"Conv_layer3\"))\n",
        "model.add(tf.keras.layers.MaxPooling2D())\n",
        "model.add(tf.keras.layers.Dropout(0.1))\n",
        "model.add(tf.keras.layers.BatchNormalization())\n",
        "\n",
        "model.add(tf.keras.layers.Flatten())\n",
        "\n",
        "model.add(tf.keras.layers.Dense(128, activation=\"relu\", name=\"Dense_layer\"))\n",
        "model.add(tf.keras.layers.BatchNormalization())\n",
        "model.add(tf.keras.layers.Dropout(0.2))\n",
        "\n",
        "model.add(tf.keras.layers.Dense(num_classes, activation='softmax', name=\"Output\"))                               \n",
        "\n",
        "model.compile(loss='categorical_crossentropy', optimizer='adam', metrics=['accuracy'])"
      ],
      "execution_count": 0,
      "outputs": []
    },
    {
      "cell_type": "markdown",
      "metadata": {
        "id": "DblKTGCDTvyB",
        "colab_type": "text"
      },
      "source": [
        "**Mount drive to save the best model for future use:**"
      ]
    },
    {
      "cell_type": "code",
      "metadata": {
        "id": "OJ4RiKTL78tB",
        "colab_type": "code",
        "outputId": "20c3f274-98ab-4ecd-9672-d8c04b1edadd",
        "colab": {
          "base_uri": "https://localhost:8080/",
          "height": 34
        }
      },
      "source": [
        "from google.colab import drive\n",
        "drive.mount('/content/drive')"
      ],
      "execution_count": 0,
      "outputs": [
        {
          "output_type": "stream",
          "text": [
            "Drive already mounted at /content/drive; to attempt to forcibly remount, call drive.mount(\"/content/drive\", force_remount=True).\n"
          ],
          "name": "stdout"
        }
      ]
    },
    {
      "cell_type": "markdown",
      "metadata": {
        "id": "ReC4mjFZT7AO",
        "colab_type": "text"
      },
      "source": [
        "**Fit the model:**"
      ]
    },
    {
      "cell_type": "code",
      "metadata": {
        "id": "q-ziASYwqcdM",
        "colab_type": "code",
        "outputId": "d6b4d437-fbc9-41c9-fb7b-9f145c1c6036",
        "colab": {
          "base_uri": "https://localhost:8080/",
          "height": 1000
        }
      },
      "source": [
        "# Save the best model after every epoch. Since accuracy is monitored, we give mode as max\n",
        "checkpoint = tf.keras.callbacks.ModelCheckpoint('/content/drive/My Drive/CNN/CIFAR/model.h5', monitor='accuracy', \n",
        "                              verbose=1, save_best_only=True, mode='max')\n",
        "\n",
        "callbacks_list = [checkpoint]\n",
        "\n",
        "model.fit(X_train_1, y_train_1, validation_data=(X_test_1, y_test_1), epochs=20, batch_size=128, callbacks=callbacks_list)"
      ],
      "execution_count": 0,
      "outputs": [
        {
          "output_type": "stream",
          "text": [
            "Train on 25000 samples, validate on 5000 samples\n",
            "Epoch 1/20\n",
            "24960/25000 [============================>.] - ETA: 0s - loss: 1.1319 - accuracy: 0.5580\n",
            "Epoch 00001: accuracy improved from -inf to 0.55808, saving model to /content/drive/My Drive/CNN/CIFAR/model.h5\n",
            "25000/25000 [==============================] - 38s 2ms/sample - loss: 1.1314 - accuracy: 0.5581 - val_loss: 2.9197 - val_accuracy: 0.2000\n",
            "Epoch 2/20\n",
            "24960/25000 [============================>.] - ETA: 0s - loss: 0.8419 - accuracy: 0.6659\n",
            "Epoch 00002: accuracy improved from 0.55808 to 0.66604, saving model to /content/drive/My Drive/CNN/CIFAR/model.h5\n",
            "25000/25000 [==============================] - 37s 1ms/sample - loss: 0.8416 - accuracy: 0.6660 - val_loss: 3.0891 - val_accuracy: 0.2086\n",
            "Epoch 3/20\n",
            "24960/25000 [============================>.] - ETA: 0s - loss: 0.7369 - accuracy: 0.7167Epoch 4/20\n",
            "24960/25000 [============================>.] - ETA: 0s - loss: 0.6592 - accuracy: 0.7460\n",
            "Epoch 00004: accuracy improved from 0.71684 to 0.74588, saving model to /content/drive/My Drive/CNN/CIFAR/model.h5\n",
            "25000/25000 [==============================] - 37s 1ms/sample - loss: 0.6595 - accuracy: 0.7459 - val_loss: 0.6496 - val_accuracy: 0.7478\n",
            "Epoch 5/20\n",
            "24960/25000 [============================>.] - ETA: 0s - loss: 0.6022 - accuracy: 0.7706\n",
            "Epoch 00005: accuracy improved from 0.74588 to 0.77072, saving model to /content/drive/My Drive/CNN/CIFAR/model.h5\n",
            "25000/25000 [==============================] - 38s 2ms/sample - loss: 0.6020 - accuracy: 0.7707 - val_loss: 0.5799 - val_accuracy: 0.7768\n",
            "Epoch 6/20\n",
            "24960/25000 [============================>.] - ETA: 0s - loss: 0.5470 - accuracy: 0.7907\n",
            "Epoch 00006: accuracy improved from 0.77072 to 0.79072, saving model to /content/drive/My Drive/CNN/CIFAR/model.h5\n",
            "25000/25000 [==============================] - 37s 1ms/sample - loss: 0.5468 - accuracy: 0.7907 - val_loss: 0.6360 - val_accuracy: 0.7536\n",
            "Epoch 7/20\n",
            "24960/25000 [============================>.] - ETA: 0s - loss: 0.5067 - accuracy: 0.8107\n",
            "Epoch 00007: accuracy improved from 0.79072 to 0.81048, saving model to /content/drive/My Drive/CNN/CIFAR/model.h5\n",
            "25000/25000 [==============================] - 37s 1ms/sample - loss: 0.5069 - accuracy: 0.8105 - val_loss: 0.5724 - val_accuracy: 0.7864\n",
            "Epoch 8/20\n",
            "24960/25000 [============================>.] - ETA: 0s - loss: 0.4702 - accuracy: 0.8222\n",
            "Epoch 00008: accuracy improved from 0.81048 to 0.82204, saving model to /content/drive/My Drive/CNN/CIFAR/model.h5\n",
            "25000/25000 [==============================] - 37s 1ms/sample - loss: 0.4704 - accuracy: 0.8220 - val_loss: 0.6571 - val_accuracy: 0.7536\n",
            "Epoch 9/20\n",
            "24960/25000 [============================>.] - ETA: 0s - loss: 0.4393 - accuracy: 0.8352\n",
            "Epoch 00009: accuracy improved from 0.82204 to 0.83520, saving model to /content/drive/My Drive/CNN/CIFAR/model.h5\n",
            "25000/25000 [==============================] - 37s 1ms/sample - loss: 0.4393 - accuracy: 0.8352 - val_loss: 0.5091 - val_accuracy: 0.8146\n",
            "Epoch 10/20\n",
            "24960/25000 [============================>.] - ETA: 0s - loss: 0.4075 - accuracy: 0.8472\n",
            "Epoch 00010: accuracy improved from 0.83520 to 0.84712, saving model to /content/drive/My Drive/CNN/CIFAR/model.h5\n",
            "25000/25000 [==============================] - 37s 1ms/sample - loss: 0.4077 - accuracy: 0.8471 - val_loss: 0.5723 - val_accuracy: 0.7868\n",
            "Epoch 11/20\n",
            "24960/25000 [============================>.] - ETA: 0s - loss: 0.3825 - accuracy: 0.8577\n",
            "Epoch 00011: accuracy improved from 0.84712 to 0.85760, saving model to /content/drive/My Drive/CNN/CIFAR/model.h5\n",
            "25000/25000 [==============================] - 37s 1ms/sample - loss: 0.3828 - accuracy: 0.8576 - val_loss: 0.6802 - val_accuracy: 0.7494\n",
            "Epoch 12/20\n",
            "24960/25000 [============================>.] - ETA: 0s - loss: 0.3601 - accuracy: 0.8668\n",
            "Epoch 00012: accuracy improved from 0.85760 to 0.86668, saving model to /content/drive/My Drive/CNN/CIFAR/model.h5\n",
            "25000/25000 [==============================] - 37s 1ms/sample - loss: 0.3604 - accuracy: 0.8667 - val_loss: 0.5764 - val_accuracy: 0.7954\n",
            "Epoch 13/20\n",
            "24960/25000 [============================>.] - ETA: 0s - loss: 0.3379 - accuracy: 0.8742\n",
            "Epoch 00013: accuracy improved from 0.86668 to 0.87416, saving model to /content/drive/My Drive/CNN/CIFAR/model.h5\n",
            "25000/25000 [==============================] - 38s 2ms/sample - loss: 0.3378 - accuracy: 0.8742 - val_loss: 0.6196 - val_accuracy: 0.7902\n",
            "Epoch 14/20\n",
            "24960/25000 [============================>.] - ETA: 0s - loss: 0.3216 - accuracy: 0.8783\n",
            "Epoch 00014: accuracy improved from 0.87416 to 0.87828, saving model to /content/drive/My Drive/CNN/CIFAR/model.h5\n",
            "25000/25000 [==============================] - 37s 1ms/sample - loss: 0.3215 - accuracy: 0.8783 - val_loss: 0.4884 - val_accuracy: 0.8222\n",
            "Epoch 15/20\n",
            "24960/25000 [============================>.] - ETA: 0s - loss: 0.2969 - accuracy: 0.8883\n",
            "Epoch 00015: accuracy improved from 0.87828 to 0.88824, saving model to /content/drive/My Drive/CNN/CIFAR/model.h5\n",
            "25000/25000 [==============================] - 37s 1ms/sample - loss: 0.2970 - accuracy: 0.8882 - val_loss: 0.5327 - val_accuracy: 0.8158\n",
            "Epoch 16/20\n",
            "24960/25000 [============================>.] - ETA: 0s - loss: 0.2844 - accuracy: 0.8959\n",
            "Epoch 00016: accuracy improved from 0.88824 to 0.89580, saving model to /content/drive/My Drive/CNN/CIFAR/model.h5\n",
            "25000/25000 [==============================] - 37s 1ms/sample - loss: 0.2845 - accuracy: 0.8958 - val_loss: 0.5685 - val_accuracy: 0.8078\n",
            "Epoch 17/20\n",
            "24960/25000 [============================>.] - ETA: 0s - loss: 0.2634 - accuracy: 0.9018\n",
            "Epoch 00017: accuracy improved from 0.89580 to 0.90168, saving model to /content/drive/My Drive/CNN/CIFAR/model.h5\n",
            "25000/25000 [==============================] - 37s 1ms/sample - loss: 0.2639 - accuracy: 0.9017 - val_loss: 0.5291 - val_accuracy: 0.8202\n",
            "Epoch 18/20\n",
            "24960/25000 [============================>.] - ETA: 0s - loss: 0.2550 - accuracy: 0.9046\n",
            "Epoch 00018: accuracy improved from 0.90168 to 0.90456, saving model to /content/drive/My Drive/CNN/CIFAR/model.h5\n",
            "25000/25000 [==============================] - 37s 1ms/sample - loss: 0.2551 - accuracy: 0.9046 - val_loss: 0.5237 - val_accuracy: 0.8258\n",
            "Epoch 19/20\n",
            "24960/25000 [============================>.] - ETA: 0s - loss: 0.2457 - accuracy: 0.9102\n",
            "Epoch 00019: accuracy improved from 0.90456 to 0.91028, saving model to /content/drive/My Drive/CNN/CIFAR/model.h5\n",
            "25000/25000 [==============================] - 37s 1ms/sample - loss: 0.2456 - accuracy: 0.9103 - val_loss: 0.5111 - val_accuracy: 0.8314\n",
            "Epoch 20/20\n",
            "24960/25000 [============================>.] - ETA: 0s - loss: 0.2336 - accuracy: 0.9142\n",
            "Epoch 00020: accuracy improved from 0.91028 to 0.91408, saving model to /content/drive/My Drive/CNN/CIFAR/model.h5\n",
            "25000/25000 [==============================] - 37s 1ms/sample - loss: 0.2341 - accuracy: 0.9141 - val_loss: 0.4931 - val_accuracy: 0.8352\n"
          ],
          "name": "stdout"
        },
        {
          "output_type": "execute_result",
          "data": {
            "text/plain": [
              "<tensorflow.python.keras.callbacks.History at 0x7f76e2ef95f8>"
            ]
          },
          "metadata": {
            "tags": []
          },
          "execution_count": 21
        }
      ]
    },
    {
      "cell_type": "markdown",
      "metadata": {
        "id": "O9DWizYLT-S6",
        "colab_type": "text"
      },
      "source": [
        "**Model Summary:**"
      ]
    },
    {
      "cell_type": "code",
      "metadata": {
        "id": "SdFRy317q1vS",
        "colab_type": "code",
        "outputId": "b3c49a97-94ff-46cf-8653-73b3295dedf6",
        "colab": {
          "base_uri": "https://localhost:8080/",
          "height": 731
        }
      },
      "source": [
        "model.summary()"
      ],
      "execution_count": 0,
      "outputs": [
        {
          "output_type": "stream",
          "text": [
            "Model: \"sequential\"\n",
            "_________________________________________________________________\n",
            "Layer (type)                 Output Shape              Param #   \n",
            "=================================================================\n",
            "Conv_layer1 (Conv2D)         (None, 30, 30, 32)        896       \n",
            "_________________________________________________________________\n",
            "max_pooling2d (MaxPooling2D) (None, 15, 15, 32)        0         \n",
            "_________________________________________________________________\n",
            "dropout (Dropout)            (None, 15, 15, 32)        0         \n",
            "_________________________________________________________________\n",
            "batch_normalization (BatchNo (None, 15, 15, 32)        128       \n",
            "_________________________________________________________________\n",
            "Conv_layer2 (Conv2D)         (None, 13, 13, 64)        18496     \n",
            "_________________________________________________________________\n",
            "max_pooling2d_1 (MaxPooling2 (None, 6, 6, 64)          0         \n",
            "_________________________________________________________________\n",
            "dropout_1 (Dropout)          (None, 6, 6, 64)          0         \n",
            "_________________________________________________________________\n",
            "batch_normalization_1 (Batch (None, 6, 6, 64)          256       \n",
            "_________________________________________________________________\n",
            "Conv_layer3 (Conv2D)         (None, 4, 4, 128)         73856     \n",
            "_________________________________________________________________\n",
            "max_pooling2d_2 (MaxPooling2 (None, 2, 2, 128)         0         \n",
            "_________________________________________________________________\n",
            "dropout_2 (Dropout)          (None, 2, 2, 128)         0         \n",
            "_________________________________________________________________\n",
            "batch_normalization_2 (Batch (None, 2, 2, 128)         512       \n",
            "_________________________________________________________________\n",
            "flatten (Flatten)            (None, 512)               0         \n",
            "_________________________________________________________________\n",
            "Dense_layer (Dense)          (None, 128)               65664     \n",
            "_________________________________________________________________\n",
            "batch_normalization_3 (Batch (None, 128)               512       \n",
            "_________________________________________________________________\n",
            "dropout_3 (Dropout)          (None, 128)               0         \n",
            "_________________________________________________________________\n",
            "Output (Dense)               (None, 5)                 645       \n",
            "=================================================================\n",
            "Total params: 160,965\n",
            "Trainable params: 160,261\n",
            "Non-trainable params: 704\n",
            "_________________________________________________________________\n"
          ],
          "name": "stdout"
        }
      ]
    },
    {
      "cell_type": "markdown",
      "metadata": {
        "id": "Lv7Oz_IuUC2e",
        "colab_type": "text"
      },
      "source": [
        "**Model Accuracy:**"
      ]
    },
    {
      "cell_type": "code",
      "metadata": {
        "id": "MJQBqvmGq3Kj",
        "colab_type": "code",
        "outputId": "8fee7c26-4d02-41d9-b1f5-616348682a9c",
        "colab": {
          "base_uri": "https://localhost:8080/",
          "height": 34
        }
      },
      "source": [
        "final_model = tf.keras.models.load_model('/content/drive/My Drive/CNN/CIFAR/model.h5')\n",
        "score = final_model.evaluate(X_test_1, y_test_1, verbose=0)\n",
        "print(\"Accuracy: %.2f%%\" % (score[1]*100))"
      ],
      "execution_count": 0,
      "outputs": [
        {
          "output_type": "stream",
          "text": [
            "Accuracy: 83.52%\n"
          ],
          "name": "stdout"
        }
      ]
    },
    {
      "cell_type": "markdown",
      "metadata": {
        "id": "YHs_h7QAUFvA",
        "colab_type": "text"
      },
      "source": [
        "**Confusion matrix:**"
      ]
    },
    {
      "cell_type": "code",
      "metadata": {
        "id": "3-_LKcOH35N1",
        "colab_type": "code",
        "outputId": "88db9fa7-93db-4d35-a75c-3ef81a6bd003",
        "colab": {
          "base_uri": "https://localhost:8080/",
          "height": 295
        }
      },
      "source": [
        "y_pred_1 = final_model.predict_classes(X_test_1)\n",
        "\n",
        "cm1 = confusion_matrix(y_test_1.argmax(axis=1), y_pred_1)\n",
        "\n",
        "plt.figure(figsize=(6,4))\n",
        "sns.heatmap(pd.DataFrame(cm1), annot=True, annot_kws={\"fontsize\":12.5}, cmap='YlGnBu', fmt='d')\n",
        "plt.title('Confusion matrix')\n",
        "plt.ylabel('True label')\n",
        "plt.xlabel('Predicted label')\n",
        "plt.show()"
      ],
      "execution_count": 0,
      "outputs": [
        {
          "output_type": "display_data",
          "data": {
            "image/png": "[encoded data removed]",
            "text/plain": [
              "<Figure size 432x288 with 2 Axes>"
            ]
          },
          "metadata": {
            "tags": []
          }
        }
      ]
    },
    {
      "cell_type": "markdown",
      "metadata": {
        "id": "zpVf_t1bUJxO",
        "colab_type": "text"
      },
      "source": [
        "**Classification Report:**"
      ]
    },
    {
      "cell_type": "code",
      "metadata": {
        "id": "ohbQ6oDg4Jg6",
        "colab_type": "code",
        "outputId": "ca7d391f-5e66-47b2-dc49-3bed3fd07939",
        "colab": {
          "base_uri": "https://localhost:8080/",
          "height": 221
        }
      },
      "source": [
        "print(classification_report(y_test_1.argmax(axis=1), y_pred_1))"
      ],
      "execution_count": 0,
      "outputs": [
        {
          "output_type": "stream",
          "text": [
            "              precision    recall  f1-score   support\n",
            "\n",
            "           0       0.89      0.84      0.86      1000\n",
            "           1       0.93      0.95      0.94      1000\n",
            "           2       0.82      0.74      0.78      1000\n",
            "           3       0.76      0.81      0.78      1000\n",
            "           4       0.79      0.84      0.81      1000\n",
            "\n",
            "    accuracy                           0.84      5000\n",
            "   macro avg       0.84      0.84      0.84      5000\n",
            "weighted avg       0.84      0.84      0.84      5000\n",
            "\n"
          ],
          "name": "stdout"
        }
      ]
    },
    {
      "cell_type": "markdown",
      "metadata": {
        "id": "HqrTnBG4vT8v",
        "colab_type": "text"
      },
      "source": [
        "### **Inference:**\n",
        "\n",
        "- Overall accuracy of the model on the test data is 83.52%\n",
        "- As seen in confusion matrix and classification report, Class 1 has been precicted correctly most often, follwed by Class 0"
      ]
    },
    {
      "cell_type": "markdown",
      "metadata": {
        "id": "woTfNst_ynRG",
        "colab_type": "text"
      },
      "source": [
        "### 4. In the model which was built above (for classification of classes 0-4 in CIFAR10), make only the dense layers to be trainable and conv layers to be non-trainable"
      ]
    },
    {
      "cell_type": "code",
      "metadata": {
        "id": "o_VCDB3Byb1a",
        "colab_type": "code",
        "outputId": "d6fb24bb-5056-4b56-d4db-44ed1c721965",
        "colab": {
          "base_uri": "https://localhost:8080/",
          "height": 68
        }
      },
      "source": [
        "for layer in final_model.layers:\n",
        "    if (layer.name == 'Conv_layer1' or layer.name == 'Conv_layer2' or layer.name == 'Conv_layer3'):\n",
        "        print(layer.name)\n",
        "        layer.trainable = False"
      ],
      "execution_count": 0,
      "outputs": [
        {
          "output_type": "stream",
          "text": [
            "Conv_layer1\n",
            "Conv_layer2\n",
            "Conv_layer3\n"
          ],
          "name": "stdout"
        }
      ]
    },
    {
      "cell_type": "markdown",
      "metadata": {
        "id": "1-uUPqWpyeyX",
        "colab_type": "text"
      },
      "source": [
        "### 5. Utilize the the model trained on CIFAR 10 (classes 0 to 4) to classify the classes 5 to 9 of CIFAR 10  (Use Transfer Learning) <br>\n",
        "Achieve an accuracy of more than 85% on test data"
      ]
    },
    {
      "cell_type": "code",
      "metadata": {
        "colab_type": "code",
        "outputId": "192a3b9e-7482-42ff-be7a-071e4e3269bd",
        "id": "M2izq5hjOo8u",
        "colab": {
          "base_uri": "https://localhost:8080/",
          "height": 731
        }
      },
      "source": [
        "final_model.fit(X_train_2, y_train_2, validation_data=(X_test_2, y_test_2), epochs=20, batch_size=128)"
      ],
      "execution_count": 0,
      "outputs": [
        {
          "output_type": "stream",
          "text": [
            "Train on 25000 samples, validate on 5000 samples\n",
            "Epoch 1/20\n",
            "25000/25000 [==============================] - 37s 1ms/sample - loss: 0.8317 - accuracy: 0.7501 - val_loss: 0.4630 - val_accuracy: 0.8278\n",
            "Epoch 2/20\n",
            "25000/25000 [==============================] - 38s 2ms/sample - loss: 0.4215 - accuracy: 0.8470 - val_loss: 0.4446 - val_accuracy: 0.8278\n",
            "Epoch 3/20\n",
            "25000/25000 [==============================] - 36s 1ms/sample - loss: 0.3555 - accuracy: 0.8702 - val_loss: 0.4507 - val_accuracy: 0.8306\n",
            "Epoch 4/20\n",
            "25000/25000 [==============================] - 36s 1ms/sample - loss: 0.3148 - accuracy: 0.8852 - val_loss: 0.3165 - val_accuracy: 0.8818\n",
            "Epoch 5/20\n",
            "25000/25000 [==============================] - 36s 1ms/sample - loss: 0.2778 - accuracy: 0.8986 - val_loss: 0.3297 - val_accuracy: 0.8790\n",
            "Epoch 6/20\n",
            "25000/25000 [==============================] - 37s 1ms/sample - loss: 0.2482 - accuracy: 0.9099 - val_loss: 0.3341 - val_accuracy: 0.8782\n",
            "Epoch 7/20\n",
            "25000/25000 [==============================] - 37s 1ms/sample - loss: 0.2265 - accuracy: 0.9168 - val_loss: 0.3999 - val_accuracy: 0.8590\n",
            "Epoch 8/20\n",
            "25000/25000 [==============================] - 37s 1ms/sample - loss: 0.2122 - accuracy: 0.9235 - val_loss: 0.2989 - val_accuracy: 0.8962\n",
            "Epoch 9/20\n",
            "25000/25000 [==============================] - 37s 1ms/sample - loss: 0.1927 - accuracy: 0.9283 - val_loss: 0.2945 - val_accuracy: 0.8936\n",
            "Epoch 10/20\n",
            "25000/25000 [==============================] - 37s 1ms/sample - loss: 0.1739 - accuracy: 0.9371 - val_loss: 0.4521 - val_accuracy: 0.8498\n",
            "Epoch 11/20\n",
            "25000/25000 [==============================] - 36s 1ms/sample - loss: 0.1619 - accuracy: 0.9411 - val_loss: 0.3701 - val_accuracy: 0.8726\n",
            "Epoch 12/20\n",
            "25000/25000 [==============================] - 36s 1ms/sample - loss: 0.1546 - accuracy: 0.9424 - val_loss: 0.4801 - val_accuracy: 0.8568\n",
            "Epoch 13/20\n",
            "25000/25000 [==============================] - 36s 1ms/sample - loss: 0.1468 - accuracy: 0.9464 - val_loss: 0.2740 - val_accuracy: 0.9088\n",
            "Epoch 14/20\n",
            "25000/25000 [==============================] - 36s 1ms/sample - loss: 0.1333 - accuracy: 0.9525 - val_loss: 0.3157 - val_accuracy: 0.8940\n",
            "Epoch 15/20\n",
            "25000/25000 [==============================] - 36s 1ms/sample - loss: 0.1329 - accuracy: 0.9521 - val_loss: 0.5453 - val_accuracy: 0.8314\n",
            "Epoch 16/20\n",
            "25000/25000 [==============================] - 36s 1ms/sample - loss: 0.1246 - accuracy: 0.9547 - val_loss: 0.2935 - val_accuracy: 0.9010\n",
            "Epoch 17/20\n",
            "25000/25000 [==============================] - 36s 1ms/sample - loss: 0.1173 - accuracy: 0.9571 - val_loss: 0.3349 - val_accuracy: 0.8944\n",
            "Epoch 18/20\n",
            "25000/25000 [==============================] - 36s 1ms/sample - loss: 0.1091 - accuracy: 0.9610 - val_loss: 0.3170 - val_accuracy: 0.9016\n",
            "Epoch 19/20\n",
            "25000/25000 [==============================] - 36s 1ms/sample - loss: 0.1015 - accuracy: 0.9636 - val_loss: 0.3617 - val_accuracy: 0.8920\n",
            "Epoch 20/20\n",
            "25000/25000 [==============================] - 36s 1ms/sample - loss: 0.1002 - accuracy: 0.9636 - val_loss: 0.3198 - val_accuracy: 0.9000\n"
          ],
          "name": "stdout"
        },
        {
          "output_type": "execute_result",
          "data": {
            "text/plain": [
              "<tensorflow.python.keras.callbacks.History at 0x7f76d8651ba8>"
            ]
          },
          "metadata": {
            "tags": []
          },
          "execution_count": 27
        }
      ]
    },
    {
      "cell_type": "markdown",
      "metadata": {
        "id": "mIzDWjQHUgq4",
        "colab_type": "text"
      },
      "source": [
        "**Model Summary:**"
      ]
    },
    {
      "cell_type": "code",
      "metadata": {
        "id": "JbLMYXX1QchD",
        "colab_type": "code",
        "outputId": "762eb3f9-712c-46a7-b4ab-104ba3325b63",
        "colab": {
          "base_uri": "https://localhost:8080/",
          "height": 748
        }
      },
      "source": [
        "final_model.summary()"
      ],
      "execution_count": 0,
      "outputs": [
        {
          "output_type": "stream",
          "text": [
            "Model: \"sequential\"\n",
            "_________________________________________________________________\n",
            "Layer (type)                 Output Shape              Param #   \n",
            "=================================================================\n",
            "Conv_layer1 (Conv2D)         (None, 30, 30, 32)        896       \n",
            "_________________________________________________________________\n",
            "max_pooling2d (MaxPooling2D) (None, 15, 15, 32)        0         \n",
            "_________________________________________________________________\n",
            "dropout (Dropout)            (None, 15, 15, 32)        0         \n",
            "_________________________________________________________________\n",
            "batch_normalization (BatchNo (None, 15, 15, 32)        128       \n",
            "_________________________________________________________________\n",
            "Conv_layer2 (Conv2D)         (None, 13, 13, 64)        18496     \n",
            "_________________________________________________________________\n",
            "max_pooling2d_1 (MaxPooling2 (None, 6, 6, 64)          0         \n",
            "_________________________________________________________________\n",
            "dropout_1 (Dropout)          (None, 6, 6, 64)          0         \n",
            "_________________________________________________________________\n",
            "batch_normalization_1 (Batch (None, 6, 6, 64)          256       \n",
            "_________________________________________________________________\n",
            "Conv_layer3 (Conv2D)         (None, 4, 4, 128)         73856     \n",
            "_________________________________________________________________\n",
            "max_pooling2d_2 (MaxPooling2 (None, 2, 2, 128)         0         \n",
            "_________________________________________________________________\n",
            "dropout_2 (Dropout)          (None, 2, 2, 128)         0         \n",
            "_________________________________________________________________\n",
            "batch_normalization_2 (Batch (None, 2, 2, 128)         512       \n",
            "_________________________________________________________________\n",
            "flatten (Flatten)            (None, 512)               0         \n",
            "_________________________________________________________________\n",
            "Dense_layer (Dense)          (None, 128)               65664     \n",
            "_________________________________________________________________\n",
            "batch_normalization_3 (Batch (None, 128)               512       \n",
            "_________________________________________________________________\n",
            "dropout_3 (Dropout)          (None, 128)               0         \n",
            "_________________________________________________________________\n",
            "Output (Dense)               (None, 5)                 645       \n",
            "=================================================================\n",
            "WARNING:tensorflow:Discrepancy between trainable weights and collected trainable weights, did you set `model.trainable` without calling `model.compile` after ?\n",
            "Total params: 254,213\n",
            "Trainable params: 160,261\n",
            "Non-trainable params: 93,952\n",
            "_________________________________________________________________\n"
          ],
          "name": "stdout"
        }
      ]
    },
    {
      "cell_type": "markdown",
      "metadata": {
        "id": "-hC1t72dUoik",
        "colab_type": "text"
      },
      "source": [
        "**Accuracy on Class II data:**"
      ]
    },
    {
      "cell_type": "code",
      "metadata": {
        "id": "LKw174A9QdLO",
        "colab_type": "code",
        "outputId": "5025802a-3edf-4d98-f1d3-86dca9a8adfd",
        "colab": {
          "base_uri": "https://localhost:8080/",
          "height": 34
        }
      },
      "source": [
        "final_score = final_model.evaluate(X_test_2, y_test_2, verbose=0)\n",
        "print(\"Accuracy: %.2f%%\" % (final_score[1]*100))"
      ],
      "execution_count": 0,
      "outputs": [
        {
          "output_type": "stream",
          "text": [
            "Accuracy: 90.00%\n"
          ],
          "name": "stdout"
        }
      ]
    },
    {
      "cell_type": "markdown",
      "metadata": {
        "id": "b-y-Zo7dUq6v",
        "colab_type": "text"
      },
      "source": [
        "**Confusion matrix:**"
      ]
    },
    {
      "cell_type": "code",
      "metadata": {
        "id": "6G8m2e1W3eI4",
        "colab_type": "code",
        "outputId": "834a5462-f160-4b1a-b0da-4037b861513e",
        "colab": {
          "base_uri": "https://localhost:8080/",
          "height": 295
        }
      },
      "source": [
        "y_pred_2 = final_model.predict_classes(X_test_2)\n",
        "\n",
        "cm2 = confusion_matrix(y_test_2.argmax(axis=1), y_pred_2)\n",
        "\n",
        "plt.figure(figsize=(6,4))\n",
        "sns.heatmap(pd.DataFrame(cm2), annot=True, annot_kws={\"fontsize\":12.5}, cmap='Oranges', fmt='d')\n",
        "plt.title('Confusion matrix')\n",
        "plt.ylabel('True label')\n",
        "plt.xlabel('Predicted label')\n",
        "plt.show()"
      ],
      "execution_count": 0,
      "outputs": [
        {
          "output_type": "display_data",
          "data": {
            "image/png": "[encoded data removed]",
            "text/plain": [
              "<Figure size 432x288 with 2 Axes>"
            ]
          },
          "metadata": {
            "tags": []
          }
        }
      ]
    },
    {
      "cell_type": "markdown",
      "metadata": {
        "id": "Ztjp53BFUuvO",
        "colab_type": "text"
      },
      "source": [
        "**Classification report:**"
      ]
    },
    {
      "cell_type": "code",
      "metadata": {
        "id": "0O0jXS1w4O8d",
        "colab_type": "code",
        "outputId": "2b6e7ca2-f5ad-41d1-999a-ecc8b512680a",
        "colab": {
          "base_uri": "https://localhost:8080/",
          "height": 221
        }
      },
      "source": [
        "print(classification_report(y_test_2.argmax(axis=1), y_pred_2))"
      ],
      "execution_count": 0,
      "outputs": [
        {
          "output_type": "stream",
          "text": [
            "              precision    recall  f1-score   support\n",
            "\n",
            "           0       0.91      0.80      0.85      1000\n",
            "           1       0.90      0.95      0.92      1000\n",
            "           2       0.89      0.89      0.89      1000\n",
            "           3       0.89      0.95      0.92      1000\n",
            "           4       0.92      0.92      0.92      1000\n",
            "\n",
            "    accuracy                           0.90      5000\n",
            "   macro avg       0.90      0.90      0.90      5000\n",
            "weighted avg       0.90      0.90      0.90      5000\n",
            "\n"
          ],
          "name": "stdout"
        }
      ]
    },
    {
      "cell_type": "markdown",
      "metadata": {
        "id": "pB_DWIHLv3T5",
        "colab_type": "text"
      },
      "source": [
        "### **Inference:**\n",
        "\n",
        "- Overall accuracy of the model has increased after bringing in transfer learning. Accuracy on the test data is 90%\n",
        "- As seen in confusion matrix and classification report, Class 1, 3 & 4 have been precicted correctly most often, follwed by Class 2 & 0"
      ]
    },
    {
      "cell_type": "markdown",
      "metadata": {
        "id": "0zDuRecXzEtr",
        "colab_type": "text"
      },
      "source": [
        "# Text classification using TF-IDF"
      ]
    },
    {
      "cell_type": "markdown",
      "metadata": {
        "id": "xMPlEJhHzb6P",
        "colab_type": "text"
      },
      "source": [
        "### 6. Load the dataset from sklearn.datasets"
      ]
    },
    {
      "cell_type": "code",
      "metadata": {
        "id": "Fe-B59u3zHNb",
        "colab_type": "code",
        "colab": {}
      },
      "source": [
        "from sklearn.datasets import fetch_20newsgroups"
      ],
      "execution_count": 0,
      "outputs": []
    },
    {
      "cell_type": "code",
      "metadata": {
        "id": "PRrMemVQzbHU",
        "colab_type": "code",
        "colab": {}
      },
      "source": [
        "categories = ['alt.atheism', 'soc.religion.christian', 'comp.graphics', 'sci.med']"
      ],
      "execution_count": 0,
      "outputs": []
    },
    {
      "cell_type": "markdown",
      "metadata": {
        "id": "-sZX0UbJzmg5",
        "colab_type": "text"
      },
      "source": [
        "### 7. Training data"
      ]
    },
    {
      "cell_type": "code",
      "metadata": {
        "id": "CITr_5aXziJ2",
        "colab_type": "code",
        "colab": {}
      },
      "source": [
        "twenty_train = fetch_20newsgroups(subset='train', categories=categories, shuffle=True, random_state=42)"
      ],
      "execution_count": 0,
      "outputs": []
    },
    {
      "cell_type": "code",
      "metadata": {
        "id": "jeP6M_gRTQje",
        "colab_type": "code",
        "outputId": "8bf0ced0-4cbd-43d8-e102-588f34fe8aff",
        "colab": {
          "base_uri": "https://localhost:8080/",
          "height": 34
        }
      },
      "source": [
        "# Check type of data:\n",
        "type(twenty_train)"
      ],
      "execution_count": 0,
      "outputs": [
        {
          "output_type": "execute_result",
          "data": {
            "text/plain": [
              "sklearn.utils.Bunch"
            ]
          },
          "metadata": {
            "tags": []
          },
          "execution_count": 35
        }
      ]
    },
    {
      "cell_type": "code",
      "metadata": {
        "id": "kRC-tIyYXdgq",
        "colab_type": "code",
        "outputId": "170755f7-72a3-4ce8-fb3e-e985de71219f",
        "colab": {
          "base_uri": "https://localhost:8080/",
          "height": 34
        }
      },
      "source": [
        "# Check the keys in data:\n",
        "twenty_train.keys()"
      ],
      "execution_count": 0,
      "outputs": [
        {
          "output_type": "execute_result",
          "data": {
            "text/plain": [
              "dict_keys(['data', 'filenames', 'target_names', 'target', 'DESCR'])"
            ]
          },
          "metadata": {
            "tags": []
          },
          "execution_count": 36
        }
      ]
    },
    {
      "cell_type": "markdown",
      "metadata": {
        "id": "Xp-L1dcYU9aO",
        "colab_type": "text"
      },
      "source": [
        "As seen, we have the below parts in the data:\n",
        "*   data\n",
        "*   filenames\n",
        "*   target_names\n",
        "*   target\n",
        "*   DESCR\n",
        "\n",
        "\n",
        "\n",
        "\n"
      ]
    },
    {
      "cell_type": "code",
      "metadata": {
        "id": "5mhkbGEIXk6c",
        "colab_type": "code",
        "outputId": "4cb5985d-57bc-4954-d784-3d4c18250140",
        "colab": {
          "base_uri": "https://localhost:8080/",
          "height": 34
        }
      },
      "source": [
        "# Check length of train data:\n",
        "len(twenty_train['data'])"
      ],
      "execution_count": 0,
      "outputs": [
        {
          "output_type": "execute_result",
          "data": {
            "text/plain": [
              "2257"
            ]
          },
          "metadata": {
            "tags": []
          },
          "execution_count": 37
        }
      ]
    },
    {
      "cell_type": "code",
      "metadata": {
        "id": "MY4qxsB1T-hF",
        "colab_type": "code",
        "outputId": "20acc864-c1f9-47f0-a6f3-f7a0b516ebdb",
        "colab": {
          "base_uri": "https://localhost:8080/",
          "height": 207
        }
      },
      "source": [
        "# Let's check what's the data:\n",
        "twenty_train.data[0:10]"
      ],
      "execution_count": 0,
      "outputs": [
        {
          "output_type": "execute_result",
          "data": {
            "text/plain": [
              "['From: sd345@city.ac.uk (Michael Collier)\\nSubject: Converting images to HP LaserJet III?\\nNntp-Posting-Host: hampton\\nOrganization: The City University\\nLines: 14\\n\\nDoes anyone know of a good way (standard PC application/PD utility) to\\nconvert tif/img/tga files into LaserJet III format.  We would also like to\\ndo the same, converting to HPGL (HP plotter) files.\\n\\nPlease email any response.\\n\\nIs this the correct group?\\n\\nThanks in advance.  Michael.\\n-- \\nMichael Collier (Programmer)                 The Computer Unit,\\nEmail: M.P.Collier@uk.ac.city                The City University,\\nTel: 071 477-8000 x3769                      London,\\nFax: 071 477-8565                            EC1V 0HB.\\n',\n",
              " \"From: ani@ms.uky.edu (Aniruddha B. Deglurkar)\\nSubject: help: Splitting a trimming region along a mesh \\nOrganization: University Of Kentucky, Dept. of Math Sciences\\nLines: 28\\n\\n\\n\\n\\tHi,\\n\\n\\tI have a problem, I hope some of the 'gurus' can help me solve.\\n\\n\\tBackground of the problem:\\n\\tI have a rectangular mesh in the uv domain, i.e  the mesh is a \\n\\tmapping of a 3d Bezier patch into 2d. The area in this domain\\n\\twhich is inside a trimming loop had to be rendered. The trimming\\n\\tloop is a set of 2d Bezier curve segments.\\n\\tFor the sake of notation: the mesh is made up of cells.\\n\\n\\tMy problem is this :\\n\\tThe trimming area has to be split up into individual smaller\\n\\tcells bounded by the trimming curve segments. If a cell\\n\\tis wholly inside the area...then it is output as a whole ,\\n\\telse it is trivially rejected. \\n\\n\\tDoes any body know how thiss can be done, or is there any algo. \\n\\tsomewhere for doing this.\\n\\n\\tAny help would be appreciated.\\n\\n\\tThanks, \\n\\tAni.\\n-- \\nTo get irritated is human, to stay cool, divine.\\n\",\n",
              " \"From: djohnson@cs.ucsd.edu (Darin Johnson)\\nSubject: Re: harrassed at work, could use some prayers\\nOrganization: =CSE Dept., U.C. San Diego\\nLines: 63\\n\\n(Well, I'll email also, but this may apply to other people, so\\nI'll post also.)\\n\\n>I've been working at this company for eight years in various\\n>engineering jobs.  I'm female.  Yesterday I counted and realized that\\n>on seven different occasions I've been sexually harrassed at this\\n>company.\\n\\n>I dreaded coming back to work today.  What if my boss comes in to ask\\n>me some kind of question...\\n\\nYour boss should be the person bring these problems to.  If he/she\\ndoes not seem to take any action, keep going up higher and higher.\\nSexual harrassment does not need to be tolerated, and it can be an\\nenormous emotional support to discuss this with someone and know that\\nthey are trying to do something about it.  If you feel you can not\\ndiscuss this with your boss, perhaps your company has a personnel\\ndepartment that can work for you while preserving your privacy.  Most\\ncompanies will want to deal with this problem because constant anxiety\\ndoes seriously affect how effectively employees do their jobs.\\n\\nIt is unclear from your letter if you have done this or not.  It is\\nnot inconceivable that management remains ignorant of employee\\nproblems/strife even after eight years (it's a miracle if they do\\nnotice).  Perhaps your manager did not bring to the attention of\\nhigher ups?  If the company indeed does seem to want to ignore the\\nentire problem, there may be a state agency willing to fight with\\nyou.  (check with a lawyer, a women's resource center, etc to find out)\\n\\nYou may also want to discuss this with your paster, priest, husband,\\netc.  That is, someone you know will not be judgemental and that is\\nsupportive, comforting, etc.  This will bring a lot of healing.\\n\\n>So I returned at 11:25, only to find that ever single\\n>person had already left for lunch.  They left at 11:15 or so.  No one\\n>could be bothered to call me at the other building, even though my\\n>number was posted.\\n\\nThis happens to a lot of people.  Honest.  I believe it may seem\\nto be due to gross insensitivity because of the feelings you are\\ngoing through.  People in offices tend to be more insensitive while\\nworking than they normally are (maybe it's the hustle or stress or...)\\nI've had this happen to me a lot, often because they didn't realize\\nmy car was broken, etc.  Then they will come back and wonder why I\\ndidn't want to go (this would tend to make me stop being angry at\\nbeing ignored and make me laugh).  Once, we went off without our\\nboss, who was paying for the lunch :-)\\n\\n>For this\\n>reason I hope good Mr. Moderator allows me this latest indulgence.\\n\\nWell, if you can't turn to the computer for support, what would\\nwe do?  (signs of the computer age :-)\\n\\nIn closing, please don't let the hateful actions of a single person\\nharm you.  They are doing it because they are still the playground\\nbully and enjoy seeing the hurt they cause.  And you should not\\naccept the opinions of an imbecile that you are worthless - much\\nwiser people hold you in great esteem.\\n-- \\nDarin Johnson\\ndjohnson@ucsd.edu\\n  - Luxury!  In MY day, we had to make do with 5 bytes of swap...\\n\",\n",
              " 'From: s0612596@let.rug.nl (M.M. Zwart)\\nSubject: catholic church poland\\nOrganization: Faculteit der Letteren, Rijksuniversiteit Groningen, NL\\nLines: 10\\n\\nHello,\\n\\nI\\'m writing a paper on the role of the catholic church in Poland after 1989. \\nCan anyone tell me more about this, or fill me in on recent books/articles(\\nin english, german or french). Most important for me is the role of the \\nchurch concerning the abortion-law, religious education at schools,\\nbirth-control and the relation church-state(government). Thanx,\\n\\n                                                 Masja,\\n\"M.M.Zwart\"<s0612596@let.rug.nl>\\n',\n",
              " 'From: stanly@grok11.columbiasc.ncr.com (stanly)\\nSubject: Re: Elder Brother\\nOrganization: NCR Corp., Columbia SC\\nLines: 15\\n\\nIn article <Apr.8.00.57.41.1993.28246@athos.rutgers.edu> REXLEX@fnal.gov writes:\\n>In article <Apr.7.01.56.56.1993.22824@athos.rutgers.edu> shrum@hpfcso.fc.hp.com\\n>Matt. 22:9-14 \\'Go therefore to the main highways, and as many as you find\\n>there, invite to the wedding feast.\\'...\\n\\n>hmmmmmm.  Sounds like your theology and Christ\\'s are at odds. Which one am I \\n>to believe?\\n\\nIn this parable, Jesus tells the parable of the wedding feast. \"The kingdom\\nof heaven is like unto a certain king which made a marriage for his son\".\\nSo the wedding clothes were customary,  and \"given\" to those who \"chose\" to\\nattend.  This man \"refused\" to wear the clothes.  The wedding clothes are\\nequalivant to the \"clothes of righteousness\".  When Jesus died for our sins,\\nthose \"clothes\" were then provided.  Like that man, it is our decision to\\nput the clothes on.\\n',\n",
              " 'From: vbv@lor.eeap.cwru.edu (Virgilio (Dean) B. Velasco Jr.)\\nSubject: Re: The arrogance of Christians\\nOrganization: Case Western Reserve Univ. Cleveland, Ohio (USA)\\nLines: 28\\n\\nIn article <Apr.22.00.56.15.1993.2073@geneva.rutgers.edu> hayesstw@risc1.unisa.ac.za (Steve Hayes) writes:\\n\\n>A similar analogy might be a medical doctor who believes that a blood \\n>transfusion is necessary to save the life of a child whose parents are \\n>Jehovah\\'s Witnesses and so have conscientious objections to blood \\n>transfusion. The doctor\\'s efforts to persuade them to agree to a blood \\n>transfusion could be perceived to be arrogant in precisely the same way as \\n>Christians could be perceived to be arrogant.\\n\\n>The truth or otherwise of the belief that a blood transfusion is necessary \\n>to save the life of the child is irrelevant here. What matters is that the \\n>doctor BELIEVES it to be true, and could be seen to be trying to foce his \\n>beliefs on the parents, and this could well be perceived as arrogance.\\n\\nLet me carry that a step further.  Most doctors would not claim to be \\ninfallible.  Indeed, they would generally admit that they could conceivably\\nbe wrong, e.g. that in this case, a blood tranfusion might not turn out to \\nbe necessary after all.  However, the doctors would have enough confidence\\nand conviction to claim, out of genuine concern, that is IS necessary.  As\\nfallible human beings, they must acknowledge the possibility that they are\\nwrong.  However, they would also say that such doubts are not reasonable,\\nand stand by their convictions.\\n\\n-- \\nVirgilio \"Dean\" Velasco Jr, Department of Electrical Eng\\'g and Applied Physics \\n\\t CWRU graduate student, roboticist-in-training and Q wannabee\\n    \"Bullwinkle, that man\\'s intimidating a referee!\"   |    My boss is a \\n   \"Not very well.  He doesn\\'t look like one at all!\"  |  Jewish carpenter.\\n',\n",
              " \"From: jodfishe@silver.ucs.indiana.edu (joseph dale fisher)\\nSubject: Re: anger\\nOrganization: Indiana University\\nLines: 34\\n\\nIn article <Apr.17.01.10.44.1993.2232@geneva.rutgers.edu> news@cbnewsk.att.com writes:\\n>>Paul Conditt writes:\\n[insert deletion of Paul's and Aaron's discourse on anger, ref Galatians\\n5:19-20]\\n>\\n>I don't know why it is so obvious.  We are not speaking of acts of the \\n>flesh.  We are just speaking of emotions.  Emotions are not of themselves\\n>moral or immoral, good or bad.  Emotions just are.  The first step is\\n>not to label his emotion as good or bad or to numb ourselves so that\\n>we hide our true feelings, it is to accept ourselves as we are, as God\\n>accepts us.  \\n\\nOh, but they definitely can be.  Please look at Colossians 3:5-10 and\\nEphesians 4:25-27.  Emotions can be controlled and God puts very strong\\nemphasis on self-control, otherwise, why would he have Paul write to\\nTimothy so much about making sure to teach self-control? \\n\\n[insert deletion of remainder of paragraph]\\n\\n>\\n>Re-think it, Aaron.  Don't be quick to judge.  He has forgiven those with\\n>AIDS, he has dealt with and taken responsibility for his feelings and made\\n>appropriate choices for action on such feelings.  He has not given in to\\n>his anger.\\n\\nPlease, re-think and re-read for yourself, Joe.  Again, the issue is\\nself-control especially over feelings and actions, for our actions stem\\nfrom our feelings in many instances.  As for God giving in to his anger,\\nthat comes very soon.\\n\\n>\\n>Joe Moore\\n\\nJoe Fisher\\n\",\n",
              " \"From: aldridge@netcom.com (Jacquelin Aldridge)\\nSubject: Re: Teenage acne\\nOrganization: NETCOM On-line Communication Services (408 241-9760 guest)\\nLines: 57\\n\\npchurch@swell.actrix.gen.nz (Pat Churchill) writes:\\n\\n\\n>My 14-y-o son has the usual teenage spotty chin and greasy nose.  I\\n>bought him Clearasil face wash and ointment.  I think that is probably\\n>enough, along with the usual good diet.  However, he is on at me to\\n>get some product called Dalacin T, which used to be a\\n>doctor's-prescription only treatment but is not available over the\\n>chemist's counter.  I have asked a couple of pharmacists who say\\n>either his acne is not severe enough for Dalacin T, or that Clearasil\\n>is OK.  I had the odd spots as a teenager, nothing serious.  His\\n>father was the same, so I don't figure his acne is going to escalate\\n>into something disfiguring.  But I know kids are senstitive about\\n>their appearance.  I am wary because a neighbour's son had this wierd\\n>malady that was eventually put down to an overdose of vitamin A from\\n>acne treatment.  I want to help - but with appropriate treatment.\\n\\n>My son also has some scaliness around the hairline on his scalp.  Sort\\n>of teenage cradle cap.  Any pointers/advice on this?  We have tried a\\n>couple of anti dandruff shampoos and some of these are inclined to\\n>make the condition worse, not better.\\n\\n>Shall I bury the kid till he's 21 :)\\n\\n:) No...I was one of the lucky ones. Very little acne as a teenager. I\\ndidn't have any luck with clearasil. Even though my skin gets oily it\\nreally only gets miserable pimples when it's dry. \\n\\nFrequent lukewarm water rinses on the face might help. Getting the scalp\\nthing under control might help (that could be as simple as submerging under\\nthe bathwater till it's softened and washing it out). Taking a one a day\\nvitamin/mineral might help. I've heard iodine causes trouble and that it  \\nis used in fast food restaurants to sterilize equipment which might be\\nwhere the belief that greasy foods cause acne came from. I notice grease \\non my face, not immediately removed will cause acne (even from eating\\nmeat).\\n\\nKeeping hair rinse, mousse, dip, and spray off the face will help. Warm\\nwater bath soaks or cloths on the face to soften the oil in the pores will\\nhelp prevent blackheads. Body oil is hydrophilic, loves water and it\\nsoftens and washes off when it has a chance. That's why hair goes limp with\\noilyness. \\n\\nBecoming convinced that the best thing to do with\\na whitehead is leave it alone will save him days of pimple misery. Any\\nprying of black or whiteheads can cause infections, the red spots of\\npimples. Usually a whitehead will break naturally in a day and there won't\\nbe an infection afterwards.\\n\\nTell him that it's normal to have some pimples but the cosmetic industry\\nmakes it's money off of selling people on the idea that they are an\\nincredible defect to be hidden at any cost (even that of causing more pimples). \\n\\n\\n-Jackie-\\n\\n\\n\",\n",
              " 'From: geb@cs.pitt.edu (Gordon Banks)\\nSubject: Re: Blindsight\\nReply-To: geb@cs.pitt.edu (Gordon Banks)\\nOrganization: Univ. of Pittsburgh Computer Science\\nLines: 18\\n\\nIn article <werner-240393161954@tol7mac15.soe.berkeley.edu> werner@soe.berkeley.edu (John Werner) writes:\\n>In article <19213@pitt.UUCP>, geb@cs.pitt.edu (Gordon Banks) wrote:\\n>> \\n>> Explain.  I thought there were 3 types of cones, equivalent to RGB.\\n>\\n>You\\'re basically right, but I think there are just 2 types.  One is\\n>sensitive to red and green, and the other is sensitive to blue and yellow. \\n>This is why the two most common kinds of color-blindness are red-green and\\n>blue-yellow.\\n>\\n\\nYes, I remember that now.  Well, in that case, the cones are indeed\\ncolor sensitive, contrary to what the original respondent had claimed.\\n-- \\n----------------------------------------------------------------------------\\nGordon Banks  N3JXP      | \"Skepticism is the chastity of the intellect, and\\ngeb@cadre.dsl.pitt.edu   |  it is shameful to surrender it too soon.\" \\n----------------------------------------------------------------------------\\n',\n",
              " 'From: libman@hsc.usc.edu (Marlena Libman)\\nSubject: Need advice with doctor-patient relationship problem\\nOrganization: University of Southern California, Los Angeles, CA\\nLines: 64\\nNNTP-Posting-Host: hsc.usc.edu\\n\\nI need advice with a situation which occurred between me and a physican\\nwhich upset me.  I saw this doctor for a problem with recurring pain.\\nHe suggested medication and a course of treatment, and told me that I\\nneed to call him 7 days after I begin the medication so that he may\\nmonitor its effectiveness, as well as my general health.\\n\\nI did exactly as he asked, and made the call (reaching his secretary).\\nI explained to her that I was following up at the doctor\\'s request,\\nand that I was worried because the pain episodes were becoming more\\nfrequent and the medication did not seem effective.\\n\\nThe doctor called me back, and his first words were, \"Whatever you want,\\nyou\\'d better make it quick.  I\\'m very busy and don\\'t have time to chit-\\nchat with you!\"  I told him I was simply following his instructions to\\ncall on the 7th day to status him, and that I was feeling worse.  I \\nthen asked if perhaps there was a better time for us to talk when he\\nhad more time.  He responded, \"Just spit it out now because no time is\\na good time.\"  (Said in a raised voice.)  I started to feel upset and\\ntried to explain quickly what was going on with my condition but my\\nnervousness interfered with my choice of words and I kind of stuttered\\nand then said \"well, never mind\" and he said he\\'ll talk to various\\ncolleagues about other medications and he\\'ll call me some other time.\\n\\nThis doctor called me that evening and said because I didn\\'t express\\nmyself well, he was confused about what I wanted.  At this point I\\nwas pretty upset and I told him (in an amazingly polite voice considering\\nhow angry I felt) that his earlier manner had hurt my feelings.  He told\\nme that he just doesn\\'t have time to \"rap with patients\" and thought\\nthat was what I wanted.  I told him that to assume I was calling to\\n\"rap\" was insulting, and said again that I was just following through\\non his orders.  He responded that he resented the implication that he \\nfelt I was making that he was not interested in learning about what his\\npatients have to say about their condition status.  He then gave me\\nthis apology: \"I am sorry that there was a miscommunication and you\\nmistakenly thought I was insulting.  I am not trying to insult you\\nbut I am not that knowledgeable about pain, and I don\\'t have a lot of\\ntime to deal with that.\"  He then told me to call him the next day\\nfor further instructions on how do deal with my pain and medication.\\n\\nI am still upset and have not yet called.\\n\\nMy questions: (1) Should I continue to have this doctor manage my care?\\n(2) Since I am in pain off and on, I realize that this may cause me to\\nbe more anxietous so am I perhaps over-reacting or overly sensitive?\\nIf this doctor refers me to his colleague who knows more about the type\\nof pain I have, he still wants me to status him on my condition but\\nnow I am afraid to call him.\\n\\n\\t\\t\\t--Marlena\\n\\n\\n\\n\\n\\n\\n\\n\\n\\n\\n\\n\\n\\n\\n\\n']"
            ]
          },
          "metadata": {
            "tags": []
          },
          "execution_count": 38
        }
      ]
    },
    {
      "cell_type": "markdown",
      "metadata": {
        "id": "xcESc5QXzr6p",
        "colab_type": "text"
      },
      "source": [
        "### 8. Test data"
      ]
    },
    {
      "cell_type": "code",
      "metadata": {
        "id": "ysInblUMzpvl",
        "colab_type": "code",
        "colab": {}
      },
      "source": [
        "twenty_test = fetch_20newsgroups(subset='test', categories=categories, shuffle=True, random_state=42)"
      ],
      "execution_count": 0,
      "outputs": []
    },
    {
      "cell_type": "markdown",
      "metadata": {
        "id": "DriL2yZ50DQq",
        "colab_type": "text"
      },
      "source": [
        "###  a.  You can access the values for the target variable using .target attribute \n",
        "###  b. You can access the name of the class in the target variable with .target_names\n"
      ]
    },
    {
      "cell_type": "code",
      "metadata": {
        "id": "vlUuai99z1hX",
        "colab_type": "code",
        "outputId": "e729c037-939f-4be0-dd66-fa819505d56c",
        "colab": {
          "base_uri": "https://localhost:8080/",
          "height": 34
        }
      },
      "source": [
        "# Check what's the target:\n",
        "twenty_train.target"
      ],
      "execution_count": 0,
      "outputs": [
        {
          "output_type": "execute_result",
          "data": {
            "text/plain": [
              "array([1, 1, 3, ..., 2, 2, 2])"
            ]
          },
          "metadata": {
            "tags": []
          },
          "execution_count": 40
        }
      ]
    },
    {
      "cell_type": "code",
      "metadata": {
        "id": "XXBo3G_PYgDd",
        "colab_type": "code",
        "outputId": "78b39162-fad2-4f1b-ac36-de3fe98e41cf",
        "colab": {
          "base_uri": "https://localhost:8080/",
          "height": 34
        }
      },
      "source": [
        "# Check unique classes in target:\n",
        "np.unique(twenty_train.target)"
      ],
      "execution_count": 0,
      "outputs": [
        {
          "output_type": "execute_result",
          "data": {
            "text/plain": [
              "array([0, 1, 2, 3])"
            ]
          },
          "metadata": {
            "tags": []
          },
          "execution_count": 41
        }
      ]
    },
    {
      "cell_type": "code",
      "metadata": {
        "id": "VEKzaDfSz5E-",
        "colab_type": "code",
        "outputId": "98bc61c9-650b-4a8d-ce93-ebd291ba627e",
        "colab": {
          "base_uri": "https://localhost:8080/",
          "height": 34
        }
      },
      "source": [
        "# Check what can be the possible targets:\n",
        "twenty_train.target_names"
      ],
      "execution_count": 0,
      "outputs": [
        {
          "output_type": "execute_result",
          "data": {
            "text/plain": [
              "['alt.atheism', 'comp.graphics', 'sci.med', 'soc.religion.christian']"
            ]
          },
          "metadata": {
            "tags": []
          },
          "execution_count": 42
        }
      ]
    },
    {
      "cell_type": "code",
      "metadata": {
        "id": "clBMKHzC0_N1",
        "colab_type": "code",
        "outputId": "72d53275-179a-4c7c-8191-4e6c14c33c75",
        "colab": {
          "base_uri": "https://localhost:8080/",
          "height": 122
        }
      },
      "source": [
        "twenty_train.data[0:5]"
      ],
      "execution_count": 0,
      "outputs": [
        {
          "output_type": "execute_result",
          "data": {
            "text/plain": [
              "['From: sd345@city.ac.uk (Michael Collier)\\nSubject: Converting images to HP LaserJet III?\\nNntp-Posting-Host: hampton\\nOrganization: The City University\\nLines: 14\\n\\nDoes anyone know of a good way (standard PC application/PD utility) to\\nconvert tif/img/tga files into LaserJet III format.  We would also like to\\ndo the same, converting to HPGL (HP plotter) files.\\n\\nPlease email any response.\\n\\nIs this the correct group?\\n\\nThanks in advance.  Michael.\\n-- \\nMichael Collier (Programmer)                 The Computer Unit,\\nEmail: M.P.Collier@uk.ac.city                The City University,\\nTel: 071 477-8000 x3769                      London,\\nFax: 071 477-8565                            EC1V 0HB.\\n',\n",
              " \"From: ani@ms.uky.edu (Aniruddha B. Deglurkar)\\nSubject: help: Splitting a trimming region along a mesh \\nOrganization: University Of Kentucky, Dept. of Math Sciences\\nLines: 28\\n\\n\\n\\n\\tHi,\\n\\n\\tI have a problem, I hope some of the 'gurus' can help me solve.\\n\\n\\tBackground of the problem:\\n\\tI have a rectangular mesh in the uv domain, i.e  the mesh is a \\n\\tmapping of a 3d Bezier patch into 2d. The area in this domain\\n\\twhich is inside a trimming loop had to be rendered. The trimming\\n\\tloop is a set of 2d Bezier curve segments.\\n\\tFor the sake of notation: the mesh is made up of cells.\\n\\n\\tMy problem is this :\\n\\tThe trimming area has to be split up into individual smaller\\n\\tcells bounded by the trimming curve segments. If a cell\\n\\tis wholly inside the area...then it is output as a whole ,\\n\\telse it is trivially rejected. \\n\\n\\tDoes any body know how thiss can be done, or is there any algo. \\n\\tsomewhere for doing this.\\n\\n\\tAny help would be appreciated.\\n\\n\\tThanks, \\n\\tAni.\\n-- \\nTo get irritated is human, to stay cool, divine.\\n\",\n",
              " \"From: djohnson@cs.ucsd.edu (Darin Johnson)\\nSubject: Re: harrassed at work, could use some prayers\\nOrganization: =CSE Dept., U.C. San Diego\\nLines: 63\\n\\n(Well, I'll email also, but this may apply to other people, so\\nI'll post also.)\\n\\n>I've been working at this company for eight years in various\\n>engineering jobs.  I'm female.  Yesterday I counted and realized that\\n>on seven different occasions I've been sexually harrassed at this\\n>company.\\n\\n>I dreaded coming back to work today.  What if my boss comes in to ask\\n>me some kind of question...\\n\\nYour boss should be the person bring these problems to.  If he/she\\ndoes not seem to take any action, keep going up higher and higher.\\nSexual harrassment does not need to be tolerated, and it can be an\\nenormous emotional support to discuss this with someone and know that\\nthey are trying to do something about it.  If you feel you can not\\ndiscuss this with your boss, perhaps your company has a personnel\\ndepartment that can work for you while preserving your privacy.  Most\\ncompanies will want to deal with this problem because constant anxiety\\ndoes seriously affect how effectively employees do their jobs.\\n\\nIt is unclear from your letter if you have done this or not.  It is\\nnot inconceivable that management remains ignorant of employee\\nproblems/strife even after eight years (it's a miracle if they do\\nnotice).  Perhaps your manager did not bring to the attention of\\nhigher ups?  If the company indeed does seem to want to ignore the\\nentire problem, there may be a state agency willing to fight with\\nyou.  (check with a lawyer, a women's resource center, etc to find out)\\n\\nYou may also want to discuss this with your paster, priest, husband,\\netc.  That is, someone you know will not be judgemental and that is\\nsupportive, comforting, etc.  This will bring a lot of healing.\\n\\n>So I returned at 11:25, only to find that ever single\\n>person had already left for lunch.  They left at 11:15 or so.  No one\\n>could be bothered to call me at the other building, even though my\\n>number was posted.\\n\\nThis happens to a lot of people.  Honest.  I believe it may seem\\nto be due to gross insensitivity because of the feelings you are\\ngoing through.  People in offices tend to be more insensitive while\\nworking than they normally are (maybe it's the hustle or stress or...)\\nI've had this happen to me a lot, often because they didn't realize\\nmy car was broken, etc.  Then they will come back and wonder why I\\ndidn't want to go (this would tend to make me stop being angry at\\nbeing ignored and make me laugh).  Once, we went off without our\\nboss, who was paying for the lunch :-)\\n\\n>For this\\n>reason I hope good Mr. Moderator allows me this latest indulgence.\\n\\nWell, if you can't turn to the computer for support, what would\\nwe do?  (signs of the computer age :-)\\n\\nIn closing, please don't let the hateful actions of a single person\\nharm you.  They are doing it because they are still the playground\\nbully and enjoy seeing the hurt they cause.  And you should not\\naccept the opinions of an imbecile that you are worthless - much\\nwiser people hold you in great esteem.\\n-- \\nDarin Johnson\\ndjohnson@ucsd.edu\\n  - Luxury!  In MY day, we had to make do with 5 bytes of swap...\\n\",\n",
              " 'From: s0612596@let.rug.nl (M.M. Zwart)\\nSubject: catholic church poland\\nOrganization: Faculteit der Letteren, Rijksuniversiteit Groningen, NL\\nLines: 10\\n\\nHello,\\n\\nI\\'m writing a paper on the role of the catholic church in Poland after 1989. \\nCan anyone tell me more about this, or fill me in on recent books/articles(\\nin english, german or french). Most important for me is the role of the \\nchurch concerning the abortion-law, religious education at schools,\\nbirth-control and the relation church-state(government). Thanx,\\n\\n                                                 Masja,\\n\"M.M.Zwart\"<s0612596@let.rug.nl>\\n',\n",
              " 'From: stanly@grok11.columbiasc.ncr.com (stanly)\\nSubject: Re: Elder Brother\\nOrganization: NCR Corp., Columbia SC\\nLines: 15\\n\\nIn article <Apr.8.00.57.41.1993.28246@athos.rutgers.edu> REXLEX@fnal.gov writes:\\n>In article <Apr.7.01.56.56.1993.22824@athos.rutgers.edu> shrum@hpfcso.fc.hp.com\\n>Matt. 22:9-14 \\'Go therefore to the main highways, and as many as you find\\n>there, invite to the wedding feast.\\'...\\n\\n>hmmmmmm.  Sounds like your theology and Christ\\'s are at odds. Which one am I \\n>to believe?\\n\\nIn this parable, Jesus tells the parable of the wedding feast. \"The kingdom\\nof heaven is like unto a certain king which made a marriage for his son\".\\nSo the wedding clothes were customary,  and \"given\" to those who \"chose\" to\\nattend.  This man \"refused\" to wear the clothes.  The wedding clothes are\\nequalivant to the \"clothes of righteousness\".  When Jesus died for our sins,\\nthose \"clothes\" were then provided.  Like that man, it is our decision to\\nput the clothes on.\\n']"
            ]
          },
          "metadata": {
            "tags": []
          },
          "execution_count": 43
        }
      ]
    },
    {
      "cell_type": "markdown",
      "metadata": {
        "id": "hTz4EaN_1WGc",
        "colab_type": "text"
      },
      "source": [
        "### 9.  Now with dependent and independent data available for both train and test datasets, using TfidfVectorizer fit and transform the training data and test data and get the tfidf features for both"
      ]
    },
    {
      "cell_type": "code",
      "metadata": {
        "id": "H5G477f81C0Z",
        "colab_type": "code",
        "colab": {}
      },
      "source": [
        "vect = TfidfVectorizer(stop_words='english')\n",
        "twenty_train_dtm = vect.fit_transform(twenty_train.data)\n",
        "twenty_test_dtm = vect.transform(twenty_test.data)"
      ],
      "execution_count": 0,
      "outputs": []
    },
    {
      "cell_type": "code",
      "metadata": {
        "id": "VYK2-F60Y6Ul",
        "colab_type": "code",
        "outputId": "dea6a5dd-6025-47cd-8beb-6ceb817faf22",
        "colab": {
          "base_uri": "https://localhost:8080/",
          "height": 34
        }
      },
      "source": [
        "# Check train shape:\n",
        "twenty_train_dtm.shape"
      ],
      "execution_count": 0,
      "outputs": [
        {
          "output_type": "execute_result",
          "data": {
            "text/plain": [
              "(2257, 35482)"
            ]
          },
          "metadata": {
            "tags": []
          },
          "execution_count": 45
        }
      ]
    },
    {
      "cell_type": "code",
      "metadata": {
        "id": "LxntdepXY9b9",
        "colab_type": "code",
        "outputId": "6ac886f0-4ade-48d7-bbbe-d824d90c3ead",
        "colab": {
          "base_uri": "https://localhost:8080/",
          "height": 34
        }
      },
      "source": [
        "# Check test shape: \n",
        "twenty_test_dtm.shape"
      ],
      "execution_count": 0,
      "outputs": [
        {
          "output_type": "execute_result",
          "data": {
            "text/plain": [
              "(1502, 35482)"
            ]
          },
          "metadata": {
            "tags": []
          },
          "execution_count": 46
        }
      ]
    },
    {
      "cell_type": "markdown",
      "metadata": {
        "id": "tp_fDINJ1t4L",
        "colab_type": "text"
      },
      "source": [
        "### 10. Use logisticRegression with tfidf features as input and targets as output and train the model and report the train and test accuracy score"
      ]
    },
    {
      "cell_type": "code",
      "metadata": {
        "id": "THlN2b5d1yQp",
        "colab_type": "code",
        "colab": {}
      },
      "source": [
        "# Use logistic regression:\n",
        "logreg = LogisticRegression()"
      ],
      "execution_count": 0,
      "outputs": []
    },
    {
      "cell_type": "code",
      "metadata": {
        "id": "y_tk6CtMWrL2",
        "colab_type": "code",
        "outputId": "43931520-b234-43ca-84e0-5b3307d88eba",
        "colab": {
          "base_uri": "https://localhost:8080/",
          "height": 102
        }
      },
      "source": [
        "# Fit Logistic Regression model:\n",
        "logreg.fit(twenty_train_dtm, twenty_train.target)"
      ],
      "execution_count": 0,
      "outputs": [
        {
          "output_type": "execute_result",
          "data": {
            "text/plain": [
              "LogisticRegression(C=1.0, class_weight=None, dual=False, fit_intercept=True,\n",
              "                   intercept_scaling=1, l1_ratio=None, max_iter=100,\n",
              "                   multi_class='auto', n_jobs=None, penalty='l2',\n",
              "                   random_state=None, solver='lbfgs', tol=0.0001, verbose=0,\n",
              "                   warm_start=False)"
            ]
          },
          "metadata": {
            "tags": []
          },
          "execution_count": 48
        }
      ]
    },
    {
      "cell_type": "code",
      "metadata": {
        "id": "npuSUYfwY26R",
        "colab_type": "code",
        "colab": {}
      },
      "source": [
        "# Predict classes on test_data:\n",
        "y_pred_class_lr = logreg.predict(twenty_test_dtm)"
      ],
      "execution_count": 0,
      "outputs": []
    },
    {
      "cell_type": "code",
      "metadata": {
        "id": "hZ3vD22JY4PF",
        "colab_type": "code",
        "outputId": "3929bdca-7277-4084-99ee-3eece8d200dc",
        "colab": {
          "base_uri": "https://localhost:8080/",
          "height": 34
        }
      },
      "source": [
        "# Print accuracy\n",
        "print(metrics.accuracy_score(twenty_test.target, y_pred_class_lr))"
      ],
      "execution_count": 0,
      "outputs": [
        {
          "output_type": "stream",
          "text": [
            "0.9054593874833555\n"
          ],
          "name": "stdout"
        }
      ]
    },
    {
      "cell_type": "code",
      "metadata": {
        "id": "uDdz8by-4eIN",
        "colab_type": "code",
        "outputId": "ede2b66a-b70c-4dab-c911-517d62ea823c",
        "colab": {
          "base_uri": "https://localhost:8080/",
          "height": 295
        }
      },
      "source": [
        "# Confusion matrix:\n",
        "cm3 = confusion_matrix(twenty_test.target, y_pred_class_lr)\n",
        "\n",
        "plt.figure(figsize=(6,4))\n",
        "sns.heatmap(pd.DataFrame(cm3), annot=True, annot_kws={\"fontsize\":10}, cmap='rocket', fmt='d')\n",
        "plt.title('Confusion matrix')\n",
        "plt.ylabel('True label')\n",
        "plt.xlabel('Predicted label')\n",
        "plt.show()"
      ],
      "execution_count": 0,
      "outputs": [
        {
          "output_type": "display_data",
          "data": {
            "image/png": "[encoded data removed]",
            "text/plain": [
              "<Figure size 432x288 with 2 Axes>"
            ]
          },
          "metadata": {
            "tags": []
          }
        }
      ]
    },
    {
      "cell_type": "markdown",
      "metadata": {
        "id": "vcfKHrlSw6Eh",
        "colab_type": "text"
      },
      "source": [
        "**Classification Report:**"
      ]
    },
    {
      "cell_type": "code",
      "metadata": {
        "id": "mqvx_amgwmKe",
        "colab_type": "code",
        "outputId": "b6c2075b-3818-455a-a528-827dd966ddeb",
        "colab": {
          "base_uri": "https://localhost:8080/",
          "height": 204
        }
      },
      "source": [
        "print(classification_report(twenty_test.target, y_pred_class_lr))"
      ],
      "execution_count": 0,
      "outputs": [
        {
          "output_type": "stream",
          "text": [
            "              precision    recall  f1-score   support\n",
            "\n",
            "           0       0.96      0.76      0.85       319\n",
            "           1       0.87      0.98      0.92       389\n",
            "           2       0.94      0.90      0.92       396\n",
            "           3       0.88      0.95      0.91       398\n",
            "\n",
            "    accuracy                           0.91      1502\n",
            "   macro avg       0.91      0.90      0.90      1502\n",
            "weighted avg       0.91      0.91      0.90      1502\n",
            "\n"
          ],
          "name": "stdout"
        }
      ]
    },
    {
      "cell_type": "markdown",
      "metadata": {
        "id": "vAM6cdhPwS2n",
        "colab_type": "text"
      },
      "source": [
        "### **Inference:**\n",
        "\n",
        "- Overall accuracy of the Logistic regression model on the test data is 90.55%\n",
        "- As seen in confusion matrix and classification report, Class 1 & 2 have been precicted correctly most often, follwed by Class 3 & 0"
      ]
    },
    {
      "cell_type": "markdown",
      "metadata": {
        "id": "mTX5Pyhtw_t5",
        "colab_type": "text"
      },
      "source": [
        "## **Overall Inference:**"
      ]
    },
    {
      "cell_type": "markdown",
      "metadata": {
        "id": "jdhNIEmqywGk",
        "colab_type": "text"
      },
      "source": [
        "**CNN:**\n",
        "- Imported CIFAR10 data\n",
        "- Splitted the data into  datasets - One with data having classes 0 to 4 and the other with classes 5 to 9\n",
        "- After all the data preprocessing, built an CNN model on the first data set with an accuracy of 83.52%\n",
        "- Applied transfer learning concept by making only the dense layers as trainable and used this derived model to predict the data on the second dataset\n",
        "- This time accuracy boosted to 90%\n",
        "\n",
        "**NLP:**\n",
        "- Imported fetch_20newsgroups data\n",
        "- Used TF-Idf vectorizer on the train and test data \n",
        "- Applied logistic regression model on the data with an accuracy of 90.55% on the test data"
      ]
    },
    {
      "cell_type": "markdown",
      "metadata": {
        "id": "4V3BdbqJy2X5",
        "colab_type": "text"
      },
      "source": [
        "### <center> **End of R8_External_Lab** </center>"
      ]
    }
  ]
}