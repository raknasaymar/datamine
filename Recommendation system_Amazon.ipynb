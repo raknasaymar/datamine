{
 "cells": [
  {
   "cell_type": "markdown",
   "metadata": {},
   "source": [
    "## <center> Amazon Product Recommendation </center>"
   ]
  },
  {
   "cell_type": "markdown",
   "metadata": {},
   "source": [
    "**Problem Statement:**\n",
    "\n",
    "Build your own recommendation system for products on an e-commerce website like Amazon.com.\n",
    "\n",
    "**Dataset Link:** <br>\n",
    "https://drive.google.com/file/d/1ClBptsK3V5KgKXtK2GSRzFNAW7GnTPDW/view?usp=sharing\n",
    "    \n",
    "**Dataset columns:** <br>\n",
    "First three columns are userId, productId, and ratings and the fourth column is\n",
    "timestamp. You can discard the timestamp column as in this case you may not need to use it.\n",
    "\n",
    "**Source:** <br>\n",
    "Amazon Reviews data (http://jmcauley.ucsd.edu/data/amazon/) The repository has\n",
    "several datasets. For this case study, we are using the Electronics dataset.\n",
    "\n",
    "**Please do the analysis based on steps (1 to 8) as given below:** <br>\n",
    "\n",
    "Steps -\n",
    "1. Read and explore the given dataset. (Rename column/add headers, plot histograms,\n",
    "find data characteristics)\n",
    "2. Take a subset of the dataset to make it less sparse/ denser. (For example, keep the\n",
    "users only who has given 50 or more number of ratings)\n",
    "3. Split the data randomly into train and test dataset. (For example, split it in 70/30 ratio)\n",
    "4. Build Popularity Recommender model.\n",
    "5. Build Collaborative Filtering model.\n",
    "6. Evaluate both the models. (Once the model is trained on the training data, it can be\n",
    "used to compute the error (like RMSE) on predictions made on the test data). You can\n",
    "also use a different method to evaluate the models.\n",
    "7. Get top - K (K = 5) recommendations. Since our goal is to recommend new products to\n",
    "each user based on his/her habits, we will recommend 5 new products.\n",
    "8. Summarise your insights."
   ]
  },
  {
   "cell_type": "code",
   "execution_count": 1,
   "metadata": {},
   "outputs": [],
   "source": [
    "# import necessary libraries:\n",
    "\n",
    "import numpy as np\n",
    "import pandas as pd\n",
    "\n",
    "%matplotlib inline\n",
    "import matplotlib.pyplot as plt\n",
    "import seaborn as sns\n",
    "\n",
    "from sklearn.model_selection import train_test_split"
   ]
  },
  {
   "cell_type": "markdown",
   "metadata": {},
   "source": [
    "### 1. Read and explore the given dataset. (Rename column/add headers, plot histograms, find data characteristics)"
   ]
  },
  {
   "cell_type": "markdown",
   "metadata": {},
   "source": [
    "#### Load the ratings_Electronics.csv file:"
   ]
  },
  {
   "cell_type": "code",
   "execution_count": 2,
   "metadata": {},
   "outputs": [],
   "source": [
    "columns = ['user_id', 'prdt_id', 'rating', 'timestamp']\n",
    "elec_df = pd.read_csv(\"ratings_Electronics.csv\", names=columns)"
   ]
  },
  {
   "cell_type": "code",
   "execution_count": 3,
   "metadata": {},
   "outputs": [
    {
     "data": {
      "text/plain": [
       "(7824482, 4)"
      ]
     },
     "execution_count": 3,
     "metadata": {},
     "output_type": "execute_result"
    }
   ],
   "source": [
    "# Check the shape of file:\n",
    "\n",
    "elec_df.shape"
   ]
  },
  {
   "cell_type": "markdown",
   "metadata": {},
   "source": [
    "**Inference:**\n",
    "    \n",
    "    ratings_electronics data contains 7,824,482 rows and 4 columns"
   ]
  },
  {
   "cell_type": "code",
   "execution_count": 4,
   "metadata": {},
   "outputs": [
    {
     "data": {
      "text/html": [
       "<div>\n",
       "<style scoped>\n",
       "    .dataframe tbody tr th:only-of-type {\n",
       "        vertical-align: middle;\n",
       "    }\n",
       "\n",
       "    .dataframe tbody tr th {\n",
       "        vertical-align: top;\n",
       "    }\n",
       "\n",
       "    .dataframe thead th {\n",
       "        text-align: right;\n",
       "    }\n",
       "</style>\n",
       "<table border=\"1\" class=\"dataframe\">\n",
       "  <thead>\n",
       "    <tr style=\"text-align: right;\">\n",
       "      <th></th>\n",
       "      <th>user_id</th>\n",
       "      <th>prdt_id</th>\n",
       "      <th>rating</th>\n",
       "      <th>timestamp</th>\n",
       "    </tr>\n",
       "  </thead>\n",
       "  <tbody>\n",
       "    <tr>\n",
       "      <th>0</th>\n",
       "      <td>AKM1MP6P0OYPR</td>\n",
       "      <td>0132793040</td>\n",
       "      <td>5.0</td>\n",
       "      <td>1365811200</td>\n",
       "    </tr>\n",
       "    <tr>\n",
       "      <th>1</th>\n",
       "      <td>A2CX7LUOHB2NDG</td>\n",
       "      <td>0321732944</td>\n",
       "      <td>5.0</td>\n",
       "      <td>1341100800</td>\n",
       "    </tr>\n",
       "    <tr>\n",
       "      <th>2</th>\n",
       "      <td>A2NWSAGRHCP8N5</td>\n",
       "      <td>0439886341</td>\n",
       "      <td>1.0</td>\n",
       "      <td>1367193600</td>\n",
       "    </tr>\n",
       "    <tr>\n",
       "      <th>3</th>\n",
       "      <td>A2WNBOD3WNDNKT</td>\n",
       "      <td>0439886341</td>\n",
       "      <td>3.0</td>\n",
       "      <td>1374451200</td>\n",
       "    </tr>\n",
       "    <tr>\n",
       "      <th>4</th>\n",
       "      <td>A1GI0U4ZRJA8WN</td>\n",
       "      <td>0439886341</td>\n",
       "      <td>1.0</td>\n",
       "      <td>1334707200</td>\n",
       "    </tr>\n",
       "  </tbody>\n",
       "</table>\n",
       "</div>"
      ],
      "text/plain": [
       "          user_id     prdt_id  rating   timestamp\n",
       "0   AKM1MP6P0OYPR  0132793040     5.0  1365811200\n",
       "1  A2CX7LUOHB2NDG  0321732944     5.0  1341100800\n",
       "2  A2NWSAGRHCP8N5  0439886341     1.0  1367193600\n",
       "3  A2WNBOD3WNDNKT  0439886341     3.0  1374451200\n",
       "4  A1GI0U4ZRJA8WN  0439886341     1.0  1334707200"
      ]
     },
     "execution_count": 4,
     "metadata": {},
     "output_type": "execute_result"
    }
   ],
   "source": [
    "# View the head of data:\n",
    "\n",
    "elec_df.head()"
   ]
  },
  {
   "cell_type": "markdown",
   "metadata": {},
   "source": [
    "#### Dropping timestamp column as it is not needed:"
   ]
  },
  {
   "cell_type": "code",
   "execution_count": 5,
   "metadata": {},
   "outputs": [],
   "source": [
    "elec_df.drop('timestamp', axis=1, inplace=True)"
   ]
  },
  {
   "cell_type": "code",
   "execution_count": 6,
   "metadata": {},
   "outputs": [
    {
     "data": {
      "text/html": [
       "<div>\n",
       "<style scoped>\n",
       "    .dataframe tbody tr th:only-of-type {\n",
       "        vertical-align: middle;\n",
       "    }\n",
       "\n",
       "    .dataframe tbody tr th {\n",
       "        vertical-align: top;\n",
       "    }\n",
       "\n",
       "    .dataframe thead th {\n",
       "        text-align: right;\n",
       "    }\n",
       "</style>\n",
       "<table border=\"1\" class=\"dataframe\">\n",
       "  <thead>\n",
       "    <tr style=\"text-align: right;\">\n",
       "      <th></th>\n",
       "      <th>user_id</th>\n",
       "      <th>prdt_id</th>\n",
       "      <th>rating</th>\n",
       "    </tr>\n",
       "  </thead>\n",
       "  <tbody>\n",
       "    <tr>\n",
       "      <th>0</th>\n",
       "      <td>AKM1MP6P0OYPR</td>\n",
       "      <td>0132793040</td>\n",
       "      <td>5.0</td>\n",
       "    </tr>\n",
       "    <tr>\n",
       "      <th>1</th>\n",
       "      <td>A2CX7LUOHB2NDG</td>\n",
       "      <td>0321732944</td>\n",
       "      <td>5.0</td>\n",
       "    </tr>\n",
       "    <tr>\n",
       "      <th>2</th>\n",
       "      <td>A2NWSAGRHCP8N5</td>\n",
       "      <td>0439886341</td>\n",
       "      <td>1.0</td>\n",
       "    </tr>\n",
       "    <tr>\n",
       "      <th>3</th>\n",
       "      <td>A2WNBOD3WNDNKT</td>\n",
       "      <td>0439886341</td>\n",
       "      <td>3.0</td>\n",
       "    </tr>\n",
       "    <tr>\n",
       "      <th>4</th>\n",
       "      <td>A1GI0U4ZRJA8WN</td>\n",
       "      <td>0439886341</td>\n",
       "      <td>1.0</td>\n",
       "    </tr>\n",
       "  </tbody>\n",
       "</table>\n",
       "</div>"
      ],
      "text/plain": [
       "          user_id     prdt_id  rating\n",
       "0   AKM1MP6P0OYPR  0132793040     5.0\n",
       "1  A2CX7LUOHB2NDG  0321732944     5.0\n",
       "2  A2NWSAGRHCP8N5  0439886341     1.0\n",
       "3  A2WNBOD3WNDNKT  0439886341     3.0\n",
       "4  A1GI0U4ZRJA8WN  0439886341     1.0"
      ]
     },
     "execution_count": 6,
     "metadata": {},
     "output_type": "execute_result"
    }
   ],
   "source": [
    "# View data after dropping timestamp column:\n",
    "\n",
    "elec_df.head()"
   ]
  },
  {
   "cell_type": "code",
   "execution_count": 7,
   "metadata": {},
   "outputs": [
    {
     "name": "stdout",
     "output_type": "stream",
     "text": [
      "<class 'pandas.core.frame.DataFrame'>\n",
      "RangeIndex: 7824482 entries, 0 to 7824481\n",
      "Data columns (total 3 columns):\n",
      "user_id    object\n",
      "prdt_id    object\n",
      "rating     float64\n",
      "dtypes: float64(1), object(2)\n",
      "memory usage: 179.1+ MB\n"
     ]
    }
   ],
   "source": [
    "# View data info:\n",
    "\n",
    "elec_df.info()"
   ]
  },
  {
   "cell_type": "markdown",
   "metadata": {},
   "source": [
    "#### Check for null values:"
   ]
  },
  {
   "cell_type": "code",
   "execution_count": 8,
   "metadata": {},
   "outputs": [
    {
     "data": {
      "text/plain": [
       "user_id    0\n",
       "prdt_id    0\n",
       "rating     0\n",
       "dtype: int64"
      ]
     },
     "execution_count": 8,
     "metadata": {},
     "output_type": "execute_result"
    }
   ],
   "source": [
    "elec_df.isna().sum()"
   ]
  },
  {
   "cell_type": "markdown",
   "metadata": {},
   "source": [
    "**Inference:**\n",
    "    \n",
    "    No null values are present. "
   ]
  },
  {
   "cell_type": "code",
   "execution_count": 9,
   "metadata": {},
   "outputs": [
    {
     "data": {
      "text/plain": [
       "array([5., 1., 3., 2., 4.])"
      ]
     },
     "execution_count": 9,
     "metadata": {},
     "output_type": "execute_result"
    }
   ],
   "source": [
    "# Check for rating scale:\n",
    "\n",
    "elec_df['rating'].unique()"
   ]
  },
  {
   "cell_type": "markdown",
   "metadata": {},
   "source": [
    "**Inference:**\n",
    "    \n",
    "    Data is clean for ratings column"
   ]
  },
  {
   "cell_type": "markdown",
   "metadata": {},
   "source": [
    "#### Number of unique users:"
   ]
  },
  {
   "cell_type": "code",
   "execution_count": 10,
   "metadata": {},
   "outputs": [
    {
     "data": {
      "text/plain": [
       "4201696"
      ]
     },
     "execution_count": 10,
     "metadata": {},
     "output_type": "execute_result"
    }
   ],
   "source": [
    "elec_df['user_id'].nunique()"
   ]
  },
  {
   "cell_type": "markdown",
   "metadata": {},
   "source": [
    "#### Number of unique products:"
   ]
  },
  {
   "cell_type": "code",
   "execution_count": 11,
   "metadata": {},
   "outputs": [
    {
     "data": {
      "text/plain": [
       "476002"
      ]
     },
     "execution_count": 11,
     "metadata": {},
     "output_type": "execute_result"
    }
   ],
   "source": [
    "elec_df['prdt_id'].nunique()"
   ]
  },
  {
   "cell_type": "markdown",
   "metadata": {},
   "source": [
    "#### Let's look at some of the products that have higher count of ratings:"
   ]
  },
  {
   "cell_type": "code",
   "execution_count": 12,
   "metadata": {},
   "outputs": [
    {
     "data": {
      "text/plain": [
       "B0074BW614    18244\n",
       "B00DR0PDNE    16454\n",
       "B007WTAJTO    14172\n",
       "B0019EHU8G    12285\n",
       "B006GWO5WK    12226\n",
       "B003ELYQGG    11617\n",
       "B003ES5ZUU    10276\n",
       "B007R5YDYA     9907\n",
       "B00622AG6S     9823\n",
       "B0002L5R78     9487\n",
       "Name: prdt_id, dtype: int64"
      ]
     },
     "execution_count": 12,
     "metadata": {},
     "output_type": "execute_result"
    }
   ],
   "source": [
    "elec_df['prdt_id'].value_counts().head(10)"
   ]
  },
  {
   "cell_type": "markdown",
   "metadata": {},
   "source": [
    "#### Users who give ratings often:"
   ]
  },
  {
   "cell_type": "code",
   "execution_count": 13,
   "metadata": {},
   "outputs": [
    {
     "data": {
      "text/plain": [
       "A5JLAU2ARJ0BO     520\n",
       "ADLVFFE4VBT8      501\n",
       "A3OXHLG6DIBRW8    498\n",
       "A6FIAB28IS79      431\n",
       "A680RUE1FDO8B     406\n",
       "A1ODOGXEYECQQ8    380\n",
       "A36K2N527TXXJN    314\n",
       "A2AY4YUOX2N1BQ    311\n",
       "AWPODHOB4GFWL     308\n",
       "ARBKYIVNYWK3C     296\n",
       "Name: user_id, dtype: int64"
      ]
     },
     "execution_count": 13,
     "metadata": {},
     "output_type": "execute_result"
    }
   ],
   "source": [
    "elec_df['user_id'].value_counts().head(10)"
   ]
  },
  {
   "cell_type": "markdown",
   "metadata": {},
   "source": [
    "#### Highly rated products:"
   ]
  },
  {
   "cell_type": "code",
   "execution_count": 14,
   "metadata": {},
   "outputs": [
    {
     "data": {
      "text/plain": [
       "array(['0132793040', '0321732944', '0511189877', '0528881469',\n",
       "       '059400232X', '0594012015', '0594033896', '0594033926',\n",
       "       '0594033934', '0594287995'], dtype=object)"
      ]
     },
     "execution_count": 14,
     "metadata": {},
     "output_type": "execute_result"
    }
   ],
   "source": [
    "elec_df[elec_df['rating'] > 4.0]['prdt_id'].unique()[0:10]"
   ]
  },
  {
   "cell_type": "markdown",
   "metadata": {},
   "source": [
    "#### Products with low rating:"
   ]
  },
  {
   "cell_type": "code",
   "execution_count": 15,
   "metadata": {},
   "outputs": [
    {
     "data": {
      "text/plain": [
       "array(['0439886341', '0528881469', '0594012015', '0594017343',\n",
       "       '0594033926', '0594451647', '0594481813', '0594481902',\n",
       "       '089933623X', '0899336795'], dtype=object)"
      ]
     },
     "execution_count": 15,
     "metadata": {},
     "output_type": "execute_result"
    }
   ],
   "source": [
    "elec_df[elec_df['rating'] < 2.0]['prdt_id'].unique()[0:10]"
   ]
  },
  {
   "cell_type": "markdown",
   "metadata": {},
   "source": [
    "### Distribution of Product ratings:"
   ]
  },
  {
   "cell_type": "code",
   "execution_count": 16,
   "metadata": {},
   "outputs": [
    {
     "data": {
      "image/png": "[encoded data removed]",
      "text/plain": [
       "<Figure size 576x360 with 1 Axes>"
      ]
     },
     "metadata": {
      "needs_background": "light"
     },
     "output_type": "display_data"
    }
   ],
   "source": [
    "plt.subplots(figsize=(8,5)) \n",
    "\n",
    "labels = elec_df['rating'].value_counts().index.values\n",
    "xlabels = [i for i in labels]\n",
    "\n",
    "rating_pct = round(elec_df['rating'].value_counts() / elec_df.shape[0] * 100, 2)\n",
    "ax = rating_pct.plot.bar(color=sns.color_palette('Accent',20))\n",
    "\n",
    "ax.set_title('Percentage of data under each rating', fontsize = 12, fontweight = 'bold')\n",
    "ax.set_xticklabels(xlabels, rotation=0)\n",
    "ax.set_xlabel('Rating')\n",
    "ax.set_ylabel('Percentage')\n",
    "\n",
    "for p in ax.patches:\n",
    "    ax.annotate(format(p.get_height()), (p.get_x()+.1,p.get_height()+.5))"
   ]
  },
  {
   "cell_type": "markdown",
   "metadata": {},
   "source": [
    "**Inference:**\n",
    "    \n",
    "    It can be seen that 55.56% of products have rating as '5'. 18.99% of products have rating as '4', 11.52% of products      have rating as '1', 8.09% of products have rating as '3' and 5.83% of products have rating as '2'.   "
   ]
  },
  {
   "cell_type": "markdown",
   "metadata": {},
   "source": [
    "### Ratings distribution by Product:"
   ]
  },
  {
   "cell_type": "code",
   "execution_count": 17,
   "metadata": {},
   "outputs": [
    {
     "data": {
      "image/png": "[encoded data removed]",
      "text/plain": [
       "<Figure size 432x288 with 1 Axes>"
      ]
     },
     "metadata": {
      "needs_background": "light"
     },
     "output_type": "display_data"
    }
   ],
   "source": [
    "# Number of ratings per product\n",
    "data = elec_df.groupby('prdt_id')['rating'].count().clip(upper=50)\n",
    "\n",
    "\n",
    "# matplotlib histogram\n",
    "plt.hist(data.values, color = 'orange', edgecolor = 'green',\n",
    "         bins = 50)\n",
    "\n",
    "\n",
    "# Add labels\n",
    "plt.title(\"Distribution Of Number of Ratings Per Product (Clipped at 50)\", fontsize = 12, fontweight = 'bold')\n",
    "plt.ylabel('Count')\n",
    "plt.xlabel('Number of Ratings Per Product');"
   ]
  },
  {
   "cell_type": "code",
   "execution_count": 18,
   "metadata": {},
   "outputs": [
    {
     "data": {
      "text/plain": [
       "prdt_id\n",
       "B0074BW614    18244\n",
       "B00DR0PDNE    16454\n",
       "B007WTAJTO    14172\n",
       "B0019EHU8G    12285\n",
       "B006GWO5WK    12226\n",
       "B003ELYQGG    11617\n",
       "B003ES5ZUU    10276\n",
       "B007R5YDYA     9907\n",
       "B00622AG6S     9823\n",
       "B0002L5R78     9487\n",
       "Name: rating, dtype: int64"
      ]
     },
     "execution_count": 18,
     "metadata": {},
     "output_type": "execute_result"
    }
   ],
   "source": [
    "elec_df.groupby('prdt_id')['rating'].count().nlargest(10)"
   ]
  },
  {
   "cell_type": "markdown",
   "metadata": {},
   "source": [
    "**Inference:**\n",
    "    \n",
    "    Highest number of ratings attained by a product is 18,244"
   ]
  },
  {
   "cell_type": "markdown",
   "metadata": {},
   "source": [
    "### Ratings distribution by User:"
   ]
  },
  {
   "cell_type": "code",
   "execution_count": 19,
   "metadata": {},
   "outputs": [
    {
     "data": {
      "image/png": "[encoded data removed]",
      "text/plain": [
       "<Figure size 576x360 with 1 Axes>"
      ]
     },
     "metadata": {
      "needs_background": "light"
     },
     "output_type": "display_data"
    }
   ],
   "source": [
    "plt.subplots(figsize=(8,5)) \n",
    "\n",
    "ax = elec_df.groupby('user_id')['rating'].count().nlargest(10).plot.bar(color=reversed(sns.color_palette('Spectral',20)))\n",
    "\n",
    "ax.set_title('Users who have given the highest number of ratings', fontsize = 12, fontweight = 'bold')\n",
    "ax.set_xlabel('User')\n",
    "ax.set_ylabel('Count of Ratings')\n",
    "\n",
    "for p in ax.patches:\n",
    "    ax.annotate(format(p.get_height()), (p.get_x()+.1,p.get_height()+5))"
   ]
  },
  {
   "cell_type": "code",
   "execution_count": 20,
   "metadata": {},
   "outputs": [
    {
     "data": {
      "text/plain": [
       "user_id\n",
       "A5JLAU2ARJ0BO     520\n",
       "ADLVFFE4VBT8      501\n",
       "A3OXHLG6DIBRW8    498\n",
       "A6FIAB28IS79      431\n",
       "A680RUE1FDO8B     406\n",
       "A1ODOGXEYECQQ8    380\n",
       "A36K2N527TXXJN    314\n",
       "A2AY4YUOX2N1BQ    311\n",
       "AWPODHOB4GFWL     308\n",
       "A25C2M3QF9G7OQ    296\n",
       "Name: rating, dtype: int64"
      ]
     },
     "execution_count": 20,
     "metadata": {},
     "output_type": "execute_result"
    }
   ],
   "source": [
    "elec_df.groupby('user_id')['rating'].count().nlargest(10)"
   ]
  },
  {
   "cell_type": "markdown",
   "metadata": {},
   "source": [
    "**Inference:**\n",
    "    \n",
    "    As seen, user 'A5JLAU2ARJ0BO' is the one who has given 520 ratings"
   ]
  },
  {
   "cell_type": "markdown",
   "metadata": {},
   "source": [
    "## 2. Take a subset of the dataset to make it less sparse/ denser. (For example, keep the users only who has given 50 or more number of ratings)"
   ]
  },
  {
   "cell_type": "markdown",
   "metadata": {},
   "source": [
    "### Include users who have given >= 50 ratings and include those products which has received >= 50 ratings. This way we can make the data less dense and inturn avoid memory error while execution"
   ]
  },
  {
   "cell_type": "code",
   "execution_count": 21,
   "metadata": {},
   "outputs": [],
   "source": [
    "user_cnt = elec_df['user_id'].value_counts()\n",
    "\n",
    "user_50_rating = pd.DataFrame(user_cnt[user_cnt >= 50]).reset_index().rename(columns=\n",
    "                                                                             {'index': 'user_id', 'user_id': 'tot_rating'})"
   ]
  },
  {
   "cell_type": "code",
   "execution_count": 22,
   "metadata": {},
   "outputs": [],
   "source": [
    "prdt_cnt = elec_df['prdt_id'].value_counts()\n",
    "\n",
    "prdt_50_rating = pd.DataFrame(prdt_cnt[prdt_cnt >= 50]).reset_index().rename(columns=\n",
    "                                                                             {'index': 'prdt_id', 'prdt_id': 'tot_rating'})"
   ]
  },
  {
   "cell_type": "code",
   "execution_count": 23,
   "metadata": {},
   "outputs": [],
   "source": [
    "elec_df_ss = elec_df[elec_df['user_id'].isin(user_50_rating['user_id']) & elec_df['prdt_id'].isin(prdt_50_rating['prdt_id'])]"
   ]
  },
  {
   "cell_type": "markdown",
   "metadata": {},
   "source": [
    "#### View shape of original data:"
   ]
  },
  {
   "cell_type": "code",
   "execution_count": 24,
   "metadata": {},
   "outputs": [
    {
     "data": {
      "text/plain": [
       "(7824482, 3)"
      ]
     },
     "execution_count": 24,
     "metadata": {},
     "output_type": "execute_result"
    }
   ],
   "source": [
    "elec_df.shape"
   ]
  },
  {
   "cell_type": "markdown",
   "metadata": {},
   "source": [
    "#### View shape of data subset:"
   ]
  },
  {
   "cell_type": "code",
   "execution_count": 25,
   "metadata": {},
   "outputs": [
    {
     "data": {
      "text/plain": [
       "(79182, 3)"
      ]
     },
     "execution_count": 25,
     "metadata": {},
     "output_type": "execute_result"
    }
   ],
   "source": [
    "elec_df_ss.shape"
   ]
  },
  {
   "cell_type": "markdown",
   "metadata": {},
   "source": [
    "#### Number of unique users after taking subset:"
   ]
  },
  {
   "cell_type": "code",
   "execution_count": 26,
   "metadata": {},
   "outputs": [
    {
     "data": {
      "text/plain": [
       "1540"
      ]
     },
     "execution_count": 26,
     "metadata": {},
     "output_type": "execute_result"
    }
   ],
   "source": [
    "users = elec_df_ss['user_id'].unique()\n",
    "len(users)"
   ]
  },
  {
   "cell_type": "markdown",
   "metadata": {},
   "source": [
    "#### Number of unique products after taking subset:"
   ]
  },
  {
   "cell_type": "code",
   "execution_count": 27,
   "metadata": {},
   "outputs": [
    {
     "data": {
      "text/plain": [
       "16993"
      ]
     },
     "execution_count": 27,
     "metadata": {},
     "output_type": "execute_result"
    }
   ],
   "source": [
    "prdts = elec_df_ss['prdt_id'].unique()\n",
    "len(prdts)"
   ]
  },
  {
   "cell_type": "markdown",
   "metadata": {},
   "source": [
    "#### View head of data:"
   ]
  },
  {
   "cell_type": "code",
   "execution_count": 28,
   "metadata": {},
   "outputs": [
    {
     "data": {
      "text/html": [
       "<div>\n",
       "<style scoped>\n",
       "    .dataframe tbody tr th:only-of-type {\n",
       "        vertical-align: middle;\n",
       "    }\n",
       "\n",
       "    .dataframe tbody tr th {\n",
       "        vertical-align: top;\n",
       "    }\n",
       "\n",
       "    .dataframe thead th {\n",
       "        text-align: right;\n",
       "    }\n",
       "</style>\n",
       "<table border=\"1\" class=\"dataframe\">\n",
       "  <thead>\n",
       "    <tr style=\"text-align: right;\">\n",
       "      <th></th>\n",
       "      <th>user_id</th>\n",
       "      <th>prdt_id</th>\n",
       "      <th>rating</th>\n",
       "    </tr>\n",
       "  </thead>\n",
       "  <tbody>\n",
       "    <tr>\n",
       "      <th>492</th>\n",
       "      <td>A3CLWR1UUZT6TG</td>\n",
       "      <td>0972683275</td>\n",
       "      <td>5.0</td>\n",
       "    </tr>\n",
       "    <tr>\n",
       "      <th>631</th>\n",
       "      <td>A3TAS1AG6FMBQW</td>\n",
       "      <td>0972683275</td>\n",
       "      <td>5.0</td>\n",
       "    </tr>\n",
       "    <tr>\n",
       "      <th>1003</th>\n",
       "      <td>A2Y4H3PXB07WQI</td>\n",
       "      <td>0972683275</td>\n",
       "      <td>4.0</td>\n",
       "    </tr>\n",
       "    <tr>\n",
       "      <th>1138</th>\n",
       "      <td>A25RTRAPQAJBDJ</td>\n",
       "      <td>0972683275</td>\n",
       "      <td>5.0</td>\n",
       "    </tr>\n",
       "    <tr>\n",
       "      <th>1310</th>\n",
       "      <td>A3LDPF5FMB782Z</td>\n",
       "      <td>1400501466</td>\n",
       "      <td>5.0</td>\n",
       "    </tr>\n",
       "  </tbody>\n",
       "</table>\n",
       "</div>"
      ],
      "text/plain": [
       "             user_id     prdt_id  rating\n",
       "492   A3CLWR1UUZT6TG  0972683275     5.0\n",
       "631   A3TAS1AG6FMBQW  0972683275     5.0\n",
       "1003  A2Y4H3PXB07WQI  0972683275     4.0\n",
       "1138  A25RTRAPQAJBDJ  0972683275     5.0\n",
       "1310  A3LDPF5FMB782Z  1400501466     5.0"
      ]
     },
     "execution_count": 28,
     "metadata": {},
     "output_type": "execute_result"
    }
   ],
   "source": [
    "elec_df_ss.head()"
   ]
  },
  {
   "cell_type": "markdown",
   "metadata": {},
   "source": [
    "## 3. Build Popularity Recommender Model:"
   ]
  },
  {
   "cell_type": "markdown",
   "metadata": {},
   "source": [
    "I'm not splitting the data into test and train for Popularity recommender"
   ]
  },
  {
   "cell_type": "markdown",
   "metadata": {},
   "source": [
    "#### Class to recommend popular products:"
   ]
  },
  {
   "cell_type": "code",
   "execution_count": 29,
   "metadata": {},
   "outputs": [],
   "source": [
    "class popularity_recommender():\n",
    "    \n",
    "    def __init__(self):\n",
    "        self.elec_data = None\n",
    "        self.user_id = None\n",
    "        self.prdt_id = None\n",
    "        self.popularity_recommendations = None\n",
    "        \n",
    "    def create(self, elec_data, user_id, prdt_id):\n",
    "        self.elec_data = elec_data\n",
    "        self.user_id = user_id\n",
    "        self.prdt_id = prdt_id\n",
    "        \n",
    "        # Get number of times a product has been rated and rename columns as necessary:\n",
    "        elec_data_grouped = elec_data.groupby([self.prdt_id]).agg({self.user_id: 'count'}).reset_index()\n",
    "        elec_data_grouped.rename(columns={\"user_id\": \"score\"}, inplace=True)\n",
    "        \n",
    "        # Sort the dataframe on score so that the product that has been rated the most number of times appears first:\n",
    "        elec_data_grouped.sort_values([\"score\", self.prdt_id], ascending=[0,1], inplace=True)\n",
    "        \n",
    "        # Rank by score and give the top 10 recommendations:\n",
    "        elec_data_grouped['rank'] = elec_data_grouped[\"score\"].rank(ascending = 0, method = 'first')\n",
    "        \n",
    "        self.popularity_recommendations = elec_data_grouped.head(10)\n",
    "        \n",
    "    def recommend(self, user_id):\n",
    "        # Generate recommendations specific to user:\n",
    "        user_recommendation = self.popularity_recommendations\n",
    "        user_recommendation['user_id'] = user_id\n",
    "        \n",
    "        cols = user_recommendation.columns.tolist()\n",
    "        cols = cols[-1:] + cols[:-1]\n",
    "        user_recommendation = user_recommendation[cols]\n",
    "        return user_recommendation\n",
    "        "
   ]
  },
  {
   "cell_type": "code",
   "execution_count": 30,
   "metadata": {},
   "outputs": [],
   "source": [
    "pr = popularity_recommender()\n",
    "pr.create(elec_df_ss, 'user_id', 'prdt_id')"
   ]
  },
  {
   "cell_type": "markdown",
   "metadata": {},
   "source": [
    "#### Recommendations for Randomly picked User 1:"
   ]
  },
  {
   "cell_type": "code",
   "execution_count": 31,
   "metadata": {},
   "outputs": [
    {
     "data": {
      "text/html": [
       "<div>\n",
       "<style scoped>\n",
       "    .dataframe tbody tr th:only-of-type {\n",
       "        vertical-align: middle;\n",
       "    }\n",
       "\n",
       "    .dataframe tbody tr th {\n",
       "        vertical-align: top;\n",
       "    }\n",
       "\n",
       "    .dataframe thead th {\n",
       "        text-align: right;\n",
       "    }\n",
       "</style>\n",
       "<table border=\"1\" class=\"dataframe\">\n",
       "  <thead>\n",
       "    <tr style=\"text-align: right;\">\n",
       "      <th></th>\n",
       "      <th>user_id</th>\n",
       "      <th>prdt_id</th>\n",
       "      <th>score</th>\n",
       "      <th>rank</th>\n",
       "    </tr>\n",
       "  </thead>\n",
       "  <tbody>\n",
       "    <tr>\n",
       "      <th>13972</th>\n",
       "      <td>A1A5KUIIIHFF4U</td>\n",
       "      <td>B0088CJT4U</td>\n",
       "      <td>206</td>\n",
       "      <td>1.0</td>\n",
       "    </tr>\n",
       "    <tr>\n",
       "      <th>8495</th>\n",
       "      <td>A1A5KUIIIHFF4U</td>\n",
       "      <td>B003ES5ZUU</td>\n",
       "      <td>184</td>\n",
       "      <td>2.0</td>\n",
       "    </tr>\n",
       "    <tr>\n",
       "      <th>3285</th>\n",
       "      <td>A1A5KUIIIHFF4U</td>\n",
       "      <td>B000N99BBC</td>\n",
       "      <td>167</td>\n",
       "      <td>3.0</td>\n",
       "    </tr>\n",
       "    <tr>\n",
       "      <th>13711</th>\n",
       "      <td>A1A5KUIIIHFF4U</td>\n",
       "      <td>B007WTAJTO</td>\n",
       "      <td>164</td>\n",
       "      <td>4.0</td>\n",
       "    </tr>\n",
       "    <tr>\n",
       "      <th>13841</th>\n",
       "      <td>A1A5KUIIIHFF4U</td>\n",
       "      <td>B00829TIEK</td>\n",
       "      <td>149</td>\n",
       "      <td>5.0</td>\n",
       "    </tr>\n",
       "    <tr>\n",
       "      <th>13837</th>\n",
       "      <td>A1A5KUIIIHFF4U</td>\n",
       "      <td>B00829THK0</td>\n",
       "      <td>137</td>\n",
       "      <td>6.0</td>\n",
       "    </tr>\n",
       "    <tr>\n",
       "      <th>14102</th>\n",
       "      <td>A1A5KUIIIHFF4U</td>\n",
       "      <td>B008DWCRQW</td>\n",
       "      <td>137</td>\n",
       "      <td>7.0</td>\n",
       "    </tr>\n",
       "    <tr>\n",
       "      <th>7356</th>\n",
       "      <td>A1A5KUIIIHFF4U</td>\n",
       "      <td>B002R5AM7C</td>\n",
       "      <td>128</td>\n",
       "      <td>8.0</td>\n",
       "    </tr>\n",
       "    <tr>\n",
       "      <th>9992</th>\n",
       "      <td>A1A5KUIIIHFF4U</td>\n",
       "      <td>B004CLYEDC</td>\n",
       "      <td>118</td>\n",
       "      <td>9.0</td>\n",
       "    </tr>\n",
       "    <tr>\n",
       "      <th>7447</th>\n",
       "      <td>A1A5KUIIIHFF4U</td>\n",
       "      <td>B002SZEOLG</td>\n",
       "      <td>113</td>\n",
       "      <td>10.0</td>\n",
       "    </tr>\n",
       "  </tbody>\n",
       "</table>\n",
       "</div>"
      ],
      "text/plain": [
       "              user_id     prdt_id  score  rank\n",
       "13972  A1A5KUIIIHFF4U  B0088CJT4U    206   1.0\n",
       "8495   A1A5KUIIIHFF4U  B003ES5ZUU    184   2.0\n",
       "3285   A1A5KUIIIHFF4U  B000N99BBC    167   3.0\n",
       "13711  A1A5KUIIIHFF4U  B007WTAJTO    164   4.0\n",
       "13841  A1A5KUIIIHFF4U  B00829TIEK    149   5.0\n",
       "13837  A1A5KUIIIHFF4U  B00829THK0    137   6.0\n",
       "14102  A1A5KUIIIHFF4U  B008DWCRQW    137   7.0\n",
       "7356   A1A5KUIIIHFF4U  B002R5AM7C    128   8.0\n",
       "9992   A1A5KUIIIHFF4U  B004CLYEDC    118   9.0\n",
       "7447   A1A5KUIIIHFF4U  B002SZEOLG    113  10.0"
      ]
     },
     "execution_count": 31,
     "metadata": {},
     "output_type": "execute_result"
    }
   ],
   "source": [
    "pr.recommend(users[5])"
   ]
  },
  {
   "cell_type": "markdown",
   "metadata": {},
   "source": [
    "#### Recommendations for randomly picked User 2:"
   ]
  },
  {
   "cell_type": "code",
   "execution_count": 32,
   "metadata": {},
   "outputs": [
    {
     "data": {
      "text/html": [
       "<div>\n",
       "<style scoped>\n",
       "    .dataframe tbody tr th:only-of-type {\n",
       "        vertical-align: middle;\n",
       "    }\n",
       "\n",
       "    .dataframe tbody tr th {\n",
       "        vertical-align: top;\n",
       "    }\n",
       "\n",
       "    .dataframe thead th {\n",
       "        text-align: right;\n",
       "    }\n",
       "</style>\n",
       "<table border=\"1\" class=\"dataframe\">\n",
       "  <thead>\n",
       "    <tr style=\"text-align: right;\">\n",
       "      <th></th>\n",
       "      <th>user_id</th>\n",
       "      <th>prdt_id</th>\n",
       "      <th>score</th>\n",
       "      <th>rank</th>\n",
       "    </tr>\n",
       "  </thead>\n",
       "  <tbody>\n",
       "    <tr>\n",
       "      <th>13972</th>\n",
       "      <td>A3963R7EPE3A7E</td>\n",
       "      <td>B0088CJT4U</td>\n",
       "      <td>206</td>\n",
       "      <td>1.0</td>\n",
       "    </tr>\n",
       "    <tr>\n",
       "      <th>8495</th>\n",
       "      <td>A3963R7EPE3A7E</td>\n",
       "      <td>B003ES5ZUU</td>\n",
       "      <td>184</td>\n",
       "      <td>2.0</td>\n",
       "    </tr>\n",
       "    <tr>\n",
       "      <th>3285</th>\n",
       "      <td>A3963R7EPE3A7E</td>\n",
       "      <td>B000N99BBC</td>\n",
       "      <td>167</td>\n",
       "      <td>3.0</td>\n",
       "    </tr>\n",
       "    <tr>\n",
       "      <th>13711</th>\n",
       "      <td>A3963R7EPE3A7E</td>\n",
       "      <td>B007WTAJTO</td>\n",
       "      <td>164</td>\n",
       "      <td>4.0</td>\n",
       "    </tr>\n",
       "    <tr>\n",
       "      <th>13841</th>\n",
       "      <td>A3963R7EPE3A7E</td>\n",
       "      <td>B00829TIEK</td>\n",
       "      <td>149</td>\n",
       "      <td>5.0</td>\n",
       "    </tr>\n",
       "    <tr>\n",
       "      <th>13837</th>\n",
       "      <td>A3963R7EPE3A7E</td>\n",
       "      <td>B00829THK0</td>\n",
       "      <td>137</td>\n",
       "      <td>6.0</td>\n",
       "    </tr>\n",
       "    <tr>\n",
       "      <th>14102</th>\n",
       "      <td>A3963R7EPE3A7E</td>\n",
       "      <td>B008DWCRQW</td>\n",
       "      <td>137</td>\n",
       "      <td>7.0</td>\n",
       "    </tr>\n",
       "    <tr>\n",
       "      <th>7356</th>\n",
       "      <td>A3963R7EPE3A7E</td>\n",
       "      <td>B002R5AM7C</td>\n",
       "      <td>128</td>\n",
       "      <td>8.0</td>\n",
       "    </tr>\n",
       "    <tr>\n",
       "      <th>9992</th>\n",
       "      <td>A3963R7EPE3A7E</td>\n",
       "      <td>B004CLYEDC</td>\n",
       "      <td>118</td>\n",
       "      <td>9.0</td>\n",
       "    </tr>\n",
       "    <tr>\n",
       "      <th>7447</th>\n",
       "      <td>A3963R7EPE3A7E</td>\n",
       "      <td>B002SZEOLG</td>\n",
       "      <td>113</td>\n",
       "      <td>10.0</td>\n",
       "    </tr>\n",
       "  </tbody>\n",
       "</table>\n",
       "</div>"
      ],
      "text/plain": [
       "              user_id     prdt_id  score  rank\n",
       "13972  A3963R7EPE3A7E  B0088CJT4U    206   1.0\n",
       "8495   A3963R7EPE3A7E  B003ES5ZUU    184   2.0\n",
       "3285   A3963R7EPE3A7E  B000N99BBC    167   3.0\n",
       "13711  A3963R7EPE3A7E  B007WTAJTO    164   4.0\n",
       "13841  A3963R7EPE3A7E  B00829TIEK    149   5.0\n",
       "13837  A3963R7EPE3A7E  B00829THK0    137   6.0\n",
       "14102  A3963R7EPE3A7E  B008DWCRQW    137   7.0\n",
       "7356   A3963R7EPE3A7E  B002R5AM7C    128   8.0\n",
       "9992   A3963R7EPE3A7E  B004CLYEDC    118   9.0\n",
       "7447   A3963R7EPE3A7E  B002SZEOLG    113  10.0"
      ]
     },
     "execution_count": 32,
     "metadata": {},
     "output_type": "execute_result"
    }
   ],
   "source": [
    "pr.recommend(users[100])"
   ]
  },
  {
   "cell_type": "markdown",
   "metadata": {},
   "source": [
    "### Inference on Popularity recommendation:"
   ]
  },
  {
   "cell_type": "markdown",
   "metadata": {},
   "source": [
    "**We can see that both the users are recommended with the same list of prodcuts as popularity recommender is not customized to users**"
   ]
  },
  {
   "cell_type": "markdown",
   "metadata": {},
   "source": [
    "## 4. Build Collaborative Filtering model"
   ]
  },
  {
   "cell_type": "markdown",
   "metadata": {},
   "source": [
    "### I will make use of KNNwithMeans for this model:"
   ]
  },
  {
   "cell_type": "code",
   "execution_count": 33,
   "metadata": {},
   "outputs": [],
   "source": [
    "# import from surprise library:\n",
    "\n",
    "from surprise import Dataset, Reader\n",
    "from surprise.model_selection import train_test_split\n",
    "from surprise import accuracy\n",
    "from surprise.model_selection import GridSearchCV\n",
    "\n",
    "from surprise import KNNWithMeans\n",
    "\n",
    "from surprise import SVD\n",
    "\n",
    "from collections import defaultdict"
   ]
  },
  {
   "cell_type": "markdown",
   "metadata": {},
   "source": [
    "#### Transforming data to surprise format:"
   ]
  },
  {
   "cell_type": "code",
   "execution_count": 34,
   "metadata": {},
   "outputs": [],
   "source": [
    "reader = Reader(rating_scale=(1, 5))"
   ]
  },
  {
   "cell_type": "code",
   "execution_count": 35,
   "metadata": {},
   "outputs": [
    {
     "data": {
      "text/html": [
       "<div>\n",
       "<style scoped>\n",
       "    .dataframe tbody tr th:only-of-type {\n",
       "        vertical-align: middle;\n",
       "    }\n",
       "\n",
       "    .dataframe tbody tr th {\n",
       "        vertical-align: top;\n",
       "    }\n",
       "\n",
       "    .dataframe thead th {\n",
       "        text-align: right;\n",
       "    }\n",
       "</style>\n",
       "<table border=\"1\" class=\"dataframe\">\n",
       "  <thead>\n",
       "    <tr style=\"text-align: right;\">\n",
       "      <th></th>\n",
       "      <th>user_id</th>\n",
       "      <th>prdt_id</th>\n",
       "      <th>rating</th>\n",
       "    </tr>\n",
       "  </thead>\n",
       "  <tbody>\n",
       "    <tr>\n",
       "      <th>492</th>\n",
       "      <td>A3CLWR1UUZT6TG</td>\n",
       "      <td>0972683275</td>\n",
       "      <td>5.0</td>\n",
       "    </tr>\n",
       "    <tr>\n",
       "      <th>631</th>\n",
       "      <td>A3TAS1AG6FMBQW</td>\n",
       "      <td>0972683275</td>\n",
       "      <td>5.0</td>\n",
       "    </tr>\n",
       "  </tbody>\n",
       "</table>\n",
       "</div>"
      ],
      "text/plain": [
       "            user_id     prdt_id  rating\n",
       "492  A3CLWR1UUZT6TG  0972683275     5.0\n",
       "631  A3TAS1AG6FMBQW  0972683275     5.0"
      ]
     },
     "execution_count": 35,
     "metadata": {},
     "output_type": "execute_result"
    }
   ],
   "source": [
    "elec_df_ss.head(2)"
   ]
  },
  {
   "cell_type": "code",
   "execution_count": 36,
   "metadata": {},
   "outputs": [],
   "source": [
    "# Load data:\n",
    "\n",
    "data = Dataset.load_from_df(elec_df_ss[['user_id', 'prdt_id', 'rating']], reader)"
   ]
  },
  {
   "cell_type": "markdown",
   "metadata": {},
   "source": [
    "## 5. Split the data randomly into train and test dataset. (For example, split it in 70/30 ratio)"
   ]
  },
  {
   "cell_type": "code",
   "execution_count": 37,
   "metadata": {},
   "outputs": [],
   "source": [
    "# Split data into train and test\n",
    "\n",
    "trainset, testset = train_test_split(data, test_size=.30, random_state=0)"
   ]
  },
  {
   "cell_type": "code",
   "execution_count": 38,
   "metadata": {},
   "outputs": [
    {
     "data": {
      "text/plain": [
       "surprise.trainset.Trainset"
      ]
     },
     "execution_count": 38,
     "metadata": {},
     "output_type": "execute_result"
    }
   ],
   "source": [
    "# View tupe of trainset:\n",
    "\n",
    "type(trainset)"
   ]
  },
  {
   "cell_type": "code",
   "execution_count": 39,
   "metadata": {},
   "outputs": [
    {
     "data": {
      "text/plain": [
       "list"
      ]
     },
     "execution_count": 39,
     "metadata": {},
     "output_type": "execute_result"
    }
   ],
   "source": [
    "# View type of testset:\n",
    "\n",
    "type(testset)"
   ]
  },
  {
   "cell_type": "code",
   "execution_count": 40,
   "metadata": {},
   "outputs": [
    {
     "name": "stdout",
     "output_type": "stream",
     "text": [
      "Estimating biases using als...\n",
      "Computing the pearson_baseline similarity matrix...\n",
      "Done computing similarity matrix.\n"
     ]
    },
    {
     "data": {
      "text/plain": [
       "<surprise.prediction_algorithms.knns.KNNWithMeans at 0x200114cf898>"
      ]
     },
     "execution_count": 40,
     "metadata": {},
     "output_type": "execute_result"
    }
   ],
   "source": [
    "# Actual model fit happens here:\n",
    "\n",
    "colab_fil = KNNWithMeans(k=15, sim_options={'name': 'pearson_baseline', 'user_based': False})\n",
    "colab_fil.fit(trainset)"
   ]
  },
  {
   "cell_type": "markdown",
   "metadata": {},
   "source": [
    "#### Let's run the model for testset:"
   ]
  },
  {
   "cell_type": "code",
   "execution_count": 41,
   "metadata": {},
   "outputs": [
    {
     "data": {
      "text/plain": [
       "23755"
      ]
     },
     "execution_count": 41,
     "metadata": {},
     "output_type": "execute_result"
    }
   ],
   "source": [
    "# Length of testset:\n",
    "\n",
    "len(testset)"
   ]
  },
  {
   "cell_type": "code",
   "execution_count": 42,
   "metadata": {},
   "outputs": [
    {
     "data": {
      "text/plain": [
       "[('A28UMA3GW9L124', 'B001GX6MJ8', 3.0),\n",
       " ('A38NHXL5257E3B', 'B001D60LG8', 5.0),\n",
       " ('A36IHC0K68NS2', 'B005DKZTNK', 3.0),\n",
       " ('A231WM2Z2JL0U3', 'B00005ARK3', 4.0),\n",
       " ('A2AC6GQ24S45GA', 'B001S2RCWI', 5.0)]"
      ]
     },
     "execution_count": 42,
     "metadata": {},
     "output_type": "execute_result"
    }
   ],
   "source": [
    "# View the data in testset:\n",
    "\n",
    "testset[0:5]"
   ]
  },
  {
   "cell_type": "code",
   "execution_count": 43,
   "metadata": {},
   "outputs": [],
   "source": [
    "# Run the model on the testset\n",
    "\n",
    "test_pred = colab_fil.test(testset)"
   ]
  },
  {
   "cell_type": "code",
   "execution_count": 44,
   "metadata": {},
   "outputs": [
    {
     "data": {
      "text/plain": [
       "[Prediction(uid='A28UMA3GW9L124', iid='B001GX6MJ8', r_ui=3.0, est=2.208333333333333, details={'actual_k': 1, 'was_impossible': False}),\n",
       " Prediction(uid='A38NHXL5257E3B', iid='B001D60LG8', r_ui=5.0, est=4.333333333333333, details={'actual_k': 0, 'was_impossible': False}),\n",
       " Prediction(uid='A36IHC0K68NS2', iid='B005DKZTNK', r_ui=3.0, est=3.9078076952020915, details={'actual_k': 2, 'was_impossible': False}),\n",
       " Prediction(uid='A231WM2Z2JL0U3', iid='B00005ARK3', r_ui=4.0, est=3.75, details={'actual_k': 0, 'was_impossible': False}),\n",
       " Prediction(uid='A2AC6GQ24S45GA', iid='B001S2RCWI', r_ui=5.0, est=4.428571428571429, details={'actual_k': 0, 'was_impossible': False})]"
      ]
     },
     "execution_count": 44,
     "metadata": {},
     "output_type": "execute_result"
    }
   ],
   "source": [
    "# View the predicted test data:\n",
    "\n",
    "test_pred[0:5]"
   ]
  },
  {
   "cell_type": "markdown",
   "metadata": {},
   "source": [
    "## 6. Evaluate model - RMSE"
   ]
  },
  {
   "cell_type": "markdown",
   "metadata": {},
   "source": [
    "### I will be evaluating Model Performance only for collaborative filtering model as recommendation using popularity based model was done using a user-defined function which does only a grouping on data"
   ]
  },
  {
   "cell_type": "code",
   "execution_count": 45,
   "metadata": {},
   "outputs": [
    {
     "name": "stdout",
     "output_type": "stream",
     "text": [
      "RMSE: 1.1360\n"
     ]
    },
    {
     "data": {
      "text/plain": [
       "1.136001316154186"
      ]
     },
     "execution_count": 45,
     "metadata": {},
     "output_type": "execute_result"
    }
   ],
   "source": [
    "# compute RMSE for testset\n",
    "\n",
    "accuracy.rmse(test_pred)"
   ]
  },
  {
   "cell_type": "markdown",
   "metadata": {},
   "source": [
    "**Inference:**\n",
    "\n",
    "    RMSE is very high for the KNNwithMeans model and hence model has not performed so well. Let's try SVD now:"
   ]
  },
  {
   "cell_type": "markdown",
   "metadata": {},
   "source": [
    "## SVD:"
   ]
  },
  {
   "cell_type": "markdown",
   "metadata": {},
   "source": [
    "#### Build SVD model:"
   ]
  },
  {
   "cell_type": "code",
   "execution_count": 47,
   "metadata": {},
   "outputs": [
    {
     "data": {
      "text/plain": [
       "<surprise.prediction_algorithms.matrix_factorization.SVD at 0x2001141e390>"
      ]
     },
     "execution_count": 47,
     "metadata": {},
     "output_type": "execute_result"
    }
   ],
   "source": [
    "svd_model = SVD(n_factors=50, reg_all=0.01, random_state=123)\n",
    "svd_model.fit(trainset)"
   ]
  },
  {
   "cell_type": "markdown",
   "metadata": {},
   "source": [
    "#### Use it on testset:"
   ]
  },
  {
   "cell_type": "code",
   "execution_count": 48,
   "metadata": {},
   "outputs": [],
   "source": [
    "test_pred_svd = svd_model.test(testset)"
   ]
  },
  {
   "cell_type": "code",
   "execution_count": 49,
   "metadata": {},
   "outputs": [
    {
     "data": {
      "text/plain": [
       "[Prediction(uid='A28UMA3GW9L124', iid='B001GX6MJ8', r_ui=3.0, est=3.137951442146568, details={'was_impossible': False}),\n",
       " Prediction(uid='A38NHXL5257E3B', iid='B001D60LG8', r_ui=5.0, est=4.566741610609784, details={'was_impossible': False}),\n",
       " Prediction(uid='A36IHC0K68NS2', iid='B005DKZTNK', r_ui=3.0, est=3.7603050833609304, details={'was_impossible': False}),\n",
       " Prediction(uid='A231WM2Z2JL0U3', iid='B00005ARK3', r_ui=4.0, est=4.272141212181036, details={'was_impossible': False}),\n",
       " Prediction(uid='A2AC6GQ24S45GA', iid='B001S2RCWI', r_ui=5.0, est=4.6428459207886625, details={'was_impossible': False})]"
      ]
     },
     "execution_count": 49,
     "metadata": {},
     "output_type": "execute_result"
    }
   ],
   "source": [
    "test_pred_svd[0:5]"
   ]
  },
  {
   "cell_type": "markdown",
   "metadata": {},
   "source": [
    "## Evaluate SVD model:"
   ]
  },
  {
   "cell_type": "code",
   "execution_count": 50,
   "metadata": {},
   "outputs": [
    {
     "name": "stdout",
     "output_type": "stream",
     "text": [
      "RMSE: 0.9614\n"
     ]
    },
    {
     "data": {
      "text/plain": [
       "0.9614417485152225"
      ]
     },
     "execution_count": 50,
     "metadata": {},
     "output_type": "execute_result"
    }
   ],
   "source": [
    "# compute test RMSE for SVD\n",
    "\n",
    "accuracy.rmse(test_pred_svd)"
   ]
  },
  {
   "cell_type": "markdown",
   "metadata": {},
   "source": [
    "**Inference:**\n",
    "    \n",
    "    RMSE has come down compared to KNNwithMeans model. Let's fine tune the model and check the performance once again"
   ]
  },
  {
   "cell_type": "markdown",
   "metadata": {},
   "source": [
    "### Fine tuning SVD using Grid Search:"
   ]
  },
  {
   "cell_type": "code",
   "execution_count": 51,
   "metadata": {},
   "outputs": [],
   "source": [
    "param_grid = {'n_factors' : [5,10,15], \"reg_all\":[0.01,0.02]}\n",
    "svd_tuned = GridSearchCV(SVD, param_grid, measures=['rmse'], cv=3,refit = True)"
   ]
  },
  {
   "cell_type": "markdown",
   "metadata": {},
   "source": [
    "#### Fit the data:"
   ]
  },
  {
   "cell_type": "code",
   "execution_count": 52,
   "metadata": {},
   "outputs": [],
   "source": [
    "svd_tuned.fit(data)"
   ]
  },
  {
   "cell_type": "markdown",
   "metadata": {},
   "source": [
    "#### Find best parameters:"
   ]
  },
  {
   "cell_type": "code",
   "execution_count": 53,
   "metadata": {},
   "outputs": [
    {
     "data": {
      "text/plain": [
       "{'rmse': {'n_factors': 5, 'reg_all': 0.02}}"
      ]
     },
     "execution_count": 53,
     "metadata": {},
     "output_type": "execute_result"
    }
   ],
   "source": [
    "svd_tuned.best_params"
   ]
  },
  {
   "cell_type": "markdown",
   "metadata": {},
   "source": [
    "**Inference:**\n",
    "    \n",
    "    Best fit SVD model has n_factors as 5 and reg_all as 0.02"
   ]
  },
  {
   "cell_type": "markdown",
   "metadata": {},
   "source": [
    "#### Using the \"best model\" for prediction:"
   ]
  },
  {
   "cell_type": "code",
   "execution_count": 54,
   "metadata": {},
   "outputs": [],
   "source": [
    "test_pred_svd_tuned = svd_tuned.test(testset)"
   ]
  },
  {
   "cell_type": "code",
   "execution_count": 55,
   "metadata": {},
   "outputs": [
    {
     "data": {
      "text/plain": [
       "[Prediction(uid='A28UMA3GW9L124', iid='B001GX6MJ8', r_ui=3.0, est=3.450815693755567, details={'was_impossible': False}),\n",
       " Prediction(uid='A38NHXL5257E3B', iid='B001D60LG8', r_ui=5.0, est=4.468732159967091, details={'was_impossible': False}),\n",
       " Prediction(uid='A36IHC0K68NS2', iid='B005DKZTNK', r_ui=3.0, est=3.660581459569137, details={'was_impossible': False}),\n",
       " Prediction(uid='A231WM2Z2JL0U3', iid='B00005ARK3', r_ui=4.0, est=4.154192236003764, details={'was_impossible': False}),\n",
       " Prediction(uid='A2AC6GQ24S45GA', iid='B001S2RCWI', r_ui=5.0, est=4.639127531940835, details={'was_impossible': False})]"
      ]
     },
     "execution_count": 55,
     "metadata": {},
     "output_type": "execute_result"
    }
   ],
   "source": [
    "test_pred_svd_tuned[0:5]"
   ]
  },
  {
   "cell_type": "markdown",
   "metadata": {},
   "source": [
    "## Evaluate SVD tuned model:"
   ]
  },
  {
   "cell_type": "code",
   "execution_count": 56,
   "metadata": {},
   "outputs": [
    {
     "name": "stdout",
     "output_type": "stream",
     "text": [
      "RMSE: 0.8578\n"
     ]
    },
    {
     "data": {
      "text/plain": [
       "0.8578015503533089"
      ]
     },
     "execution_count": 56,
     "metadata": {},
     "output_type": "execute_result"
    }
   ],
   "source": [
    "accuracy.rmse(test_pred_svd_tuned)"
   ]
  },
  {
   "cell_type": "markdown",
   "metadata": {},
   "source": [
    "**Inference:**\n",
    "\n",
    "    We can see that RMSE has reduced considerably in SVD after fine tuning the hyper parameters. We can proceed with this   fine tuned SVD results for recommending products to users"
   ]
  },
  {
   "cell_type": "markdown",
   "metadata": {},
   "source": [
    "## 7. Get top - K (K = 5) recommendations. Since our goal is to recommend new products to each user based on his/her habits, we will recommend 5 new products."
   ]
  },
  {
   "cell_type": "markdown",
   "metadata": {},
   "source": [
    "#### Recommend 5 products each for each user:"
   ]
  },
  {
   "cell_type": "code",
   "execution_count": 57,
   "metadata": {},
   "outputs": [],
   "source": [
    "def get_top_n(predictions, n):\n",
    "    '''Return the top-N recommendation for each user from a set of predictions.\n",
    "\n",
    "    Args:\n",
    "        predictions(list of Prediction objects): The list of predictions, as\n",
    "            returned by the test method of an algorithm.\n",
    "        n(int): The number of recommendation to output for each user. Default\n",
    "            is 10.\n",
    "\n",
    "    Returns:\n",
    "    A dict where keys are user (raw) ids and values are lists of tuples:\n",
    "        [(raw item id, rating estimation), ...] of size n.\n",
    "    '''\n",
    "\n",
    "    # First map the predictions to each user.\n",
    "    top_n = defaultdict(list)\n",
    "    for uid, iid, true_r, est, _ in predictions:\n",
    "        top_n[uid].append((iid, est))\n",
    "\n",
    "    # Then sort the predictions for each user and retrieve the k highest ones.\n",
    "    for uid, user_ratings in top_n.items():\n",
    "        user_ratings.sort(key=lambda x: x[1], reverse=True)\n",
    "        top_n[uid] = user_ratings[:n]\n",
    "\n",
    "    return top_n"
   ]
  },
  {
   "cell_type": "markdown",
   "metadata": {},
   "source": [
    "#### Recommending products:"
   ]
  },
  {
   "cell_type": "code",
   "execution_count": 58,
   "metadata": {},
   "outputs": [
    {
     "name": "stdout",
     "output_type": "stream",
     "text": [
      "A28UMA3GW9L124 ['B000N99BBC', 'B0002D6QJO', 'B008JJLW4M', 'B000VX6XL6', 'B002IO2UM2']\n",
      "A38NHXL5257E3B ['B003SGCO3E', 'B00BOHNYU6', 'B004Q3R9AQ', 'B004J3ZV62', 'B00CB2F65O']\n",
      "A36IHC0K68NS2 ['B004ING996', 'B00HMREOLK', 'B00ATM1MGA', 'B009N8M2P6', 'B001FAACHK']\n",
      "A231WM2Z2JL0U3 ['B00008OE6I', 'B00006HZ0L', 'B00005LB8P', 'B00008OE5G', 'B0000658CG']\n",
      "A2AC6GQ24S45GA ['B001TOD7ME', 'B009VV56TY', 'B001S2RCWI', 'B009E6J1BU', 'B008U3038I']\n",
      "A3OXHLG6DIBRW8 ['B002VPE1X4', 'B001T9NUJE', 'B007KEZMX4', 'B00461E7JE', 'B001ID829O']\n",
      "A2XA8CW5DF4MNZ ['B000TKHBDK', 'B001TOD7ME', 'B00387EW1K', 'B000AP05BO', 'B000P6R6CY']\n",
      "AG35JCCQWDRCS ['B000068O16', 'B001MSVPM6', 'B0036Q7MV0', 'B00AXTQQDS', 'B0045TYDNC']\n",
      "A2X3L31KCXBHCL ['B00829THEG', 'B00DQZQ5T6', 'B0044DEDC0', 'B000B63KSM', 'B005EM6IAA']\n",
      "A33YZNZIRA3H97 ['B00BOHNYTW', 'B00006I5J7', 'B00AXTQQDS', 'B00HFRWWAM', 'B00009R896']\n",
      "AX05DBU8IRUWY ['B006W8U2MU', 'B007WTAJTO', 'B00FISD9DO', 'B001FO4QHI', 'B0049SCB2Y']\n",
      "A296QED1MV1V0J ['B0058G40O8', 'B008AST7R6', 'B001S2PPT0', 'B007VGGFZU', 'B00AXTQQDS']\n",
      "A1CPRP3VFJRS1R ['B003CFATT2', 'B004HO58SO', 'B002HWRJY4', 'B0007QKXYU', 'B008C1JC4O']\n",
      "AB094YABX21WQ ['B001TH7GUU', 'B002Y6CJJ8', 'B000S5Q9CA', 'B0002Y5WZM', 'B000JMJWV2']\n",
      "A1MEISNED4NP7U ['B007R5YDYA', 'B007PJ4P4G', 'B00834SJSK', 'B00483WRZ6', 'B009NHAEXE']\n",
      "A3LGT6UZL99IW1 ['B003CFATT2', 'B000V5P90K', 'B001M4HXB2', 'B004CLYEDC', 'B000VUIXOO']\n",
      "A1PPS91NLI7KEH ['B00CD8ADKO', 'B00AAHT8JC', 'B00E0EY7Z6', 'B00A0LVPL2', 'B0064EL2DK']\n",
      "A1VJ0V58N0698J ['B000MUV6BA', 'B00328HR7G', 'B004TB70Y0', 'B0019BPTMI', 'B0075SUK14']\n",
      "A196JN53PG0C7R ['B001FVI91U', 'B003ES5ZUU', 'B008JJLW4M', 'B001TH7T2U', 'B001AYGDCE']\n",
      "A1901NTE8LFJF6 ['B000M2TAN4', 'B0011U65F2', 'B005DKZTMG', 'B0036AZA6A', 'B002P3KMXA']\n",
      "A3TAS1AG6FMBQW ['B00COF7DGS', 'B009NHWVIA', 'B002WE6D44', 'B000HPV3RW', 'B001TH7GSW']\n",
      "A362FM6FYA1SYS ['B005ES0YYA', 'B000VDCT3C', 'B00E3W15P0', 'B0045KGZOG', 'B007WTAJTO']\n",
      "A3D0UM4ZD2CMAW ['B003AVMRQG', 'B004W2T2TM', 'B009O7YU56', 'B004FA8NOQ', 'B006ZAHMPA']\n",
      "A6FIAB28IS79 ['B000089GN3', 'B003ZKG10K', 'B00006IW1X', 'B0097BEF1S', 'B004YKXGIK']\n",
      "A2X695AM08AIN1 ['B002WE6D44', 'B007WTAJTO', 'B004C3AW40', 'B003YKG2UK', 'B00FCISG6K']\n",
      "A2NOW4U7W3F7RI ['B00017LSPI', 'B001W28L2Y', 'B004G6002M', 'B003LSTD38', 'B000JLK5PK']\n",
      "A2W2ODLRQ2L8LE ['B006FNCWSY', 'B000V7AF8E', 'B0031RGGCU', 'B000JJM8XE', 'B000LD14PQ']\n",
      "AR6APXLK7TJU2 ['B000AZ57M6', 'B003SX0P1A', 'B00009UTLM', 'B001IF252C', 'B001G5ZTLS']\n",
      "A1V4A5U5O3TMMD ['B007FGYZFI', 'B00009XVCZ', 'B001EAQTRI', 'B000F2BLTM', 'B0002E1RZQ']\n",
      "A110PC8C5Y7MQD ['B005DQG5SC', 'B005J4C820', 'B005EOWBKE', 'B003LSTD38', 'B0013J0502']\n",
      "A5MCDQ60DWUEV ['B001MSU1FS', 'B002WE6D44', 'B0007U00X0', 'B002ZIMEMW', 'B0002D03ZW']\n",
      "ASCBJEPXTOU0V ['B006WAGG14', 'B003ES5ZUU', 'B000QUUFRW', 'B004W2JKWG', 'B0088PUEPK']\n",
      "A2294LS59GC5K7 ['B002V88HFE', 'B003YNQ6MG', 'B0093HGD2K', 'B001J8BPYM', 'B008FJJ66C']\n",
      "A34UVV757IKPVB ['B003XM1WE0', 'B000EPHR0C', 'B000F49RAA', 'B0082DCPQ4', 'B008MF3X9K']\n",
      "A10O7THJ2O20AG ['B007PJ4P4G', 'B000ABB4HC', 'B00005N6KG', 'B00017LSPI', 'B000QUUFRW']\n",
      "A2NYK9KWFMJV4Y ['B000VX6XL6', 'B00HG1L334', 'B00DTZYHX4', 'B004IK2EAW', 'B009UNZ5WQ']\n",
      "A3TBMAWIIHKHFN ['B000MVBHRW', 'B000167OAC', 'B0015HYPOO', 'B002I2LD40', 'B004YIFKRM']\n",
      "A1ODOGXEYECQQ8 ['B001TH7GUK', 'B00E3FHXYO', 'B001RCTA8I', 'B008R7EWEI', 'B0013FRNKG']\n",
      "A1MFVAHTT2BHM0 ['B000S5Q9CA', 'B00006B7DA', 'B005NGKR54', 'B007WTAJTO', 'B00005T3G0']\n",
      "A18HE80910BTZI ['B002WE4HE2', 'B00EO302SO', 'B0001G6U4S', 'B003LPUWT0', 'B004G6002M']\n",
      "AEZJTA4KDIWY8 ['B000HPV3RW', 'B00E3W15P0', 'B003LR7ME6', 'B000O8I474', 'B001ID829O']\n",
      "A19EKT8H85AKO5 ['B0079UAT0A', 'B00834SJSK', 'B004CLYEFK', 'B0013VFI34', 'B005XPFYBM']\n",
      "A141OPVE376YFI ['B0000BZL1P', 'B000067RT6', 'B002JP92K8', 'B0056YNA1Q', 'B002TKS0S8']\n",
      "A17HMM1M7T9PJ1 ['B0000BZL1P', 'B0010Z28XG', 'B00FZ9SM4M', 'B0012IJYZ6', 'B000LRMS66']\n",
      "A28RSMADFCBJDT ['B000M2TAN4', 'B000M2GYF6', 'B000N7VPRW', 'B0011NVMO8', 'B005DKZTMG']\n",
      "AV9PIER7NE448 ['B00E3W15P0', 'B0045TYDNC', 'B000HPV3RW', 'B008JJLW4M', 'B00F0DD0I6']\n",
      "ADOR3TR7GDF68 ['B003UH0Z9Q', 'B007WTAJTO', 'B004XC6GJ0', 'B001O4EPHA', 'B006UIFTTS']\n",
      "A316XO4RWX21YN ['B00D5Q75RC', 'B00FPKDPZC', 'B002S53LJ2', 'B001CROHX6', 'B00F6PRSMW']\n",
      "ARBKYIVNYWK3C ['B0052SCU8U', 'B000TKHBDK', 'B00007IFED', 'B008ALA6DW', 'B006EKIQYM']\n",
      "A1AQ8JT2A3UWMY ['B000NP3DJW', 'B00E3W15P0', 'B00007E89K', 'B000NP46K2', 'B001IAWBIK']\n",
      "A680RUE1FDO8B ['B0019EHU8G', 'B005LDLP8W', 'B0012Y2LLE', 'B00E0HITQ6', 'B006JH8T3S']\n",
      "A38NELQT98S4H8 ['B00DT04I9W', 'B0041D81WQ', 'B004MF11MU', 'B003AHID7M', 'B006BUN5YQ']\n",
      "A26SO3TOT2TLJE ['B00BOHNYU6', 'B008PQAFR4', 'B00EHZYWGM', 'B00CD1FB26', 'B00ATM1MHO']\n",
      "A3TR3KLL5PXSZ8 ['B004WB8EYM', 'B0048IW030', 'B000A1SZ2Y', 'B0090BSSZO', 'B005KEL4NI']\n",
      "A3AYSYSLHU26U9 ['B0019EHU8G', 'B00IX2VGFA', 'B00B9KOCYA', 'B001FA1NZK', 'B00F0DD0I6']\n",
      "A13BX9O5UDBILC ['B002V88HFE', 'B009YQ8BTI', 'B00015GYU4', 'B002K9IHGI', 'B000HDJT4S']\n",
      "AVFJ327UXPXLF ['B006LW0W5Y', 'B00BOHNYU6', 'B006K553LU', 'B004N3BH0C', 'B004SGJCCO']\n",
      "AX7317G153T8W ['B00BOHNYU6', 'B001OOZ1X2', 'B00080G0BK', 'B0013FRNKG', 'B00EU9V3VW']\n",
      "A38RMU1Y5TDP9 ['B001E1Y5O6', 'B003U7SR0U', 'B009X01C64', 'B004MF11MU', 'B003ZG9T62']\n",
      "A2858RV2VLI14X ['B004QBUL1C', 'B0007TOR08', 'B007R67FNA', 'B004NY9UV4', 'B00847TOLC']\n",
      "AWPODHOB4GFWL ['B003NR57BY', 'B00DTZYHX4', 'B002Y6CJJ8', 'B000F9YN22', 'B001TH7GSW']\n",
      "ACH055GTTIGC9 ['B0002LHSFW', 'B00FDUHD2K', 'B00585CLVS', 'B0001HA8WW', 'B0002VO8GE']\n",
      "A1C5WS021EL3WO ['B001TH7GUU', 'B003ES5ZR8', 'B000CRFOMK', 'B001MSU1HG', 'B001E1Y5O6']\n",
      "A100WO06OQR8BQ ['B001342KM8', 'B0002LEMWE', 'B000VX6XL6', 'B001AW8W7A', 'B0027VT6OG']\n",
      "A3GQY0TFRG0MPZ ['B0040IO1RQ', 'B007R1FH3K', 'B002J9HBIO', 'B004J6BIJ8', 'B006ZH0JQM']\n",
      "A2GMZZ6TDYOHY7 ['B000QUUFRW', 'B007R5YDYA', 'B007WTAJTO', 'B00475K64E', 'B003O1UYHG']\n",
      "AGEKVD8JPZQMT ['B004286VMW', 'B008MF3X9K', 'B00A0ABQLM', 'B0012QN3AA', 'B008R39FKS']\n",
      "A2N3JSOIQ6ZNFL ['B00461E7JE', 'B008RJZQSW', 'B002POBS46', 'B0057Q4ADU', 'B004GELHJO']\n",
      "A19W47CXJJP1MI ['B001TH7GUA', 'B000HPV3RW', 'B00DR6DQZA', 'B0007A1IRC', 'B001SJVU24']\n",
      "A3BI8BKIHESDNQ ['B004TLIVB6', 'B00000J1SC', 'B000FV8P24', 'B001LK6ZDY', 'B000WNG0MW']\n",
      "AW68KVDV7BBRS ['B000VDCTCI', 'B002QUZM0U', 'B000BYCKU8', 'B00140DBRY', 'B00006HOAE']\n",
      "A27ADCSD15F3GL ['B001MSU1FS', 'B003CFATT2', 'B006WAGG14', 'B008EC4O76', 'B005E8MVV4']\n",
      "A2G563AC1HME2R ['B003FVJYF8', 'B003BKW2K2', 'B005IMFX2K', 'B0079MX4Q4', 'B00483WRZ6']\n",
      "APMYPD97EHUUZ ['B008EQZ25K', 'B001OOZ1X2', 'B00CRJWW2G', 'B004R6NWBC', 'B00829TIEK']\n",
      "A1VUN4JU731CBH ['B006W8U2MU', 'B001DBF07I', 'B000096B01', 'B00483WRZ6', 'B004E8X6FU']\n",
      "A15XI2BEGGFEOW ['B001ELK2NY', 'B005X64MN2', 'B00829TIA4', 'B00A0JUNWQ', 'B009VV56TY']\n",
      "A16CVJUQOB6GIB ['B000OGX5AM', 'B003XUM3NQ', 'B00596CP9E']\n",
      "A20UU20K7M9ZPF ['B009NHWVIA', 'B006JTUM72', 'B004M5H660', 'B005DUX5CM', 'B003ZTWYXY']\n",
      "AR18DH5SL9F73 ['B000WH6H1M', 'B001NJ0D0Y', 'B004MU8VCS', 'B004EGI3CI', 'B003CJQ69A']\n",
      "A2EZTM9WY5B5IL ['B002WE0QN8', 'B001S2PPT0', 'B004AZ38Z0', 'B00001WRSJ', 'B0043ZLFXE']\n",
      "A26EQ8U96JA92T ['B000BQ7GW8', 'B00E9YIFKA', 'B004HIN7SI', 'B001PIBE8I', 'B005HNHRA6']\n",
      "A1WUQF5HWBAQJU ['B0058G40O8', 'B00G4UQ6U8', 'B009SGB3KI', 'B00FSA8VQ2', 'B00JF0D7RE']\n",
      "A3F9CBHV4OHFBS ['B0012Y6HC8', 'B000IJY8DS', 'B005EOWBKE', 'B001SJVU24', 'B000A3WS20']\n",
      "A250AXLRBVYKB4 ['B004CLYEDC', 'B000VE2RP6', 'B000MX48VM', 'B002UVNW5W', 'B0002EQU6C']\n",
      "AETQIN7OH0RL9 ['B008JJLW4M', 'B000E65HXA', 'B008AST7R6', 'B009B0MZ8U', 'B004SBBD8U']\n",
      "A2DG63DN704LOI ['B00D1GYNT4', 'B001OI2YNS', 'B0094S35W4', 'B00HFRWWAM', 'B007BZRXK2']\n",
      "A10H24TDLK2VDP ['B009NHWVIA', 'B00BYRPM9M', 'B0093H4WT6', 'B0011Z44UA', 'B009Z7KMUM']\n",
      "A3UKWQS8SRW6IO ['B004HHICKC', 'B003OC6LWM', 'B003M0NT1M', 'B00D429Y12', 'B0052SCU8U']\n",
      "A2H4OMJLE7JFM2 ['B0012Y2LLE', 'B002M3SOCE', 'B001E1Y5O6', 'B000CSOXTO', 'B00CP0I474']\n",
      "A3F7USIDJBR8WU ['B0007TJ5AK', 'B00007EDZG', 'B000MUV6BA', 'B0001ZA4PA', 'B003FW2EFO']\n",
      "A3IY316DRNF5F2 ['B004MMEHH4', 'B0002ZAILY', 'B0047E8DN6', 'B0011Z2402', 'B001S0RUFY']\n",
      "A3RGJ1FXOB1ZLL ['B005ES0YYA', 'B0025VKUQQ', 'B0013AV4M4', 'B009O7YUF6', 'B0029F21LA']\n",
      "A2Q204DY2L7YRP ['B003ES5ZUU', 'B008LCYIEI', 'B0079M711S', 'B008FJJ66C', 'B001F7AJKI']\n",
      "A34BZM6S9L7QI4 ['B009NHWVIA', 'B004IK2EAW', 'B003ZTKFEE', 'B00746YHV6', 'B00J5174TU']\n",
      "AWNBZSEZ9P8BE ['B0035FZJHQ', 'B00HVT27B8', 'B005DSPLCQ', 'B008X1BV2Y', 'B003M0NURK']\n",
      "AR3EVUQF0AC7R ['B00IRRDHUI', 'B00EOE4G4E', 'B00020S7XK', 'B000O8WE66', 'B00829THEG']\n",
      "A1HFT68GJ42LTM ['B00C20KWP4', 'B002K9IHGI', 'B002P3KH80', 'B002TLSOG0', 'B0081FLFQE']\n",
      "A1TY97ZGQT5FGF ['B000WXSO76', 'B002XVTDNO', 'B0012YHQVE', 'B000EVOOO8', 'B0041OSQ9I']\n",
      "A4D5B7Q8A7PA6 ['B003CFATT2', 'B003CJTQJC', 'B009NHWVIA', 'B0034CL2ZI', 'B001TH7GT6']\n",
      "A3T8WOFS5RD2IR ['B004CLYEDC', 'B000WOIFO2', 'B000EOMXM0', 'B009SS0FZK', 'B000NONHYY']\n",
      "A2PMR2PIGWKCQ9 ['B0090Z3QG6', 'B008L1OCF4', 'B00D695GS8', 'B004GUT1QO', 'B00165XQWW']\n",
      "AGXV8E7XK9J6H ['B00007GQLU', 'B000AZ57M6', 'B000FKQ8LA', 'B0000CD0B7', 'B00065ANYW']\n",
      "A2XIOXRRYX0KZY ['B004CLYEDC', 'B009NHWVIA', 'B00E0EY7Z6', 'B00FRMAOIO', 'B00BXF7I9M']\n",
      "A17NVM7IAPF2NS ['B00D6XW62I', 'B00829THEG', 'B00EF1OGOG', 'B0032FPVKE', 'B003Y5H17I']\n",
      "A2TN0U8173HM7A ['B007Q45EF4', 'B006L8TX94', 'B004YDUZ22', 'B000HPV3RW', 'B0002KVQBA']\n",
      "ACQYIC13JXAOI ['B000N99BBC', 'B00HVT27B8', 'B005LAIFE2', 'B0040JHVC2', 'B001S4OTS6']\n",
      "A3TRY87JJCA5Y8 ['B005EOWBKE', 'B002SIMPXM', 'B003UI62AG', 'B003AI272I', 'B005DKZTMG']\n",
      "AYB4ELCS5AM8P ['B000BQ7GW8', 'B004CLYEDC', 'B00G4UQ6U8', 'B0057UUB1G', 'B00IMZKDOS']\n",
      "A2T689YVOAYGGD ['B002YU83YO', 'B001UNI80A', 'B005JN9310', 'B0034CL2ZI', 'B0012YFXSW']\n",
      "ADLVFFE4VBT8 ['B0019EHU8G', 'B001TH7GUA', 'B001T9NUJE', 'B005IMFX2K', 'B00L3YHF6O']\n",
      "A1MFAPVBW9BEGD ['B0016D1I0G', 'B008S15XA0', 'B001S4OTS6', 'B003FVI2KQ', 'B00IDG3IDO']\n",
      "A1Z16630QMH8Q6 ['B004CLYEDC', 'B000Q82PIQ', 'B000HPV3RW', 'B00JC5Y6WM', 'B000V1R96Q']\n",
      "A1XXMNLOLKNO0I ['B008RDI0TU', 'B007WTAJTO', 'B001TH7T2U', 'B007PTCFFW', 'B008PO5CSI']\n",
      "A105TOJ6LTVMBG ['B00029U1DK', 'B005J4C820', 'B006JINHYS', 'B001J8BPYM', 'B003NREDC8']\n",
      "A33CNFK776MTWR ['B005DKIID8', 'B001FA1NK0', 'B005450ZUG', 'B008Y8E25Y', 'B005HGBEZ2']\n",
      "A30KPB2ILF6K6J ['B001P05NBA', 'B005ELBSWO', 'B00829THVO', 'B00IF0JAIU', 'B0081FLFQE']\n",
      "A3QNQQKJTL76H0 ['B00DT04I9W', 'B00BOHNYTW', 'B008HK3QII', 'B000HPZ97W', 'B00BFO14W8']\n",
      "AOEAD7DPLZE53 ['B00BW6KCTU', 'B000VX6XL6', 'B001DL9WDG', 'B0002IWC9C', 'B00B1862X4']\n",
      "A2RN2AO4BE6F4K ['B005ELBSWO', 'B005DSPLCQ', 'B00A0JUNWQ', 'B003XM9774', 'B0001GRTK2']\n",
      "A5JLAU2ARJ0BO ['B0007QKMQY', 'B00006B7HB', 'B00008OE6I', 'B00006IJO4', 'B000DZMC3K']\n",
      "A11ED8O95W2103 ['B00006HSYC', 'B00007IFED', 'B000EMWBV0', 'B00000J061', 'B000EVSLRO']\n",
      "AKSQNMIKOU01H ['B002V88HFE', 'B0036AWR8E', 'B0000WKYU4', 'B0079M711S', 'B001AHALEC']\n",
      "A3BACUOZV1M0WM ['B000VX6XL6', 'B00009R6WO', 'B001NS828K', 'B004R7P28W', 'B005AY9278']\n",
      "AR8LWDT6TUKNZ ['B003T0EYVE', 'B008B14VAK', 'B00E83XHXM', 'B005H4Y6U4', 'B00BS4KUCK']\n",
      "A13QOK3SKIT9QL ['B002WE6D44', 'B0013FSKSA', 'B000ID37EA', 'B006UMM1PO', 'B000I98ZYG']\n",
      "A1KXJCXS6HFRQZ ['B003ES5ZUU', 'B004CLYEDC', 'B004FHO5Y6', 'B00007FGU7', 'B0025VKUQQ']\n",
      "AR74YY08IP2WE ['B00FR6VL50', 'B00BOHNYU6', 'B002BH3Z8E', 'B004O0PAKW', 'B008D2POAS']\n",
      "ATOKT8QYK967L ['B00829TIA4', 'B00125Y0NU', 'B00GO1UV4E', 'B009JP461G', 'B008E35TD8']\n",
      "AXR3CV6A4FMBG ['B000MUP69I', 'B0033PROOY', 'B004VR7XCG', 'B003K1EYM6', 'B001U0O5QO']\n",
      "A328S9RN3U5M68 ['B00BLCVD9I', 'B00EDCF0MY', 'B00IX2VGFA', 'B00HG1L334', 'B00FW6T36Y']\n",
      "A2IFKH3TJ10387 ['B000N99BBC', 'B002K9IHGI', 'B005FE7URM', 'B00834SJNA', 'B00D68ZVY8']\n",
      "A3N0P5AAMP6XD2 ['B002V8C3W2', 'B00834SJNA', 'B000NQ16NG', 'B00C28L6EW', 'B0041Q9PZ0']\n",
      "A3V7D0LH8L7BG0 ['B00BOHNYU6', 'B00BOHNYTW', 'B00829THO6', 'B00EVIBN8U', 'B00DR6DQZA']\n",
      "A3R1WFO4KIUQXZ ['B002V88HFE', 'B005EOWBKE', 'B00FRDUZXM', 'B002LE8D2A', 'B0040Y8YP0']\n",
      "A1F1A0QQP2XVH5 ['B003HFCDLY', 'B008RM235I', 'B000HPV3RW', 'B004Q3R9AQ', 'B00AJHDZSI']\n",
      "A3W4D8XOGLWUN5 ['B000M17AVO', 'B007WTAJTO', 'B00BOHNYTW', 'B0009WKBGC', 'B00829THEG']\n",
      "AM3XNQU9TZBD8 ['B002TLTE6O', 'B00DR6DQZA', 'B00JC5Y6WM', 'B0041OUA38', 'B0058NN6CS']\n",
      "A1A306IAZ3TM1 ['B000LY4FLA', 'B001FBL2SW', 'B0014IYZDK', 'B00065XSP8']\n",
      "A25QJBK33C4O0R ['B00CKAOJA0', 'B00BOHNYU6', 'B00B3PDH5G', 'B0081FLFQE', 'B008C1JC4O']\n",
      "A2Z1R98M2XOCEJ ['B005ELBSWO', 'B00C28L138', 'B009SYZ8OC', 'B00067LYFW', 'B00IQBSW28']\n",
      "A26BDXG9KVH7SU ['B002K9IHGI', 'B00HWMPSF6', 'B001FA1O1S', 'B00HFRWWAM', 'B00966PFHW']\n",
      "A368IPE6EW0GZL ['B0016D1I0G', 'B000P1R9QM', 'B002ZIMEMW', 'B00028VKLI', 'B008H6HFZM']\n",
      "A2KYRPDKVBI2R4 ['B008MB71IS', 'B0013FRNKG', 'B008LTBITY', 'B000N99BBC', 'B001PS9UKW']\n",
      "A3QUDXLOJTKEP9 ['B002V88HFE', 'B00BOHNYTW', 'B00006B7DA', 'B00B7E1D7W', 'B005L38VPC']\n",
      "APG2BHOAXPNEQ ['B002UOR17Y', 'B008AST7R6', 'B002KO5XVU', 'B009JZ09PI', 'B002ZWU33U']\n",
      "ANRS196NKFVUU ['B004QGXOOI', 'B003T5KXJQ', 'B002KO5XVU', 'B002HKHLDK', 'B009BKVYZK']\n",
      "A19X4BF861LQST ['B000BQ7GW8', 'B000MX48VM', 'B000EOMXM0', 'B000ZSUQ9M', 'B000HZGQ9C']\n",
      "A17Z0LVY96TO53 ['B004HO58SO', 'B00894YP00', 'B002YTDE5I', 'B00EH5UGR6', 'B001JHXOTW']\n",
      "A1QVFHPY8418HC ['B00009EHJV', 'B002EEP3MK', 'B00077AA5Q', 'B00005NIMJ', 'B001OOZ1X2']\n",
      "AJX9A4Q19UTJU ['B008EQZ25K', 'B00IVFDZBC', 'B000N99BBC', 'B008EQYRRY', 'B00829TIEK']\n",
      "AUCIFMWP3DU8R ['B002SIMPXM', 'B00CB2F65O', 'B009UEAZ84', 'B0058P0I2C', 'B00198MYB0']\n",
      "A11OTLEDSW8ZXD ['B00BW6KCTU', 'B001FA09WI', 'B002LTWDSK', 'B002WE4HE2', 'B0082E9K7U']\n",
      "A3U41ZL33SS92P ['B002V88HFE', 'B003VANO7C', 'B00AJHDZSI', 'B009F7IBZK', 'B0018M256G']\n",
      "A1FLJCHN5CG5M5 ['B000QUUFRW', 'B001ENW61I', 'B005IMFX2K', 'B0000BZL0G', 'B003O8682Y']\n",
      "A3T7V207KRDE2O ['B003HFCDLY', 'B0034XRDU0', 'B000N7VPRW', 'B004VM1T5S', 'B0011ZCDKS']\n",
      "AZMY6E8B52L2T ['B001MSU1FS', 'B00DTZYHX4', 'B000VX6XL6', 'B001TH7GUK', 'B00E3FHXYO']\n",
      "A3IJ4Z18FTIIP ['B009NB8WR0', 'B0036Q7MV0', 'B0043T34RK', 'B00CAAJDP6', 'B0002A9RFM']\n",
      "A3OYO7B6SS7QLH ['B0074FGLUM', 'B000BQ7GW8', 'B005J7YA4G', 'B0056TYRMW', 'B000L9OIQC']\n",
      "A3M7BCQKSQAK4L ['B004CLYEDC', 'B00D1GYNT4', 'B00HVT27B8', 'B009X3UW2G', 'B007GMPZ9Q']\n",
      "AVPNQUVZWMDSX ['B000MP831G', 'B001TH7GSW', 'B007WTAJTO', 'B00834SJSK', 'B001TOD7ME']\n",
      "A1ZU55TM45Y2R8 ['B0017H4G0A', 'B00006B81E', 'B00DB3SH2G', 'B004D2AZ06', 'B003LVZO92']\n",
      "A1U5IJHJK84S54 ['B003NR57BY', 'B00006I5J7', 'B002WE6D44', 'B00BQ8RFAI', 'B000LRMS66']\n",
      "ATZJNEXX7LWD3 ['B002V8C3W2', 'B006W8U2MU', 'B005DSPLCQ', 'B001TOD7ME', 'B00829THEG']\n",
      "A1H4IVXNXWWBLV ['B0052SCU8U', 'B003MQWN40', 'B005IHAIC0', 'B0058UUR6E', 'B003LYKLCO']\n",
      "A23E9QQHJLNGUI ['B009F7IBZK', 'B00894YP00', 'B0013FSKSA', 'B000EOMXM0', 'B00BP5KOPA']\n",
      "A1OA2ZW406NQXM ['B001P05NBA', 'B007PJ4P4G', 'B002TLTE6O', 'B005X64MN2', 'B001S0PWWC']\n",
      "A1DTCJV6KOMJOA ['B00IVPU7DG', 'B009A6CZ30', 'B00FFJ0HUE', 'B0090A8TWW', 'B006WHPQCC']\n",
      "ARX0KOX5Q01BJ ['B001UI2FPE', 'B004RORMF6', 'B0012X43P2', 'B00483WRZ6', 'B003WGJYCY']\n",
      "A27H0T39U3FZB5 ['B003L1ZYZ6', 'B00DR6DQZA', 'B00475K64E', 'B004TBBSNY', 'B00829TIA4']\n",
      "A4WEZJOIZIV4U ['B009NB8WR0', 'B00CKAOJA0', 'B00EO302SO', 'B00G6IJ5NI', 'B001W28L2Y']\n",
      "AH3LF9RAD1O2V ['B00834SJSK', 'B001CCAISE', 'B00160MV8W', 'B0049XGNKK', 'B00007E7JU']\n",
      "AGXMC3ITWZASE ['B002JCSV5I', 'B0002XQDSS', 'B005O9YMM4', 'B004BFXBXI', 'B00004SQET']\n",
      "A23NSKTMSPPBTR ['B00BQ4F9ZA', 'B00HG1L334', 'B00B9KOCYA', 'B000M17AVO', 'B000LRMR26']\n",
      "A3NKRH3TJ4DPVI ['B003ES5ZUU', 'B000067RVL', 'B001C271MA', 'B003WGJYCY', 'B001F7AJKI']\n",
      "A1KD8NJPZ01R37 ['B0014YGAN2', 'B00001W0DI', 'B005MLAZ8Y', 'B003ZBZ64Q', 'B000AP05BO']\n",
      "A1FOSIV4TWZFR7 ['B00A4V22G0', 'B009ZGK6QS', 'B002Q0W816', 'B003VVYL46', 'B00026BQJ6']\n",
      "A2WDCAMKCCP1UR ['B002WE6D44', 'B003MTTJOY', 'B00000K13L', 'B005HNHRA6', 'B005CLMJLU']\n",
      "AHIK7BUXFRMT8 ['B0074FGLUM', 'B002K9IHGI', 'B0003009AI', 'B00109Y2DQ', 'B00007KDVJ']\n",
      "AOTZOHB2LZGYR ['B003PJ6QVU', 'B009O7YUF6', 'B004SUO068', 'B0036Q7MV0', 'B00746YHV6']\n",
      "A1HBI9BBQIG1NH ['B0016BVKAQ', 'B00ATM1MHO', 'B001B11GTQ', 'B004NY9UUK', 'B00126R3P6']\n",
      "A2PREU4LOFQRB1 ['B000N99BBC', 'B005CT56F8', 'B004UHY8SO', 'B00DR9V1T0', 'B0077E48A0']\n",
      "A2WLNSZ9U0T1S3 ['B0012Y2LLE', 'B000VX6XL6', 'B002K9IHGI', 'B001OI2YNS', 'B001L1H0SC']\n",
      "A2FZQF0MH29VYN ['B002WE6D44', 'B002V88HFE', 'B004C9P9TM', 'B003WV5DJC', 'B0016LFN2C']\n",
      "AO8NH0BV82XIE ['B005DQG5SC', 'B007BZRXK2', 'B002FB684E', 'B000AYKUUQ', 'B001AI6CNK']\n",
      "A3HPCRD9RX351S ['B0029N3U8K', 'B005HQ50SO', 'B007OY5V68', 'B00330O2U8', 'B00006HOKR']\n",
      "A324X7RVDAV3FT ['B004Y1AYAC', 'B000ZMCILW', 'B000IF51UQ', 'B003Y322RO', 'B001BSQK8Q']\n",
      "A2B7BUH8834Y6M ['B002NEGTTW', 'B004JZI78O', 'B003XIJ3MW', 'B003FHNDF4', 'B005L38VPC']\n",
      "A3TPNC3TKGCCEI ['B005FE7URM', 'B00BWF5U0M', 'B00FRMAOIO', 'B003M0NURK', 'B0042FZ50O']\n",
      "A1S27P7KJO9I96 ['B0099SMFP2', 'B009A6CZ30', 'B00F3F0EIU', 'B00171V6BS', 'B00091S0WA']\n",
      "A30J7WQV0ZNRXG ['B007PJ4P4G', 'B00COEBCXY', 'B00ISIG690', 'B00003G1RG', 'B008OHNZI0']\n",
      "A3PD8JD9L4WEII ['B009USAJCC', 'B003CJTQJC', 'B006ZT4VA0', 'B002VPE1X4', 'B0082E9K7U']\n",
      "AI2AOCTC8BQVZ ['B001342KM8', 'B000CKVOOY', 'B007WTAJTO', 'B002WM8ZV0', 'B001702I16']\n",
      "A2KOV8XWZOZ0FQ ['B003ES5ZUU', 'B001IEZX3G', 'B007P71IM0', 'B00BCA41PW', 'B0031RG2JC']\n",
      "A3LDPF5FMB782Z ['B000QUUFRW', 'B002V88HFE', 'B001QFZMBU', 'B001SER48S', 'B0035JD0DW']\n",
      "A2DF62DP20RIXF ['B001F51G16', 'B00000J1TX', 'B000MQK6BK', 'B0013ITQA8', 'B009Z7KMUM']\n",
      "A215IN14OKAE2T ['B0002D6QJO', 'B00B588HY2', 'B0017JY5FE', 'B001LYUG3A', 'B001C48HTO']\n",
      "A17O9AHKHK66AI ['B004QGXOOI', 'B0013FK9U2', 'B008TCUXLW', 'B00AQNTPBG', 'B0089WY3NQ']\n",
      "A2S26YGSVXBCFL ['B001FA1NZK', 'B00B3PDHBU', 'B002TLTE7I', 'B000LRMS66', 'B00F3F0EIU']\n",
      "A1O229NVVDJUX2 ['B006W8U2MU', 'B001TH7GSW', 'B002NEGTTW', 'B005IMFX2K', 'B00834SJSK']\n",
      "A195EZSQDW3E21 ['B003ES5ZUU', 'B0035FZJHQ', 'B001EO6W8K', 'B005IY2OD4', 'B006K553LU']\n",
      "A35W3JQYP0M655 ['B005EWB396', 'B001MXLD4G', 'B000P1R9QM', 'B00G4V0QSK', 'B00EPCN9O8']\n",
      "A35A2RWUMC737N ['B003MTTJOY', 'B005GI2VMG', 'B000E9U9GC', 'B0034HIB0W', 'B004JISIE4']\n",
      "ATDE9JYCPI0L1 ['B00029U1DK', 'B000VQ3R44', 'B001NTDGQC', 'B000ETY3LO']\n",
      "A3F3B6HY9RJI04 ['B004ELA0SS', 'B004CLYEDC', 'B002DUCMQU', 'B000UIA6YM', 'B000068O34']\n",
      "A1NQFT941TOTT7 ['B000QUUFRW', 'B002WE4HE2', 'B00198DM2K', 'B009NB8WRU', 'B005QX7KYU']\n",
      "A2XRMQA6PJ5ZJ8 ['B000BY52NK', 'B00L3YHF6O', 'B007R5YDYA', 'B0000BZL1P', 'B004GF8TIK']\n",
      "A2J7FHZFKOKGZ6 ['B00629NHW6', 'B0002WPSBC', 'B003U8CP84', 'B002OOWC3S', 'B0021RBYQY']\n",
      "A1143YEAZYMYHJ ['B00BQ4F9ZA', 'B000N99BBC', 'B000M17AVO', 'B001EYV9TM', 'B000066JQU']\n",
      "A1522TN5FVJL0Y ['B0034CL2ZI', 'B003W9B4H4', 'B00004VX3T', 'B0000658CH']\n",
      "ALDAF4VVLFRHP ['B004CLYEDC', 'B004CLYEFK', 'B0013FRNKG', 'B004L9M4C8', 'B00829THEG']\n",
      "A3R4794K2RVU1S ['B001S2PPT0', 'B00461E7JE', 'B00006B7HB', 'B004HHICKC', 'B005UBNKWO']\n",
      "A2SH7OWE8QJYNC ['B000089GN3', 'B001C9KW88', 'B0051G5SBY', 'B000JSFT0Y', 'B002CWZ29S']\n",
      "A2Y29IRSI08F0I ['B0045KGZOG', 'B000EH6GKM', 'B002CA19W4', 'B0089E5R0W', 'B002VPE1QG']\n",
      "A3S3R88HA0HZG3 ['B005NGQWL2', 'B000JMJWV2', 'B005FDXZJU', 'B001TUYTZM', 'B000BQ7GW8']\n",
      "A32HSNCNPRUMTR ['B0041RSPRS', 'B002IJ95ZM', 'B0011B9F1M', 'B002HWRJBM', 'B001UGMTKC']\n",
      "A2SNE4QQGVP13U ['B000N99BBC', 'B009O7YUF6', 'B001E1Y5O6', 'B00461E7JE', 'B00DSUTVK4']\n",
      "A26KXNN6H1IL0I ['B008OEHPKM', 'B0016D1I0G', 'B004Q3R9AQ', 'B0012Y541S', 'B000VWPULQ']\n",
      "A2BYV7S1QP2YIG ['B000BQ7GW8', 'B0002WPREU', 'B00GMTN96U', 'B004RDWVUS', 'B003WUBIZQ']\n",
      "A2ZY3S7SD3QO8Z ['B00GO4GMAI', 'B00E0HITQ6', 'B00829THK0', 'B0088CJT4U', 'B003ZQYVVK']\n",
      "A20VG5W98SX99L ['B001OOZ1X2', 'B00834SJSK', 'B00834SJNA', 'B001AGM2VI', 'B003YGMECE']\n",
      "A2V5M5EJPOD2IU ['B00E0HITQ6', 'B00B588HY2', 'B00D5Q75RC', 'B004NHCGJO', 'B000QZ0036']\n",
      "A1QOK9LU90ACF7 ['B000F7QRTG', 'B001IEZX3G', 'B000MX48VM', 'B002SFDJMQ', 'B000VJRUKS']\n",
      "AMZCZBK1EF1PV ['B003S5SOLG', 'B004CLYEDC', 'B0015YJOK2', 'B00CD778LC', 'B000I04WWY']\n",
      "A2F7CSE6KT7NI4 ['B004ELA0SS', 'B004CLYEDC', 'B001FVI91U', 'B000051299', 'B00HHRP11C']\n",
      "A1ZCSSCAGBCD49 ['B002MPPHKY', 'B006EKIQYM', 'B004CLYEDC', 'B003LR7ME6', 'B009SYZ8OC']\n",
      "A2L4W1M5YU5QX3 ['B001TH7GUU', 'B0012Y2LLE', 'B00E9YIFKA', 'B005FYNSPK', 'B00CM0XHNS']\n",
      "A21GW4L8FO307V ['B000CRFOMK', 'B004S4R5CK', 'B0088PUEPK', 'B0086A7AB8', 'B0036E8V08']\n",
      "A3J2YU2D9BH2J7 ['B0052SCU8U', 'B001TH7GUA', 'B0006I1TRY', 'B004SBBD8U', 'B0056VP0KS']\n",
      "A1T7EHCMZ92TKC ['B001ENOZY4', 'B008PQAFR4', 'B00EN27SHY', 'B00429N160', 'B005HMBQR2']\n",
      "A2RU4U1JZ3DMP5 ['B00017LSPI', 'B00007E89K', 'B003LR7ME6', 'B005LFT3GG', 'B004AGX4YO']\n",
      "A21KNRUAA5RK5E ['B002MZUNXU', 'B00DQKQ7U8', 'B002IJA1EG', 'B0036R9YA6', 'B00B4OCWE8']\n",
      "A11I1I9QLMAM1A ['B00D5Q75RC', 'B00E3RH5W2', 'B00IF4OATU', 'B00BCA41PW', 'B00F0DD0I6']\n",
      "A1E55W6ES0FY17 ['B00007GQLS', 'B00IVPU7DG', 'B0010YWPZ8', 'B003BKW2K2', 'B0014DURIW']\n",
      "A2HRHF83I3NDGT ['B000M2TAN4', 'B001W26TIW', 'B00A9NE84C', 'B007WTAJTO', 'B005LJQMCK']\n",
      "A2AFTRU43PY9P5 ['B0046TJG1U', 'B001TH7GSW', 'B007X6FCWA', 'B0093F4ROI', 'B006VFQ74G']\n",
      "A2GOHNFBHUU3UI ['B00AEKEA48', 'B000KJQ1DG', 'B000HGIWN4', 'B000EON3WY', 'B001F8SCRE']\n",
      "AWJWCKB92RJX2 ['B000U5TUWE', 'B000A5T7AO', 'B002EVP85K', 'B004ZXZK4O', 'B00093IIRA']\n",
      "A209G57KXCBF4C ['B0007M610Y', 'B00COHALOM', 'B00CJKW4WQ', 'B0013A1XDE', 'B00385XYU2']\n",
      "A2Y4H3PXB07WQI ['B003ES5ZUU', 'B000CRFOMK', 'B003AVMRQG', 'B005CT56F8', '0972683275']\n",
      "A11YOTONCPRQ9S ['B000VX6XL6', 'B007WTAJTO', 'B0031RG29M', 'B000UHQVOW', 'B000233WJ6']\n",
      "A2E1EFNIZL2FVA ['B00834SJSK', 'B006ZBWV0K', 'B00BWL33H8', 'B005DKZTNK', 'B00JC5Y6YA']\n",
      "A1P0JSFW184ZXJ ['B0034CL2ZI', 'B00ESYW40S', 'B00EMHVVNM', 'B008C1JC4O', 'B008ULPAT2']\n",
      "A1SB9BNNGKNX2Z ['B000HPV3RW', 'B000CKVOOY', 'B00017LSPI', 'B001PIBE8I', 'B005HSDLCO']\n",
      "AT28RL25Q2OLK ['B0000BZL1P', 'B00IX2VGFA', 'B00005NIMJ', 'B004XC6GJ0', 'B000L9OIQ2']\n",
      "A200DY76VXVGP9 ['B003LVZO8S', 'B002V88HFE', 'B004GF8TIK', 'B0052SCU8U', 'B005755U0I']\n",
      "AZ515FFZ7I2P7 ['B006JINHYS', 'B00DR6DQZA', 'B0002ZAILY', 'B00740MR78', 'B003LSTD38']\n",
      "AYP0YPLSP9ISM ['B000F7QRTG', 'B001TOD7ME', 'B005AY01RI', 'B0002L5R78', 'B002IXZ5DE']\n",
      "A2PSD2R9A1CXG7 ['B0012Y2LLE', 'B001TUYTZM', 'B000AZ57M6', 'B005JW6WQU', 'B001TANZ0W']\n",
      "A7QMQBGJ2TCQG ['B001BTCSI6', 'B000EOSHGQ', 'B00015GYU4', 'B000VDF5RO', 'B000CSQJ8C']\n",
      "A1T1YSCDW0PD25 ['B005ES0YYA', 'B004S4R5CK', 'B002WE6D44', 'B000CKVOOY', 'B00IX2VGFA']\n",
      "A1JZFGZEZVWQPY ['B006ZBWV0K', 'B0003NN83U', 'B00DB9WCR6', 'B002S53LJ2', 'B007I5JT4S']\n",
      "A32LX4XJ2LU740 ['B005KFONIU', 'B00006B9CR', 'B004HHICKC', 'B0054L8MR8', 'B002J9HBIO']\n",
      "A2A4X545ERLS7H ['B0052SCU8U', 'B00081A2KY', 'B008LTBITY', 'B007WTAJTO', 'B000VEOIEO']\n",
      "A2NXRD80LWHUOP ['B002MUYP3E', 'B007I5JT4S', 'B00B99JU5M', 'B005HMKKH4', 'B000FBK3QK']\n",
      "A2L36AGL8CKY3D ['B002WE6D44', 'B000233WJ6', 'B0083XTQ42', 'B0062HIQLU', 'B004Q81CKY']\n",
      "A2XPK6XCL0UH1S ['B002EEP3MK', 'B000EMU4HS', 'B003JV3XZ6', 'B00267S7UK', 'B00AJG3NK4']\n",
      "A1YVO5V1SO18DZ ['B009NHWVIA', 'B00CD8ADKO', 'B00HWMPRKM', 'B00CB2F65O', 'B0032FPVKE']\n",
      "A3A4ZAIBQWKOZS ['B00COF7DGS', 'B005IMFX2K', 'B007BXD66E', 'B00HZWJGS8', 'B006EKIQYM']\n",
      "ASFP250F22MDZ ['B001KJ91V4', 'B003XIJ3MW', 'B000PNGM18', 'B003YKG2XM', 'B002HWRJBM']\n",
      "A2OOLI2WFY4L2 ['B003ES5ZUU', 'B000HDJT4S', 'B002ROHZ50', 'B004YLAYHA', 'B0016RNX2I']\n",
      "A3EFSLEMHNPP6A ['B001TH7GSW', 'B001XUQPB4', 'B00176TEGM', 'B002DW99H8', 'B0041G5XFQ']\n",
      "A20DDH4NT6Q1E8 ['B00BW6KCTU', 'B00FR6VL50', 'B001OOZ1X2', 'B009JPBPWO', 'B004HHICKC']\n",
      "AI0BCEWRE04G0 ['B000L47AHG', 'B009SGB3KI', 'B0002RBQO0', 'B0013LQD7Y', 'B00E87OITK']\n",
      "AMO1MLSIJSQOF ['B00CRJWW2G', 'B00390JT1O', 'B0054L8MR8', 'B004XNLR16', 'B000FJUMWC']\n",
      "AMUP8DYE7EAN2 ['B000N99BBC', 'B001DJ64D4', 'B0009K9FZW', 'B000Q82PIQ', 'B00829TIA4']\n",
      "AENULRBQ2IE5I ['B004XC6GJ0', 'B001TSMJDS', 'B000W8JFPG', 'B003BLQHN4', 'B00456EC1I']\n",
      "A3G5MOHY1U635N ['B00005T3G0', 'B004HIN7SI', 'B004G6002M', 'B00081NX5U', 'B0014Z29U4']\n",
      "ACY9QYNDFLVBI ['B003ZSHNGS', 'B003MTTJOY', 'B007SZ0E1K', 'B002IO2UM2', 'B004Z0S6RU']\n",
      "ANEXFROORI6F6 ['B0010Z294O', 'B0016SN49Y', 'B001Q2FM5E', 'B0029F21LA', 'B000MY02LQ']\n",
      "A1ZA5SXZS8Z3CK ['B007PJVB3Y', 'B002OFP6QW', 'B004O0PAKW', 'B007QWIA52', 'B0000BVYTV']\n",
      "A30R8VFR16RE32 ['B0019EHU8G', 'B003ES5ZUU', 'B000JLP5UK', 'B00829THVO', 'B000M3ILF6']\n",
      "AFR9GYKAHM37U ['B000S5Q9CA', 'B005J7YA4G', 'B000KO0GY6', 'B0002EQU6C', 'B002QG2H7K']\n",
      "A8P6GIIQ6YQV8 ['B001MSU1HG', 'B00609B3J2', 'B000AAN76Y', 'B008Y2SPE4', 'B00BY3XOSW']\n",
      "A2PJH18W4XHTZW ['B000M2TAN4', 'B003L1ZYZ6', 'B006U3O566', 'B002WE6D44', 'B0009K9FZW']\n",
      "A2ZY49IDE6TY5I ['B004RDWVUS', 'B00746YZS6', 'B008ULPA2O', 'B005NHR6MU', 'B004UHWZDY']\n",
      "AGOH8N902URMW ['B005DIQ2OC', 'B000N99BBC', 'B005JW6WQU', 'B006TAP096', 'B00CEZBKTO']\n",
      "A2VCXIAWCPQ13P ['B0010Z28XG', 'B001MSU1FS', 'B004G6002M', 'B000LRMS66', 'B000L9635G']\n",
      "A2CIQEY05SPHTZ ['B002V88HFE', 'B001QTXL82', 'B002LEVGMO', 'B001TANZ0W', 'B000O8WE66']\n",
      "A2N75ADJSRW0AH ['B000VUIXOO', 'B00CDS9HTM', 'B001KELVS0', 'B005EJH6Z4', 'B001RB24PK']\n",
      "A1VHCO8RQFIGQJ ['B002LTWDSK', 'B00007GQLU', 'B003SQEAY0', '9983891212', 'B002K42W4Q']\n",
      "A5A4374R8I7NB ['B004LNXO28', 'B001ELK2NY', 'B00494XZ1Y', 'B004YPK5ZW', 'B001B0Z4CM']\n",
      "A39137LW12KK7B ['B003ES5ZUU', 'B00829THO6', 'B004G6002M', 'B0093H4WT6', 'B002VPE1Q6']\n",
      "A3IRA0BHI9NE9U ['B0036Q7MV0', 'B003VAHYNC', 'B000067SG2', 'B005PYD2RE', 'B000FBK3QK']\n",
      "A14I1F2H7NOYDC ['B00029U1DK', 'B003L1ZYZ6', 'B001KB6Z2U', 'B0034XIL60', 'B005KK41ZK']\n",
      "A3QDY9I0CNMD2W ['B001TH7GUU', 'B001SJVU24', 'B0009PAVI2', 'B00092GM0Q', 'B000VIQ6AO']\n",
      "A2V2URLB31HG59 ['B007PJ4P4G', 'B002TLTE6Y', 'B009YQ8BTI', 'B00COEBCXY', 'B000IELOY4']\n",
      "A1Z4GII5CHCDG7 ['B006QB1RPY', 'B004QQY2JO', 'B00834SJNA', 'B00267S7XW', 'B000E6G9RI']\n",
      "A3S5WYWYKSAI9C ['B0002SQ2P2', 'B00B99JU5M', 'B006WHPQD6', 'B000EMWBT2', 'B005T25ZQS']\n",
      "AG6TX1ZJHLMO7 ['B00EHZYWGM', 'B00C20KWP4', 'B000FJJASO', 'B0015VW3BM', 'B00004TWM6']\n",
      "A6VPK7X53QNAQ ['B003WKOENO', 'B000RZQZM0', 'B0013FRNKG', 'B0011ZK6PC', 'B003LSTD38']\n",
      "A1GW7V6S6XSXX3 ['B006DDT6JO', 'B00834SJSK', 'B00C28L138', 'B00546JKJC', 'B005E8MVV4']\n",
      "A1KDUQ2HU0WD68 ['B00IVFDZBC', 'B005KAK2FI', 'B00DR6DQZA', 'B00B3PDHBU', 'B007X3VC7W']\n",
      "A2503LT8PZIHAD ['B003XIJ3MW', 'B0079UAT0A', 'B008MF3X9K', 'B000ANOYMC', 'B008X9ZBVI']\n",
      "A3V15SFD7918WZ ['B006JINHYS', 'B001ELK2NY', 'B005C95NCY', 'B001T9NX9Q', 'B00006346W']\n",
      "A1QRST0A3IQIEF ['B007R67FNA', 'B000HKDA0U', 'B004Q81CKY', 'B009SIJ7G8', 'B00372X8UC']\n",
      "A32O5FZH994CNY ['B003L1ZYZ6', 'B000ZMCILW', 'B0041D81WQ', 'B000B6D39I', 'B004YKXGIK']\n",
      "A149RNR5RH19YY ['B000089GN3', 'B001OOZ1X2', 'B001F51G16', 'B00001P4ZH', 'B0002UBDDG']\n",
      "A3RGHO0Q938FRS ['B000N99BBC', 'B0000B006W', 'B000OFWJO6', 'B00829TIEK', 'B00EOI2SR2']\n",
      "A3AGQAXTX6VRJ3 ['B0007QKMQY', 'B0019EHU8G', 'B000N99BBC', 'B001KUL012', 'B0002Y5WZM']\n",
      "A2X06FP2PQ6EK0 ['B006W8U2MU', 'B003ES5ZUU', 'B004LSNF04', 'B000VE2RP6', 'B0055FZIX4']\n",
      "A27H61OHW44XA7 ['B001TH7GSW', 'B004Q3R9AQ', 'B000H0IF2S', 'B000MF4N42', 'B0048BPDGI']\n",
      "ABDR6IJ93HFIO ['B000HDJT4S', 'B00CSMYBFS', 'B00FUV7OP8', 'B00009WO51', 'B004G8QO5C']\n",
      "AJL3U764D7NI3 ['B005ES0YYA', 'B007SZ0E1K', 'B000CKVOOY', 'B003LPUWT0', 'B000Q8UAWY']\n",
      "AT09WGFUM934H ['B008EQYRRY', 'B007WTAJTO', 'B002OJN250', 'B008Y8PON8', 'B002OFP6QW']\n",
      "AGR1V15L6FLMA ['B004S4R5CK', 'B009OBCAW2', 'B004N3BH0C', 'B003WOL4VK', 'B009WU5XUG']\n",
      "A2CWIYIETNBAK3 ['B00FZ9SMVU', 'B00BOHNYTW', 'B00834SJSK', 'B00829THEG', 'B001O5CCQK']\n",
      "A2UCDLO7V7DG6 ['B001O4EPHA', 'B000T93UR2', 'B003Y322RO', 'B00009R9EO', 'B0016BUKJS']\n",
      "A3LPL35P7FH78Y ['B003N8GVUY', 'B009WA115M', 'B00KFAGCUM', 'B003FVJYF8', 'B006W8U2MU']\n",
      "A30XZK10EZN9V4 ['B003L1ZYZ6', 'B000QUUFRW', 'B004Q3R9AQ', 'B004AGX4YO', 'B004LEAYXY']\n",
      "AHF4I1FSIHABC ['B00009XVCZ', 'B002NEGTTW', 'B00006I53W', 'B0002Y5WZM', 'B00009R6WY']\n",
      "AO2EURP2Y4JZM ['B0034CL2ZI', 'B00829TIEK', 'B001CIREXA', 'B000LB7G00', 'B002ZCXJZE']\n",
      "A3EWJX7W1X7E79 ['B003CJTQJC', 'B005X64MN2', 'B000NB05MO', 'B0002E51CQ', 'B006GDY57O']\n",
      "A3GX0FAMEXV6FB ['B000QUUFRW', 'B005S0XYKK', 'B001G4QXLE', 'B005DLDTAE', 'B0064FS7HI']\n",
      "A1NGFGBX2VCQS8 ['B009YQ8BTI', 'B004W2JKWG', 'B004CLYEDC', 'B000BSN4UY', 'B008HO9DIG']\n",
      "A3D5B2CBFNJB0K ['B009YT6PPC', 'B003B3P2CE', 'B009WA115M', 'B00FRMAOIO', 'B007PTCFFW']\n",
      "AOEDWQLH2WKKW ['B005ES0YYA', 'B00BQ4F9ZA', 'B004C9M7UG', 'B00HFRWWAM', 'B0028N7442']\n",
      "A2WB7LZ595CR50 ['B001TH7T2U', 'B001TH7GUU', 'B001OI2Z4Q', 'B00429N18S', 'B001U02JZ8']\n",
      "A2MOJANFPX353G ['B009USAJCC', 'B0035FZJHQ', 'B0093HMKVI', 'B002DYIXN2', 'B000VZCEUI']\n",
      "A3SU7JSTPH9CC9 ['B003ZTKFEE', 'B0034WR71G', 'B002ZIVKAE', 'B00CFCTDD6', 'B003TLSXMO']\n",
      "AVBLGXSWRN666 ['B000F7QRTG', 'B005JN9310', 'B001N9X4CS', 'B00EO96W2I', 'B0013FRNKG']\n",
      "AA3FTJYJYX55C ['B003FVVMS0', 'B0041OYS36', 'B0060B7NCG', 'B00BV9TY8I', 'B00B7GV802']\n",
      "A379DLIAF0MFM5 ['B000N99BBC', 'B001OOZ1X2', 'B001TH7GSW', 'B001SJVU24', 'B000DZMC3K']\n",
      "A3J8A5L5AF5TX9 ['B000OGX5AM', 'B000JMJWV2', 'B001W28L2Y', 'B0002MQGOA', 'B00001P4ZH']\n",
      "A1HYH206E18XVC ['B002M3SOC4', 'B00EO96W2I', 'B00FZ9SJLS', 'B001I45BQK', 'B000VJWJW2']\n",
      "A2FRKEXDXDN1KI ['B008EQZ25K', 'B000RZQZM0', 'B00FAYL1YU', 'B0002Y5WZC', 'B000VZS2EU']\n",
      "A3V0YR50F1XSKP ['B0088PUEPK', 'B000OGX5AM', 'B005LIDU5S', 'B0002VAQR4', 'B006UUF27U']\n",
      "A1F7YU6O5RU432 ['B0044YPN0A', 'B00GO4GMAI', 'B004GF8TIK', 'B002K9IHGI', 'B002IO2UM2']\n",
      "A2NB2E5DXE319Z ['B0052SCU8U', 'B005ES0YYA', 'B0000BZL1P', 'B007R5YDYA', 'B009SYZ8OC']\n",
      "A17W0GMB0YY83M ['B001CIREXA', 'B003XM73P2', 'B00392CI7E', 'B0007LJHVA', 'B001NJ0D0Y']\n",
      "AS269J1OGZT1V ['B002YU83YO', 'B0011U65F2', 'B0058AH2US', 'B0056TYRMW', 'B003NUNKU6']\n",
      "A2CWUM49ZWMGEY ['B005ARQV6U', 'B009A6PJKQ', 'B0040G5KY6', 'B000050AUJ', 'B0059H60SK']\n",
      "AGGAQLXPVGM5D ['B001A4LVYY', 'B00006L4FX', 'B0011Z44UA', 'B0014S5FVQ', 'B000SQYZE8']\n",
      "A2AEZQ3DGBBLPR ['B00006JU62', 'B000A3WS20', 'B000068MP5', 'B00004Y7CF', 'B0000VYJRY']\n",
      "A3VBZDYGHF4NK8 ['B002MCZJ78', 'B0018P0S1M', 'B00AXVXXNC', 'B005YR0X4W', 'B005EWB37S']\n",
      "A37IRE9GZ0CZ7I ['B003ES5ZUU', 'B00CI3BIWQ', 'B003LSTD38', 'B000JE7GPY', 'B000067RC4']\n",
      "ADZF3QDGSZE7K ['B0076W9Q5A', 'B001TH7GSW', 'B001TANZ0W', 'B0093HGD2K', 'B00C13ON7K']\n",
      "A3J029KBNG5MNP ['B00D5Q75RC', 'B00D429Y12', 'B009YT6PPC', 'B0034CL2ZI', 'B005LAIFE2']\n",
      "AT8V3JOZD3KWK ['B00889ST2G', 'B004Y1AYAC', 'B002WE6D44', 'B001144JQU', 'B00768SBAU']\n",
      "A2ARDVMUGDFED6 ['B002TMRZOQ', 'B001ENW61I', 'B001M4HXB2', 'B0016XIQ1U', 'B001FWBUUG']\n",
      "A28N2AWOVO2PB ['B009YT6PPC', 'B000O8WE66', 'B0090IA4FO', 'B002YOENAS', 'B000V9T2JA']\n",
      "A110VKXAVLAYKY ['B004G6002M', 'B002ZIMEMW', 'B001UE6N6A', 'B003WPTBAK', 'B00009VQJ7']\n",
      "A213J54E63SYOP ['B001MSU1FS', 'B000CRFOMK', 'B002V88HFE', 'B0088PUEPK', 'B008ZGKWQI']\n",
      "A18A5VSD0IPN14 ['B003VSTDFG', 'B008ZGKWQI', 'B0049SCB2Y', 'B00CALM17C', 'B00422KZQG']\n",
      "A3JUHP1E3WUHEA ['B003ES5ZUU', 'B002K9IHGI', 'B004CLYEDC', 'B00829TIA4', 'B004BLK24S']\n",
      "A1VQHH85U7PX0 ['B00IVFDZBC', 'B000NP3DJW', 'B003CJTQJC', 'B0000BZL5A', 'B005KAK2FI']\n",
      "A1Z3598J0371ND ['B0019EHU8G', 'B000WXSO76', 'B004IEALDK', 'B00EZ2E8KC', 'B005JE3VYY']\n",
      "A3QRW0UJPKIAX7 ['B007KZQM8W', 'B00578KYZG', 'B009WG6JF8', 'B0019M6GP6', 'B004VM0SE6']\n",
      "A1MCH5RXDOH87H ['B008EQZ25K', 'B00006B7HB', 'B00CK4OZGO', 'B003ES5ZSW', 'B005KP473Q']\n",
      "A2XCCN239AR1XK ['B001TH7GSW', 'B008LTBITY', 'B004CLYEFK', 'B00FFJ0HUE', 'B0071CU6HC']\n",
      "A2ZGDHLJ85T6AD ['B0034CL2ZI', 'B001TH7GVE', 'B00EU9V3S0', 'B009VV56TY', 'B0025VKUQQ']\n",
      "A2IFGGXG3YV3Y6 ['B003ES5ZUU', 'B00D5Q75RC', 'B0035FZJHQ', 'B009B0MZ8U', 'B004AK154Q']\n",
      "A1ZPUEHF4AES86 ['B005ES0YYA', 'B0019EHU8G', 'B0015YJOK2', 'B005U0M9B8', 'B00746LVOM']\n",
      "A1G3DKT38DNZJP ['B001TH7GUU', 'B004ABQAFO', 'B00004YZLX', 'B002SZEOLG']\n",
      "A1EH2S92FHWZRP ['B003ES5ZUU', 'B000M2GYF6', 'B001PIBE8I', 'B004HIN7SI', 'B004JMZPJQ']\n",
      "A1EVV74UQYVKRY ['B006ZT4VA0', 'B00CHH0JF0', 'B00E3FHXYO', 'B001F7AHOG', 'B00EDCF0MY']\n",
      "A1DQHS7MOVYYYA ['B00387EW1K', 'B000PCX780', 'B000EXS1BS', 'B000VJRUKS', 'B007PJ4PLO']\n",
      "A2LF07KCXDR70D ['B0002Z240M', 'B00548SKMI', 'B0077QTSQM', 'B0074BW614', 'B0002GX1XA']\n",
      "A3MU9G6YWKTGTA ['B000092TT0', 'B003N12TSY', 'B001UADEPC', 'B005HMKKH4', 'B0057V9HQ0']\n",
      "A1F0KPA232MTYC ['B001QUA6RA', 'B0002LEMWE', 'B00829TIEK', 'B004QXFHJG', 'B003BLS926']\n",
      "A1V4VVBQBFXRHC ['B003SGCO3E', 'B00APCMMDG', 'B000KO0GY6', 'B0001XGQTA', 'B00EOI2SR2']\n",
      "A8FKL1DHTHC12 ['B002NO7PWC', 'B000V5P90K', 'B0062EUE54', 'B0043RS864', 'B004LTEUDO']\n",
      "A34VRVI4CSI5RQ ['B00D429Y12', 'B00IRRDHUI', 'B00CE590Z0', 'B009AU2JT6', 'B002OOWC4C']\n",
      "A2YW6XOID7GV6G ['B002WE6D44', 'B001EYV9TM', 'B0058FAYPI', 'B00449F6I4', 'B0017KH6OU']\n",
      "ANTGGAQYPSWHF ['B006EKIQYM', 'B004Q3R9AQ', 'B004J3V7RO', 'B0055YB5IC', 'B00BBAFWLK']\n",
      "AGVWTYW0ULXHT ['B001FA1NZK', 'B00BOHNYU6', 'B00B588HY2', 'B005FDXZJU', 'B00829TIA4']\n",
      "A2LW5AL0KQ9P1M ['B004SGJCCO', 'B00EOE4G4E', 'B008MF3X9K', 'B00DQZSFSA', 'B00DQZQCUI']\n",
      "A16J281SJ9QXIQ ['B000O8I474', 'B007KEZMX4', 'B00FNPD1VW', 'B009W8EWOG', 'B003XIJ3MW']\n",
      "AHR86ZEYETLJI ['B006W8U2MU', 'B007VGGFZU', 'B004LVMCMS', 'B00AXTQQDS', 'B0002EQU6C']\n",
      "A2UOHALGF2X77Q ['B00FR6VL50', 'B001BM5XB2', 'B000M17AVO', 'B002WE6D44', 'B006LW0W5Y']\n",
      "AFNG8O2DXRCUV ['B001TH7GUU', 'B000M17AVO', 'B007WTAJTO', 'B00CKK8GEU', 'B0053OLY9O']\n",
      "A2YEZ8Z3BW2SKG ['B00017LSPI', 'B004CLYEFK', 'B000AOTLP6', 'B0043EV20Q', 'B003ES5ZSW']\n",
      "A3A15L96IYUO6V ['B001DJ64C0', 'B004XZHY34', 'B005L38VPC', 'B000KBG51W', 'B00001P4XA']\n",
      "A8WEXFRWX1ZHH ['B00006B9CR', 'B009APBY0G', 'B00FGOTA6K', 'B00H09BB16', 'B002BNLYFY']\n",
      "A2LLSFQO8O8XNW ['B00429N18S', 'B002Z2QDNE', 'B0033BU0F8', 'B000BC7QMM', 'B005CT56F8']\n",
      "A32QOZWIKQDNZX ['B003ES5ZUU', 'B001SJVU24', 'B0000C8817', 'B0002WPSBC', 'B0019I1K0G']\n",
      "A3EZEP0FX5BC1P ['B00005LEN4', 'B00FR6VL50', 'B00FJRS5BA', 'B00030DEQE', 'B00004SB92']\n",
      "AK3GKIV8DEY8B ['B00009R6JT', 'B0009Y7APU', 'B000NBBWNU', 'B001CCLBSU', 'B000J5LA9Q']\n",
      "A2TVJ0YDW3QO63 ['B004CLYE8C', 'B00829TIEK', 'B004GUT1QO', 'B00005S8KM', 'B00858I4F2']\n",
      "A23R3EOZ837242 ['B0052SCU8U', 'B0034CL2ZI', 'B0049SCB2Y', 'B003CJTQJW', 'B005IHAIKM']\n",
      "A361U4SXK7FCQE ['B00BOHNYU6', 'B005KFONIU', 'B00D1GYNT4', 'B002TLTE7I', 'B002FU5QMA']\n",
      "A11EYMH9UV9XG7 ['B000N99BBC', 'B00093IIRA', 'B005EM6IAA', 'B000165AOY', 'B005DIPWFC']\n",
      "A2L9OPJAAEK08Q ['B007PJ4P4G', 'B000089GN3', 'B001UNI80A', 'B001207YMY', 'B0016MF7W2']\n",
      "AC1YLEFC9AN5X ['B0034CL2ZI', 'B001TOD7ME', 'B005HSDLCO', 'B007K3SB6K', 'B004G8QO8E']\n",
      "A3M82NO6OU1FHS ['B006W8U2MU', 'B00006B7DA', 'B0093HKFYW', 'B006ZZQ5EY', 'B0018QNYSK']\n",
      "A2WCFDOCS73PNB ['B00BOHNYTW', 'B006EKIQYM', 'B00CD1FB26', 'B007KZQM8W', 'B0034CL2ZI']\n",
      "A1M7HP5CHDXXOU ['B008LTBITY', 'B008OEHPKM', 'B00D429Y12', 'B008RM235I', 'B008BUIKD0']\n",
      "A3963R7EPE3A7E ['B001BM5XB2', 'B000HPV3RW', 'B00D5Q75RC', 'B007X3VC7W', 'B000UN8MKM']\n",
      "A2LEIANN1UZTHP ['B00212NO6W', 'B004Q3R9AQ', 'B000067SG2', 'B00E055H5O', 'B0017K6BD2']\n",
      "A16RI68PS6T5CA ['B000N99BBC', 'B0099SMFVQ', 'B001DJ64D4', 'B00CI3BIWQ', 'B000M2GYF6']\n",
      "A5KMMY627T3W ['B003ZSHNGS', 'B00006I53X', 'B005DIQ2OC', 'B000MP831G', 'B000BY52NK']\n",
      "AEL6CQNQXONBX ['B0040723AO', 'B002VPE1X4', 'B0034XRDU0', 'B00JX1ZS5O', 'B00E98O7GC']\n",
      "A24HWYHR28JJ7A ['B000V5P90K', 'B0016D1I0G', 'B0036AWR8E', 'B004S4R5CK', 'B000CKVOOY']\n",
      "A2V0I904FH7ABY ['B003L1ZYZ6', 'B001DJ64D4', 'B001TH7GSW', 'B00007M1TZ', 'B009YQ8BTI']\n",
      "A3SMD3T0QTN109 ['B001UI2FPE', 'B0012Y2LLE', 'B006EKIQYM', 'B002TLTE6O', 'B004Q3R9AQ']\n",
      "AW6J9IILGOZY3 ['B003NR57BY', 'B009F7IBZK', 'B0081FLFQE', 'B00CO1HUGU', 'B00DTPYQBM']\n",
      "AEJAGHLC675A7 ['B0016D1I0G', 'B003ZKG10K', 'B004CLYEDC', 'B00D7P6176', 'B004Q3R9AQ']\n",
      "A1GYEGLX3P2Y7P ['B002K9IHGI', 'B000VX6XL6', 'B004CLYEDC', 'B00JC5Y6WM', 'B00284ALF0']\n",
      "A2LTYEYGKBYXRR ['B008YRG5JQ', 'B00H7PBWK8', 'B00ISGCAJM', 'B00J5174TU', 'B00CAMCCLQ']\n",
      "A38V76R24EJSHA ['B000WH6H1M', 'B0026IBI1O', 'B00HQZGZ38', 'B004LPY204', 'B00713DPM4']\n",
      "ABE5E8B3J7MKY ['B00007FGU7', 'B0019EHU8G', 'B000QUUFRW', 'B00006B81E', 'B007R5YGO2']\n",
      "A23WPWLYT3P1CZ ['B002UVNW5W', 'B008OHNZI0', 'B002MCZJ78', 'B001F7AJKI', 'B00AEKTGTC']\n",
      "A25FL6VLD7S23S ['B001144JQU', 'B00494XZ1Y', 'B00180LGX6', 'B00D429Y12', 'B00006JN3G']\n",
      "A233TZONT1OGR0 ['B000OG88KY', 'B0001XGQTA', 'B00005T3G0', 'B003P2V52M', 'B000MBUSD6']\n",
      "AQ2FC1DLKVD8H ['B002WE4HE2', 'B00006RVPW', 'B0002J2TLC', 'B003M2YT96', 'B001WM73P0']\n",
      "A2QNS95WGN35G9 ['B003WUBIZQ', 'B000JLK5PK', 'B0013FLTNS', 'B0036WT4EW', 'B002J9HCV0']\n",
      "A2FWZ58M6IQMD7 ['B000N99BBC', 'B007R5YDYA', 'B004XC6GJ0', 'B000VVVMQY', 'B002HTHFLY']\n",
      "A1R377IPZOKLMM ['B00007IFED', 'B002K9IHGI', 'B003XDU2Y0', 'B008HK3QII', 'B0002IWC9C']\n",
      "A1IG1I6MR3HAWA ['B00316263Y', 'B001QUA6R0', 'B0001VQEYY', 'B002HWRJY4', 'B000U5TUWE']\n",
      "AUITG1DJ3QUGK ['B004HO59M4', 'B0058UUR6E', 'B00829TIEK', 'B00ATE7SZM', 'B003N12TSY']\n",
      "A2NLI1M5K2MQ5E ['B00AAIPT76', 'B00FRHTSMW', 'B007IVDBTG', 'B003WGNSTE', 'B003XCDA9A']\n",
      "A6VXZ1EEPRTLV ['B001F7AHOG', 'B000UHQVOW', 'B0011ZCDKS', 'B00CIZ2238', 'B002VFFA5M']\n",
      "A1CM4HI4S5P0WO ['B000Q5APCC', 'B000069EUW', 'B00066Z9XG', 'B000RHZJN4', 'B001FWYLLG']\n",
      "A28LUOEY0ECT9G ['B003CKC8W8', 'B0096TK6MI', 'B009A4B5VA', 'B009G4M20M', 'B009FQWSK0']\n",
      "AL9WKVMRI6GFB ['B003ES5ZUU', 'B00CKAOJA0', 'B00G4UQ6U8', 'B00475K64E', 'B00FPKDPZC']\n",
      "A3NHUQ33CFH3VM ['B003S5SOLG', 'B00BOHNYU6', 'B006ZH0KVG', 'B00HZWJGS8', 'B009NHWVIA']\n",
      "A1C47ROOK7BSVL ['B005Q5TP5U', 'B00454YCWY', 'B0041UJVI2', 'B001VFUN82', 'B008D6JDS8']\n",
      "A3LDLV1GWQJLEQ ['B00BOHNYTW', 'B00DT04I9W', 'B002PAX9QU', 'B00346I5LI', 'B00829TIEK']\n",
      "A23ONMGKEWDG4M ['B0007G6RZE', 'B00009USW3', 'B0002SQ2P2', 'B000EXRSVM', 'B0015EMZU8']\n",
      "A186697K4XKXQL ['B0052SCU8U', 'B00CALM17C', 'B00829TIEK', 'B001S4OTS6', 'B003Y3BFB8']\n",
      "AQR4HPVSOPS08 ['B003L1ZYZ6', 'B003FVVMS0', 'B001TOD7ME', 'B000068O34', 'B0016SN49Y']\n",
      "AQIJ3ZEEVCIKU ['B003CFATT2', 'B005J31BCO', 'B004CLYEDC', 'B00FZ9SMVU', 'B002JQNXZC']\n",
      "A5CDMTW6JKV5G ['B0019EHU8G', 'B00BOHNYTW', 'B00A9NE84C', 'B001UEBN42', 'B00829TIA4']\n",
      "A3P1508PZ0UADD ['B005HY4U46', 'B0015VW3BM', 'B000I1ZWRC', 'B00170MYIS', 'B000KIDBO4']\n",
      "A1B4MIXYVIKMU2 ['B00BOHNYTW', 'B00CD8ADKO', 'B00AAHT8JC', 'B003N2POXK', 'B00829TIEK']\n",
      "A11FX8HL2ANK6T ['B00D6XW62I', 'B003ES5ZUU', 'B001F7AHOG', 'B0048IW030', 'B003VANOI6']\n",
      "A4IEUHNRFZO0 ['B003FVVMS0', 'B003ZUIHY8', 'B0074024XU', 'B0031GK3OI', 'B0084OIY0M']\n",
      "AN81JUYW2SL24 ['B003ES5ZUU', 'B00A9NE84C', 'B000S5Q9CA', 'B004CLYEDC', 'B00EL93M3S']\n",
      "ANW6EGY12V5XS ['B003BKW2K2', 'B000F2BLTM', 'B00IVPU7DG', 'B002PAX9QU', 'B009A6CZ30']\n",
      "A3KZEGBTPH6MMF ['B00DR6DQZA', 'B004N627KS', 'B000FBK3QK', 'B003LRY9Q0', 'B0015AFOR8']\n",
      "A31N0XY2UTB25C ['B008LTBITY', 'B000M2TAN4', 'B00029U1DK', 'B002WE0QN8', 'B000067RT6']\n",
      "A3F7F7QKQP2FKT ['B0060GEZ0E', 'B006U5W49O', 'B002C7481G', 'B000SMVQK8', 'B000FML9NA']\n",
      "A1OMXVXXP07F05 ['B0046TJG1U', 'B0002LEMWE', 'B004Q3R9AQ', 'B00070QI1I', 'B0079UAT0A']\n",
      "A1DO9LRCO23EOM ['B001T9NUJE', 'B00006HSML', 'B00DR9V1T0', 'B000K2NWLC', 'B001SEQPHE']\n",
      "A2XU6J41ZQOJ2V ['B000F0ELOG', 'B000BONJXU', 'B003M2YT96', 'B0009VT9OS', 'B001F7AJKI']\n",
      "AFICF7DKHTQ87 ['B009YQ8BTI', 'B0076AYNXM', 'B0002ILKWM', 'B0018ZDGAC', 'B000WY8JRU']\n",
      "A3EZFFPVS34AMO ['B000EW9Y4M', 'B001KELVS0', 'B009A6CZ30', 'B004TS2AP2', 'B001XURPR2']\n",
      "A1B6O7SAIYG2N0 ['B002TLTE6O', 'B008PQAFR4', 'B00829TIEK', 'B008RF7I5K', 'B00BEHRQB4']\n",
      "A1F9Z42CFF9IAY ['B002EEP3MK', 'B00008OE6I', 'B000J5LA9Q', 'B0007Y791C', 'B000M17AVO']\n",
      "A124WZCUIH2T7W ['B003RRFWRY', 'B0002L5R78', 'B000PTF66Y', 'B001C6IWME', 'B001TP6TDW']\n",
      "A1G5MI2KREPEIB ['B003NR57BY', 'B00006HSML', 'B00212NO6W', 'B000JE7GPY', 'B00E055H5O']\n",
      "A2BCDZO1XQLDH ['B000GABCY2', 'B000VDF5RO', 'B000RHZJN4', 'B0013A1XDY', 'B00005QFZF']\n",
      "A2GKMXRLI7KLFP ['B002SQ9ZX2', 'B001U3S5S0', 'B004M8SBD4', 'B003807GK6', 'B00426C56U']\n",
      "A2J3VCGBNDLAKF ['B000QUUFRW', 'B007RZB3KM', 'B005NC8BF6', 'B009SS0FZK', 'B0041MY32Y']\n",
      "A10ZBR6O8S8OCY ['B00FISD9DO', 'B00E87E1OM', 'B0015AARJI', 'B00834SJSK', 'B002FU5QMA']\n",
      "AEWYUPCNDV7HY ['B004CLYEDC', 'B0006I1TRY', 'B00006B7DA', 'B00BWHILCY', 'B0009YDP7W']\n",
      "A23QII83UGZP5U ['B0034CL2ZI', 'B009VV56TY', 'B008O515CK', 'B0073K64NM', 'B000F2PHDI']\n",
      "A2QI2JHSIQ3SN3 ['B0019EHU8G', 'B006U3O566', 'B007R1FH3K', 'B002XN3OL4', 'B001F6YRNO']\n",
      "AFH97KY1SBP2C ['B001LQSFKY', 'B005058B56', 'B000R5LWRI', 'B007B8S4JI', 'B002OMB7FE']\n",
      "A2NVQZ4Y7Y0J1R ['B002VPE21A', 'B000EMWBV0', 'B0002SQ2P2', 'B000O8WE66', 'B002LITT56']\n",
      "A335QXPTV1RIV1 ['B002EEP3MK', 'B005CWHZP4', 'B005OA3BSY', 'B000IHGJ50', 'B002LARRDA']\n",
      "A328GLDSDNFYII ['B005K7192G', 'B0015AARJI', 'B002OOWC3S', 'B002ZCXJZE', 'B002RM08RE']\n",
      "A2WW57XX2UVLM6 ['B0045TYDNC', 'B002G1YPH0', 'B0007GIXS8', 'B001JEPBTQ', 'B001DJ64CA']\n",
      "AT53ZTTO707MB ['B00GJYJFKM', 'B0082E9K7U', 'B00ISGCAJM', 'B004I5FL1G', 'B00JF0D7RE']\n",
      "AHQRU3MRORIWQ ['B00834SJNA', 'B0025VKUQQ', 'B00EMHVVNM', 'B00BBAFWQA', 'B00GWNWDEK']\n",
      "A22CW0ZHY3NJH8 ['B00FR6VL50', 'B00CSDMWGW', 'B0010Z294O', 'B00BERGFV6', 'B005FDXZJU']\n",
      "A1HSM98KUGTHNY ['B000RZQZM0', 'B007VGGFZU', 'B00102ZOQC', 'B002J9HBIO', 'B000JLKIHA']\n",
      "A203OCQQ12MAVT ['B000S5Q9CA', 'B000068O16', 'B00310PJM0', 'B0013LQD7Y', 'B0002GRUJ6']\n",
      "A2D1LPEUCTNT8X ['B0010Y414Q', 'B002Y6CJJ8', 'B003OBUJIK', 'B00AASPQLU', 'B004M8ST36']\n",
      "AMKNPIDFLRFMP ['B004CADY9I', 'B00E3W15P0', 'B0036WT3RU', 'B0076R7FFI', 'B0097GCUT2']\n",
      "A1AH8033GWKBY7 ['B000BTL0OA', 'B00FNPD1VW', 'B000068MP2', 'B00E98O7GC', 'B009MAKWC0']\n",
      "A3GVXKCTFN3YDN ['B001TOD7ME', 'B00834SJSK', 'B00HFRWWAM', 'B006JINHYS', 'B00BOHNYTW']\n",
      "A357B3PUHSVQA ['B00077AA5Q', 'B00834SJSK', 'B009F7IBZK', 'B005HEUUEA', 'B00CRY250U']\n",
      "ATS2855497V0I ['B0010Y414Q', 'B000N99BBC', 'B002QQ8H8I', 'B00005LB8P', 'B000O8WE66']\n",
      "A377LPVLLAI42D ['B000JLP5UK', 'B0002XQJFA', 'B0001G6U5W', 'B0002YE6G8', 'B001FA1O0E']\n",
      "A194Y47BF3CUTJ ['B0031RFVJ4', 'B001E1Y5O6', 'B000KU5CN0', 'B001EM9JXC', 'B007M4Z60Q']\n",
      "A3MQ15651KGVLJ ['B006DDT6JO', 'B0009MX5R4', 'B004CLYEFK', 'B0079UAT0A', 'B007YXA5TC']\n",
      "A1MZL91Z44RN06 ['B002WE6D44', 'B00006HSYC', 'B004CLYEDC', 'B009NHWVIA', 'B0002WPREU']\n",
      "AL1XV4L25FZ2S ['B000N99BBC', 'B002Y6CJJ8', 'B004TBBSNY', 'B0002D03ZW', 'B001QUA6R0']\n",
      "A1FDV3WPOHREY9 ['B000P1O73A', 'B005IMFX2K', 'B000F34FVM', 'B000NHZSHK', 'B00009MK5M']\n",
      "A2BLFCOPSMBOZ9 ['B006LW0W5Y', 'B00BLCVD9I', 'B00GJYJFKM', 'B00EHZYWGM', 'B005FDXZJU']\n",
      "A3AVJCB1ZD6ZY5 ['B00D1GYNT4', 'B00I027GPC', 'B00GHY5F3K', 'B00BQHD4B8', 'B006MRAVFE']\n",
      "A2YEOR4XJ8N3QE ['B002JQNXZC', 'B004N3BH0C', 'B00834SJNA', 'B003O1UYHG', 'B00GO1UV4E']\n",
      "A12R3YGEHW7D8G ['B0099SMFVQ', 'B007WTAJTO', 'B0099SMFP2', 'B00489SLEQ', 'B004R6NWBC']\n",
      "AU3GYRAKBUAEU ['B006LW0W5Y', 'B004HIN7SI', 'B001AAOZHI', 'B009CP99GK', 'B004HW7KBY']\n",
      "A8CKH8XB33XGN ['B001QUA6RA', 'B002V8C3W2', 'B001TH7GUU', 'B001EAQTRI', 'B000ID7QNI']\n",
      "A1L5TA5UQF7EWE ['B00A9NE84C', 'B00CKK8GEU', 'B0003QER8C', 'B00CSIOLXY', 'B00FFJ0HUE']\n",
      "A2J8DE8R94ZB02 ['B008EQZ25K', 'B00IVPU786', 'B0054JJ0QW', 'B003VAHYNC', 'B006YQBKE4']\n",
      "A1UQBFCERIP7VJ ['B00GO4GMAI', 'B00GMTN96U', 'B004CLYEFK', 'B0053R0WWG', 'B00JF0D7RE']\n",
      "A2C8I2RQ0WG940 ['B000VDCTCI', 'B007CS9WYI', 'B00144KS6W', 'B003S68Q0Y', 'B0037MH5W4']\n",
      "A33775AIB1A664 ['B000N99BBC', 'B0041OUA38', 'B000V1PB2K', 'B002QEBMAK', 'B0091UHMHO']\n",
      "A1NMM0RDRF6R84 ['B00007IFED', 'B0040JHVC2', 'B002KETE24', 'B002J9HBIO', 'B008RPGP9K']\n",
      "A1VVRA3P6G1TWH ['B000I1ZWRC', 'B0014Z3XMC', 'B000EXRSVM', 'B0018ZDGAC', 'B000PNGM18']\n",
      "A3KZ7OH4VRL048 ['B004CLYE8C', 'B0034CL2ZI', 'B008PQAFR4', 'B000A2BLEC', 'B00C25I5TE']\n",
      "ACHTDPEQYSEQL ['B000V5P90K', 'B00D429Y12', 'B0021AFZOI', 'B006TF37H8', 'B001TIHVHC']\n",
      "A3F8T3BRXRX5P3 ['B001UI2FPE', 'B001PS9E5I', 'B000Q82PIQ', 'B000MX48VM', 'B000M17AVO']\n",
      "A1PN2U0AWXGVML ['B000V5P90K', 'B000JMJWV2', 'B004Q0PT3I', 'B0021AFZOI', 'B004J3ZV62']\n",
      "A3K91X9X2ARDOK ['B006LW0W5Y', 'B00B3PDHBU', 'B00G6IJ5NI', 'B0015AARJI', 'B000F34FVM']\n",
      "AEAFHD09X8044 ['B000IJY8DS', 'B0017H4G0A', 'B004VM1T5S', 'B0031U1AT6', 'B0001XGQTA']\n",
      "A3S0EHEIR52HP1 ['B007PRHNHO', 'B00CJSOYMG', 'B0061RJSWC', 'B006GHYBGK', 'B003VAGXZC']\n",
      "AWNJAY0M5UI70 ['B000S5Q9CA', 'B002RCNX8K', 'B0036Q7MV0', 'B00A9NE84C', 'B001TH7GUU']\n",
      "A141R97FHSSUQ0 ['B000FFISV8', 'B003M0NURK', 'B000Z80ICM', 'B004ZMV2GA', 'B001HZUPD4']\n",
      "A2ZWJVKITA32OV ['B003CJTQJC', 'B004XC6GJ0', 'B002OGMNT4', 'B00EZWVZ44', 'B005FMM3Y4']\n",
      "A31RULW0KNYJ5H ['B0025VKUQQ', 'B0040723AE', 'B00744QNA6', 'B004QK5N5W', 'B004YW7WCY']\n",
      "A1E3OB6QMBKRYZ ['B001I45T9O', 'B00DT04I9W', 'B007VL8Y2C', 'B000V01RLK', 'B001FA1NZU']\n",
      "A2J0IBS4PFRO2C ['B002TMRZOQ', 'B000A3WS84', 'B004CLYJ0K', 'B0000C4G79', 'B004TS2AP2']\n",
      "A3CW0ZLUO5X2B1 ['B003ES5ZUU', 'B006LW0W5Y', 'B00L3YHF6O', 'B000ENUCR4', 'B000WH6H1M']\n",
      "A21S26XYPGXJZX ['B00EO302SO', 'B001TOD7ME', 'B001XURPQI', 'B005IHAIC0', 'B002GP7ZT6']\n",
      "A11KZ906QD08C5 ['B000JV9LUK', 'B00IVFDZBC', 'B00B4GGW5Q', 'B000NP3DJW', 'B007WTAJTO']\n",
      "A32NEDX6UVV8DE ['B003FVVMS0', 'B000092TT0', 'B000LRMS66', 'B0079M711S', 'B004AP9FSE']\n",
      "A3BVN2QBNPBHCR ['B000WXSO76', 'B000VE2RP6', 'B009NHWVIA', 'B00CRJWW2G', 'B00EOI2SR2']\n",
      "A1BVE2ZIBKJ7YI ['B00889ST2G', 'B000YEMKGY', 'B001PIBE8I', 'B00AXTQQDS', 'B005HQ50SO']\n",
      "A1ZPY91VE3IDN1 ['B003CJTQJW', 'B000NLLXVQ', 'B002C1BHIO', 'B00834SJNA', 'B000H84LBE']\n",
      "A3LQUEB84IR3VO ['B0046TJG1U', 'B007WTAJTO', 'B002OJN250', 'B001UEBN42', 'B005U0M9B8']\n",
      "A3SQCTNYQFVBWM ['B007WTAJTO', 'B00006JPWW', 'B00803N2AY', 'B00CRY250U', 'B00291F4RM']\n",
      "A1H7Y5XKPGT0OS ['B00EOE4G4E', 'B00A81ICCE', 'B002VPE1YS', 'B0021AFWL4', 'B003M0NURK']\n",
      "A2BX8DDQGCCG2J ['B00746W3HG', 'B003TFDUJ6', 'B004UR16ES', 'B001FA1O0O', 'B003GIJTR8']\n",
      "A3HH340REI4J47 ['B000BQ7GW8', 'B004XFYGNK', 'B004BBC2RS', 'B004KZDV8E', 'B005ZUTAUG']\n",
      "A105S56ODHGJEK ['B00IVFDZBC', 'B002TLTE6Y', 'B001NTFATI', 'B0015HYPOO', 'B0044DEDC0']\n",
      "A2IMLOJ2Z2QEU2 ['B0036V9AGU', 'B00AJHDZSI', 'B004CLYEFK', 'B003KPBRRW', 'B00CYX26BC']\n",
      "AROQO2VDODT7 ['B0000BZL1P', 'B001F51G16', 'B00009R6WU', 'B00007B4DM', 'B00166EUI0']\n",
      "A15CL28ALB7MTZ ['B0052SCU8U', 'B008ALA6DW', 'B000JMJWV2', 'B00HFRWWAM', 'B00007EDZG']\n",
      "ABXANRX4GPYRZ ['B00746W3HG', 'B0000CFYM9', 'B001212ELY', 'B000BK107G', 'B005I6EU48']\n",
      "A2R1HUYHXV7H18 ['B006JH8T3S', 'B004CLYEFK', 'B0079UAT0A', 'B002ZIN9DU', 'B00HSQAIQU']\n",
      "A30X750M8V1XXW ['B0000BZL1P', 'B001TUYTZM', 'B005KAK2FI', 'B001XURPQI', 'B001OI2YNS']\n",
      "A1MNN0ZMHYPJDU ['B00B588HY2', 'B004TPPWT6', 'B007BXD6DW', 'B008TT7CXW', 'B004VTF7IG']\n",
      "A2UTZ4O5E2W4DK ['B004W2JKWG', 'B007WTAJTO', 'B0010Z28XG', 'B001H8DF0G', 'B000PKX2KA']\n",
      "A30C8WHQ2CYFO4 ['B001BTCSI6', 'B0033PRWSW', 'B0040JHVC2', 'B000053HBB', 'B004X1SFTA']\n",
      "ADKZOXAOV8EXD ['B002RCNX8K', 'B000ZMCILW', 'B003WO7MZC', 'B0001FI49I', 'B0097DFRMC']\n",
      "A5Q1FK0FWU7DH ['B00005N6KG', 'B001KP3NZS', 'B000LRMS66', 'B001FA1O0E', 'B00093IIRA']\n",
      "A2LXX47A0KMJVX ['B000VX6XL6', 'B00CSDMWGW', 'B00BERGFV6', 'B000L9OIQ2', 'B001SJVU24']\n",
      "A1W415JP5WEAJK ['B00DTZYHX4', 'B003GALRIA', 'B002VPE21A', 'B0082E9K7U', 'B0053R0WWG']\n",
      "AVJORH3ACR2A5 ['B0019EHU8G', 'B00081A2KY', 'B003ES5ZUU', 'B000MX48VM', 'B001RB21IK']\n",
      "AHNHLGKIZ2N3B ['B00BOHNYTW', 'B00AJHDZSI', 'B0043M668G', 'B001NJ0WCS', 'B004TM1JBE']\n",
      "APOGXH3A74CM3 ['B002SFDJMQ', 'B00006B7DA', 'B0002L5R78', 'B001TOD7ME', 'B00BP5KOPA']\n",
      "AQNSQW4495SG0 ['B001M4HXB2', 'B00009XVCZ', 'B00004XOM3', 'B00EN27SHY', 'B00FNPD1VW']\n",
      "A1NNMOD9H36Q8E ['B001TUYTZM', 'B00006B9H8', 'B00119T6NQ', 'B00007EDZG', 'B002K4512Q']\n",
      "A17UNMURMLX0ZE ['B00FR6VL50', 'B009NHWVIA', 'B009YQ8BTI', 'B00C20KWP4', 'B009YT6PPC']\n",
      "A3FS3FJPD3RJTD ['B0035ERKYW', 'B004CLYEH8', 'B008X1BV2Y', 'B00009RDIF', 'B003UYU16G']\n",
      "AJEOFP6ZWY0MK ['B00017LSPI', 'B000JE7GPY', 'B0041Q38NU', 'B00603RTC8', 'B0042RA8C2']\n",
      "A3NYBI5VMVEEIK ['B004SUO068', 'B002BZFSYA', 'B0028AVGEO', 'B000FKP7TY', 'B005Q6MX7G']\n",
      "AU627A4UGIW6V ['B0058G40O8', 'B00006I5J7', 'B009SGB3KI', 'B001G4NBSC', 'B002T4I4US']\n",
      "AIBRTGBN07D6A ['B00COF7DGS', 'B002VPE21A', 'B001EPVOQY', 'B0002L5R78', 'B0002WPSBC']\n",
      "AAR7CEPXYJA0T ['B003HIXOOG', 'B003N7NMO8', 'B0030MITDK', 'B0030BJEUS', 'B002QEBMAK']\n",
      "A2J96FILPQA01 ['B008C1JC4O', 'B00DIFIM36', 'B004BQKQ8A', 'B00CJLEHPM', 'B004WQVTLC']\n",
      "A2X8KN82L07RSK ['B007PJ4P4G', 'B00GO4GMAI', 'B004VM1T5S', 'B000IMSK8Y', 'B005PUZOYM']\n",
      "A3775OP5VTX5ON ['B001TH7GUU', 'B000CRFOMK', 'B00006B81E', 'B000WOIFO2', 'B000JMJWV2']\n",
      "A3NG7X4APIV649 ['B000N99BBC', 'B0027AGK3M', 'B00310PJM0', 'B0057UUB1G', 'B00829TIA4']\n",
      "AZ8XSDMIX04VJ ['B000QUUFRW', 'B000096B01', 'B0047T79M2', 'B005FYNSPK', 'B0018MPQBM']\n",
      "A25WJCAP606YMP ['B002DUCMQU', 'B000LRMR26', 'B009YT6PPC', 'B0034CL2ZI', 'B004XW2NEW']\n",
      "AFM7FK7NFEKFZ ['B008ZGKWQI', 'B003QHXZM4', 'B0000C6E3P', 'B000X1S3VO', 'B0000642RX']\n",
      "A2SKEQT0WTB954 ['B004Y1AYAC', 'B00B8L36A6', 'B000EGI7V4', 'B0013CDZDI', 'B00CRXZPA8']\n",
      "A2PZXXPGLXXKZU ['B0054JJ0QW', 'B0013FRNKG', 'B004X355Y6', 'B000GISUAS', 'B005ONMDYE']\n",
      "A3HXGSMCIOZEW8 ['B003ES5ZR8', 'B003OC6LWM', 'B003WV5DJC', 'B001XHBNN2', 'B006Y44DAY']\n",
      "A3EP26M3QHINXT ['B00IVPU786', 'B00013J89K', 'B005SPQ8XK', 'B005749HQC', 'B006DUDWXI']\n",
      "ARC5ASW9CUAGP ['B00E3W15P0', 'B00483WRZ6', 'B005TQES58', 'B000EVLS4C', 'B002UBPBTC']\n",
      "AUK79PXTAOJP9 ['B001CIREXA', 'B007I5JT4S', 'B003GSCS3U', 'B004C8I88W', 'B005553J4Y']\n",
      "A3HSDV9Y0TV5Z2 ['B001MSU1FS', 'B009OBCAW2', 'B000CKVOOY', 'B0011U65F2', 'B001RCTA8I']\n",
      "AWSK1ZAEU1KFL ['B007WTAJTO', 'B000067RT6', 'B004JISIE4', 'B0000C6E3P', 'B004T4FAZI']\n",
      "A10PEXB6XAQ5XF ['B007R5YDYA', 'B000ID7QNI', 'B00APCMMDG', 'B00829TIA4', 'B0050IE1O8']\n",
      "A14NA0W8ESGDSI ['B000FOYMKU', 'B008F537KC', 'B008EWNVI4', 'B008WXKYX0', 'B004UKRRD4']\n",
      "A2JWF9IG8PJAOA ['B005TUQV0E', 'B004Q0PT3I', 'B00698WP50', 'B001FA1O1S', 'B00B4QESVQ']\n",
      "A1J75JJ0Q2OEJN ['B002M3SOC4', 'B00DT04I9W', 'B0034CL2ZI', 'B009VV56TY', 'B002QXZPFE']\n",
      "A10AFVU66A79Y1 ['B002Y6CJJ8', 'B0074FGLUM', 'B0081FLFQE', 'B002HEWA28', 'B00603RTC8']\n",
      "A3DWO5RJDA430F ['B006W8U2MU', 'B000VX6XL6', 'B000L47AHG', 'B004I4BS1E', 'B002RM08RE']\n",
      "A36K2N527TXXJN ['B002TMRZOQ', 'B001FA1NZK', 'B00CHH0JF0', 'B00BOHNYTW', 'B00DK2JQOQ']\n",
      "A21T0D2F7SKG5S ['B00007GQLS', 'B000AZ57M6', 'B00006I53X', 'B000UMX7FI', 'B000I1YIDQ']\n",
      "A3CG93783LP0FO ['B006LW0W5Y', 'B00DTZYHX4', 'B002V88HFE', 'B000067RT6', 'B00F0DD0I6']\n",
      "AW5JSQCHC2ZJO ['B000JMJWV2', 'B00EOI2SYK', 'B00139JBU2', 'B008MF3X9K', 'B00006JPWT']\n",
      "A3FOSLM5G1BO63 ['B009NHWVIA', 'B0034CL2ZI', 'B00JC5Y6WM', 'B0057UUB1G', 'B008X9Z8NE']\n",
      "A1WG97A0EFHYXN ['B000Q85WRC', 'B000097O5F', 'B005LIDU5S', 'B001CHQ52W', 'B0095VPBM2']\n",
      "A2RIXSMGE9VIBG ['B000UZCR56', 'B009NHAEXE', 'B0098QSTFK', 'B001FA1NVE', 'B000FBK3QK']\n",
      "A2HMF8ZR67BNZS ['B002TMRZOQ', 'B001TH7GUA', 'B002WE4HE2', 'B000J47W12', 'B000MX48VM']\n",
      "A376OJHLE6SU9Q ['B001342KM8', 'B004CLYEDC', 'B002TLTE6O', 'B0002XQJFA', 'B0001Y7UAI']\n",
      "A1BJOHHLG0D965 ['B00CKAOJA0', 'B004CLYEDC', 'B001L1H0SC', 'B00AJHDZSI', 'B002OJN250']\n",
      "A253IOATGMT2UP ['B0000BZL1P', 'B007R5YDYA', 'B000L47AHG', 'B0048IW030', 'B003L76BJS']\n",
      "A3S5EXYZDEBF3K ['B004ELA0SS', 'B00CKAOJA0', 'B009YT6PPC', 'B003WUBIZQ', 'B006EKIQYM']\n",
      "AE88D7OM7YU99 ['B00CKAOJA0', 'B002LEVGMO', 'B001S0PWWC', 'B007PTCFFW', 'B003SX0NFI']\n",
      "A10ZFE6YE0UHW8 ['B000N99BBC', 'B008EQYRRY', 'B005AY01RI', 'B003LVZO8S', 'B009SYZ8OC']\n",
      "A32AK8FOAZEPE2 ['B004LNXO28', 'B0007LJHVA', 'B005BNWKD6', 'B001U3YIT0', 'B001XURP7W']\n",
      "A28P7V9KI7MXP ['B003U7SR0U', 'B00AAIPT76', 'B002ZIMEMW', 'B0058AH2US', 'B004GITBSE']\n",
      "A3NCIN6TNL0MGA ['B005LS2GPI', 'B00008W2LC', 'B000MUXJCO', 'B0002OZXGU', 'B001BGGD8A']\n",
      "A1BT6TL7UCIC5Y ['B002TLTE6Y', 'B00IVPU7DG', 'B002K9IHGI', 'B004CLYEFK', 'B006ZBWV0K']\n",
      "A3CMO216CWOF5N ['B00006IS4X', 'B0015LOWD4', 'B001GS8G0Q', 'B002MAPRYU', 'B00006HOLO']\n",
      "A2UQK3DAZ8NO2T ['B000DZDTKU', 'B0009OAFI4', 'B0009GZSSO', 'B000LXZKQK', 'B00007E7JU']\n",
      "A1MFPAM9TTRTXN ['B003WGJYCY', 'B008EC4O76', 'B0065DUJ0C', 'B00B4GGW5Q', 'B000O8I474']\n",
      "A3SVYWA9O1KUQV ['B002M3SOCE', 'B0012JCZYM', 'B00DQZSFSA', 'B0007Y79AI', 'B00425S1H8']\n",
      "A25KKXUQQ0OLWB ['B00829THVO', 'B008GGH5HQ', 'B004RO9L4Q', 'B0074BW614', 'B001FA1NFA']\n",
      "ACJT8MUC0LRF0 ['B00FSA8VQ2', 'B0036AWR8E', 'B008MF3X9K', 'B00HZWJGS8', 'B0057UUB1G']\n",
      "A3OZA8HNJM26DC ['B001TUYTZM', 'B00834SJNA', 'B0083EZE4M', 'B004I4BS1E', 'B00C5B18CQ']\n",
      "AY4EXFOO43C3S ['B004GF8TIK', 'B008ZGKWQI', 'B006Z0Q2SI', 'B0058UUR6E', 'B00119T6NQ']\n",
      "A38KK0SZYEH5UD ['B00429N18S', 'B001BTG3OQ', 'B002IO2UM2', 'B001FWBUUG', 'B00DMCVKMU']\n",
      "A3KCKECEO3E2AN ['B002FB684E', 'B002MCZJ78', 'B007R8U5R6', 'B004GUT1QO', 'B003VAHYTG']\n",
      "A3872Y2XH0YDX1 ['B007KEZMX4', 'B000VWKSHM', 'B0036V9AGU', 'B00511PS3C', 'B0013ITQA8']\n",
      "ABIVKBMSIPEDY ['B0034CL2ZI', 'B0039VYN1Y', 'B0009HTB0Y', 'B009LL9VDG', 'B004N625BO']\n",
      "A3QJU4FEN8PQSZ ['B001OI2YNS', 'B00CD8ADKO', 'B0016BVKAQ', 'B005NCLDEC', 'B00829THK0']\n",
      "A2YRX8J4WM5BRX ['B00CMMG7I8', 'B001TZWNF0', 'B005J2E2US', 'B005MTME3U', 'B005DKZTMG']\n",
      "A3SOJO7Z7R9WIA ['B002WE4HE2', 'B002QUZM0U', 'B001SJVU24', 'B00104XCVO', 'B006TT91TW']\n",
      "A2SATO5BNKWY3Y ['B000M2TAN4', 'B003FVVMS0', 'B004ING996', 'B003Z4G3I6', 'B000O5N5AI']\n",
      "A2PSC7LUNIDEAH ['B001ELK2NY', 'B00AQUO5RI', 'B003VAK16O', 'B002VPDM2A', 'B001NJ0WCS']\n",
      "A3E3EQ39FZTZEK ['B001TH7T2U', 'B005PQTYHE', 'B009YCASK2', 'B003DZ1684', 'B00065L5TE']\n",
      "A1ASWDAEDTTY5I ['B000EXS1BS', 'B001F7AJKI', 'B0092THNDW', 'B000JFJZGG', 'B00GWBBWOY']\n",
      "A3MMR2WDKAK0PA ['B001I45T9O', 'B006ZH0KVG', 'B009P7JJEC', 'B007PJ4PKK', 'B001GDLYAU']\n",
      "A2L42QEWR77PKZ ['B001QUA6RA', 'B0002D6QJO', 'B0027IVMBY', 'B001FN3ZRQ', 'B00006JPEA']\n",
      "AT6CZDCP4TRGA ['B009NB8WR0', 'B002JQNXZC', 'B002DUCMQU', 'B002WE4HE2', 'B0000511U7']\n",
      "A3OA4DV4L81N1D ['B002WE0QN8', 'B002JQNXZC', 'B006JINHYS', 'B002WE4HE2', 'B001CCAISE']\n",
      "A1C82BC5GNABOA ['B003L1ZYZ6', 'B00009XVCZ', 'B000AZ57M6', 'B0013FRNKG', 'B004LEAYXY']\n",
      "A2ZRMCRLDSUX6R ['B000N99BBC', 'B000067RT6', 'B00829TIA4', 'B001GTT0VO', 'B0032HM6JG']\n",
      "A1NJHKPHD4YWZV ['B0019CSVMW', 'B00158OJ9O', 'B002R0JJYO', 'B004XNLR16', 'B00863L2MS']\n",
      "A2I2KPNJDQ9SL0 ['B003ES5ZUU', 'B0000TSJVI', 'B00007FGUF', 'B004EFH6L8', 'B004F5ET62']\n",
      "A18S2VGUH9SCV5 ['B003ES5ZUU', 'B006LW0W5Y', 'B0001DBEM4', 'B005DIQ2OC', 'B001RNOHDU']\n",
      "A17V9XL4CWTQ6G ['B001ENOZY4', 'B0082E9K7U', 'B0099XGZXA', 'B0051BG48U', 'B00A81SXHI']\n",
      "A2Y739CRM15WDL ['B001T9NUJE', 'B0016BVKAQ', 'B001HSOFI2', 'B000TKHGL2', 'B0042FZ50O']\n",
      "A3VI2VETB90ZG5 ['B00IVFDZBC', 'B003CFATT2', 'B002YU83YO', 'B004CLYEFK', 'B00JC5Y6WM']\n",
      "A1PVX61PRPVX27 ['B000U0S304', 'B002FA5WE2', 'B00009RA60', 'B005WX50DM', 'B007TYUUPK']\n",
      "A2JRDFIGWTX50J ['B0002ZW5W4', 'B0009HGVZW', 'B000BI1XNE', 'B0002JY6TK', 'B0002QWU3W']\n",
      "A3G007LQX6KGOD ['B00834SJSK', 'B000O8WE66', 'B001TANZ0W', 'B00EOI2SR2', 'B002MCZJ78']\n",
      "A37CEYB95LK6R6 ['B00429N18S', 'B000CRFOMK', 'B00009XVCZ', 'B000067RT6', 'B00894YP00']\n",
      "A21I62TCDL4754 ['B004R6NWBC', 'B000LRMS66', 'B001S2RCWI', 'B008OZF9SQ', 'B007BJHETS']\n",
      "A3U029B8Z5WGI2 ['B004Q3R9AQ', 'B007KEZMX4', 'B004JMZPJQ', 'B000NDBRJC', 'B000ZSUQ9M']\n",
      "A2MOD50IHEDH3G ['B0019EHU8G', 'B006ZH0KVG', 'B001IEXU68', 'B0002IWC9C', 'B0028AD7BE']\n",
      "A2AX2UGB167J31 ['B000N99BBC', 'B000EVSLRO', 'B004C9P9TM', 'B00CIY0KOM', 'B0019WDZUU']\n",
      "A15J9K7O10A3M6 ['B004SBBD8U', 'B00969J3EU', 'B0037ECAQ8', 'B009WU5XUG', 'B001F8SCRE']\n",
      "A1VLE2SH9J8WYS ['B001MSU1FS', 'B005FYNSPK', 'B00D6WF80G', 'B002M3SOBU', 'B003VTZE0I']\n",
      "A1QOIHVQC5XWCJ ['B002J9HBIO', 'B001TKE25E', 'B00126V8WU', 'B003N7NTX2', 'B002Y3139I']\n",
      "A1NRMTQ5SZPZA ['B005J31BCY', 'B00139W0XM', 'B00CDS9HTM', 'B008MWBY6W', 'B005DKIID8']\n",
      "A32482Z7XIKDQX ['B000S5Q9CA', 'B00A9NE84C', 'B00GTGETFG', 'B00009XVCZ', 'B009NHAEXE']\n",
      "A1OH33MR6K4G5J ['B002WVMHDI', 'B0074BW614', 'B0025UHKNS', 'B000X9O8SI', 'B00IAAALFG']\n",
      "A11R5VW7IM6ISQ ['B001TH7GUU', 'B006QB1RPY', 'B001SJVU24', 'B0000AI0N1', 'B0001FTVE0']\n",
      "AYNAH993VDECT ['B00CD8ADKO', 'B004SBBD8U', 'B009LL9VDG', 'B005GJC01C', 'B002VJL0OS']\n",
      "A2TKWMX4563NR6 ['B006W8U2MU', 'B000S5Q9CA', 'B00A35WYBA', 'B003LR7ME6', 'B009NHAEXE']\n",
      "A2L90SGUP36KGA ['B00029U1DK', 'B000I1X3W8', 'B004GF8TIK', 'B002ZIMEMW', 'B000L47AHG']\n",
      "A1PM7HH4F77NEH ['B00080G0BK', 'B000A36XZS', 'B004R7A9NU', 'B001E5CDSW', 'B00ESUOMFW']\n",
      "A20DZX38KRBIT8 ['B001U0OGQS', 'B000EPJL1A', 'B000J47W12', 'B0025ZH43O', 'B000FJJASO']\n",
      "A3D2VIUT2HWP0Z ['B000204SWE', 'B00834SJSK', 'B001NJ3H0C', 'B000SDW84K', 'B001DJ9GOS']\n"
     ]
    },
    {
     "name": "stdout",
     "output_type": "stream",
     "text": [
      "A1BBYSMT9YCODI ['B00IVPU786', 'B00A83I8G2', 'B004SBBD1C', 'B006DEBYWU', 'B00CF7E0R0']\n",
      "A3UW23DBF2KHWC ['B0082E9K7U', 'B0002JY712', 'B00BQHD4B8', 'B00F3F0EIU', 'B0026ZPFCK']\n",
      "A17BUUBOU0598B ['B001DJ64D4', 'B000JMJWV2', 'B009JPBPWO', 'B000VIHFZ4', 'B0013WNVU0']\n",
      "AC6Z7DP1Z5GHD ['B000ANCPNM', 'B002UVNW5W', 'B0009H5VVM', 'B00007EDZG', 'B001E3XLZS']\n",
      "AOQLV2LSI9B2W ['B001F7AHOG', 'B001TZWNF0', 'B0026650XS', 'B004RCHX0W', 'B002S3YL3Y']\n",
      "A370XYLIZCSK1Y ['B001QUA6RA', 'B001MSU1FS', 'B000IJY8DS', 'B003FVJYF8', 'B00077AA5Q']\n",
      "ABVYGB2TKBO8F ['B002WE6D44', 'B00BOHNYU6', 'B003HC8V9A', 'B000BOLHH0', 'B0007NWL70']\n",
      "A1TQZUSOU22E9M ['B00HZWJGS8', 'B00FPKDPZC', 'B001OI2YNS', 'B0062XB9FE', 'B0031RG2JC']\n",
      "A1VFX417XDNWIU ['B002TLTE6O', 'B00B99JU5M', 'B007EM7NES', 'B001URY8CI', 'B0055QZ216']\n",
      "AVTJEWTCJ3PBE ['B0002GRUV4', 'B002QC6RI4', 'B004BBC2RS', 'B003LVZO92', 'B003L137Y6']\n",
      "A3E9O1VNJ3U324 ['B0019EHU8G', 'B003JH7KT0', 'B000QBPUKS', 'B0017KZ8Y0', 'B001DZ6CDU']\n",
      "A1I96OYAUJ3HQE ['B00007B4DM', 'B001UE6N6A', 'B002SSL920', 'B000GX484U', 'B007NLSGOQ']\n",
      "A2ROZACRW31PC2 ['B001QUA6RA', 'B005LIDU5S', 'B003WUX6PG', 'B009H0XQPA', 'B004MU8VCS']\n",
      "A2HKUM9OEBQKDW ['B00029U1DK', 'B00B4GGW5Q', 'B000BSN4UY', 'B00609B3J2', 'B001E1Y5O6']\n",
      "A9DYWY9VOSP1P ['B002Y6CJJ8', 'B007PJ4P4G', 'B004J3ZV62', 'B000CP4ML6', 'B001FA1NK0']\n",
      "A3D1TZH619NKHN ['B001TH7GSW', 'B000Q82PIQ', 'B00834SJSK', 'B00HVT27B8', 'B0093HMKVI']\n",
      "AW6A4PPENVZY3 ['B005LDLP8W', 'B000VDCT3C', 'B00B7E1D7W', 'B001G5ZTLS', 'B005H4Y6U4']\n",
      "A3V6Z4RCDGRC44 ['B000V5P90K', 'B001FA1NZK', 'B000M17AVO', 'B0007CZ70Y', 'B007PY3ZPG']\n",
      "A3VONQL7YW8UPM ['B007WTAJTO', 'B008LCYIEI', 'B009K62HQ0', 'B0074BW614', 'B005FN5DJA']\n",
      "A1R6RKKE44AYA8 ['B003WUBIZQ', 'B0043WJRRS', 'B000QUUFRW', 'B002IKLJU0', 'B00BRI4YM4']\n",
      "A2WJ5XSE4I9F55 ['B007WTAJTO', 'B002W2Y8PC', 'B008M9U3BM', 'B005IQSSJG', 'B00001P4XA']\n",
      "A3V5F050GVZ56Q ['B0052SCU8U', 'B00DTZYHX4', 'B002V88HFE', 'B00IX2VGFA', 'B003NR57BY']\n",
      "AOMEH9W6LHC4S ['B0076W9Q5A', 'B002VPE1X4', 'B002TLTE6Y', 'B00E3RH5W2', 'B00D1GYNT4']\n",
      "A24P4E3RJ6AX94 ['B003XM1WE0', 'B003NR57BY', 'B00DTZYHX4', 'B002V88HFE', 'B000067RT6']\n",
      "A2NP9CGUSFP22E ['B0052SCU8U', 'B00081A2KY', 'B000F9YN22', 'B0036Q7MV0', 'B008EC4O76']\n",
      "A27M75LRSJ788H ['B007M506WS', 'B002RCNX8K', 'B002NO7PWC', 'B00007IFED', 'B002MZUNXU']\n",
      "A30UP2KKD5IQEP ['B003ES5ZUU', 'B000TKHBDK', 'B005KAK2FI', 'B001TH7GSW', 'B000QWEN5K']\n",
      "A36MP37DITBU6F ['B0034CL2ZI', 'B00D6XSRL2', 'B004CLYEFK', 'B008MF3X9K', 'B004GUT1QO']\n",
      "A35KBAQ4VBNQ6L ['B000QUUFRW', 'B001C271MA', 'B0079M711S', 'B0096TO26E', 'B0051XDOZO']\n",
      "A15TABNGK6L4N3 ['B001N9X4CS', 'B003HFCDLY', 'B004Q3R9AQ', 'B001ISKNKA', 'B004TA0AUW']\n",
      "A3N4VTNFPMTHEF ['B006DDT6JO', 'B001NTFAOS', 'B004CLYE8C', 'B009SYZ8OC', 'B00C28L138']\n",
      "A2AF0NOCM71J0B ['B002V8C3W2', 'B00BW6KCTU', 'B004CLYEDC', 'B007WTAJTO', 'B00CB2F65O']\n",
      "A3L9E0YI7C5G0W ['B000QUUFRW', 'B003FVVMS0', 'B00DK2JQOQ', 'B0081ER9KG', 'B005T3LKKM']\n",
      "AUUV3XDYB16X5 ['B005LFT3GG', 'B0016120M8', 'B00AAU54TW', 'B0007UQNV8', 'B004T1YAEI']\n",
      "A3BNMHRW2R35LK ['B009OBCAW2', 'B002K9IHGI', 'B004CLYEDC', 'B00EO96W2I', 'B0007G6RZE']\n",
      "AAQ9NJ480N9W5 ['B000NP3DJW', 'B000QUUFRW', 'B0043WJRRS', 'B000MX48VM', 'B000JO1IPI']\n",
      "A2OWR5G2OAQF7C ['B003TXRTNG', 'B004SCSV2U', 'B001UEBN42', 'B00829THVO', 'B003SX0NG2']\n",
      "A36A1ZYZH8568P ['B002V88HFE', 'B000AYJDD6', 'B00077AA5Q', 'B002WE4HE2', 'B004Q3R9AQ']\n",
      "A1VEELTKS8NLZB ['B005HMBQR2', 'B00BGGDVOO', 'B00CSMYBFS', 'B005HP3PNM', 'B009RQEDXS']\n",
      "AYOMAHLWRQHUG ['B002K9IHGI', 'B009YT6PPC', 'B004Q3R9B0', 'B00B3PDH5G', 'B007F9XHAY']\n",
      "A386LG0LRWKJZP ['B001QUA6RA', 'B00299G80Q', 'B000BV8604', 'B000TYL27M', 'B000QFIS12']\n",
      "A353U0L2HAMSHV ['B00316263Y', 'B002TLTE6Y', 'B0043M668G', 'B001TOD7ME', 'B000JE7GPY']\n",
      "A35HUT8MQMT21L ['B0012Y2LLE', 'B000CKVOOY', 'B005LZR0DO', 'B000IF51UQ', 'B00DUN2PBQ']\n",
      "AATWFX0ZZSE6C ['B000CSWCQA', 'B000RZNI4S', 'B00358PRCA', 'B002EVP85K', 'B0002BEQJ8']\n",
      "A22S7D0LP8GRDH ['B002MZUNXU', 'B00AAHT8JC', 'B000EGI7V4', 'B009E6J1BU', 'B000EPOPQG']\n",
      "A2HNH4PKE5DPSI ['B0012Y6HC8', 'B001OI2YNS', 'B000FQ2JLW', 'B004HO59M4', 'B00829THVO']\n",
      "A204K1OFE8OB9Y ['B0007U00X0', 'B002T45WXU', 'B002HWJT1A', 'B000FBK3QK', 'B002S53IG8']\n",
      "A1CYTBE7LLUQ8F ['B000MP831G', 'B0002IWC9C', 'B00622AG6S', 'B000H6CBA4', 'B0001G6U52']\n",
      "A2VJ5ALN1BIV3B ['B002WE4HE2', 'B007WTAJTO', 'B002HWRJY4', 'B0012845AA', 'B003SX0OU2']\n",
      "A4U27URFECK1U ['B000N99BBC', 'B00BOHNYU6', 'B000A0CV9S', 'B0099SMFP2', 'B00KFAGCUM']\n",
      "A274MXTX3DYLUV ['B005NGQWL2', 'B002B8WVVU', 'B007YXA5TC', 'B005DCP280', 'B000SDZ0K4']\n",
      "A3MQAQT8C6D1I7 ['B0012GK3MQ', 'B000N99BBC', 'B001FBJJQ4', 'B00006RVPW', 'B000092TT0']\n",
      "A11IXJ8M1JO296 ['B004QGXOOI', 'B000A0CV9S', 'B004LSNF04', 'B005IHAIKM', 'B009SYZ8OC']\n",
      "A1IBKN1GXYJ3K4 ['B009NHWVIA', 'B00829THK0', 'B004I44EXI', 'B009CQNPYQ', 'B0002DG9XW']\n",
      "A2XAKGRUHIE2ZA ['B000CRFOMK', 'B001PIBE8I', 'B0015YJOK2', 'B0002SQ2P2', 'B001P05NKG']\n",
      "A145B8OHVNNFAJ ['B0052SCU8U', 'B003ES5ZUU', 'B006LW0W5Y', 'B0082E9K7U', 'B00EO96W2I']\n",
      "A1BC62X6HZJGZR ['B00BQ4F9ZA', 'B000QUUFRW', 'B005DKZTMG', 'B0067I4Z6O', 'B00004Z5P4']\n",
      "A2IIAQ7VVAHXTD ['B001TH7T2U', 'B000VX6XL6', 'B003FVVMS0', 'B00894YP00', 'B00007E7K1']\n",
      "A2JMJVNTBL7K7E ['B008LTBITY', 'B00DQKQ7U8', 'B009F7IBZK', 'B00DSGLM50', 'B005L38VPC']\n",
      "A1RPTVW5VEOSI ['B001QTXL82', 'B00000J061', 'B001TZWNF0', 'B0002ZAILY', 'B002MUAEX4']\n",
      "A365PBEOWM7EI7 ['B001TH7GUA', 'B001MSU1FS', 'B001RNOHDU', 'B009NHAF5G', 'B0043CG3QG']\n",
      "A2F92M62KN324B ['B005DSPLCQ', 'B002QQ8H8I', 'B007I5JT4S', 'B004CRSM4I', 'B000NQ16NG']\n",
      "ABQWMANK4AR63 ['B004RORMF6', 'B002YU83YO', 'B002WE6D44', 'B007KZQM8W', 'B008ALAHA4']\n",
      "A3E049PVKG7NDK ['B00DTPYRTI', 'B00FX9WJNO', 'B007R3Z44U', 'B0031ESKJA', 'B004PGMFG2']\n",
      "A215WH6RUDUCMP ['B009NHWVIA', 'B0082E9K7U', 'B0079UAT0A', 'B00EDCF0MY', 'B008MF3X9K']\n",
      "AGATRDOFW48DK ['B000KZ70JE', 'B001E0RZ3U', 'B0013WM0BQ', 'B000JJM7S0', 'B00B46XUQU']\n",
      "A3VC74TJ06WDDD ['B000O8I474', 'B000O5N5AI', 'B000FAKUE6', 'B004CRSM4I', 'B000V0BIWI']\n",
      "AYMD77ITD15PT ['B004CLYE8C', 'B00006B9H8', 'B0002A9RFM', 'B00FRMAOIO', 'B0007MWE28']\n",
      "A3P4T1DKRWTL36 ['B009SYZ8OC', 'B006H06TVG', 'B006IC3GHS', 'B005TUQV0E', 'B007SVHFXO']\n",
      "A2IT7S59GSASN7 ['B00D5Q75RC', 'B003ES5ZUU', 'B004CLYEDC', 'B0002ZAILY', 'B00829TIEK']\n",
      "A1BXVZSQOJE6UE ['B0062XB9FE', 'B0092KRAVQ', 'B00117LECY', 'B007SHJIO2', 'B00FSA8VQ2']\n",
      "A3MFORLOKIOEQY ['B003SGCO3E', 'B003L1ZYZ6', 'B00HVT27B8', 'B004OR14HI', 'B007GNN0AG']\n",
      "A2WF58BAWLVI95 ['B00CM0XHNS', 'B0057AVXP4', 'B00DIFIM36', 'B0075SUK14', 'B00F6AVFK8']\n",
      "A2OKRGHIYTBQ6P ['B002NO7PWC', 'B004ELA0SS', 'B003MTTJOY', 'B005IMFX2K', 'B005GGTTZ0']\n",
      "A16WP8NTPYB0ZM ['B006Z0Q2SI', 'B000LP4RMG', 'B000BSJFJS', 'B0092HP3GS']\n",
      "A25C2M3QF9G7OQ ['B001UI2FPE', 'B002WE6D44', 'B00CHH0JF0', 'B00004XOM3', 'B001ELK2NY']\n",
      "A18FLOC8YQY0P8 ['B006W8U2MU', 'B001FA09WI', 'B00EL93M3S', 'B00BP5KOPA', 'B005WXQO3W']\n",
      "A39K52QDP4C3ZS ['B004RORMF6', 'B005LS2GPI', 'B003A7C9WM', 'B001CIREXA', 'B0058AH2US']\n",
      "A33HIV8RXRDM88 ['B0000BZL1P', 'B00005LEN4', 'B002WE4HE2', 'B009YT6PPC', 'B00EOE4G4E']\n",
      "A3R33KMESG0XGQ ['B000VX6XL6', 'B000IF51UQ', 'B002HWRJBC', 'B00G024X32', 'B00019OWU4']\n",
      "A1YEPFLLH42OU1 ['B0052SCU8U', 'B00BOHNYU6', 'B0043WJRRS', 'B0034CL2ZI', 'B002RM08RE']\n",
      "A11LNPG39A2ZV4 ['B0041OSAZ8', 'B00434OWDA', 'B004KU0RJK', 'B004H3XNB4', 'B001PN37LA']\n",
      "A2NU9H8H5MJZSL ['B00B25P27S', 'B000083CUA', 'B000LD25MC', 'B000WG6XW6', 'B004068AWU']\n",
      "A1KKE6VX8VPWZK ['B002TLTE6Y', 'B001FWBUUG', 'B000RZ8WHG', 'B0015AARJI', 'B0019MEIOM']\n",
      "A291XTI6NO7DEG ['B0002O77T6', 'B0009WKBGC', 'B000ANRP82', 'B000N254LU', 'B0039SM0AS']\n",
      "A3TA1UJWRJF9NC ['B001B8EUEW', 'B00008VFBE', 'B000CMS0XU', 'B000AM6QHE', 'B0015ACUKC']\n",
      "ARIDN94LOCQFD ['B00B588HY2', 'B007WTAJTO', 'B0002CPBUK', 'B000BQ7GW8', 'B0002IWC9C']\n",
      "A3T4OHEAHOJ700 ['B0011Z2402', 'B001TOD7ME', 'B004FHO5Y6', 'B004ULOZPQ', 'B0007LJHVA']\n",
      "AFHYEO3Y1IIDD ['B003LVZO8S', 'B004TS2AP2', 'B004N625B4', 'B002UEC3AY', 'B00EMZC11K']\n",
      "A16HXVNPU5TCGE ['B004N627KS', 'B000OPB4U6', 'B000YB862E', 'B0038ND4A4', 'B00DZYEXPQ']\n",
      "A1TR1R2QKWRSRA ['B004CLYEDC', 'B009X01C64', 'B00829THEG', 'B0036R9YA6', 'B004CLYEH8']\n",
      "A1PEXTGNF36I1Q ['B001TH7T2U', 'B00139VKU6', 'B002K4E7TE', 'B0014Z29OU', 'B000JLK5NW']\n",
      "A1L0P1ZP5FD6EC ['B0000BZL5A', 'B007NJ0S1W', 'B0000AI0N1', 'B00BC4SJEC', 'B002VGWFF4']\n",
      "A1ZBEIL78MLR9Z ['B001QTXL82', 'B00139JBU2', 'B003TXRTNG', 'B003YKG2UK', 'B000P17188']\n",
      "ABMN74TBW5UWE ['B00009XVCZ', 'B004HREPCQ', 'B0041MY32Y', 'B003EWGD1Q', 'B005DECJBQ']\n",
      "A4UGMKUSX9XHI ['B00COF7DGS', 'B003DZJQQI', 'B0036Q7MV0', 'B001CCAISE', 'B00BWX2OU8']\n",
      "A2NT3W1F1XYBFZ ['B004HO59M4', 'B00CFCTDD6', 'B002NEGTTM', 'B0007QU6WY', 'B005OGR3DM']\n",
      "A3IK2VCQ007CJ ['B00429N18S', 'B00IRRDHUI', 'B0058AH2US', 'B003GZ828I', 'B007BJHETS']\n",
      "AHS6PX6H22WW1 ['B001OC6DCW', 'B00006HSYC', 'B00JC5Y6WM', 'B00007FGU7', 'B000BVIBGI']\n",
      "A37D1ZP8GBHE38 ['B00BOHNYU6', 'B001OI2Z4Q', 'B0043M668G', 'B00834SJNA', 'B003AM8S3G']\n",
      "A2UKE7GIVC7XFW ['B00KFAGCUM', 'B001TOD7ME', 'B004FHO5Y6', 'B00FRMAOIO', 'B009IKCKME']\n",
      "AXP8GO5Q3AXSA ['B003ES5ZUU', 'B000N99BBC', 'B0093H4WT6', 'B000204SWE', 'B0001PFQAI']\n",
      "A3JNBO7H2SPL44 ['B003ES5ZUU', 'B005GGTTZ0', 'B0079MX4Q4', 'B004C9P9TM', 'B005KWHJES']\n",
      "A28621TSIR5EOG ['B004Q3R9AQ', 'B000TXEE14', 'B007WTAJTO', 'B002V88HFE', 'B007GFX0PY']\n",
      "A1TDR7Y90SVCHL ['B003HFCDLY', 'B003N8GVUY', 'B002JQNXZC', 'B000F9YN22', 'B000EVSLRO']\n",
      "AV10H5K6VPQIJ ['B00316263Y', 'B00029U1DK', 'B000HPV3RW', 'B001TOD7ME', 'B0001VWHH2']\n",
      "A1LYMYNURB9EWW ['B003CFATT2', 'B000N99BBC', 'B002DUCMQU', 'B00ISIG690', 'B002FU5QMK']\n",
      "A1VGXHHR08G044 ['B005EOWBKE', 'B001F51G16', 'B000JMJWV2', 'B006OOKT3Y', 'B00B7X2OTY']\n",
      "A1IU7S4HCK1XK0 ['B00BW6KCTU', 'B003S5SOLG', 'B003NR57BY', 'B00JC5Y6WM', 'B0002INUIY']\n",
      "A178M2AHNWQZB0 ['B0007Y794O', 'B00C28L6EW', 'B007IV7KRU', 'B004AX6Z3Y', 'B009DMFOVG']\n",
      "A2NSMJVQY0RV9S ['B000NP3DJW', 'B000QUUFRW', 'B004FA8NOQ', 'B002V88HFE', 'B00009R6WY']\n",
      "AG5WSXI52FPKH ['B0088PUEPK', 'B004W2JKWG', 'B004EBUXHQ', 'B000LRMR26', 'B007VPGL5U']\n",
      "A2PY5ED630H0QJ ['B001QUA6RA', 'B00009XVCZ', 'B006EKIQYM', 'B0009H5VVM', 'B000NOR89Y']\n",
      "A20WUUD9EDWY4N ['B005LFT3GG', 'B007R9M6PO', 'B0064P5I1G', 'B002BZFSYA', 'B006NYJNTG']\n",
      "A1UCAVBNJUZMPR ['B0002J2P2A', 'B000FGNM6I', 'B0017JY5FE', 'B0084OIY0M', 'B00DBA9YD0']\n",
      "A1U5NWJOYH2QQH ['B0001Y7UAI', 'B002W4M0DW', 'B005LJQNQU', 'B001AZUTCS', 'B0007Y79AI']\n",
      "A3JAH5WW61N2EK ['B001EYV9TM', 'B001CCAISE', 'B0016P5ASK', 'B002RCLYXG', 'B006OBGEHW']\n",
      "A2DXENZNO2JT4F ['B00BOHNYTW', 'B00CI3BIWQ', 'B009F7IBZK', 'B00CRJWW2G', 'B00ESYW40S']\n",
      "ARXU3FESTWMJJ ['B00D6XW62I', 'B000053HC5', 'B001P05NBA', 'B000M5U9GI', 'B00390JT1O']\n",
      "A3V6QSTG2T9MIO ['B006W8U2MU', 'B00840353W', 'B004CLYEDC', 'B0058SRNZ4', 'B00067LYFW']\n",
      "A2JCJJNY43QQIV ['B005SNPTRS', 'B001HSOFI2', 'B0015EWMX8', 'B000ETY3LO', 'B00JP12170']\n",
      "A1CMD08Z49PGKQ ['B004286VMW', 'B004XC6GJ0', 'B000ENUCR4', 'B007R5YDYA', 'B003WUBIZQ']\n",
      "A24J2Y1O22JYZX ['B00077AA5Q', 'B008L1OCF4', 'B0017I1PVC', 'B00AEMGGU2', 'B00451ZTBA']\n",
      "A2WYF4POBUXL2O ['B001ENW61I', 'B000BYCKU8', 'B0013AV4M4', 'B000CNPK3M', 'B0000BZLBA']\n",
      "ABMNX856X89CS ['B00IVFDZBC', 'B001FWBUUG', 'B001VZ1W5U', 'B008DWCRQW', 'B0079TOI8K']\n",
      "A2TMFC9O3ZCNKE ['B003ES5ZUU', 'B001W28L2Y', 'B00609B3J2', 'B002S53LJ2', 'B0037ECAQ8']\n",
      "A27QXQQOLAMRRR ['B003L1ZYZ6', 'B001TUYTZM', 'B002K9IHGI', 'B00HVT27B8', 'B0039VYN1Y']\n",
      "A16SRDVPBXN69C ['B00007GQLS', 'B000I1X3W8', 'B000FKQ8LA', 'B0084FM5JC', 'B003EEMDMC']\n",
      "ACSX5AIZE3MJ9 ['B00EHZYWGM', 'B004CLYEDC', 'B000V01RLK', 'B003M0NURK', 'B000ZSUQ9M']\n",
      "AEN44U6T9R93 ['B0007TOR08', 'B002KETE24', 'B002BFA91C', 'B006FKR1PG', 'B007YKUWN4']\n",
      "A247L282PID4PE ['B00A35WYBA', 'B003NUIK4M', 'B0037U95U6', 'B00FEA01O6', 'B001N4KGNS']\n",
      "AW6FQE5QRF2LM ['B006W8U2MU', 'B009USAJCC', 'B000UHQVOW', 'B00APCMMDG', 'B003Z4G3I6']\n",
      "A22I55P15NSAOX ['B00COF7DGS', 'B002TLTE6O', 'B001TOD7ME', 'B004BDOGL6', 'B0039BPG1U']\n",
      "A19HT7YC1UW3D6 ['B002WE6D44', 'B000HPV3RW', 'B004V4IWHY', 'B000S5Q9CA', 'B003ZYF3M8']\n",
      "A2RIL2NXHE00AQ ['B001ENW61I', 'B00009R6WO', 'B000UMX7FI', 'B001J8BPYM', 'B005IVUWHW']\n",
      "A2SZLNSI5KOQJT ['B00HWMPRKM', 'B003WJR694', 'B005J31BDS', 'B004H8FNBC', 'B009XNBFJK']\n",
      "A3RMEU4GNP60BM ['B0077CR5RK', 'B0051A8TG6', 'B003BQ1D4C', 'B004SBI2MU', 'B00DR0C96S']\n",
      "A3IJL9A50KVVZ1 ['B007WTAJTO', 'B00068YUN4', 'B00AQUMZRA', 'B002NEGTTW', 'B002QAUN2M']\n",
      "A3977M5S0GIG5H ['B000BTL0OA', 'B000J47W12', 'B002V88HFE', 'B005CWHZP4', 'B001FWBUUG']\n",
      "AY3D7DG5L5WCK ['B004CLYE8C', 'B004BDOGL6', 'B0058FAYPI', 'B00BWHILCY', 'B0061HMRA2']\n",
      "A3L6L5O89JTX2T ['B0049H8W1Y', 'B000N254LU', 'B00328HR7G', 'B0001LRIT4', 'B000MDZKUU']\n",
      "A19UTUEBWKIZFT ['B00BOHNYU6', 'B003VAHYNC', 'B004CLYEDC', 'B0079UAT0A', 'B004CLYEFK']\n",
      "ASJSX783R5HTZ ['B001BTCSI6', 'B001TH7GVE', 'B0000A2QBP', 'B002HWRJY4', 'B002P3KY7E']\n",
      "A38Z6QG6988WS7 ['B001TH7GSW', 'B003ES5ZUU', 'B009EADB2Q', 'B005VFG06W', 'B000VX6XL6']\n",
      "A2PL06HW6KZH2 ['B008EQYRRY', 'B006W8U2MU', 'B0036V9AGU', 'B001E1Y5O6', 'B003LSTD38']\n",
      "A3EXWV8FNSSFL6 ['B001UI2FPE', 'B0000BZL1P', 'B00009EHJV', 'B00006I53X', 'B00CHH0JF0']\n",
      "A3KTWUXXB8KKC7 ['B006DDT6JO', 'B000RZQZM0', 'B000EWHH7I', 'B000EDK8V4', 'B00063G0BO']\n",
      "A16QODENBJVUI1 ['B00EO302SO', 'B005ELBSWO', 'B00829TIA4', 'B002FU5QMA', 'B0025ZH43O']\n",
      "ANXEW7IDYDJEH ['B006W8U2MU', 'B00GTGETFG', 'B000S5Q9CA', 'B00HVT27B8', 'B00006JN3G']\n",
      "A2W9GX82SLKROQ ['B001TH7T2U', 'B00007GQLS', 'B00004XOM3', 'B001NTFAOS', 'B004WB8EYM']\n",
      "A32JCI4AK2JTTG ['B00007IFED', 'B000F0ELOG', 'B003EEMDMC', 'B00AF22NTY', 'B001JT346I']\n",
      "A3077MQTAKOVFZ ['B003ES5ZUU', 'B0088PUEPK', 'B001F7AHOG', 'B005HSDLCO', 'B005JACJ50']\n",
      "A3TNM3C9ENUCFW ['B0038KN114', 'B00FPKDPZC', 'B007PTCFFW', 'B008X1BV2Y', 'B001DJ7Y2O']\n",
      "A54S9CIUV5VNB ['B001TH7T2U', 'B003XM1WE0', 'B00429N18S', 'B00APCMMDG', 'B000KUQ8FG']\n",
      "A2BUQ240COLAOP ['B007SVHFXO', 'B004OOQ8CW', 'B0025PKFUI', 'B000WEFIE2', 'B005CFLMNC']\n",
      "A100UD67AHFODS ['B005PQTYHE', 'B00108UNEY', 'B003O8682Y', 'B005CLPP8E', 'B00A39PPCG']\n",
      "A3FEGTOLCWXSV4 ['B008EQZ25K', 'B003ES5ZUU', 'B003ZSHNGS', 'B005J31BCO', 'B001ENW61I']\n",
      "A1RL1OTV8IJMVD ['B00D6XW62I', 'B005DQG5SC', 'B005KFONIU', 'B005ELBSWO', 'B004CLYEFK']\n",
      "A3R1GJY2MY8041 ['B000QUUFRW', 'B000GHD73Y', 'B00006IW1X', 'B0014DURIW', 'B0090SLE30']\n",
      "A3QQCEQ33O0GJU ['B000O8I474', 'B004SUO068', 'B001CY0P7G', 'B004ALYGI2', 'B004Q81CKY']\n",
      "A1C5TCCR2IGKBU ['B0019EHU8G', 'B001HSOFI2', 'B0011Z44UA', 'B004TJ6JH6', 'B000FJEZ0C']\n",
      "A2MSBIA18RXYQC ['B00JLADOGW', 'B005GREK8K', 'B00719CH0O', 'B003LT8OPU', 'B0002KKIUA']\n",
      "AZOK5STV85FBJ ['B00104XCVO', 'B000O5N5AI', 'B00068YUN4', 'B00A85ANCW', 'B000GL3MOY']\n",
      "A38C12950IM24P ['B00DTZYHX4', 'B00G4UQ6U8', 'B005GI18EI', 'B00BCGRTFK', 'B0074BW614']\n",
      "A22MANL4US4RMY ['B0052SCU8U', 'B00FJRS5BA', 'B0036Q7MV0', 'B004YKXGIK', 'B0012GBBQS']\n",
      "A1EKSETIBS9ETQ ['B000M17AVO', 'B00005LEN4', 'B000VX6XL6', 'B005755U0I', 'B0015MFTE4']\n",
      "AP53MVRC8ZEW2 ['B000VX6XL6', 'B002NEGTTW', 'B007SZ0EHE', 'B006EKIQYM', 'B002NO7PWC']\n",
      "ALRCAGJOJ9583 ['B0036Q7MV0', 'B00CD8ADKO', 'B009SYZ8OC', 'B004LNXO28', 'B000NOEDGK']\n",
      "AEFTIUQHSVUFX ['B0000BZL1P', 'B007WTAJTO', 'B0002Y5WZM', 'B009B0MZ8U', 'B001CCAISE']\n",
      "A2MCRCK1V61FWQ ['B0002Y5WZM', 'B0042RUSY0', 'B00862522A', 'B000219896', 'B003INFE16']\n",
      "A35Q0RBM3YNQNF ['B0002LEMWE', 'B00G4UQ6U8', 'B00310PJM0', 'B004CLYE8C', 'B0079UAT0A']\n",
      "A3AG5QAT8L0I3R ['B00D1GYNT4', 'B0058SRNZ4', 'B000WGSITC', 'B00D96LZ6K', 'B007LLYAIO']\n",
      "A185O1MX1RP964 ['B005GGTTZ0', 'B008HK50ZA', 'B004ZMG55I', 'B001BHQSCK', 'B001J0K9RO']\n",
      "A1XB7JGJ459ERP ['B000CRFOMK', 'B0049SCB2Y', 'B009SYZ8OC', 'B004433ZG0', 'B0098O9TRO']\n",
      "A3PU3EDJ2FG1AW ['B001MSVPM6', 'B004THA2OE', 'B001NJ0WCS', 'B003ELVLKU', 'B001CBPWT0']\n",
      "A9ELHLPXF7JKD ['B000N99BBC', 'B000WOIFO2', 'B0034CL2ZI', 'B00BWHILCY', 'B00829THEG']\n",
      "A212MDP6K4VJS5 ['B003ES5ZUU', 'B001OC6DCW', 'B004LSNF04', 'B009A6CZ30', 'B002QEBMAK']\n",
      "A3BKNXX8QFIXIV ['B002VPE1X4', 'B001TH7GSW', 'B001AGM2VI', 'B000MF4N42', 'B005N3TPJQ']\n",
      "A2V1J3JT5OOZFO ['B001FWBUUG', 'B00CEZBKTO', 'B00FAYL1YU', 'B000P6M6HY', 'B002ISZD2C']\n",
      "A2NN1KIYEM2SKS ['B00BQ4F9ZA', 'B000S5Q9CA', 'B0036V9AGU', 'B007WTAJTO', 'B000MX48VM']\n",
      "A1OO9N1MRNQ7K0 ['B003BKW2K2', 'B005FYNSPK', 'B00193U3O0', 'B000BRO3PA', 'B003XMROKG']\n",
      "A2VC48WIMY6L6E ['B000F7QRTG', 'B003ES5ZUU', 'B006DDT6JO', 'B0062AYFWG', 'B001VEAI74']\n",
      "A3B20R4ZAH0Y2Y ['B003ES5ZUU', 'B00DQKQ7U8', 'B008ALAHA4', 'B00DR6DQZA', 'B00829TIEK']\n",
      "A1J87SYB3JPQWH ['B004RORMF6', 'B0036Q7MV0', 'B000JLK5PK', 'B001AHALEC', 'B002ZCXJZE']\n",
      "A2BMZRO0H7TFCS ['B009NHWVIA', 'B00IVPU7DG', 'B0036Q7MV0', 'B002K9IHGI', 'B009SYZ8OC']\n",
      "APBB297H3ZA5E ['B000089GN3', 'B001PIBE8I', 'B002NU5UW8', 'B003ZBZ64Q', 'B0072LATE2']\n",
      "A1IDAKX7OM3QIE ['B004YHXXKO', 'B009TCCTSQ', 'B009CN8VNY', 'B000I6JZGQ', 'B002JMYCTC']\n",
      "A96JD9312DHWC ['B00CKAOJA0', 'B009NHWVIA', 'B00829THVO', 'B00CB2F65O', 'B002J9HBSE']\n",
      "A3M7R4PD0FEPUB ['B002TLTE6O', 'B00829THK0', 'B001SER460', 'B005DOUJL8', 'B00634PLTW']\n",
      "A35SNSDRNE9P8Q ['B005JN9310', 'B005BOMTT0', 'B0043M6F14', 'B007QOX5A0', 'B00740MR78']\n",
      "A259MPG6SOL02P ['B00006RVPW', 'B002WE4HE2', 'B00007M1TZ', 'B001IEXU68', 'B00004Y7TC']\n",
      "A2UEB48LAWFUCW ['B009YT6PPC', 'B001L1H0SC', 'B0013LRLUM', 'B005O0R99Q', 'B005HMKKH4']\n",
      "A2PK64OVZA1U8Z ['B001OC6DCW', 'B000M17AVO', 'B00829THH8', 'B004SGJCCO', 'B000OG6I6A']\n",
      "A12LH2100CKQO ['B000VX6XL6', 'B00007IFED', 'B002M3SOC4', 'B003BLQHN4', 'B0002IP2TY']\n",
      "AQ3IN3MRXQ5KH ['B001O4EPHA', 'B0055QZ216', 'B000E6NGBU', 'B000U5TUWE', 'B004CLYEH8']\n",
      "A1EXGL6L0QQ0M5 ['B003ES5ZR8', 'B008EQZ25K', 'B004CLYE8C', 'B004Z0S6RU', 'B0034CL2ZI']\n",
      "AUCISQA1YXX86 ['B000MX48VM', 'B000MWVMRG', 'B001GIPSAW', 'B0002INUIY', 'B00066EK2W']\n",
      "APGQTZZ4ZFPHO ['B000CKVOOY', 'B000TYR5R8', 'B0036E8V08', 'B003DSCU72', 'B0019SHZU0']\n",
      "AONUCJBC85BL ['B00829TIEK', 'B000XUMR6C', 'B000094Q77', 'B0039BPG1U', 'B0026GJHVY']\n",
      "A3O4OIBCML0683 ['B005KQ0S8S', 'B002RCNX8K', 'B004Z0S6RU', 'B000KUQ8FG', 'B001E1Y5O6']\n",
      "A3VL4RXCWNSR3H ['B00A81SXHI', 'B0000ALPBA', 'B0035APGP6', 'B00F4MELE0']\n",
      "A198CCH4NNLI2E ['B002C744K6', 'B0002ZW5W4', 'B001OI2YZQ', 'B0006VJ7TI', 'B001D7NL5U']\n",
      "ACP9S40H3SHY1 ['B00836JHVQ', 'B005XEE5IG', 'B004V6BQ3O', 'B0074WDDN8', 'B00B7N9BRW']\n",
      "A1Y85GQ09Y95JL ['B00B4GGW5Q', 'B00007IFED', 'B000CKVOOY', 'B000RZ8WHG', 'B001AYGDCE']\n",
      "A1BZIM4WGZ6DZP ['B003MVZ60S', 'B005F778JO', 'B001QUA6R0', 'B007B60SCG', 'B005GJC01C']\n",
      "A32O98PFC3OP7K ['B003LSTD38', 'B004TS2AP2', 'B002M3SOBU', 'B000F2PHDI', 'B003DTLV8K']\n",
      "A37PV5GMP2ILJC ['B000TKHBDK', 'B001BTG3OQ', 'B003HC8V9A', 'B00176TEGM', 'B001DJ9GOS']\n",
      "A1FMU4CJLIDHR9 ['B0054JJ0QW', 'B000AP05BO', 'B004VM0SE6', 'B000J43HJ8', 'B00153T624']\n",
      "A27AF4DLLOBQDQ ['B002M3SOCE', 'B006TT91TW', 'B00E055H5O', 'B001FA1O1S', 'B003L76BJS']\n",
      "A3LWC833HQIG7J ['B001T9NUJE', 'B002MPPHKY', 'B00EVIBN8U', 'B001U3Y6AQ', 'B000OL3QTW']\n",
      "A11P105WVK5240 ['B001T9NUJE', 'B00006RVPW', 'B003FMUMN0', 'B0002TPFTA', 'B005ONMDYE']\n",
      "A3FPSY1M6G7XIB ['B003ZSHNGS', 'B000BY52NK', 'B000144I2Q', 'B000HJPK2C', 'B0029ZA78O']\n",
      "A3LDFTSXU3UPBO ['B003YFE1H6', 'B009X3UW2G', 'B00722JCMQ', 'B004NBZ8DQ', 'B00B8F4CK0']\n",
      "A34JKODTSKCGEN ['B000I5JHB0', 'B002TG3K14', 'B0012WDMNC', 'B0002KKIUA', 'B002BW6DBU']\n",
      "APQQK1V695AUE ['B000HDJT4S', 'B00140DBRY', 'B000BYVA8Q', 'B000G6M916', 'B0018QQDII']\n",
      "A16C19G0I2DE8S ['B00DBA9YD0', 'B005ONMDYE', 'B003WGJYCY', 'B00D856NOG', 'B001Q3MA80']\n",
      "A2NJQF2UI60VGT ['B0010Y414Q', 'B004GF8TIK', 'B001J8BPYM', 'B007BWTOHU', 'B000V06UHQ']\n",
      "A319Y83RT0MRVR ['B00D96LZ6K', 'B008X9ZBVI', 'B0046HAO40', 'B0097CZHAU', 'B00E6ONJJU']\n",
      "A1NZLRAZJGD99W ['B001OC6DCW', 'B0012GK3MQ', 'B004M8ST36', 'B008C1JC4O', 'B000AYGDIO']\n",
      "A2K6CDQ9HZ359G ['B0007Y791C', 'B007IV7KRU', 'B003LSTD38', 'B00114PN1U', 'B001212ELY']\n",
      "A1XK4VP74IB9TQ ['B001F7AHOG', 'B0001Y7UAI', 'B0039825LM', 'B002N2EHVQ', 'B001PI9AAC']\n",
      "A27GITTN6AVW5I ['B009YT6PPC', 'B001OI2YNS', 'B006Z0Q2SI', 'B001L6G326', 'B007B5POVC']\n",
      "AV8MDYLHHTUOY ['B004CLYEDC', 'B0034CL2ZI', 'B00829TIA4', 'B001T9NX9Q', 'B007PTCFFW']\n",
      "A2W9I628I6SE1U ['B000TKHBDK', 'B0082E9K7U', 'B000ANCPNM', 'B000R805L4', 'B0035JJOLE']\n",
      "A2XXBZPQT5EXHV ['B003DZJQQI', 'B001TH7GSW', 'B000VE2RP6', 'B004FA8NOQ', 'B0013FRNKG']\n",
      "A35OIWPVTGW3UC ['B004MSMCSO', 'B00B7SMR3C', 'B00722JCMQ', 'B005TOU804', 'B0011Z44UA']\n",
      "A3TP31S61PPE3G ['B00BFO14W8', 'B00A6EV6TY', 'B008OHNZI0', 'B000ID37EA', 'B001FA1NUU']\n",
      "A1X3DA7C61WZLQ ['B00000J061', 'B0015AARJI', 'B003O8682Y', 'B00408K36Y', 'B0068INSUM']\n",
      "A3CJ7MHAS9IMAM ['B00009R6WO', 'B001CCAISE', 'B001G5ZTPY', 'B00065ANYW', 'B00109Y2DQ']\n",
      "A2ZFFSJ0VM6KSJ ['B004LEAYXY', 'B004AZ38Z0', 'B000BNY64C', 'B002RCLYXG', 'B000IDCDZY']\n",
      "ASJLXOX1VD4DF ['B00G4UQ6U8', 'B004CLYEFK', 'B00E87E1OM', 'B00EOE4G4E', 'B009A6CZ30']\n",
      "A1SDPA1J98UP4L ['B00029U1DK', 'B002WE6D44', 'B00B588HY2', 'B000MX48VM', 'B0015AARJI']\n",
      "A33ZYFE8XMKKR1 ['B001UHOR88', 'B009UEAZ84', 'B001LYUG3A', 'B00081A2DQ', 'B000AY2L3U']\n",
      "A20H1M28WLI9J2 ['B005KQ0S8S', 'B00180LGX6', 'B0002L5R78', 'B000GOUE7Y', 'B001212ELY']\n",
      "A4S2WAQVQR6PI ['B002YU83YO', 'B0006I1TRY', 'B005CWIVYI', 'B0028R3NCU', 'B0019X20R8']\n",
      "A3NEAETOSXDBOM ['B001TH7GUK', 'B004GF8TIK', 'B000F9YN22', 'B0002CPBUK', 'B000CSWCQA']\n",
      "A3QQGPI3CTV9SX ['B000HJPK2C', 'B0009Q4PH4', 'B0013BT8US', 'B000O161X0', 'B000LU8A7E']\n",
      "A240FRPD4MEXND ['B00DTZYHX4', 'B00834SJSK', 'B007OY5V68', 'B00GO1UV4E', 'B003X26LYG']\n",
      "A1MRRMHGV3PN5W ['B000N99BBC', 'B003HIXOOG', 'B001S2PPT0', 'B00829THEG', 'B0009GZAGO']\n",
      "A3PJJTAKISAFI9 ['B002GU5XKE', 'B009SYZ8OC', 'B00824948U', 'B003XTRU58', 'B004QVPGXK']\n",
      "AMFXXAOVV4CPJ ['B001QUA6RA', 'B003CP0KCS', 'B00005TQKQ', 'B001S2R8E0', 'B004VBEI0M']\n",
      "A3V2EZ6MA32FF6 ['B002FB684E', 'B008LCYIEI', 'B002S53LJ2', 'B00A9NE84C', 'B0058NN6CS']\n",
      "A2RWHTNM5P3I8Y ['B005HSDLCO', 'B00EVIBN8U', 'B00829TIEK', 'B004XZHY34', 'B0054JE706']\n",
      "AM9APPMIE1BHZ ['B004S4R5CK', 'B001OOZ1X2', 'B004CLYEDC', 'B00CD1FB26', 'B00ESYW40S']\n",
      "A2WXURU33RBGQS ['B00B4GGW5Q', 'B0013AV4M4', 'B001EH8FZA', 'B00505EZZ6', 'B003F8UWUM']\n",
      "A28I5UM0FT3I6T ['B00CPGYNV4', 'B003WV5DJC', 'B00006HOAQ', 'B003BLB2T8', 'B002YPS6T6']\n",
      "A3QU3O79AGNWCY ['B001W26TIW', 'B000E5CYW8', 'B00007E7JU', 'B003FMUP3M', 'B003BLQKI6']\n",
      "A12EVK82QUTSA6 ['B003ES5ZUU', 'B002WE6D44', 'B002YU83YO', 'B001KB6Z2U', 'B007IV7KRU']\n",
      "A2DKQQIZ793AV5 ['B00DVHV7TW', 'B009USAJCC', 'B007WTAJTO', 'B004XW2NEW', 'B00GO4GMAI']\n",
      "A359MYLPLEOF7N ['B009NE7B06', 'B00067OLOS', 'B0056BPUQC', 'B00006I5SQ', 'B009YONZEG']\n",
      "A2QDOJFFLFGF18 ['B001TH7GVE', 'B0002L5R78', 'B004CLYEH8', 'B0007Y79AI', 'B0072LEKMO']\n",
      "A27T4RQ3XA661C ['B00FGOTBQO', 'B001GIPSAW', 'B0051UWCVO', 'B00462RMS6', 'B002PY7P2K']\n",
      "A2EN82VBJT44QP ['B00017LSPI', 'B001PIBE8I', 'B005HQ50SO', 'B000COZ504', 'B000F6MOQM']\n",
      "A3SRDVCD2ATIIS ['B003ZSHNGS', 'B000JMJWV2', 'B004TA0AUW', 'B007I5JT4S', 'B001HB9YXK']\n",
      "A18YMFFJW974QS ['B00CSDMWGW', 'B00E1CZRHY', 'B00DUKJ5CQ', 'B00E6N9GS4', 'B000VB6U1Q']\n",
      "A11T807LX2EF00 ['B00BOHNYU6', 'B001QUA6RA', 'B004CLYEDC', 'B009SYZ8OC', 'B0007LJHVA']\n",
      "A1DB5QPH7WO488 ['B0012Y6HC8', 'B000N99BBC', 'B007VL8Y2C', 'B000EW8074', 'B004QK7HI8']\n",
      "A14MZJTZAQS6CV ['B00B4GGW5Q', 'B007FGYZFI', 'B007WTAJTO', 'B000V1R96Q', 'B00011KM38']\n",
      "A3V8P0O224OBDB ['B001OC6DCW', 'B005G3066Y', 'B002QEBMAK', 'B0001JSSLI', 'B003ZDLATE']\n",
      "AGYH5U11ZKPFB ['B006U3O566', 'B002MZUNXU', 'B003X7TRWE', 'B005KSAG3S', 'B0002GX0ZE']\n",
      "AG8YP2XTC5X1I ['B002WE6D44', 'B00B5HE3UU', 'B009NHAEXE', 'B001H5T7LK', 'B005H3Q57M']\n",
      "A33GNK4YENACDJ ['B0058G40O8', 'B000AYJDD6', 'B00B5HE3UU', 'B00B3YSTI2', 'B000EITTLE']\n",
      "A14JBDSWKPKTZA ['B000N99BBC', 'B00IX2VGFA', 'B00007M1TZ', 'B001TH7GVE', 'B002DN928S']\n",
      "A2RGA7UGAN3UL7 ['B000OGX5AM', 'B000067RT6', 'B003ZSP0WW', 'B004PYD9I2', 'B00483WRZ6']\n",
      "A2RG1B0K8YBJ4A ['B002YU83YO', 'B000UIA6YM', 'B005JRGOCM', 'B000W3QLLW', 'B005HXEPI8']\n",
      "A2KZOIOFXXMC1H ['B002BH3Z8E', 'B0009HTB0Y', 'B00125Y0NU', 'B009NHAF5G', 'B009NHAEXE']\n",
      "A21INUA35HX4XQ ['B0052SCU8U', 'B007R5YDYA', 'B007IV7KRU', 'B0015AARJI', 'B001E1Y5O6']\n",
      "A303SNZ4AR7TDQ ['B007SZ0EHE', 'B0036Q7MV0', 'B0002SQ2P2', 'B009VV56TY', 'B005LIDU5S']\n",
      "A35HOUWHAYZZN6 ['B001TOD7ME', 'B00E9YIFKA', 'B00829TIEK', 'B007GNN0AG', 'B0054L8MR8']\n",
      "AOJA1LC8PN7K1 ['B002RWJHBM', 'B0002MQGRM', 'B0001GNJWY', 'B00005T3BD', 'B009T0NFXG']\n",
      "A3QMJMTLJC34QC ['B005KFONIU', 'B000BQ7GW8', 'B005ELBSWO', 'B000OLDG60', 'B004YKXGIK']\n",
      "A1YE1IK0JYSIIE ['B001TH7GUU', 'B00D18U63O', 'B00GRQ8AQM', 'B0076POAJE', 'B00EB7812C']\n",
      "AVU1ILDDYW301 ['B00310PJM0', 'B00GHY5F3K', 'B0045XV2CI', 'B005O0R99Q', 'B00DIOALPE']\n",
      "AAW7X3GRD8GY9 ['B000CRFOMK', 'B0054JJ0QW', 'B007PRHNHO', 'B008C1JC4O', 'B000EHCYBC']\n",
      "AGEWOMQ90BV8R ['B0012W7HQK', 'B0014Z29OU', 'B00603RTC8', 'B004NY9UUK', 'B00AKO7XOW']\n",
      "A20951I210L0IB ['B005K7192G', 'B002QEBMAK', 'B00008ZLHG', 'B007PPZ2I8', 'B009GF6F9U']\n",
      "A1ZM846Y7AUYD ['B000TKHBDK', 'B0008D76L0', 'B000JLP5UK', 'B0002JY712', 'B0000CCVC9']\n",
      "A34C9AFFZOI45T ['B00305N48C', 'B004BLIQDC', 'B000PCX780', 'B003WV5DJC', 'B00080G0BK']\n",
      "A3U6J0DLLDEWM2 ['B007R5YDYA', 'B002DMKPQ2', 'B00B3329WA', 'B001A4HAFS', 'B00829THK0']\n",
      "A3VTOLNB5N6FVP ['B00COEBCXY', 'B00546JKJC', 'B00EOE4G4E', 'B000A3WS84', 'B007X3VC7W']\n",
      "A3FFZQKCA7UOYY ['B001TH7T2U', 'B000OGX5AM', 'B002JQNXZC', 'B000OG88KY', 'B0019EHU8G']\n",
      "ADHA1W879JNT0 ['B000FQ2JLW', 'B001TH7T2U', 'B006U3O566', 'B0013DXVYK', 'B0000DZET4']\n",
      "A18EA7MNLXP9H5 ['B000UHQVOW', 'B003VAHYNC', 'B002Y6CJJ8', 'B000067RT6', 'B006PCDJI2']\n",
      "A2I357I10ZY7CI ['B001TH7GUK', 'B001F51G16', 'B003SQEAY0', 'B00B8L36A6', 'B002S9KTAW']\n",
      "A1X2LENOF84LCQ ['B001TUYTZM', 'B0039BPG1A', 'B0055QZ216', 'B0000A2QBX', 'B0010WG2H2']\n",
      "A3DOPYDOS49I3T ['B001NTBVPA', 'B002K9IHGI', 'B00067OF80', 'B009A6CZ30', 'B000BOLHH0']\n",
      "A2YHXGPCTENZY3 ['B007FEFQDA', 'B000JLI4Q2', 'B0013FK9U2', 'B00005T3ND', 'B000RQHAUA']\n",
      "A1VRANSQ0WF1YS ['B0010Y414Q', 'B0007A1IRC', 'B001S0PWWC', 'B000QJ4ZE2', 'B001WGX15W']\n",
      "A3DGJMO6VPG6FJ ['B003ES5ZUU', 'B000N99BBC', 'B00EO302SO', 'B009B0MZ8U', 'B003QKBVYK']\n",
      "A2PICNZWHEINQC ['B008EQZ25K', 'B00006B7DA', 'B009SYZ8OC', 'B0076AYNXM', 'B003T0EYVE']\n",
      "A1WJ3P43SZUNDM ['B000067RT6', 'B001FVI91U', 'B00ALK3HF4', 'B0013CED4I', 'B00310K9VQ']\n",
      "A1MRPX3RM48T2I ['B001TH7GSW', 'B000VE2RP6', 'B004ZNA3UA', 'B00BEWF4R2', 'B002TA7VO2']\n",
      "A3CIET1UO3G51E ['B0043WJRRS', 'B003M3A1BK', 'B0071BIQZC', 'B000652SZO', 'B0081SS5C8']\n",
      "A12O5SEIF162P8 ['B000XUMR6C', 'B00B1862X4', 'B001E1Y5O6', 'B000JLK5NW', 'B000LXZKQK']\n",
      "ARX7Z3NI6O0F7 ['B002NEGTTW', 'B000AZ57M6', 'B009D79VH4', 'B0007Y791C', 'B004SBBD8U']\n",
      "AIJQU979J6UFY ['B0016XIQ1U', 'B00BOHNYU6', 'B00829THO6', 'B000HPV3RW', 'B000AZ57M6']\n",
      "A2QRXQPHDMFCQV ['B009NB8WR0', 'B000N99BBC', 'B001OI2Z4Q', 'B00FJRS5BA', 'B0015F0AB8']\n",
      "A2VH0UT5EQFB6P ['B00CDS9HTM', 'B000JE7GPY', 'B000BI2162', 'B005EJH6Z4', 'B001S0PWWC']\n",
      "A25TNBMJ4ZO7RD ['B00IVPU786', 'B003NSC2WU', 'B0054U6CEE', 'B0055PH0XA', 'B00149PA42']\n",
      "A1PI8VBCXXSGC7 ['B00DTZYHX4', 'B00G4UQ6U8', 'B0062XB9FE', 'B009X01C64', 'B004CLYEH8']\n",
      "A32T2H8150OJLU ['B004V4IWHY', 'B00006I5J7', 'B000ZMCILW', 'B003HIXOOG', 'B003ZYF3M8']\n",
      "AZAC8O310IK4E ['B003ZSHNGS', 'B001FWBUUG', 'B0002XQJFA', 'B009SYZ8OC', 'B0041OSQ9I']\n",
      "A3DL29NLZ7SXXG ['B00CROTNGO', 'B001IANWCO', 'B0072NPFH6', 'B00D1847NE']\n",
      "A1JUBRIZMO0RJV ['B00CD8ADKO', 'B002P3KH80', 'B008LCYIEI', 'B002QQ8H8I', 'B0007Y798U']\n",
      "A24QFMD1RXLJMB ['B001AW8W7A', 'B004VM1T5S', 'B002K3Z3DO', 'B001M5BIX0', 'B000JQ17WK']\n",
      "A1SC5OXLQNGPLN ['B0019EHU8G', 'B000KJQ1DG', 'B009B0MZ8U', 'B006TAP096', 'B0007U00X0']\n",
      "AZCE11PSTCH1L ['B005869A16', 'B0039825LM', 'B008RJZQSW', 'B000V0IE6G', 'B0087OV77G']\n",
      "A22NKFOH9RATRC ['B00029U1DK', 'B004286VMW', 'B007RMAS1K', 'B005058B56', 'B000VS4HDM']\n",
      "A1N5FSCYN4796F ['B002Y6CJJ8', 'B000CSWCQA', 'B00C28L138', 'B004XW2NEW', 'B005DSPLCQ']\n",
      "A26LD9FQHTM8ZH ['B00BF9MUAS', 'B004Q3R9B0', 'B002GEQDK4', 'B005HMKKH4', 'B00GO1UV4E']\n",
      "A1E1LEVQ9VQNK ['B005GI2VMG', 'B003ES5ZR8', 'B000VX6XL6', 'B00CPGYNV4', 'B005O9YMM4']\n",
      "A3CKI6VEH0HBMJ ['B001NTFAOS', 'B004SBBD8U', 'B00829THVO', 'B000I04WWY', 'B000NDA5E0']\n",
      "A25UZ7MA72SMKM ['B003DZJQQI', 'B003CFATT2', 'B006ZH0KVG', 'B0002L5R78', 'B0014VY28A']\n",
      "A30ADSBTWCORYC ['B0002L5R78', 'B00604YSNK', 'B004AB4Z10', 'B0056KEPVO', 'B0081SS5C8']\n",
      "A1REY92IEZJUSX ['B00009R6WO', 'B000053HH5', 'B00A35WYBA', 'B0010HE2CY', 'B002W3IXZW']\n",
      "A298GL2D0BHGKZ ['B003ES5ZUU', 'B000S5Q9CA', 'B0015AARJI', 'B004HHICKC', 'B001202C44']\n",
      "A19RW25Q6206I3 ['B002NO7PWC', 'B007WTAJTO', 'B003N2POXK', 'B004OR14GO', 'B000OFSN4G']\n",
      "A1ATVMMJZP3Q4X ['B00007E7JU', 'B006UMM2BW', 'B0011Z44UA', 'B000MYPPPE', 'B0015PKGH6']\n",
      "ABSYIF0ONC2AF ['B003ES5ZUU', 'B002YU83YO', 'B00E98O7GC', 'B00829TIA4', 'B000117DEY']\n",
      "AK9BXHEXOOM6Z ['B006EKIQYM', 'B0001FTVE0', 'B00000J1UQ', 'B002HFER6O', 'B004LU1U2M']\n",
      "A2X78O6G89CB30 ['B003ES5ZUU', 'B001VL572I', 'B001EPVOQY', 'B0090BSSZO', 'B000KZ70JE']\n",
      "A1CST2WUA32GP0 ['B003ES5ZUU', 'B0000X0VCY', 'B000HPV3RW', 'B005HXFARS', 'B0009YJXMS']\n",
      "A23GFTVIETX7DS ['B003DZJQQI', 'B000TKHBDK', 'B00IX2VGFA', 'B00CSDMWGW', 'B003Z4G3I6']\n",
      "A2ED50E3KWKUKW ['B00004XOM3', 'B004UTQRHW', 'B000JLK5PK', 'B0046TDJJK', 'B0015VW3BM']\n",
      "ANEDXRFDZDL18 ['B009NHWVIA', 'B001ELK2NY', 'B00829THEG', 'B0071BTJPI', 'B00EOI2SR2']\n",
      "A2GYV87WW0DMSN ['B003ES5ZUU', 'B008EQYRRY', 'B001E1Y5O6', 'B00D856NOG', 'B000FIDTYG']\n",
      "A1G650TTTHEAL5 ['B009UNZ5WQ', 'B004IK2EAW', 'B00G4UQ6U8', 'B00A35WYBA', 'B00G4V0QSK']\n",
      "A361M14PU2GUEG ['B000QUUFRW', 'B002JQNXZC', 'B0015AARJI', 'B00080G0BK', 'B00009R6K7']\n",
      "AKT8TGIT6VVZ5 ['B000M2GYF6', 'B0007WK8KS', 'B00BOHNYTW', 'B000BY52NK', 'B00004XOM3']\n",
      "A1X3ESYZ79H59E ['B00CD8ADKO', 'B00829THEG', 'B004CLYEFK', 'B00CM0XHNS', 'B005I6EVUG']\n",
      "A257X1MQJO82P2 ['B004W2JKWG', 'B008EC4O76', 'B006M76GWG', 'B001GCU0MY', 'B009NHAEXE']\n",
      "A2KHG3JOFXQ4CE ['B0031RG29M', 'B000RZQZM0', 'B0009ON12G', 'B00391XGDA', 'B000IELOY4']\n",
      "A1VTCSCH8FFC76 ['B002WE6D44', 'B003N7NMO8', 'B003FWEQDM', 'B000058EGT', 'B000J1DA3Y']\n",
      "A1H6SBO7R007I8 ['B008ALA6DW', 'B002MUAEX4', 'B005JLQL26', 'B00AQUO5RI', 'B006ZH0J30']\n",
      "ANYC38I00IRVK ['B00A83I8G2', 'B004C9P9TM', 'B0058P0I2C', 'B000GZ6ZQW', 'B00BHC7ZT4']\n",
      "A2X61KKXXR6WNP ['B001DJ64C0', 'B0000AKVHF', 'B000J43HJ8', 'B001F7HLRC', 'B0089E5R0W']\n",
      "A2HDTOF8222KN3 ['B0009WU65I', 'B003O1UYHG', 'B007BYLO4E', 'B0007LCKJQ', 'B00AWKC0EC']\n",
      "A225G2TFM76GYX ['B000NP3DJW', 'B004CLYEDC', 'B0034CL2ZI', 'B001TANZ0W', 'B00119T6NQ']\n",
      "A32AFX2PUJ82HG ['B00029U1DK', 'B005GGTTZ0', 'B0049SCB2Y', 'B00001WRSJ', 'B0000DD7OH']\n",
      "A1R19YYR5OR26T ['B004ELA0SS', 'B003DZJQQI', 'B0099SMFP2', 'B003X7TRWE', 'B000NHZSHK']\n",
      "A1D9V11QUHXENQ ['B004LSNF04', 'B00475K64E', 'B00GHY5F3K', 'B000UD6E48', 'B000QDZ4CU']\n",
      "AFQBS241UKPAZ ['B0094S35W4', 'B006ZBWV0K', 'B00BFO14W8', 'B003XM73P2', 'B002YOENAS']\n",
      "A34CKIMZ969UW7 ['B001S2PPT0', 'B0055QZ216', 'B005HKIDF2', 'B004OHJ1M8', 'B001XURP7W']\n",
      "A3CLWR1UUZT6TG ['B005J4C820', 'B006QB1RPY', 'B005NC8BF6', 'B0093HGD2K', 'B000SIFHZM']\n",
      "A3JLOIXFM75QNV ['B00IKF2H12', 'B0001F21IS', 'B003CJTR8M', 'B001UHOX2I', 'B005DOUJL8']\n",
      "A1RDHBBZE1NPS3 ['B003ES5ZQE', 'B0087B6SV4', 'B00G4JZ2T0', 'B00BUJ6MW0', 'B00BQ5RY1G']\n",
      "A3UR2N0ATGBCU8 ['B006QB1RPY', 'B00CXACPN0', 'B005B3VO24', 'B009HP42HQ', 'B00BBD7NFU']\n",
      "A3JU990UTN5RQP ['B003VSTDFG', 'B001S2PYQY', 'B004R6J2KW', 'B009JZ09PI', 'B008F537KC']\n",
      "AGX2K0FMS0IVL ['B002WE6D44', 'B007WTAJTO', 'B0028K2TXQ', 'B005N6ICXS', 'B003VBKSWK']\n",
      "AL5CUWBFBMWYQ ['B000FITKK8', 'B00023JJV6', 'B00EZ9XG5I', 'B000K52CY2', 'B008X9ZBVI']\n",
      "AAA0TUKS5VBSA ['B002TLTE6Y', 'B005IMFX2K', 'B00CD8ADKO', 'B00E87E1OM', 'B0079UAT0A']\n",
      "A2Z9S2RQD542CP ['B001F7AHOG', 'B002VPE1WK', 'B000HDZAUA', 'B0047PGSI2', 'B001D60LG8']\n",
      "A1KSNK256G46GX ['B004GW25WY', 'B0020ZDI5C', 'B00CTUIT20', 'B00BEWF4R2', 'B00752R9PK']\n",
      "A2Q7OJTVPIO2XH ['B00017LSPI', 'B0043WJRRS', 'B005TOU804', 'B005KJH8WO', 'B0090QXFP2']\n",
      "A1QNYLBG73QRNF ['B000092TT0', 'B000EW9Y4M', 'B00AQUO5RI', 'B00AANMVNQ', 'B000NB05MO']\n",
      "A1JBEKU5TYIWE7 ['B0019EHU8G', 'B005J7YA4G', 'B0013AV4M4', 'B000IMSK8Y', 'B009PK9SB8']\n",
      "A3EPJSPH03AS29 ['B000M2GYF6', 'B000EPNES6', 'B009F7IBZK', 'B0037258L4', 'B002RWJDB6']\n",
      "A2D1ZQEFS1NBH2 ['B005J2E2US', 'B0074BW614', 'B000E6G9RI', 'B00A2XKNO8', 'B004RCUUT8']\n",
      "A3NVZTGPORNPRW ['B004S4R5CK', 'B002QAUN2M', 'B001QUA6R0', 'B003VAK16O', 'B004NPH7BI']\n",
      "A28X0LT2100RL1 ['B001TH7GUU', 'B002WE4HE2', 'B000CSOXTO', 'B00009R9A1', 'B003ES5ZSW']\n",
      "AELK0E5DK7LIZ ['B000N99BBC', 'B00COF7DGS', 'B005KAK2FI', 'B00BOHNYU6', 'B006EKIQYM']\n",
      "A10X9ME6R66JDX ['B002YU83YO', 'B0052SCU8U', 'B002V88HFE', 'B004SBBD8U', 'B0012GK3MQ']\n",
      "A7EU2BWLLCJY2 ['B003FMUMN0', 'B0058FAYPI', 'B000HDJT4S', 'B00FSA8VQ2', 'B000VW2QPO']\n",
      "A3PGVJF37JSHFO ['B00029U1DK', 'B005LDLP8W', 'B001V9KG0I', 'B00A9NE84C', 'B0042FZ51I']\n",
      "A2XJMQ2COPGWJH ['B0019EHU8G', 'B0000B006W', 'B001NPEBEC', 'B0025VKUPW', 'B000J1F1BI']\n",
      "A38QEATH3NODFM ['B000204SWE', 'B000BONJXU', 'B000BT2PZS', 'B000LD14PQ', 'B00142MUEM']\n",
      "A2LB4FLRZG6CUV ['B00BQ4F9ZA', 'B005OA3BSY', 'B00FISD9DO', 'B001MSVPM6', 'B0077CR5RK']\n",
      "AD9ZL63H0VKCZ ['B00APQA572', 'B009DJ1OFY', 'B003UOIMAS', 'B008B488DI', 'B0074BW614']\n",
      "ALUNVOQRXOZIA ['B002TLTG9E', 'B00004Y7TC', 'B009PK9SA4', 'B005KWPJ04', 'B0001A99MO']\n",
      "A2LF16F0KX9L7P ['B00B3PDHBU', 'B00DT04I9W', 'B00JC5Y6WM', 'B00834SJNA', 'B007HZLLOK']\n",
      "AGHZXQL9F94T9 ['B00004XRED', 'B000BFNT0W', 'B00008L3HY', 'B0002ZAEYA', 'B0007MVHZS']\n",
      "A2SPV96SGOEO2 ['B00CI3BIWQ', 'B002NEGTTW', 'B00834SJSK', 'B000JE7GPY', 'B00BP5KOPA']\n",
      "A33XMCG1UFDSY2 ['B000TKHBDK', 'B0014Z29OU', 'B000TXEE14', 'B003XIJ3MW', 'B008OHNZI0']\n",
      "A3284KYDZ00BZA ['B000N99BBC', 'B006EKIQYM', 'B00EO302SO', 'B00BOHNYTW', 'B009F7IBZK']\n",
      "A3IMALU0RM8UT9 ['B000QUUFRW', 'B003FVVMS0', 'B006LW0W5Y', 'B003FVJYF8', 'B004YDUZ22']\n",
      "A2JAEZ0FMAMJVW ['B0034CL2ZI', 'B00IVPU7DG', 'B005JLQL26', 'B0002SQ2P2', 'B006TAEH7W']\n",
      "A3J3ZHGDUDPCFL ['B0016P5ASK', 'B00D96LZ6K', 'B005NFG1MS', 'B000RZUV9S', 'B0088CJT4U']\n",
      "A3QAO3QBCQF89T ['B000N99BBC', 'B003N8GVUY', 'B008C1JC4O', 'B002SY5GRS', 'B0018SMVCS']\n",
      "A3EQQHWJ1EEYEU ['B004G6002M', 'B000LRMS66', 'B002IWP87S', 'B000R0FG5W', 'B008MPB9YQ']\n",
      "A2ALRZ0ENQLYY5 ['B002V8C3W2', 'B00005T3G0', 'B00AAIPT76', 'B0041OYS36', 'B0047ZFHBG']\n",
      "ATFBVUXDIRXT6 ['B00B588HY2', 'B00F0DD0I6', 'B00310PJM0', 'B00829THEG', 'B000HPZ97W']\n",
      "A1P4XD7IORSEFN ['B000OTLU2O', 'B00003CWDH', 'B003GAJ67Y', 'B000CP4JMS', 'B00520BL8I']\n",
      "A3QD59N3M7O7KB ['B00316263Y', 'B000N99BBC', 'B0036Q7MV0', 'B003WJR69E', 'B0015AARJI']\n",
      "A1Z7SC7HH1BJKA ['B0000VYJRY', 'B000M2GYF6', 'B0034CL2ZI', 'B006OBGEHW', 'B0064I1NRG']\n",
      "A3TBMGNSEQBWIL ['B004CADY9I', 'B00000K135', 'B000LRMS66', 'B003NVMHM2', 'B009K6GQEY']\n",
      "A2LFWJ8X817QGX ['B002WE4HE2', 'B006QB1RPY', 'B004QJ9JLW', 'B006ZZQ5EY', 'B004LGNB0A']\n",
      "A1CMWB7AWQUQH4 ['B009ZIILLI', 'B002BH3Z8E', 'B002G1YPH0', 'B003ELVLKU', 'B0001Y7UAI']\n",
      "A1EOTB1WHLSW6G ['B00829THH8', 'B000JE7GPY', 'B000ABB4HC', 'B003KGBBRW', 'B004M8SWBU']\n",
      "A2RTVGR9B1M600 ['B002Y6CJJ8', 'B002Z2QDNE', 'B000093UDQ', 'B000BH5OW6', 'B003JTHMSM']\n",
      "A2TA40MV2H4O6F ['B00007GQLU', 'B00007E89K', 'B007BXD66E', 'B006TT91TW', 'B0040JHG86']\n",
      "A1WXG10FJ353K0 ['B00AJHDZSI', 'B0090IA4FO', 'B00HFRWWAM', 'B0090Z3QG6', 'B00BWF5U0M']\n",
      "A19XMHRB3G4DIR ['B005HY4U46', 'B004CLYEFK', 'B0079UAT0A', 'B00155RGYM', 'B0092ML8QW']\n",
      "A1FXT4VNDA25LY ['B0000BZL1P', 'B000CKVOOY', 'B004AGX4YO', 'B0013A1XDY', 'B003U6Y1OC']\n",
      "AN2IZT80ZUNJN ['B003EHCBDA', 'B004TJ6JH6', 'B005TUQU00']\n",
      "A26CPEEWB2WKRE ['B00829TIA4', 'B00004W3ZQ', 'B003XIJ3MW', 'B0091PEC3Q', 'B00EZ9XG5I']\n",
      "A33PVCHCQ2BTN0 ['B002Y6CJJ8', 'B001TH7GSW', 'B00829TIA4', 'B000TXNS6G', 'B00829TIEK']\n",
      "A2J8T58Z4X15IO ['B003CFATT2', 'B000N99BBC', 'B005KFONIU', 'B001MT8J4W', 'B00D429Y12']\n",
      "A35HNL2VEDK9Z1 ['B000VDCT3C', 'B000VDCTCI', 'B006TAP096', 'B0099XGZXA', 'B00005LEOH']\n",
      "A2QIC4G483SQQA ['B0042IEVD8', 'B008RJZQSW', 'B0049PQTLQ', 'B00005BC0J', 'B005H3Q57M']\n",
      "A3IOQ7NVVLAUEE ['B001TH7T2U', 'B000IF51UQ', 'B002G1YPHA', 'B0040BPHJO', 'B000NPZ4D0']\n",
      "A2JP9E1H0SF392 ['B00009EHJV', 'B000CKVOOY', 'B0002SQ2P2', 'B004JMZPJQ', 'B004CLYJ0K']\n",
      "A26877IWJGISYM ['B004YLCKYA', 'B003AM8S3G', 'B005QUQPDA', 'B001SEQN3K', 'B00114162K']\n",
      "A2T3S3VTW65VO5 ['B001TH7GUU', 'B009O7YUF6', 'B00212NO6W', 'B00B588HY2', 'B001W28L2Y']\n",
      "A23D13HKTA95WX ['B001MSU1FS', 'B000CRFOMK', 'B0000B006W', 'B004IZN3K2', 'B002UVNW5W']\n",
      "AGLT3L7ALL4O4 ['B00316263Y', 'B000L47AHG', 'B005PYD2RE', 'B008RBD2YA', 'B000VZS2EU']\n",
      "A3U5HKDHPYBAK3 ['B00316263Y', 'B006LW0W5Y', 'B0019EHU8G', 'B001XURP7W', 'B00F6E8OUS']\n",
      "A1V3TRGWOMA8LC ['B00DTZYHX4', 'B0082E9K7U', 'B002Y6CJJ8', 'B00JC5Y6WM', 'B0001CNMFM']\n",
      "AKSFZ4G1AXYFC ['B0046TJG1U', 'B000068O16', 'B008XV7VTG', 'B000CNPK3M', 'B00813KIAA']\n",
      "A35C2IVVQR1HTK ['B004RORMF6', 'B0002Y5WZM', 'B00139W0XM', 'B0010HE2CY', 'B0017JY5FE']\n",
      "A2RGWCT6K2C3EZ ['B001RNOHDU', 'B00HYAL84G', 'B005NGKR54', 'B002ZIVKAE', 'B004RE20M6']\n",
      "A1MJMYLRTZ76ZX ['B000021YUO', 'B000031KIM', 'B00005AWBJ', 'B00004T0RC', 'B00004RC2E']\n",
      "A22R9L5DAVYYWR ['B002WE6D44', 'B001IEXU68', 'B001NJ0D0Y', 'B002IOT5PW', 'B0011ZH0BK']\n",
      "A2TVH2OBNXYXHV ['B00HFRWWAM', 'B00486UR2I', 'B001GAOYCS', 'B004GUT1QO', 'B000LU8A7E']\n",
      "A2FSOHSM9X13JT ['B0036AWR8E', 'B0045KGZOG', 'B000HJPK2C', 'B007RZB3KM', 'B0060B7NCG']\n",
      "A1LHMSY3Q46PJS ['B0002V9IKK', 'B000WPDKRI', 'B005HARR2W', 'B003MB0YDC', 'B00D601UC8']\n",
      "A1U4GOVZWL8ZTL ['B005LFT3GG', 'B0079M711S', 'B007BY3PBE', 'B0088VQEV2', 'B003USPOLO']\n",
      "AGJRUK27RBVYS ['B008HK3QII', 'B009JPBPWO', 'B007ZZ6OW6', 'B00FG38L16', 'B003RAE19Q']\n",
      "A2OBDNQ5ZYU1L8 ['B0019EHU8G', 'B00BOHNYU6', 'B004286VMW', 'B0082E9K7U', 'B00IF0JAIU']\n",
      "A1H55L0BLPCWYF ['B000QUUFRW', 'B00BP5KOPA', 'B003JZU8DC', 'B000NB05MO', 'B00489SLEQ']\n",
      "A3O1FVLUD9X1XC ['B004QBUL1C', 'B00461E7JE', 'B001F7AJKI', 'B0080I06WQ', 'B0057FRTPW']\n",
      "A1TQBAHI3M4ZBQ ['B000CRFOMK', 'B002V88HFE', 'B0007A1IRC', 'B00007M1TZ', 'B000JMJWV2']\n",
      "A20L63B48RPSOH ['B002TLTE6O', 'B005IHAIC0', 'B003LSTD38', 'B002TLTE7I', 'B00829THK0']\n",
      "A3CJOB7CHOSZUG ['B000FQ2JLW', 'B002WE4HE2', 'B005NGKR54', 'B001KB21KA', 'B0052RM8T2']\n",
      "A2VODABWSVHV8E ['B00005LEN4', 'B000L9OIQC', 'B005FYNSPK', 'B000H02B6O', 'B004RE5ZCI']\n",
      "A2QI2NTDTMK2FV ['B000N99BBC', 'B004CLYEDC', 'B003X7TRWE', 'B001EYV9TM', 'B002UVNW5W']\n",
      "A226VGZWOEBPGL ['B000N99BBC', 'B002TLTE6Y', 'B002TLTE6O', 'B000OLDG60', 'B00390JT1O']\n",
      "AL42PIIG5DXYD ['B001OOZ1X2', 'B000GLIIFW', 'B001QUA6R0', 'B000AAN76Y', 'B004HKIB6E']\n",
      "A15U64VGUV6RBF ['B004Q3R9AQ', 'B005JACJ50', 'B003ES5ZR8', 'B00CPGYNV4', 'B00109Y2DQ']\n",
      "A7EJERNB7IK3Z ['B002Y6CJJ8', 'B000RY2PLQ', 'B000UIA6YM', 'B0017J3XMU', 'B0001FTVE0']\n",
      "A1B0NL8UWAELI7 ['B000NP3DJW', 'B000BVC0WO', 'B004UTQRHW', 'B002JP92K8', 'B005B3VO24']\n",
      "A12DQZKRKTNF5E ['B001TH7GUU', 'B000VX6XL6', 'B00DK2JQOQ', 'B003N8GVUY', 'B003LR7ME6']\n",
      "A2OT3PDH1AWLTG ['B001X017G2', 'B00123XZNI', 'B000PCH3FI', 'B003NZSX7G', 'B004NBZ98K']\n",
      "A1R3GN9MEJFXM3 ['B009USAJCC', 'B001QUA6RA', 'B00000JDF5', 'B006GWO7UA', 'B0023NVS30']\n",
      "A3L1VJMHFWONCB ['B004RORMF6', 'B002V88HFE', 'B000HPV3RW', 'B008ZGKWQI', 'B00DTPYRKC']\n",
      "A27B1U3OWCU14J ['B00007IFED', 'B0001G6U4S', 'B005HSDLCO', 'B005POHB4O', 'B003YTROIU']\n",
      "A3KCETSIJNOK56 ['B000067RT6', 'B005UNFRU0', 'B0054YQO5C', 'B003VWU79I', 'B009FD4UDG']\n",
      "AG0PM9IAHQ06C ['B003HC8V9A', 'B0025EWXEU', 'B008TLQ5RY', 'B001CCLBSA', 'B000CS40WY']\n",
      "AKX9EQ37PAYMY ['B00029U1DK', 'B0045KGZOG', 'B0002L5R78', 'B00011KM38', 'B00AAU54TW']\n",
      "A10Y058K7B96C6 ['B001QUA6RA', 'B00017LSPI', 'B001I45T9O', 'B007PJ4P4G', 'B0036AWR8E']\n",
      "A84FLVDK2R5JF ['B002TLTE6O', 'B007ILFFS6', 'B004ROOCO0', 'B0090IA4FO', 'B002C1BHIO']\n",
      "A13WREJ05GMRA6 ['B000MX48VM', 'B005UBNKWO', 'B0044XTJ10', 'B003ULP5PG', 'B0053YM70Y']\n",
      "ABMF4UC4Z00NT ['B001V9KG0I', 'B007WTAJTO', 'B001PIBE8I', 'B00392CI7E', 'B000BWACX2']\n",
      "A2NSXY5L42ZUGO ['B002LTWDSK', 'B001ELK2NY', 'B000092TT0', 'B001E1Y5O6', 'B0012IJYZQ']\n",
      "A74UT8IQCM0I2 ['B006U3O566', 'B00DKBU5W4', 'B008RM235I', 'B000092TT0', 'B00E055H5O']\n",
      "A267FU71Z01CIH ['B004CLYE8C', 'B009X01C64', 'B00EOI2SR2', 'B00829THK0', 'B00ISRUFSY']\n",
      "A2WBVO6X3KPMDT ['B005GGTTZ0', 'B003FVJYF8', 'B008M9U3BM', 'B005HFYE1O', 'B004Z94BA2']\n",
      "A1CSRR7FCKBL9M ['B000CKVOOY', 'B0034CL2ZI', 'B005755U0I', 'B005NGKR54', 'B00CXACPN0']\n",
      "AKCZIJ6ZHE41D ['B0019EHU8G', 'B004CADY9I', 'B000WOIFO2', 'B0015EA3NO', 'B000V1XICU']\n",
      "A2NX6PABLIJLP1 ['B007R5YDYA', 'B0054JJ0QW', 'B0057UUB1G', 'B00013BNLQ', 'B003LZYXYU']\n",
      "A20OBCQWBKCGZT ['B00IVFDZBC', 'B001DJ64D4', 'B0043M668G', 'B0058FAYPI', 'B00CD778LC']\n",
      "AR1T36GLLAFFX ['B004Q3R9B0', 'B004H8FNBC', 'B004YHXXKO', 'B00005NIMR', 'B004JMZPJG']\n",
      "A3MUSWDCTZINQZ ['B009YQ8BTI', 'B001TOD7ME', 'B0057UUB1G', 'B00834SJNA', 'B008HK3SSG']\n",
      "A314KKDIJWCNMV ['B002V88HFE', 'B004GF8TIK', 'B004LSNF04', 'B00011KM38', 'B004R7P28W']\n",
      "A3F9CMU8KNAY1M ['B001TH7GSW', 'B00HMREOLK', 'B004SGJCCO', 'B0079UAT0A', 'B002HWRJY4']\n",
      "A1V5TRJXTI6F01 ['B002WE6D44', 'B005NGKR54', 'B003LSTD38', 'B0037H8AB4', 'B0064L8Q1E']\n",
      "A54SG05AV6S4H ['B001VEAI74', 'B007SZ0EOW', 'B000E5CYW8', 'B0017JY5FE', 'B0016P5ASK']\n",
      "ASRA2UZ3JV87B ['B001TUYTZM', 'B0028R3NCU', 'B001PTH0VW', 'B00E3RHS6A', 'B003M9RWT8']\n",
      "A3G7BEJJCPD6DS ['B002GP7ZT6', 'B009YT6PPC', 'B00HRQB28Y', 'B008X9Z9S8', 'B00358P3YM']\n",
      "A3INN916E4VION ['B007WTAJTO', 'B006TT91TW', 'B000JE7GPY', 'B007BJHETS', 'B007PY3ZPG']\n",
      "AAEVGE52KL0DJ ['B002BH3Z8E', 'B004GF8TIK', 'B00009R6K7', 'B006EWUOL8', 'B00B5DHZMM']\n",
      "AG2YXYIQ8TLTA ['B0055QZ216', 'B001GIPSA2', 'B00F3SIQKK', 'B002I3OZB2', 'B003X26LYG']\n",
      "A2JE071UW97J2A ['B003CJTQJC', 'B002Y6CJJ8', 'B003I4FHNA', 'B001G5ZTZO', 'B002GEQDK4']\n",
      "A2R6RA8FRBS608 ['B0000E1717', 'B0012MI7N2', 'B000IF51UQ', 'B0007SL4IW', 'B00006IBLQ']\n",
      "A2RW587355CMVA ['B000RHZJN4', 'B005KSAG3S', 'B002HWRJBM', 'B002SZEOLG', 'B007X3VEX4']\n",
      "A2JKM8KF3296CW ['B009NHWVIA', 'B00829TIEK', 'B00EXK1L38', 'B00D3F7D7M', 'B0087TVYP6']\n",
      "A3SX5MZTCZRQLF ['B0007QKMQY', 'B007PJ4P4G', 'B001OI2Z4Q', 'B006EKIQYM', 'B00066FH1U']\n",
      "A2Z2MUP8JRJXEU ['B000ID7QNI', 'B002NEGTTW', 'B001FA1O18', 'B00AD5KDQ8', 'B000H0IF2S']\n",
      "A20G074MWH9U7O ['B0043WJRRS', 'B003U7SR0U', 'B000QGBC8C', 'B00CB2F65O', 'B006OBGEHW']\n",
      "A2TRXEZYU9GYY8 ['B004YLCBRG', 'B003XM1WE0', 'B004GW25WY', 'B004G6002M', 'B003ZM7YTA']\n",
      "A2HV76MYH7UL3S ['B007SZ0EHE', 'B006588Z7G', 'B006VCP72W', 'B00BZB0I3W', 'B00D601UC8']\n",
      "A506HOOCVL8GW ['B003XM1WE0', 'B007WTAJTO', 'B00104XCVO', 'B000J45BK6', 'B00483WRZ6']\n",
      "A1URXSRV6WDHVY ['B008EQYRRY', 'B00GO4GMAI', 'B003GALRIA', 'B00G6IJ5NI', 'B004CLYEDC']\n",
      "AZNUHQSHZHSUE ['B000N99BBC', 'B000JE7GPY', 'B000E6NGBU', 'B009UEAZ84', 'B002XVUTPK']\n",
      "AIFLY2HF8NS8U ['B00829TIA4', 'B00JC5Y6WM', 'B0079UAT0A', 'B00CQ35C1Q', 'B00BBD7NFU']\n",
      "AY3XPKRAMKKY7 ['B00005NIMJ', 'B000V1XICU', 'B0002ZW5W4', 'B000EVS4YY', 'B003ES5ZSW']\n",
      "A294BKN913UOGP ['B000VDCT3C', 'B00005LEN4', 'B000HJPK2C', 'B000BQ7GW8', 'B009WHV3I0']\n",
      "A2SL5IW096Z2BL ['B000TKHBDK', 'B000CKVOOY', 'B00006B7DA', 'B000E6G9RI', 'B003GIJTR8']\n",
      "ALQ4USPEQ9L5N ['B009APBY0G', 'B003WUBIZQ', 'B0077SAYY0', 'B004XNLR16', 'B00F6E8OUS']\n",
      "A2AY4YUOX2N1BQ ['B000F7QRTG', 'B00316263Y', 'B0033PRWSW', 'B001UNI80A', 'B00DK2JQOQ']\n",
      "AQSV34W54L0VO ['B00E3W15P0', 'B0031ESKJA', 'B002HWJT1A', 'B005ARQV6U', 'B0083WYD9Q']\n",
      "A35IX2GE0VC0JP ['B00D6XSRL2', 'B005X64MN2', 'B001S4OTS6', 'B007PRHNHO', 'B004BDOGL6']\n",
      "ABAPF3XY1W6JX ['B004286VMW', 'B003ZG9T62', 'B00005T3RC', 'B007ILEHNU', 'B000Q8UAWY']\n",
      "ATDQ9CGCWTT8D ['B0001VWHH2', 'B007JOO4YS', 'B0034KO59U', 'B003X26VV4', 'B007HH95F0']\n",
      "A3SDJ70H00OQCJ ['B004XC6GJ0', 'B000YEMKGY', 'B0015F0AB8', 'B005CLPP8E', 'B002ZLOR56']\n",
      "A1L64KDYO5BOJA ['B0019EHU8G', 'B00009EHJV', 'B00DMS0GTC', 'B00180LGX6', 'B0002Y5WZM']\n",
      "ASFW4ZMNZJKDA ['B003ES5ZUU', 'B001TH7GSW', 'B004AK154Q', 'B004IZN3WU', 'B003FSTAFK']\n",
      "A2ZR3YTMEEIIZ4 ['B000N50S5Y', 'B000EVT0XS', 'B0011Z44UA', 'B000NKJ2X8', 'B000GBGPAW']\n",
      "A2WC9NFLG57W4H ['B00829TIEK', 'B0055QZ216', 'B000O8WE66', 'B004HVW0ZQ', 'B005A0B3FG']\n",
      "A3SP7T2PZ3HSDE ['B00COEBCXY', 'B00829TIA4', 'B003CJTQJW', 'B000BWACX2', 'B001U3Y8O0']\n",
      "AG7EF0SVBQOUX ['B000F7QRTG', 'B000067RVL', 'B0034CL2ZI', 'B000WOIFO2', 'B0011ZK6PC']\n",
      "A1GQRGB8FGSLIZ ['B000N99BBC', 'B003ES5ZUU', 'B00EVIBN8U', 'B00310PJM0', 'B0092ML8QW']\n",
      "A1Q5P5ML3176C0 ['B0016D1I0G', 'B001CCAISE', 'B003TJR2HS', 'B0048IATQ0', 'B00007E7JU']\n",
      "A2SR7S6ZJJDGNB ['B00CGVF8E4', 'B006JG2IPY', 'B005LJO7JK', 'B00D02AHEO', 'B0090I46U8']\n",
      "A1QLQCJVGCQPP0 ['B002V8C3W2', 'B009SYZ8OC', 'B002Z3D8ZE', 'B0055U6X4M', 'B0083I7Y8W']\n",
      "A1RJKTYC03L0JY ['B003VS9UP4', 'B004MKNJ84', 'B00004WCID', 'B007P4YAPK', 'B0056KCSCM']\n",
      "A3QRR8PSCBI07C ['B002RCNX8K', 'B000BQ7GW8', 'B000067SG2', 'B004O0PAKW', 'B004JISIE4']\n",
      "A15J71JLC29KPW ['B00FJWKYYG', 'B004SGJCCO', 'B000063574', 'B007YXA5TC', 'B00175VDY4']\n",
      "A3REK3OFONWB1Q ['B007BXD66E', 'B000AZ57M6', 'B0000BZL5A', 'B006ZBWV0K', 'B00009USW3']\n",
      "A9LNWA25IM2DX ['B0052SCU8U', 'B0031RG29M', 'B00A0JUNWQ', 'B008LCYIEI', 'B009SYZ8OC']\n",
      "AXYM52DNK6NDF ['B002V88HFE', 'B002QAUN2M', 'B006TT91TW', 'B00009VQJZ', 'B002RM08RE']\n",
      "A21VM9WVF8EOSJ ['B000OG88KY', 'B00000K13L', 'B007DJGHF8', 'B00713DPM4', 'B001B7V55K']\n",
      "A1OGCPMSIVK7G4 ['B000QUUFRW', 'B000HPV3RW', 'B00104XCVO', 'B00139W0XM', 'B0014Z3XMC']\n",
      "A3639Z6O5JBLIZ ['B00081A2KY', 'B00068YUN4', 'B003TM3EL8', 'B0036ORATQ', 'B001OK24V8']\n",
      "A29GWIJL72GXXZ ['B001DL9WDG', 'B00009W3BQ', 'B001M56DI0', 'B00000K13A', 'B0014KROZO']\n",
      "A3CEUT263RNUDO ['B00007GQLS', 'B00COF7DGS', 'B001ENW61I', 'B00009XVCZ', 'B001CCAISE']\n",
      "A2ME89MSWVG9NF ['B009YT6PPC', 'B00728Z9JA', 'B0001NA3S0', 'B00AWRPIWQ', 'B000IN72KK']\n",
      "A1WF4QNIE2Z3I7 ['B009O7YUF6', 'B009VV56TY', 'B00009UT9B', 'B00AEGRGNO', 'B009UEAZ84']\n",
      "A34DQINHT6NYJU ['B003FMUMN0', 'B00829TIA4', 'B0099SMFP2', 'B008MWBY6W', 'B00CF5OHZ2']\n",
      "A1YN5I4FINMBTI ['B004W2JKWG', 'B0019EHU8G', 'B0036Q7MV0', 'B001SJVU24', 'B0039SM0AS']\n",
      "A2T24Z5QP2OMXU ['B003ES5ZUU', 'B00D5Q75RC', 'B002YU83YO', 'B008ALAHA4', 'B009WU5XUG']\n",
      "A16RL0RMRF974O ['B007WTAJTO', 'B001A1RMXG', 'B000V9NU2A', 'B0040X4PV8', 'B004FLJVXM']\n",
      "A2VIYTWXANL343 ['B00B588HY2', 'B0013AV4M4', 'B000GBO9IM', 'B002BZA54S', 'B0007PN5N2']\n",
      "ATMQEI1LKR6VB ['B002MPPHKY', 'B00EOE4G4E', 'B00CB2F65O', 'B009SYZ8OC', 'B001O94GNS']\n",
      "A2SYAQXJGRY3XE ['B000144I2Q', 'B0064P5I1G', 'B002YC3K9A', 'B002SXMRTE', 'B001SDU6HK']\n",
      "AGFSSC5DBY2HU ['B00AJHDZSI', 'B002IKLJVE', 'B00829TIEK', 'B00829THK0', 'B0043M66X6']\n",
      "A2HPJKM7L4EOQB ['B00004Y2MM', 'B000A7XSSY', 'B004PA8706', 'B007B2QDFQ', 'B00005UKBD']\n",
      "A87N6UTYA6NOB ['B002NO7PWC', 'B00029U1DK', 'B002NEGTTW', 'B000067RVL', 'B009SYZ8OC']\n",
      "A3Q1J68QY1MZQ9 ['B000KJQ1DG', 'B0050IE1O8', 'B00310PJM0', 'B00GO1UV4E', 'B001S0PWV8']\n",
      "AWZR0O65DL2Q ['B00005NIMJ', 'B001GX6MJ8', 'B00395ZQMK', 'B000XY6N5Y']\n",
      "A4GGT6O0GQNV2 ['B000F2BLTM', 'B00004SY4H', 'B002VPE1Q6', 'B00484IEJS', 'B007Q45EF4']\n",
      "A25RTRAPQAJBDJ ['B00BCA41PW', 'B00DUTIZJG', 'B00009WBYL', 'B003YNO0LA']\n",
      "A33152QEGO2MZN ['B008AST7R6', 'B00622AG6S', 'B000WKW69Q', 'B003SX0OU2', 'B002K3Z3E8']\n",
      "A2WPL6Y08K6ZQH ['B00HFRWWAM', 'B000U5TUWE', 'B00BGGDVOO', 'B007IS3EMI', 'B00ICDAAXO']\n",
      "A3EK2KTYHJCPB9 ['B008EQZ25K', 'B000N99BBC', 'B0099SMFVQ', 'B005KFONIU', 'B001T9NX9Q']\n",
      "AQCJWSMSURQI2 ['B003CFATT2', 'B004CLYEDC', 'B007PJ4PKK', 'B009Z7KMUM', 'B002R5AM7C']\n",
      "A1435P5AMCPB3X ['B000204SWE', 'B000BT2PZS', 'B000H7FXHG', 'B000VPC44O', 'B002I636XM']\n",
      "A1F5O1USOUOOXI ['B000N99BBC', 'B0099SMFP2', 'B00BIP816Q', 'B00HSQAIQU', 'B000FOYMKU']\n",
      "A1VQBEW0G4IH1J ['B00IVFDZBC', 'B0096W1OCG', 'B003IT985S', 'B004YHXXKO', 'B007NSR0AK']\n",
      "AQM0K7MBBT4AY ['B00FR6VL50', 'B003VANOI6', 'B0009Q56N6', 'B000B9RI14', 'B008X1BV2Y']\n",
      "A2NYOY6H42SORF ['B00CRJVZOM', 'B009ISU33E', 'B0069R0R10', 'B003SQ1JTY', 'B0001FV3AK']\n",
      "AMWL7XIWIPXEZ ['B0076W9Q5A', 'B004QBUL1C', 'B002G1YPH0', 'B000P6R6CY', 'B000GQMHBI']\n",
      "A1XEQGYY1IL8CD ['B0056TYRMW', 'B001G4QXLE', 'B002VGWFF4']\n",
      "A8X478DM3KAWM ['B000N99BBC', 'B001UE6N6A', 'B00023433U', 'B001212ELY', 'B004XXMUCQ']\n",
      "A1OES7R7FDAT2L ['B001QUA6RA', 'B000FQ2JLW', 'B001MSU1FS', 'B0000B006W', 'B002VKVZ1A']\n",
      "A2YYHSORXIHZCS ['B008JJLW4M', 'B004FA8NOQ', 'B000UXZUZC', 'B00COGDERY', 'B003ES5ZSW']\n",
      "A2XX2A4OJCDNLZ ['B0019EHU8G', 'B00IX2VGFA', 'B00FSA8VQ2', 'B0035ERKYW', 'B003XN24GY']\n",
      "A1UL2JH7XOUGM5 ['B002NEGTSI', 'B00004WCGC', 'B0002Y5WXE', 'B000TG4AGU', 'B00894YWD0']\n",
      "A1U11IP6K6NHAK ['B002JCSV5I', 'B004286VMW', 'B003O1UYHG', 'B00IMZKDOS', 'B00GQOZFNQ']\n",
      "A1H98YV5K5BUX0 ['B0000BZL5A', 'B00009R6N0', 'B000UMX7FI', 'B000NHZSHK', 'B001GCU0MY']\n",
      "A2ULZRSHXS3HL7 ['B008JJLW4M', 'B00CRB9CK4', 'B00BU4OV50', 'B001F8SCRE', 'B004H3US80']\n",
      "ABH9D1TEOJ56E ['B00006LV79', 'B00006JLOS', 'B0000DBJJT', 'B00008O35W', 'B00006JLOT']\n",
      "A4GHPW9AAH1NY ['B000PGDT8O', 'B0011V1KZ6', 'B004GWY5V8', 'B008195P34', 'B006GWO5WK']\n",
      "AMRMK86X3PKXD ['B001N85NMI', 'B0009S5HQA', 'B004TLH6GM', 'B002WNAFSU', 'B00EHDZMFO']\n",
      "A2BIJMB2BITQUM ['B0043WJRRS', 'B0013FRNKG', 'B00DB9WCR6', 'B003N2POXK', 'B00AR95FOU']\n",
      "A3H4S6YO9VNGDZ ['B006WAGG14', 'B004S4R5CK', 'B00BQ8RFAI', 'B00212NO6W', 'B00310PJM0']\n",
      "A7FDGFK0KN7QG ['B0058G40O8', 'B005IMFX2K', 'B00E87OITK', 'B0042X9LC4', 'B0074WDGAI']\n",
      "A2DIQTZPF26T1L ['B002V88HFE', 'B002TA7VO2', 'B0051UWCVO', 'B004GF1PC2', 'B007Q4WMSG']\n",
      "A27TN8D0CZ8LUY ['B003ES5ZUU', 'B009SYZ8OC', 'B003Z4G3I6', 'B0013LWK3A', 'B005L38VPC']\n",
      "A1KI7YHQEOS1RB ['B0019EHU8G', 'B004GF8TIK', 'B004Q3R9AQ', 'B004RDWVUS', 'B005PSQ5TM']\n",
      "A3ER6ARJ23CIN8 ['B008JJLW4M', 'B0099SMFVQ', 'B00G0OYHCW', 'B00A4ZXE40', 'B000WOK2ZM']\n",
      "A21Q9JVG4SII51 ['B003MTTJOY', 'B0019EHU8G', 'B000BTL0OA', 'B009VV56TY', 'B003SX0P1A']\n",
      "A3CFU12GS5CZCN ['B008EQYRRY', 'B007WTAJTO', 'B000A0CV9S', 'B0062EUE54', 'B005ONMDYE']\n",
      "A3AZI828WJN1CD ['B0036V9AGU', 'B00834SJSK', 'B007ILK234', 'B00E0EY7Z6', 'B005IHAIC0']\n",
      "AT2J7H5TRZM8Z ['B000031KIM', 'B0000645C8', 'B00005V619', 'B00006LHO7', 'B00005QFZF']\n",
      "A2MJ8OL2FYN7CW ['B006DDT6JO', 'B00CPGYNV4', 'B006ZBWV0K', 'B004GYVPGE', 'B000QDNPVM']\n",
      "A14X244VGHWPSX ['B009YQ8BTI', 'B009APBY0G', 'B003M0NT1M', 'B00829TIEK', 'B001D8S9E2']\n",
      "A1H0D7635GEEJ1 ['B001P05NBA', 'B0058G40O8', 'B004XC6GJ0', 'B000KUQ8FG', 'B001ISKNKA']\n",
      "A17RFKCYS69M3Y ['B00081A2KY', 'B000EDG6EM', 'B004K1EOCA', 'B006CQR7CK', 'B0002JKGRQ']\n",
      "A1RCGK44YXNBBB ['B000E8OVNK', 'B000GBGPAW', 'B000FAQ6S0', 'B000FAPY3S']\n",
      "A3D6OI36USYOU1 ['B000J47W12', 'B00AWBHFRI', 'B000UWYM5C', 'B004SAR998', 'B000068CNU']\n",
      "A197T2N6RU7K56 ['B001QFZMBU', 'B004QGXOOI', 'B003Q0BPC8', 'B00006FMPP', 'B002T45WXU']\n",
      "AFFVUZEGP1FDQ ['B00HG1L334', 'B00FJWKYYG', 'B001O94GNS', 'B00G4V0QSK', 'B002C1BHIO']\n",
      "A1PSVZBM894R5H ['B003CJTQJC', 'B000RZQZM0', 'B000IWTHYA', 'B0007GIXS8', 'B00006F2MW']\n",
      "A3BY5KCNQZXV5U ['B000QUUFRW', 'B0071BTJPI', 'B009LL9VDG', 'B0007Y794O', 'B002K450QI']\n",
      "AMVXR3NPL0GWX ['B001XURPQI', 'B0018M256G', 'B001E1Y5O6', 'B005KEL4NI', 'B000YB862E']\n",
      "A1MBXP3NZM2BUO ['B00EO302SO', 'B002RM08RE', 'B00829TIEK', 'B009A6CZ30', 'B0001FTVDG']\n",
      "A11D1KHM7DVOQK ['B00008VF63', 'B0002I5RHG', 'B000069106', 'B00005QBUU', 'B0009FUFPG']\n",
      "A2FXBWR4T4OFQ ['B000QUUFRW', 'B001EQ4BVI', 'B0001XGQTA', 'B000V06UHQ', 'B001PI9AAC']\n",
      "A1W4F91DH3XPB2 ['B004GUT1QO', 'B00A81ICCE', 'B003XU78OU', 'B0023B14TK', 'B008ULPE70']\n",
      "A19NP8YYADOOSF ['B00IVFDZBC', 'B002LTWDSK', 'B00BOHNYU6', 'B008X1BV2Y', 'B004GUT1QO']\n",
      "A23ZNGL704AW7O ['B00HZWJGS8', 'B001DJ64D4', 'B004CLYEDC', 'B0081FLFQE', 'B000NLLXVQ']\n",
      "A1ZVFCPHCWFV71 ['B00740MR78', 'B00834SJSK', 'B0079UAT0A', 'B000V1VG2E', 'B00B3329WA']\n",
      "A1FF2PLA84KNAE ['B00DK2JQOQ', 'B003XKWLSS', 'B0030AZ44O', 'B000P5AJXI', 'B004CYE3QC']\n",
      "A18OTCHQ6MXD6X ['B003NR57BY', 'B001CCAISE', 'B0090BSSZO', 'B002YTDE5I', 'B0049XGNKK']\n",
      "AXU8RH1DEV21H ['B00BQ4F9ZA', 'B000051299', 'B006B7R9PU', 'B0001Y7UAI', 'B0009WU65I']\n",
      "A2ZDY0V4Q1SZD7 ['B001TH7GUU', 'B003ES5ZUU', 'B008AST7R6', 'B004C9P9TM', 'B008EO263I']\n",
      "A10NMELR4KX0J6 ['B007SZ0EOW', 'B002VKVZ1A', 'B0081CRXGI', 'B00966IREK', 'B004THA2OE']\n",
      "A2I18AO597DSDI ['B006ZT4VA0', 'B004ROGUMC', 'B000IVDIL4', 'B0032ANC5U', 'B004GAR91S']\n",
      "A3HRDRQ5VAFPQS ['B003LSTD38', 'B00176TEGM', 'B0007WTHLY', 'B0092ML8QW', 'B0001656FW']\n",
      "A11ULAZ4B5ZXC8 ['B0019EHU8G', 'B007YV0UQW', 'B00698ZWOG', 'B0050NF926', 'B009DCNP9O']\n",
      "A132ETQPMHQ585 ['B000IJY8DS', 'B000LRMS66', 'B002HWRKQG', 'B007BYLO4E', 'B000BM8RFM']\n",
      "A3S0DBBR693O06 ['B000ID7QNI', 'B001MSU1HG', 'B0016LFN2C', 'B0002JTD2K', 'B000067S60']\n",
      "A3Q4TYJVAM4IRM ['B000AZ57M6', 'B000067RT6', 'B002BH3Z8E', 'B003I4FHNA', 'B004CLYE8C']\n",
      "A11EXFO14WEJM1 ['B001TH7T2U', 'B00E87E1OM', 'B0025VKUQQ', 'B003M0NURK', 'B0035ER1OQ']\n",
      "AQ55H30MZSV0Q ['B007PJ4P4G', 'B003LR7ME6', 'B005S0XYKK', 'B00DQZSFSA', 'B009XGH2HG']\n",
      "AUBEFRFHJR64Y ['B0000X0VCY', 'B004U1Y3IU', 'B00B332A24', 'B004O0PAKW', 'B00B3329WA']\n",
      "AHROSV6WJOEGY ['B0007QKMQY', 'B002V8C3W2', 'B000EPJL1A', 'B002SKAP46', 'B001AOK7KI']\n",
      "A1ILWPH1GHUXE2 ['B0074FGLUM', 'B000I1X3W8', 'B001NTFAOS', 'B008LCYIEI', 'B0007Y794O']\n",
      "A31HE83MU98GBV ['B004M8ST5Y', 'B004DI7CW4', 'B004XNLR16', 'B00EPQ97C2', 'B000065BPA']\n",
      "A2V9DTXTQ5YIMK ['B009NHWVIA', 'B0097BEF1S', 'B0079UAT0A', 'B005I6EU48', 'B0087ND9WS']\n",
      "A1UNJ46NSB352E ['B001BM5XB2', 'B00JC5Y6WM', 'B00HFRWWAM', 'B00BGGDVOO', 'B004M8SBCK']\n",
      "ALHC64J88LVWO ['B00C2P61FO', 'B000J1DA3Y', 'B00E0EY7Z6', 'B00E3AKF1C', 'B006ZRVBV4']\n",
      "A1PS4OYWUB0VX ['B002V88HFE', 'B003ES5ZUU', 'B007R5YDYA', 'B003NR57BY', 'B007P71IM0']\n",
      "A1ZTR0FR5AW9B4 ['B009D79VH4', 'B002K42W50', 'B002RZ3CBU', 'B007FFIF0K', 'B007MDFN50']\n",
      "A2EF8N7ZE7ONWX ['B001OI2Z4Q', 'B0034CL2ZI', 'B004J3ZV62', 'B0015YJOK2', 'B001DJ64C0']\n",
      "AQB4DH57MSZSC ['B0090Z3QG6', 'B00829THVO', 'B002MCZJ78', 'B002FB684E', 'B005NHR6MU']\n",
      "A1DSRM2P0WGQNS ['B000N99BBC', 'B001DJ64D4', 'B0079UAT0A', 'B000T8CWFE', 'B005O88CUS']\n",
      "ASF3J4UYV34KA ['B002V8C3W2', 'B000UTQOEW', 'B003YKG9D0', 'B001DHLC3S', 'B001KLEUOA']\n",
      "A1J5HIF41ENSMZ ['B006U3O566', 'B009D79VH4', 'B00006L4F1', 'B00BLGUKDE', 'B005O88CY4']\n",
      "A3EX8ZFNVDHGPM ['B007PJ4P4G', 'B005F25IL4', 'B003L4P872', 'B00354MVP0', 'B008TWWLAS']\n",
      "A15QYHQH80W30L ['B000TKHBDK', 'B000VDCT3C', 'B00005LEN4', 'B000VDCTCI', 'B002O3KVSC']\n",
      "A3D01HLSUFEZQY ['B0018ZDGAC', 'B0042IEVD8', 'B0013LRSRS', 'B000V5K3FG', 'B000AO3L84']\n",
      "A1GNYV0RA0EQSS ['B005KFONIU', 'B0079UAT0A', 'B00DR0B7Y8', 'B007P4VOWC', 'B000U5ROY0']\n",
      "AU2UJF4I7KAWL ['B0062EUE54', 'B005BOMTT0', 'B003Y09H8E', 'B004K8WPUQ', 'B0007Q9PWQ']\n",
      "A2F4HP0J5VNOYR ['B0000BZL1P', 'B00009R6WY', 'B003OC6LWM', 'B0014YGAN2', 'B000LRMS66']\n",
      "A1FDSZISWIXH1A ['B00IVFDZBC', 'B005KQ2O26', 'B0013FRNKG', 'B00310PJM0', 'B003LSTD38']\n",
      "AP2NZAALUQKF5 ['B000K4V4X8']\n",
      "A6KL17KKN0A5L ['B004WB8EYM', 'B001SJVU24', 'B000KO0GY6', 'B00009R6WT', 'B0030MITDK']\n",
      "A95PWI4S6WHGL ['B00193U3O0', 'B003JBVX5S', 'B0037NX6JY', 'B002K3Z3E8', 'B005N4RO4I']\n",
      "A1R76R4E6A8S3B ['B0046TJG1U', 'B004LB4MZS', 'B000O8WE66', 'B0053T4PHC', 'B00CD1PTF0']\n",
      "A3J6Q0Y0SKY7AR ['B000CRFOMK', 'B001DJ64D4', 'B001L1H0SC', 'B005HJ38OO', 'B007V9SNNY']\n",
      "A2I6GN7OHB9JKF ['B002RCNX8K', 'B004C9M7UG', 'B00CU9GOAO', 'B001RQ2YF0', 'B005CKQF3E']\n",
      "A1PV5T5S4D5NPI ['B001RNOHDU', 'B002WE6D44', 'B00006I5J7', 'B007V5A1BK', 'B002ZFVS9A']\n",
      "A31HOWJKEIY037 ['B001QUA6RA', 'B001UI2FPE', 'B000FQ2JLW', 'B001O4EPHA', 'B003M0NURK']\n",
      "A3OIMUR42XIOFQ ['B006EKIQYM', 'B004CLYEDC', 'B00834SJSK', 'B007BWTOHU', 'B00CB2F65O']\n",
      "A2RS66Y79Q8X0W ['B0019CSVMW', 'B001OI2Z2I', 'B004S76NH0', 'B001KELVS0', 'B00009VQJZ']\n",
      "A1LA4K5JF78BER ['B000WHSFYY', 'B000EPRG6W', 'B00004TX6Z', 'B001UQ6F5M', 'B005M1777G']\n",
      "AHD3NZHDUZ5I6 ['B00B588HY2', 'B0013J0502', 'B0019FJM7W', 'B001L5U16G', 'B001C6IWME']\n",
      "A19RGDJPNZ7NZ ['B006EKIQYM', 'B002OJN250', 'B0049SCB2Y', 'B001NJ3H0C', 'B00CDS9HTM']\n",
      "AYO1146CBIV5C ['B001S4OTS6', 'B00AWRPIWQ', 'B002P8M6DE', 'B008ULPE70', 'B008X9Z8NE']\n",
      "A19XPAWSWDRI3B ['B002QUZM0U', 'B0039BPG1A', 'B00066FH1U', 'B005P99LHO', 'B00829THH8']\n",
      "A3HQAPXAJV7PRX ['B005QBK5V2', 'B000GABCY2', 'B00CD8ADKO', 'B00EVIBN8U', 'B003ULJU2A']\n",
      "A2O6HZ2B9YSRXR ['B001TH7T2U', 'B000HPV3RW', 'B0036Q7MV0', 'B0053OLY9O', 'B004RFBIUU']\n",
      "AI8EMB0HUC6Z5 ['B001TH7GUU', 'B000N99BBC', 'B003ES5ZUU', 'B0019EHU8G', 'B003CFATT2']\n",
      "A2U3OEIK1CUPIK ['B001AW8W7A', 'B00012FVYC', 'B000W2MW7U', 'B009IZ82DA', 'B000UPJR4A']\n",
      "A12ANFNOSMW5VD ['B0034CL2ZI', 'B008F4NL04', 'B00634PLTW', 'B000089GN2', 'B000BKJZ9Q']\n",
      "A3PDWA32BAMB2Y ['B00104XCVO', 'B003MQWN40', 'B008EC4O76', 'B0002Y5WZC', 'B00834SJNA']\n",
      "A2WA8TDCTGUADI ['B003CFATT2', 'B004CLYEDC', 'B0057AVXP4', 'B009RH9FR6', 'B0015313Q6']\n",
      "A28J3123I1QDKI ['B001TH7GUU', 'B00316263Y', 'B007IV7KRU', 'B000GLIIFW', 'B005FYNSPK']\n",
      "A19FRW264WZTGP ['B001T9NUJE', 'B000QWEN5K', 'B004CLYEFK', 'B001S4OTS6', 'B00HMREOLK']\n",
      "A3D822N1K2IAQD ['B00CD8ADKO', 'B005DSPLCQ', 'B00D1GYNT4', 'B0096LZ5QI', 'B0000AOWW9']\n",
      "A2JOPUWVV0XQJ3 ['B0052SCU8U', 'B001TH7GSW', 'B00212NO6W', 'B001NJ27QM', 'B00CMMG7I8']\n",
      "A1PVJICI412IN4 ['B001ID829O', 'B00840353W', 'B00CDIK908', 'B0000TO0BQ', 'B005BGKAGC']\n",
      "A3VZH0PWLQ9BB1 ['B00IVPU786', 'B003WU6KFO', 'B00BQ5RY1G', 'B00009R6GE', 'B000PDV0CE']\n",
      "A2SH6A32BE6NEV ['B008EQZ25K', 'B0036V9AGU', 'B002K9IHGI', 'B001DJ64D4', 'B004CLYEDC']\n",
      "A3EHJ5519LG7TR ['B00GZNCP3G', 'B0019D6H2M', 'B003IE49T8', 'B002SZEOLG', 'B000Q3VECE']\n",
      "A1UTM65Y3G9HUL ['B000OGX5AM', 'B007PJVB3Y', 'B006HIKIG0', 'B00BB0ZSIC', 'B009WU5XUG']\n",
      "A15Q2L6DYRTFIU ['B00483WRZ6', 'B00394T7BW', 'B004ZXYU8Q', 'B002SSK9VW', 'B00796I546']\n",
      "A24ARANWS5E3T8 ['B00139W0XM', 'B001WM73P0', 'B0058UUR6E', 'B0002LHSFW', 'B002QEBMAK']\n",
      "A307Y3LMCVEZS1 ['B001EPVOQY', 'B001FWKA7A', 'B005KFHVES', 'B001QFZMCO', 'B0055W2XQM']\n",
      "A3FKQQTSMHOCE0 ['B00009XVCZ', 'B003SGCO3E', 'B000053HH5', 'B002ZIN9DU', 'B00505EZYM']\n",
      "A2XRIU3SOYZ0ZC ['B003ZTKFEE', 'B00D6XSRL2', 'B0000CFYM9', 'B0001LTT64', 'B0006TIEZS']\n",
      "A1KY5G5FP31F2F ['B0043WJRRS', 'B00EHZYWGM', 'B0000BZL0G', 'B00834SJSK', 'B009SYZ8OC']\n",
      "A1D27BCSYV7VWH ['B00629NHW6', 'B005INZKKE', 'B00003CWDG', 'B005IA843W', 'B00AWYMXZY']\n",
      "A87CILADRIZW0 ['B004XC6GJ0', 'B004GF8TIK', 'B0000AZK4G', 'B000Q8UAWY', 'B005FYNSPK']\n",
      "A15T9G38F589KM ['B007KZQM8W', 'B00A0JUNWQ', 'B00E87E1OM', 'B00834SJNA', 'B004TS2AOS']\n",
      "AD0J5KK4WQXNS ['B00006B9H8', 'B000TXEE14', 'B0002ZAIMI', 'B0002ED4PM', 'B0002375F8']\n",
      "A2K5RRMPICZ606 ['B000ZSUQ9M', 'B0045XAIFU', 'B0007Z1M50', 'B005SAKW9G', 'B003TFEHMU']\n",
      "ANTN61S4L7WG9 ['B000N99BBC', 'B0099SMFVQ', 'B009NHWVIA', 'B00HVT27B8', 'B00HHRP11C']\n",
      "A13WOT3RSXKRD5 ['B000A0CV9S', 'B0054JE706', 'B008SFPMRK', 'B0041Q38NU', 'B004V4HLCG']\n",
      "A1Z7U9K6X3FEOU ['B000VDCT3C', 'B003GSCS3U', 'B0000BZYPD', 'B005C1U8QS', 'B004Q81CKY']\n",
      "A2SGAJWXG65464 ['B007HBLX8I', 'B005U0M9B8', 'B00C94GTJQ', 'B0099PJE7W', 'B000U0HRKG']\n",
      "A2DS9DLMSU2M2Z ['B0001GMIOE', 'B0019CSVMW', 'B004CLYJ0K', 'B000O8JZIG', 'B0000C4G79']\n",
      "AW3LX47IHPFRL ['B006YLTLUY', 'B0002UBDDG', 'B000IXP932', 'B000WG6XW6', 'B0055D66V4']\n",
      "A3E68EBGXTWDNP ['B000VDF5RO', 'B000062VUO', 'B00004TX71', 'B000E8OVMQ', 'B000HDFXU2']\n",
      "A292TRC6DX2GKK ['B00081NX5U', 'B0002Z240M', 'B000FBK3QK', 'B0017LFSXU', 'B0051CAE1C']\n",
      "AWPN47SSWK1JV ['B009LL9VDG', 'B001NPDKTY', 'B001XURP7W', 'B003Q6CU12', 'B0033QJLQW']\n",
      "AY6A8KPYCE6B0 ['B00CD8ADKO', 'B004Q3R9B0', 'B00834SJSK', 'B0000E1717', 'B001S0PWWC']\n",
      "A3DQWFWINN3V5A ['B000BTL0OA', 'B00004Z5M1', 'B0019MEIOM', 'B00426C57O', 'B00064V6R6']\n",
      "ADKGE078JK8K7 ['B003HIXOOG', 'B0043T34RK', 'B005755U0I', 'B001RB21JY', 'B000095S9V']\n",
      "A19HKRB4LU5YR ['B002TLSOG0', 'B00A0JUNWQ', 'B0052SCTLI', 'B00B981F1U', 'B0051UY168']\n",
      "A1GBT4UN2RW7XY ['B00FFJ0HUE', 'B001EYU3LM', 'B00G1YKHHA', 'B00HHAJRU0', 'B007KZQM9G']\n",
      "AZBXKUH4AIW3X ['B008EQZ25K', 'B00316263Y', 'B000VX6XL6', 'B00008AWKZ', 'B006U1YVZ8']\n",
      "A1N3EH28S4DI8L ['B0000BZL1P', 'B002NO7PWC', 'B00007GQLU', 'B00EN27SHY', 'B001KELVS0']\n",
      "A2OTQMC69J8MUI ['B000M2TAN4', 'B007WTAJTO', 'B00C2P61FO', 'B009D79VH4', 'B000UXDHOI']\n",
      "AA8RBTN3J2F5H ['B007BWTOHU', 'B000V1PAWQ', 'B0077M2958', 'B002S53IG8', 'B00D68UXQE']\n",
      "A1LD5SE8IZ1H70 ['B004W2JKWG', 'B001202C44', 'B00BG5M93Y', 'B00BB0ZSIC', 'B0018QNYIK']\n",
      "A28525P0S5ZVJ3 ['B00FB45SI4', 'B005M1QP7O', 'B000FITKK8', 'B00CRXZPC6', 'B005EV1R8Y']\n",
      "A1VLVWTLV3LVHR ['B002J9HBIO', 'B00139OIRI', 'B003GZ828I', 'B009IKCKME', 'B005G5EAGE']\n",
      "A9J4UURM4OSDW ['B000V5P90K', 'B000UMX7FI', 'B0096W1OCG', 'B001GIPR5S', 'B0002T74QC']\n",
      "A1L1N3J6XNABO2 ['B005J7YA4G', 'B0050RKH2Y', 'B0041Q38NU', 'B007HA3UYE', 'B003OBZRPU']\n",
      "A341HCMGNZCBIT ['B00AR95FOU', 'B000WQ21SQ', 'B0032JRRWU', 'B0028RXI5W', 'B00BB4UKOK']\n",
      "A3F3B1JPACN215 ['B000N99BBC', 'B001P05NBA', 'B009YT6PPC', 'B003MVZ60S', 'B009X01C64']\n",
      "A35X2JJI49OBZP ['B003L1ZYZ6', 'B00005NIMJ', 'B000M2GYF6', 'B0037ECAQ8', 'B00EIDWYR2']\n",
      "A34CSXOGVYF94S ['B00HG1L334', 'B00G4UQ6U8', 'B001F51G16', 'B00F0DD0I6', 'B00G4V0QSK']\n",
      "A3R19YKNL641X3 ['B000TKHBDK', 'B00HZWJGS8', 'B00BERGFV6', 'B0082E9K7U', 'B000RZQZM0']\n",
      "A1UEL5C1N6E5SE ['B000VE2RP6', 'B001RB1TIS', 'B001AYCNIW', 'B00746LVOM', 'B00FB45SI4']\n",
      "A3VBXQKRM7A4JR ['B003FVVMS0', 'B0097FZRYI', 'B000BRO3PA', 'B004CLYEH8', 'B001GCQ3KM']\n",
      "A2L4ZGN7GZJ95T ['B000N99BBC', 'B008R7EWEI', 'B006MPUTBC', 'B00EOI2SYK', 'B00JX1ZS5O']\n",
      "A1UMSB7LAW0RIR ['B004GUT1QO', 'B008MF48J4', 'B00A7PPLP2', 'B0095F5ACE']\n",
      "A18NDN2CIG2TKR ['B003QVWJM2', 'B000F2JUOK', 'B001BSQK8Q', 'B00AYK7J9G', 'B005C95NNI']\n",
      "A3NXJDNTQK2YJL ['B00005T3G0', 'B004SBBD8U', 'B00EDCF0MY', 'B003M0NURK', 'B00ELPSEVW']\n",
      "A1RPJHUVVSI98A ['B005LFT3GG', 'B00007M1TZ', 'B000L47AHG', 'B009UEAZ84', 'B00829TIEK']\n",
      "A2MR696ZU17F12 ['B001UI2FPE', 'B00006B7DA', 'B004GW25WY', 'B00829TIA4', 'B002JH3TW8']\n",
      "A5GPH59NDWJRB ['B0002Y5WZM', 'B001TZUS98', 'B005FVNGRI', 'B009LPV766', 'B001ELJO2E']\n",
      "A2CPP7BZKOF9TP ['B004G6002M', 'B000RHZJN4', 'B003AVMRQG', 'B009X3UW2G', 'B002VPE1Q6']\n",
      "A1ITRGMT80D5TK ['B00B3PDHBU', 'B00CD8ADKO', 'B0035JJOLE', 'B004SKBJP8', 'B00CRGJKT2']\n",
      "ACYZXQ2JKPZKT ['B0000BZL1P', 'B003FVVMS0', 'B0000BZL0G', 'B00005LENO', 'B0045TYDNC']\n",
      "A9Y5O2R4D6EH5 ['B006W8U2MU', 'B001TUYTZM', 'B00C20KWP4', 'B0001GMIOE', 'B00AJHDZSI']\n",
      "A2NX6MFZP8TM6S ['B009F7IBZK', 'B00004Z5M1', 'B001O94GNS', 'B006ZW4HY2', 'B0002GDIII']\n",
      "ABUE0ALHKWKHC ['B00CD778LC', 'B003Y3TS4Y', 'B00BOZCUG2', 'B00028VKLI', 'B001V9LQAW']\n",
      "AN9WA4C5E7YY5 ['B000E9VKUQ', 'B004MG9YYQ', 'B00810ICRO', 'B002HK8TE0']\n",
      "AAXAKFQEAQPWC ['B001T9NUJE', 'B000VDCTCI', 'B004SBBD8U', 'B001TH7GVE', 'B000UO6C5S']\n",
      "AULFLNWJP1QXY ['B006JINHYS', 'B004C13VWC', 'B004N625BO', 'B0088CJT4U', 'B00007E7K9']\n",
      "A23ZXHFLC6TBLD ['B000067RT6', 'B0063K4NN6', 'B004G6002M', 'B0000A2QBP', 'B002M3SOBU']\n",
      "A7Y6AVS576M03 ['B00001OWYM', 'B004QR56SE', 'B000ELC0GM', 'B0007XXU3E', 'B000NDO744']\n",
      "A3O5ASFUXC32UA ['B00005LEN4', 'B002JCSV8U', 'B00009R6N0', 'B003OBUJIK', 'B003U2YCZE']\n",
      "A2Y1WNETD9AYHO ['B008GVOVK0', 'B0007LJHVA', 'B0027CTURI', 'B00139S3U6', 'B00462RMS6']\n",
      "A38CHSS1ZAE51B ['B0046TJG1U', 'B000UO6C5S', 'B005Y5891S', 'B0043T7FXE', 'B00413PHEQ']\n",
      "A1Y051MQ2SVPFI ['B00D5Q75RC', 'B005IHAIC0', 'B005FYNSPK', 'B000F7JCRA', 'B0000CBBNM']\n",
      "A1X1CEGHTHMBL1 ['B000BTL0OA', 'B007VPGL5U', 'B0036WT3TS', 'B000NH7SZ0', 'B007BJHETS']\n",
      "A1VS1LL905P5L5 ['B0001DBEM4', 'B00006HZ0L', 'B00AAHT8JC', 'B00005UKBD', 'B001FA1NZU']\n",
      "A13EQE9EY2ET93 ['B00FR6VL50', 'B00CXACPN0', 'B00HFRWWAM', 'B00C46K0X0', 'B00001W0DH']\n",
      "A19N3S7CBSU6O7 ['B001XURPQI', 'B002BXCNDQ', 'B00ID2HGK4', 'B004J96SB8', 'B000OG4E2U']\n",
      "A1PL7QILVQV3IF ['B00029U1DK', 'B00081A2KY', 'B000JE7GPY', 'B0013AV4M4', 'B001HSOFI2']\n",
      "A1VOFY3QFT9WCG ['B004LSNF04', 'B006EKIQYM', 'B003MTTJOY', 'B0027AGK3M', 'B00DBA9YD0']\n",
      "A2D0CO1OA6DSWY ['B002WE6D44', 'B001K9BFB8', 'B000Q8621C', 'B00020S7XK', 'B004M8SWBU']\n",
      "A3QDMDSANPYGUX ['B004MF11MU', 'B000KZW9WM', 'B00A6HH28U', 'B005HGG3NK']\n",
      "AMS2CPERWN7JV ['B0043M668G', 'B005VONPT8', 'B006W3ZWXE', 'B00008ZLHG', 'B000BPRGK6']\n",
      "A3HR0ZZOFKQ97N ['B0088PUEPK', 'B006DDT6JO', 'B004XC6GJ0', 'B00F0DD0I6', 'B004Q3R9B0']\n",
      "A111WCUF5KA2I6 ['B007WTAJTO', 'B004N8ZQKY', 'B006Z95LHW', 'B00D7CWSCG']\n",
      "A2HJY7418G1KV1 ['B001G5ZTLS', 'B0000C4G79', 'B001TOZTCA', 'B003XU78PE', 'B001O9X9EU']\n",
      "A1A5KUIIIHFF4U ['B00007IFED', 'B000HEEG54', 'B002HK5AW4', 'B003VWU79I', 'B0008GMHEI']\n",
      "A2ZFBTGPDP6PH6 ['B000QUUFRW', 'B000EVSLRO', 'B0011NVMO8', 'B002MU1ZRS', 'B000V1O1J4']\n",
      "AVSMRPI23DQI2 ['B006WAGG14', 'B0049H8W1Y', 'B003G2ZJTG', 'B0050YG3CU', 'B001FA1NK0']\n",
      "A34LQ791ACZ0JC ['B000N99BBC', 'B0001Y7UAI', 'B002SIMPXM', 'B000O8JZIG', 'B00336EM0W']\n",
      "A11KQADBYE0UZL ['B000M2TAN4', 'B0036Q7MV0', 'B0058UUR6E', 'B00139VKV0', 'B004C8I88W']\n",
      "A3Q6ZPW60CVF2L ['B0065DUJ0C', 'B0063W7XJK', 'B0017J3XMU', 'B009YDO05U', 'B001URWAYG']\n",
      "A2M14CFAMF8J7I ['B008R7EWEI', 'B003CFATT2', 'B000N99BBC', 'B0034CL2ZI', 'B0081FLFQE']\n",
      "A1QQA7Y92L4F9R ['B007WTAJTO', 'B001C271MA', 'B001U02JZ8', 'B001S4OTS6', 'B00102ZOQC']\n",
      "A3223W5IROMYTY ['B00COF7DGS', 'B00B1R8JT0', 'B00CRJVZOM', 'B00AVYNS7M', 'B00D02AHEO']\n",
      "A15G70V9OBTOVO ['B001DL9WDG', 'B003WJR69E', 'B003T0EYVE', 'B001KELVS0', 'B004HO59M4']\n",
      "A2NQMVTQ4PVLL ['B006H06TVG', 'B000JE7GPY', 'B0064R9H2A', 'B00834SJNA', 'B00BJ17WKK']\n",
      "AN0JK8OQLUC55 ['B001L1H0SC', 'B0047ELBN0', 'B001DKBNMA', 'B000GHVZO2', 'B001CN7EQ2']\n",
      "A2XHOLOLKGV1FE ['B001F7AHOG', 'B002ZCXJZE', 'B001D8S9E2', 'B002XW44QY', 'B0077R2B9M']\n",
      "A356RFKNIG043B ['B002YOENAS', 'B00HSQAIQU', 'B003M0NURK', 'B002IPH9ZO', 'B000EBBJ6Y']\n",
      "A1AZQCVCDBQP6 ['B003MTTJOY', 'B004W2JKWG', 'B000LRMR26', 'B000ANCPNM', 'B005F778JO']\n",
      "A2ZRG5NOFZ47RK ['B002V88HFE', 'B0000BZL1P', 'B0043WJRRS', 'B00009R94Q', 'B004TA0AUW']\n",
      "A1XE3M22N91451 ['B002V8C3W2', 'B001W26TIW', 'B001NTFATI', 'B001MSU1HG', 'B002ZIMEMW']\n",
      "A5QDZEOIMQ4LW ['B00009XVCZ', 'B004ZNA3UA', 'B00009X3UA', 'B0013J0502', 'B0050RKH2Y']\n",
      "A18L9A64XNGVGU ['B001TH7T2U', 'B0056K6TV8', 'B000RQSGYO', 'B003S6ID20', 'B004M0TVWM']\n",
      "A3EM243NDJ4DF3 ['B00DR6DQZA', 'B0031RG29M', 'B002TLTE6O', 'B005E8MVV4', 'B0043M668G']\n",
      "A64LEAZ2QF8L2 ['B001G5ZTZO', 'B001SER47O', 'B0071BTJPI', 'B002V88HFE', 'B0016SN49Y']\n"
     ]
    },
    {
     "name": "stdout",
     "output_type": "stream",
     "text": [
      "A2JXS1JII6SAUD ['B001FA1O18', 'B003YL412A', 'B00CCEH51Y', 'B001NPEBEC', 'B0051G5SBY']\n",
      "A214W7SK2DJQ99 ['B009SJ7UWU', 'B004TGZ7WM', 'B003XCDA9A', 'B00101UHS8', 'B001SVJUPG']\n",
      "A14Z6D3IRJ23F7 ['B000067RT6', 'B00CZDT30S', 'B0049XV5LM', 'B008YDJHWM', 'B00BT7RAPG']\n",
      "A2M9ME0N2S3R39 ['B008L1OCF4', 'B0054L8N7M', 'B001VO4MOY', 'B0092MD8OW', 'B001AYW91I']\n",
      "A27Y4OEC9MD9PA ['B00009XVCZ', 'B0039ORBLK', 'B001MT8J4W', 'B003JBVX5S', 'B002NWO9EG']\n",
      "A145LBW8ZHF0TW ['B001TOD7ME', 'B0015YJOK2', 'B000067RC4', 'B000O5TH14', 'B000095S9V']\n",
      "A2OOXVZ6B1VZ9A ['B00452V66G', 'B004VTAVLE', 'B0016BQS12', 'B00004Z5PY', 'B003CP0K9Q']\n",
      "A1LAGS8H4A2DR7 ['B00BWX2OU8', 'B0077V88VI', 'B000BKY3Q6', 'B00142JKSG', 'B0000645RH']\n",
      "A7Z2J9V37ABCO ['B009NB8WR0', 'B0076W9Q5A', 'B002V88HFE', 'B001F51G16', 'B006TT91TW']\n",
      "A1S7BFT0HDF3HA ['B006JINHYS', 'B0015EA3NO', 'B000EXS1BS', 'B0002D03ZW', 'B005SNPTRS']\n",
      "A200RY2ELZL2Q3 ['B0062EUE54', 'B006TT91TW', 'B00829THK0', 'B002LBROAA', 'B003F5NS9W']\n",
      "A3094EPI56GKZ6 ['B000BTL0OA', 'B00COYOAYW', 'B007KZQM9G', 'B00012F8AY', 'B000O7PH34']\n",
      "A12DLJESJKM1OQ ['B0007RALGO', 'B000AYGDWU', 'B0000DBJJT', 'B00006JLOT', 'B000087KY8']\n",
      "AOWF9T81XMX2S ['B008EQZ25K', 'B001TH7GUU', 'B00081A2KY', 'B001342KM8', 'B000L9OIQC']\n",
      "A28BX3MM90A6FI ['B000VX6XL6', 'B007FEFQDA', 'B0041MY32Y', 'B0001LRIT4', 'B005FYNSPK']\n",
      "A1CN1P7147QDJC ['B00BQ4F9ZA', 'B00BQ8RFAI', 'B003WUBIZQ', 'B0010YWPZ8', 'B008F537KC']\n",
      "A2VAD79S4A06DD ['B006LW0W5Y', 'B006MPUTBC', 'B009SYZ8OC', 'B000FTLSR0', 'B00009X3UA']\n",
      "A2F2GLVFRNV7JJ ['B0002Y5WZM', 'B00009R94Q', 'B001EDXPMC', 'B007BJHETS', 'B000HDJT4S']\n",
      "APBDZ88BBTN4F ['B00CKAOJA0', 'B003FVJYF8', 'B000OFWJO6', 'B001OI2YNS', 'B003N7NMO8']\n",
      "A3S3VSXEFXBMRC ['B001TH7GUU', 'B0074FGLUM', 'B001V9KG0I', 'B000MX48VM', 'B001L1H0SC']\n",
      "A1ZXMMQPYC3Z9I ['B00434OWDA', 'B00006B7DA', 'B005GC7YJ2', 'B00004TVSP', 'B0040FHB6C']\n",
      "A33SX0AD5PYD9B ['B001TH7T2U', 'B003CFATT2', 'B003M0NT1M', 'B000AAZQJU', 'B005DOK8NW']\n",
      "A1EQ5D5JRSW23K ['B001ELK2NY', 'B000JE7GPY', 'B004AK154Q', 'B0095F5AFG', 'B001A4HAFS']\n",
      "AGILRZOT49R0V ['B00006RVPW', 'B00BCGRTFK', 'B004GHMU5Q', 'B000WXH1Z2', 'B001NPEC5A']\n",
      "A3D7BGK0P5QY0X ['B00429N18S', 'B003VAHYNC', 'B005LKO230', 'B0001V3AVY', 'B002Q8IHDQ']\n",
      "A3NGOG8Z78AZSD ['B000EXS1BS', 'B003O8682Y', 'B003LD4T0K', 'B00002EQCW', 'B004WK3U9W']\n",
      "A6TBR6L2D4XKC ['B003LZYXYU', 'B001F6TXME', 'B001UDJURU', 'B00003CWDK', 'B003A4GZUC']\n",
      "AOVTLYTHVDNUX ['B009NHWVIA', 'B004YG7JV4', 'B0033VKKB2', 'B00006JPER', 'B00A81ICCE']\n",
      "A2J4XMWKR8PPD0 ['B00B7SMR3C', 'B007261A36', 'B0096YTSL8', 'B000P9CWRK', 'B008RMEXME']\n",
      "A1KWPIORLG2QV ['B0000511U7', 'B003B41XYO', 'B0049SCB2Y', 'B003MOKUIS', 'B00829THK0']\n",
      "AC9QEWWN4W9MC ['B00APCMMDG', 'B007WTAJTO', 'B00GQOZFNQ', 'B006V72AE0', 'B00FIYH99I']\n",
      "A2QAOP52OEB5EV ['B000JE7GPY', 'B002LK2QJK', 'B00DVFLJDS', 'B00018MSNI', 'B001UE6PE0']\n",
      "A2V7EO331SFUF6 ['B00005U21H', 'B008XV7VTG', 'B000WXAX6G', 'B0007GIXR4', 'B000XA8766']\n",
      "AN9CP6J4JF91X ['B007WTAJTO', 'B000KO0GY6', 'B0000AI0N1', 'B002R9CQYK', 'B00829THK0']\n",
      "AA95DWUI3ODU ['B000VWKSHM', 'B002IPHA3A', 'B00ASLSQHK', 'B0023B14TK', 'B00BQH8UEY']\n",
      "AAK6SOEJY30YG ['B0019EHU8G', 'B0036Q7MV0', 'B001W28L2Y', 'B000092TT0', 'B004EBX5GW']\n",
      "A4IL0CLL27Q33 ['B000N99BBC', 'B009YT6PPC', 'B00475LJC2', 'B000AP05BO', 'B00002EQCW']\n",
      "A2L0F2T1DLTNT8 ['B000HJPK2C', 'B001GIPSAW', 'B005VONPT8', 'B000PQL7AQ', 'B0081FLFQE']\n",
      "A3TCMJ6GKZJFBQ ['B000OFWJO6', 'B0018M256G', 'B002NEGTSI', 'B000CDA802', 'B0019M9EQ4']\n",
      "A3QX0ERX4D03TF ['B002Y6CJJ8', 'B00GTGETFG', 'B005F77Z9C', 'B000TYL27M', 'B005EJH6Z4']\n",
      "AS8C336DDLSO4 ['B00009EHJV', 'B004CLYEDC', 'B001O94GNS', 'B009SYZ8OC', 'B002L6HEBE']\n",
      "A1P3DDFL423B3C ['B002MZUNXU', 'B001A4LVYY', 'B0025ZH43O', 'B000E5GKW8', 'B0000U19F0']\n",
      "A11YIHB6IW352W ['B001MSU1HG', 'B007R1FH3K', 'B004MB4FEU', 'B008HO9DK4', 'B001UGMTKC']\n",
      "A1MQQEM7W77L62 ['B0097BEF1S', 'B008EC4O76', 'B003L139HG', 'B009YT6PPC', 'B00DBDM934']\n",
      "ANFJYYQ0P35CW ['B0094S35W4', 'B0090Z3QG6', 'B00JF0D7RE', 'B001G5ZTN6', 'B001TICH08']\n",
      "A2EW01G2LNJN06 ['B00017LSPI', 'B0015AARJI', 'B0041OYS36', 'B001MT8J4W', 'B00006JPDI']\n",
      "A2PC9ZZIFV31B1 ['B001TH7GUU', 'B0052RM8T2', 'B005DKIID8', 'B00BQ5KHJW', 'B002HWJT1A']\n",
      "A3FBM0RMCMAABV ['B0034CL2ZI', 'B006ZBWV0K', 'B0080EBMM8', 'B002FB684E', 'B00DQZQG3G']\n",
      "A2W0XCWOK3MW6F ['B003LSTD38', 'B004NY9UUK', 'B001D8S9E2', 'B008HK3SSG', 'B0013FNZ1M']\n",
      "ASJZT7DM51QEM ['B00BOHNYU6', 'B00IVPU786', 'B00HVT27B8', 'B002MCZJ78', 'B00EH5UGR6']\n",
      "A2NPN06SYI5VL3 ['B001BAW7P4', 'B0089E2FZC', 'B007R67FTY', 'B001RB24S2', 'B000RMPP5Q']\n",
      "AA91O96C1Z18W ['B000QWEN5K', 'B009GA6CAW', 'B005HY4U5A', 'B00CF7E0R0', 'B000A8JYB8']\n",
      "AWHL379EE14K7 ['B00BLCVD9I', 'B0056TYRMW', 'B003VYEYE0', 'B00B2IZ3B0', 'B00CO8TBNS']\n",
      "A2HXEJXEQQTM1D ['B002VKVZ1A', 'B001U3Y6AQ', 'B0023Y9EQC', 'B0040IG1A6', 'B005UE894U']\n",
      "A1VYFEJM12ZP11 ['B009QUDLC4', 'B008X9Z44M', 'B004CLYEH8', 'B000SMVQK8', 'B008BN75I8']\n",
      "AYLLSFYS3UP1H ['B002V8C3W2', 'B0076W9Q5A', 'B003NR57BY', 'B000I1YIDQ', 'B006TT91TW']\n",
      "A3HC7NWLKCPX4X ['B00B1R8JT0', 'B000051299', 'B0041Q38NU', 'B0036QLHKC', 'B008XVAVAW']\n",
      "A3UXW18DP4WSD6 ['B000IJY8DS', 'B0074H3IU6', 'B003WGJYCY', 'B0000AZK4G', 'B004M5H660']\n",
      "A274X54O9CN2SR ['B004286VMW', 'B004XC6GJ0', 'B001PBYQHG', 'B005LJQNQU', 'B008IV9RR0']\n",
      "A3QKIR8J56EUI1 ['B005HY4U46', 'B0039BPG1A', 'B0014175E8', 'B0096W1OCG', 'B005MR4P0W']\n",
      "A18GJ9MYYO6GCQ ['B006ZT4VA0', 'B000E65HXA', 'B000EVSLRO', 'B003M0NURK', 'B004WK3U9W']\n",
      "A3HCMJOGRRSAF2 ['B000BVC0WO', 'B004CADY9I', 'B005CWHZP4', 'B002BWOO0W', 'B000V07N9U']\n",
      "AKBVYIIHWI04B ['B000VX6XL6', 'B00461E7JE', 'B009SYZ8OC', 'B009JPBPWO', 'B00E055H5O']\n",
      "A1UQUDT2Q0YENM ['B0093H4WT6', 'B00D1GYNT4', 'B002SZEOLG', 'B00452V66G', 'B00CXADBRY']\n",
      "A25TQLMIAPI1T6 ['B007KEZMX4', 'B004GXKI04', 'B003Y3TS4Y', 'B002BFA91C', 'B00DNVA184']\n",
      "A8X8D4BUY5DFU ['B008KNDTB6', 'B0002VAQR4', 'B000RQSGYO', 'B003BEDQQM', 'B000SE6IV8']\n",
      "A31ICLWQ9CSHRS ['B000VJX7DW', 'B00009R6WO', 'B000I1X3W8', 'B007WTAJTO', 'B0093H4WT6']\n",
      "A1USYP4AXF5I1D ['B003WV5DJC', 'B002UUTCNE', 'B002N2EHVQ']\n",
      "A3LSEIG2PIJYBL ['B003VWYBC2', 'B005QT7ZBC', 'B000063TJY', 'B003ZUN2PW', 'B0049LBJ56']\n",
      "AO09RWV40IX78 ['B00142HLV4', 'B0093IZOV0', 'B006GM56N2', 'B00F6E8OUS', 'B00E6ONJJU']\n",
      "A20ZM879PCQQEZ ['B000EON3WY', 'B00AYQ433U', 'B001CY0P7G', 'B000ROQJ1S', 'B000092YQK']\n",
      "A1T9MILRRZ00F8 ['B000V5P90K', 'B000089GN3', 'B000OE2OPG', 'B000O8WE66', 'B008LCYIHK']\n",
      "A1K4G5YJDJQI6Q ['B002QEBMAK', 'B000R8KVJ0', 'B0049MPQA4', 'B0036WS4CK', 'B008FLOWAU']\n",
      "A1B8EJQU73YGL9 ['B002WE0QN8', 'B005GI2VMG', 'B0000CCVC9', 'B00603RTC8', 'B002UKDI84']\n",
      "AJCR7L4AXL2OG ['B000069EUW', 'B00B7LQ73U', 'B001RB1XVG', 'B00AMPIVFO', 'B00427ZLRO']\n",
      "A3JV071KO43Q5X ['B005K7192G', 'B004XC6GJ0', 'B001PIBE8I', 'B003LPUWT0', 'B008LCYIEI']\n",
      "A1SFPA80X7TRBR ['B0002LEMWE', 'B0002Y5WZM', 'B005LJQMCK', 'B0007TOR08', 'B0024TNXNG']\n",
      "A6XLG77BC9R8R ['B002SIMPXM', 'B000VIHFZ4', 'B00176NKPS', 'B003ULJU2A', 'B006J1ZAR2']\n",
      "A1PAGHECG401K1 ['B0039BPG4M', 'B005TI1ILS', 'B00BOZCUG2', 'B00028VKLI', 'B0032ANCCI']\n",
      "A1NAA1R38JSNHV ['B0034XRDU0', 'B001W26TIW', 'B000UHQVOW', 'B000WYVBR0', 'B000I1YU5C']\n",
      "A1AKW788238PWQ ['B0058UUR6E', 'B000V1JUJU', 'B0007MWE28', 'B0002BEQNE', 'B000LYAZ4G']\n",
      "A3NOBH42C7UI5M ['B0010Z28XG', 'B000RZ8WHG', 'B005JACJ50', 'B001415FIG', 'B000EWHH7I']\n",
      "ASHJAZC9OA9NS ['B00009R896', 'B00023KG40', 'B000V1R96G', 'B000GYU9IS', 'B004AH10K8']\n",
      "A2POXR5VS3PHKR ['B0013LWK3A', 'B0009XHOBG', 'B0089V4WOC', 'B004Q0T0LU', 'B000A5T7AO']\n",
      "AWH2AY17ZU7W2 ['B00EHZYWGM', 'B003ANK9ZA', 'B007BZRXK2', 'B004VM0SE6', 'B004XNLR16']\n",
      "A2IXK5LB4Y0NYV ['B007WTAJTO', 'B00F0DD0I6', 'B008DVMRXG', 'B007PA1K84', 'B00HQ883QW']\n",
      "ATNOI7E8GTIVE ['B000VX6XL6', 'B0015A8Y3E', 'B0002TPFTA', 'B002OJN250', 'B003JOPWHK']\n",
      "A29KJ32G75L7G9 ['B001TOD7ME', 'B009U7WZCA', 'B003N12TSY', 'B005BLO21Q', 'B0074BW614']\n",
      "A3SL0HA6422W4M ['B0091TA5EW', 'B0030O0Q2U', 'B004TPPWT6', 'B00A39PPCG', 'B004QMH8KI']\n",
      "A781ITP3HE2N5 ['B003UH0Z9Q', 'B009D79VH4', 'B004G6002M', 'B000JE7GPY', 'B001F7AJKI']\n",
      "A1QJ10LEINDRWW ['B001ISKNKA', 'B000H4CLXS', 'B004AQ95A6', 'B0043VE29C', 'B0055MBQOM']\n",
      "A3IUW081KXD3PE ['B001S0PWWC', 'B003KPBRRW', 'B00006L4FX', 'B005I6EU48', 'B005VAORH6']\n",
      "A2KIJBT9HRIOM8 ['B004WB8EYM', 'B005FYNSPK', 'B000T8THL6', 'B000EGQS5G', 'B000LRMS66']\n",
      "A3KNGMX2RVQG91 ['B001ENW61I', 'B001W28L2Y', 'B004SCSV2U', 'B0062EUE54', 'B007RMAS1K']\n",
      "A313H6238N589 ['B007WTAJTO', 'B0057AVXP4', 'B001DBIT08', 'B0001HKIJK', 'B000TXZIDM']\n",
      "ALNE7Q71JFC0F ['B008EQZ25K', 'B001ENW61I', 'B005GGTTZ0', 'B0076AYNXM', 'B001E1Y5O6']\n",
      "A9BWUH9XKZ2DQ ['B000BKUSS8', 'B0032HM6HS', 'B00305N47S', 'B00456V6WG', 'B003NS0UUQ']\n",
      "A2LCE1D0TW2XY0 ['B000053HH5', 'B003G20AAE', 'B000053HBB', 'B002N694A6', 'B006BCKDGW']\n",
      "A3LZA698SQPCXE ['B00IVFDZBC', 'B004V4IWHY', 'B0034CL2ZI', 'B00008V6NI', 'B00AR95FOU']\n",
      "A2HXE29CU1I24Y ['B001NPEB5Q', 'B001NJ0WCS', 'B002EL4M98', 'B0015DYMVO', 'B001U3ZH7W']\n",
      "A1ROUMJOGO4QMB ['B003ZKG10K', 'B00006HSYC', 'B00629NHW6', 'B00198L9RA', 'B00224ZDFY']\n",
      "A1VR1HIOVQWN09 ['B0019EHU8G', 'B0015AARJI', 'B004HW6F9M', 'B000P0NJPS', 'B0039H2W66']\n",
      "A1A535TCGNMVPI ['B004444O4G', 'B003FVS8W8', 'B0002ER5B6', 'B00006B938', 'B0034XRE6S']\n",
      "A1SHHQSPOWR00F ['B001UI2FPE', 'B002V8C3W2', 'B0016XIQ1U', 'B000VJX7DW', 'B00009UT9B']\n",
      "A2HBOG4LVIY15L ['B005JN9310', 'B005J7YA4G', 'B001TZUS98', 'B0093HMKVI', 'B005YW7OLM']\n",
      "A3QNX5KWHDV0GD ['B000IVDTSG', 'B001F51G16', 'B00005LEOO', 'B00728Z8U0', 'B00007EDZG']\n",
      "A31RZMVAFMLB8B ['B0056TYRMW', 'B002SCGY5S', 'B00007E7QS', 'B005Q65JHM', 'B0068RKK18']\n",
      "A2MIP3AQVSF2SS ['B007WTAJTO', 'B005JN9310', 'B001L1H0SC', 'B0042IBAOG', 'B004H0MQYW']\n",
      "A21NS06GDEA3V0 ['B004SUO068', 'B009A5204K', 'B0049YQVHE', 'B003VAGXZC', 'B002SZEOLG']\n",
      "A7UPJYPAH73NC ['B001BM5XB2', 'B002K9IHGI', 'B005ELBSWO', 'B0099SMFP2', 'B0016BVKAQ']\n",
      "A3GFQHHVMEAIO ['B000H6CBA4', 'B004SBI2PW', 'B00004SB92', 'B002ZLOR56', 'B00005854B']\n",
      "A2XQYE6TJYROHQ ['B004Q7J4W8', 'B000HDJT4S', 'B004HIN97M', 'B00304DZ7I', 'B000N35A0Y']\n",
      "AM0QLU79O05JR ['B00DVHP478', 'B000AP05BO', 'B00D02AHEO', 'B007IW4X3I', 'B00EZ9XG5I']\n",
      "A24RCBRDXRXR0Y ['B001T9NX9Q', 'B005I7X3RC', 'B0023B14TK', 'B002R5AM7C', 'B00884WH74']\n",
      "AM8W6Y3HVXLZT ['B003BLQHN4', 'B004OR14GO', 'B00B7X2OW6', 'B0053T4PHC', 'B0038KV2MO']\n",
      "A2Q2A6JKY95RTP ['B00029U1DK', 'B0015AARJI', 'B001S4OTS6', 'B005DKZTMG', 'B0042AM7JQ']\n",
      "ARW8VGT10JG60 ['B0002YE6FY', 'B002KETE24', 'B0049WBZEK', 'B001GN3SGS']\n",
      "A2EHYCA29NSQLU ['B0012MI7N2', 'B00FFJ0HUE', 'B000LRMS66', 'B0000AHO92', 'B000XY4AD6']\n",
      "A7KBAXO177NND ['B002WE6D44', 'B004V4IWHY', 'B00006I5J7', 'B001ASU1QO', 'B00803N2AY']\n",
      "A3P69DTOXII004 ['B00DXFF6EO', 'B0089WLYQ0', 'B000A6NUU6', 'B00CM1AANW']\n",
      "A2EMUM49CE0JV4 ['B00A9NE84C', 'B00076FVP6', 'B000F7JCRA', 'B004HW7EAG', 'B003D5MY5I']\n",
      "A3RR2P5IS3DGPR ['B007WTAJTO', 'B004MF11MU', 'B0001MQUOC', 'B001E2V7R8', 'B003BKTJPI']\n",
      "A2FHTXLKY1XJDB ['B006X2P00O', 'B001W8WEGC', 'B007K7JTY4', 'B00DAANUVI', 'B0002A9SJ2']\n",
      "A30JPZ9TZ7I61U ['B0058FAYPI', 'B004CLYEFK', 'B00HC0ZDOE', 'B000065BP9', 'B00634PLTW']\n",
      "AFXTKAO0CB354 ['B000Q85WRC', 'B000067RT6', 'B002IJ95ZM', 'B003SW13WQ', 'B00005T3FO']\n",
      "A1AWL9JASMG904 ['B001QATRCA', 'B000E5CYW8', 'B000IMSK8Y', 'B004UHDUNI', 'B00634PLTW']\n",
      "A1TFDMY4YNTV97 ['B0019EHU8G', 'B002O11LQA', 'B0036R76R4', 'B003962DXE', 'B002PHM0XQ']\n",
      "A1987V5OCO6QHS ['B0019EHU8G', 'B007FGYZFI', 'B000EVSLRO', 'B0093HGD2K', 'B006TF36TM']\n",
      "A2F2F7N94SR1KQ ['B002IO2UM2', 'B00461E7JE', 'B004YDUZ22', 'B005LS2GPI', 'B000F0ELOG']\n",
      "A51OFQVC6O5YL ['B004S4R5CK', 'B006EKIQYM', 'B000JE7GPY', 'B007PY3ZPG', 'B0077QTSQM']\n",
      "A1FR68QH6Z4YZM ['B000AZ57M6', 'B0007G6RZE', 'B000BY52NK', 'B002IKLJU0', 'B001KELVS0']\n",
      "A3VVMIMMTYQV5F ['B001342KM8', 'B0015AARJI', 'B000H4CLXS', 'B0019M6GP6', 'B003VANOI6']\n",
      "A3N8O68DOEQ2FE ['B002WE6D44', 'B0001Y7UAI', 'B000F0ELOG', 'B000HCGAFK', 'B001E1Y5O6']\n",
      "A3JU16JTNLVK1J ['B00AANQLRI', 'B00BEWF4R2', 'B0048IW030', 'B0002Y5WZC', 'B0000BZYPD']\n",
      "A1GWG5CWLKJ7ET ['B00A0JUNWQ', 'B004JU0E2G', 'B00D349WB8', 'B0025VKUPW', 'B005MJU1DA']\n",
      "A206CGM6J75UJY ['B002YU83YO', 'B007PZWYKM', 'B00A35WYBA', 'B007PRHNHO', 'B000NGKEH0']\n",
      "A1IU4UAV9QIJAI ['B0073P32X2', 'B0027Q4HXG', 'B002HZW6WQ', 'B002N3DIC4', 'B002Y2NI4M']\n",
      "A3N4I2KRSMACW8 ['B001X017G2', 'B007JOO4XE', 'B003UI62AG', 'B007G51UWY', 'B00CBQNB7K']\n",
      "A2THQCHKR89E16 ['B004PAA876', 'B002XJG71M', 'B005HMKKH4', 'B004MNADXK', 'B004NIG1SA']\n",
      "A2NOIWPJDD7WIQ ['B001S2PPT0', 'B000BYCKU8', 'B000HGIWN4', 'B002J9HBIO', 'B006OBGEHW']\n",
      "AFM2J3HJNPIHV ['B0019EHU8G', 'B000067SGI', 'B009W34X5O', 'B0016GV1UU', 'B003XQLUGQ']\n",
      "AYCAIHABPYWVJ ['B00139VKU6', 'B003YTROIU', 'B0039NLS4C', 'B002ROGCRC', 'B00006I53V']\n",
      "AXU3VKZE848IY ['B00IF4OATU', 'B00104XCVO', 'B001TANZ0W', 'B000O8WE66', 'B008MDSWI4']\n",
      "A2UWPPU5GZLMQZ ['B00889ST2G', 'B0010Z294O', 'B00BF9MUAS', 'B0043M6F14', 'B0012Q94AI']\n",
      "A3H6NNGCINPLEC ['B0054L8N7M', 'B0000TU7IG', 'B001G5ZTLS', 'B002LITT56', 'B003YKG2XM']\n",
      "ARTA78TP6H73D ['B00D429Y12', 'B002FU5QMA', 'B00005QXWI', 'B005XPFYBM', 'B006WHPQUO']\n",
      "AEIB3UR05OP7A ['B00AJHDZSI', 'B0034CL2ZI', 'B002VKVZ1A', 'B009SYZ8OC', 'B00AVSSKLW']\n",
      "A1SX9PHJWTDMF9 ['B007R67FNA', 'B0012Y02CE', 'B0055Q9NH0', 'B00004T8R2', 'B00006JQ06']\n",
      "A2Y3WWPUKIJ59I ['B003I4FHNA', 'B0002L5R78', 'B00829THVO', 'B003P2UMQ2', 'B000H9J3ZC']\n",
      "AD8DLOGHAXL ['B0012YFXSW', 'B000051299', 'B002R06PGE', 'B00025O7FC']\n",
      "A3PPO2X5PJE1L9 ['B0081ER9KG', 'B009B0MY6S', 'B000H02B6O', 'B00AM7MM4I', 'B003ES61EE']\n",
      "A6XDZ1MJ0B1A2 ['B003N8GVUY', 'B004XC6GJ0', 'B00D7P6176', 'B000QGBC8C', 'B004Q0PTD8']\n",
      "AYOTEJ617O60K ['B003FVJYF8', 'B0074H3IU6', 'B001LRKB78', 'B007477COO', 'B0087OV77G']\n",
      "AS7J4952JB5XR ['B002V88HFE', 'B005KQ0S8S', 'B00FPKDPZC', 'B0043M6F14', 'B00FNPD1VW']\n",
      "A28CCQNXWV6WA2 ['B0011E4NSO', 'B001BX6HCU', 'B001PKTR76', 'B001OC7IXU', 'B00328HR4Y']\n",
      "A4H4KYSM2KQ85 ['B002JCSV8A', 'B0009GZAGO', 'B0054L8N7M', 'B008MWBY6W', 'B000CSQNL0']\n",
      "A2PB325LKXYDOL ['B003YNQ6MG', 'B006EKIQYM', 'B001XURP7W', 'B000S6E0XY', 'B003NSBF32']\n",
      "A3UW0PQLDUACMH ['B0050IE1O8', 'B004CLYE8C', 'B00FRDUZXM', 'B00FRMAOIO', 'B004TS2AOS']\n",
      "ANSVB7OYSXZSL ['B0043M6F14', 'B0025EWXEU', 'B002TQ6HT6', 'B002ZFVS9A']\n",
      "A31BD4RXCON7QO ['B001KELVS0', 'B00322PYZO', 'B000E5FOYS', 'B00200K9NQ', 'B00GO1UV4E']\n",
      "A2CL818RN52NWN ['B0002LHSG6', 'B0007P4G6M', 'B000BI2180']\n",
      "A1GBU479WXR7UG ['B002ZIMEMW', 'B00363EZY0', 'B000WH86BQ', 'B00BI8IT24', 'B00486T134']\n",
      "A1HBEQWSMVQEWJ ['B003XM1WE0', 'B007IMPMW4', 'B005IHAI8O', 'B0072DKWQ0', 'B004KKGF1O']\n",
      "AH5BCMZELZSKG ['B00D6XSRL2', 'B004ZNA3UA', 'B003LYKLCO', 'B007PFQ0PC', 'B003ISYA6G']\n",
      "A1Y4EWMUTW73GD ['B002IKLJVE', 'B0028MF260', 'B00009V4G9', 'B001FSKDWG', 'B001UE8LRY']\n",
      "A3FEJ8H2VTN0OJ ['B002BH3Z8E', 'B00DSUTVK4', 'B007NZGPAY', 'B00APP6694', 'B004PVW1DY']\n",
      "ADPKRJ2BSFJ0I ['B0029N3U8K', 'B0051PLPM6', 'B002ZJQLZC', 'B006K551WQ']\n",
      "AW63IRQWH10GF ['B0010Y414Q', 'B004G8QETI', 'B000EY5F5C']\n",
      "A57Q87B0TC9IJ ['B000N99BBC', 'B00002JXFH', 'B007ZZ6OW6', 'B002ZV51DI', 'B00GC1ZMYA']\n",
      "A1JWSDDIH5Z7DV ['B0011ZCDKS', 'B000EPNES6', 'B000EPHSLK', 'B000JLWDB4', 'B000HEW0KW']\n",
      "A2OS3TIVAKUAHG ['B003WUX6PG', 'B0050A1O64', 'B002LITI8E', 'B00EUFP39E', 'B003YNO0LA']\n",
      "AYGEKID3G7DPW ['B000LVJ9W8', 'B0001HA8WW', 'B004K1EZDS', 'B0000C1ZNV']\n",
      "A3PCEB9ND82AGE ['B004FPOPXE', 'B00E3W15P0', 'B00A9NE84C', 'B0001FTVDQ', 'B0044DEDC0']\n",
      "AS2II0671KT2C ['B004Q0PT3I', 'B003DXI288', 'B0074BW614', 'B000BTGVUS', 'B0036VO6IC']\n",
      "A2BGZ52M908MJY ['B00005QJCU', 'B00005ALB1']\n",
      "A2I5LVVQ7WXEH6 ['B001TH7T2U', 'B001E1Y5O6', 'B000JE7GPY', 'B000I5LACO', 'B001TH7GVE']\n",
      "A3UQSOJW51UU9T ['B000RZQZM0', 'B002NU5UW8', 'B002K42W4Q', 'B001S2PYQY', 'B00AQ2BWP4']\n",
      "A18U49406IPPIJ ['B000CKVOOY', 'B00G4UQ6U8', 'B00J46VVKE', 'B00FCISG6K', 'B00AH58I0C']\n",
      "A2ER8G4JJJ7XER ['B000WKTG76', 'B001F7AP1Q']\n",
      "A3CP3J7OEGQMD5 ['B005KQ0S8S', 'B0015C30J0', 'B003U8HV4M', 'B002KO63X2', 'B009KY58FE']\n",
      "A25HBO5V8S8SEA ['B00009R6TA', 'B000068CS0', 'B0001F1ZY4', 'B0007VRPZA']\n",
      "A2VALCFTOWFYXZ ['B00ARB5E8U', 'B00B46XKKQ', 'B004P1IU52', 'B005DDCDH2', 'B008CX2A2I']\n"
     ]
    }
   ],
   "source": [
    "top_n = get_top_n(test_pred_svd_tuned, 5)\n",
    "\n",
    "for uid, user_ratings in top_n.items():\n",
    "    print(uid, [iid for (iid, _) in user_ratings])"
   ]
  },
  {
   "cell_type": "markdown",
   "metadata": {},
   "source": [
    "## 8. Summarise your insights."
   ]
  },
  {
   "cell_type": "markdown",
   "metadata": {},
   "source": [
    "- Read the ratings_Electronics file and loaded it into elec_df\n",
    "- Data had 7,824,482 rows and 4 columns - user ID, product ID, rating and timestamp\n",
    "- Dropped timestamp column\n",
    "- Viewed the head of data, info details.\n",
    "- Data didn't have any missing/null values\n",
    "- Performed some sanity checks on data - whether the ratings column have only 5 unique ratings, had a look at the products that were rated quite often, the users who rate often, highly rated products and low rated products.\n",
    "- View some data distributions on the overall data\n",
    "- A subset of the original data was taken to continue the model building as the original data is huge. I included only those users who have given more than 50 ratings and products that have received ratings more than 50 times. This brought down the row count to 79,182\n",
    "- **Built the Popularity recommender model** - This model predicts the same set of products to any user as it is not customized to user preference\n",
    "- **Built the Collaborative Filtering model using KNNwithMeans** - This model had a high RMSE of about 1.13 and hence didn't perform very well\n",
    "- **Built SVD model for collaborative filtering** since KNNwithMeans didn't give a good performance. SVD model gave RMSE of 0.96, which was not so great even though it is better than KNNwithMeans\n",
    "- **Fine tuned SVD** by tweaking the hyper parameters using GridSearchCV. Now the RMSE came down to 0.86 for n_factors = 5 and reg_all = 0.02\n",
    "- Prediction was done using this best fit model\n",
    "- User specific recommendations of 5 new products were provided to each and every user based on their habits using the fine tuned SVD model."
   ]
  },
  {
   "cell_type": "markdown",
   "metadata": {},
   "source": [
    "## <center> End of Amazon - Recommendation system assignment </center>"
   ]
  }
 ],
 "metadata": {
  "kernelspec": {
   "display_name": "Python 3",
   "language": "python",
   "name": "python3"
  },
  "language_info": {
   "codemirror_mode": {
    "name": "ipython",
    "version": 3
   },
   "file_extension": ".py",
   "mimetype": "text/x-python",
   "name": "python",
   "nbconvert_exporter": "python",
   "pygments_lexer": "ipython3",
   "version": "3.7.3"
  }
 },
 "nbformat": 4,
 "nbformat_minor": 2
}
