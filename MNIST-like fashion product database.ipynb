{
  "nbformat": 4,
  "nbformat_minor": 0,
  "metadata": {
    "colab": {
      "name": "R6_ExternalLab_AIML-1.ipynb",
      "provenance": [],
      "collapsed_sections": []
    },
    "kernelspec": {
      "display_name": "Python 2",
      "language": "python",
      "name": "python2"
    }
  },
  "cells": [
    {
      "cell_type": "markdown",
      "metadata": {
        "id": "YYk8NG3yOIT9",
        "colab_type": "text"
      },
      "source": [
        "### A MNIST-like fashion product database\n",
        "\n",
        "In this, we classify the images into respective classes given in the dataset. We use a Neural Net and a Deep Neural Net in Keras to solve this and check the accuracy scores."
      ]
    },
    {
      "cell_type": "markdown",
      "metadata": {
        "id": "tFO6PuxzOIT_",
        "colab_type": "text"
      },
      "source": [
        "### Load tensorflow"
      ]
    },
    {
      "cell_type": "code",
      "metadata": {
        "id": "zzRRiNxv5eqP",
        "colab_type": "code",
        "colab": {
          "base_uri": "https://localhost:8080/",
          "height": 34
        },
        "outputId": "2d075262-2579-48b2-d176-c7b0fda558b0"
      },
      "source": [
        "%tensorflow_version 2.x"
      ],
      "execution_count": 2,
      "outputs": [
        {
          "output_type": "stream",
          "text": [
            "TensorFlow 2.x selected.\n"
          ],
          "name": "stdout"
        }
      ]
    },
    {
      "cell_type": "code",
      "metadata": {
        "id": "efNjNImfOIUC",
        "colab_type": "code",
        "colab": {}
      },
      "source": [
        "import tensorflow as tf\n",
        "tf.random.set_seed(42)\n",
        "\n",
        "import matplotlib.pyplot as plt"
      ],
      "execution_count": 0,
      "outputs": []
    },
    {
      "cell_type": "code",
      "metadata": {
        "id": "l9C4aAIGOIUH",
        "colab_type": "code",
        "outputId": "e024ea2e-127f-4755-d46d-e9e7836cf09c",
        "colab": {
          "base_uri": "https://localhost:8080/",
          "height": 34
        }
      },
      "source": [
        "tf.__version__"
      ],
      "execution_count": 4,
      "outputs": [
        {
          "output_type": "execute_result",
          "data": {
            "text/plain": [
              "'2.0.0'"
            ]
          },
          "metadata": {
            "tags": []
          },
          "execution_count": 4
        }
      ]
    },
    {
      "cell_type": "markdown",
      "metadata": {
        "id": "HcoZBStrOIUQ",
        "colab_type": "text"
      },
      "source": [
        "### Collect Data"
      ]
    },
    {
      "cell_type": "code",
      "metadata": {
        "id": "XA1WsFSeOIUS",
        "colab_type": "code",
        "colab": {
          "base_uri": "https://localhost:8080/",
          "height": 34
        },
        "outputId": "600c7d2f-25ff-42c9-eb5e-84869e829d86"
      },
      "source": [
        "import keras"
      ],
      "execution_count": 5,
      "outputs": [
        {
          "output_type": "stream",
          "text": [
            "Using TensorFlow backend.\n"
          ],
          "name": "stderr"
        }
      ]
    },
    {
      "cell_type": "code",
      "metadata": {
        "id": "qnbx7TyQOIUY",
        "colab_type": "code",
        "colab": {
          "base_uri": "https://localhost:8080/",
          "height": 204
        },
        "outputId": "e4f8a00c-22a2-437c-cc66-439cf4fc425e"
      },
      "source": [
        "(trainX, trainY), (testX, testY) = keras.datasets.fashion_mnist.load_data()"
      ],
      "execution_count": 6,
      "outputs": [
        {
          "output_type": "stream",
          "text": [
            "Downloading data from http://fashion-mnist.s3-website.eu-central-1.amazonaws.com/train-labels-idx1-ubyte.gz\n",
            "32768/29515 [=================================] - 0s 1us/step\n",
            "40960/29515 [=========================================] - 0s 0us/step\n",
            "Downloading data from http://fashion-mnist.s3-website.eu-central-1.amazonaws.com/train-images-idx3-ubyte.gz\n",
            "26427392/26421880 [==============================] - 0s 0us/step\n",
            "26435584/26421880 [==============================] - 0s 0us/step\n",
            "Downloading data from http://fashion-mnist.s3-website.eu-central-1.amazonaws.com/t10k-labels-idx1-ubyte.gz\n",
            "16384/5148 [===============================================================================================] - 0s 0us/step\n",
            "Downloading data from http://fashion-mnist.s3-website.eu-central-1.amazonaws.com/t10k-images-idx3-ubyte.gz\n",
            "4423680/4422102 [==============================] - 0s 0us/step\n",
            "4431872/4422102 [==============================] - 0s 0us/step\n"
          ],
          "name": "stdout"
        }
      ]
    },
    {
      "cell_type": "code",
      "metadata": {
        "id": "UbiHj5YPOIUc",
        "colab_type": "code",
        "outputId": "fec77350-52ea-4fe5-b85a-71bb8be95c40",
        "colab": {
          "base_uri": "https://localhost:8080/",
          "height": 34
        }
      },
      "source": [
        "print(testY[0:5])"
      ],
      "execution_count": 7,
      "outputs": [
        {
          "output_type": "stream",
          "text": [
            "[9 2 1 1 6]\n"
          ],
          "name": "stdout"
        }
      ]
    },
    {
      "cell_type": "code",
      "metadata": {
        "id": "v-Tk_h1J-EJt",
        "colab_type": "code",
        "colab": {}
      },
      "source": [
        "labels = trainY"
      ],
      "execution_count": 0,
      "outputs": []
    },
    {
      "cell_type": "markdown",
      "metadata": {
        "id": "lDAYzkwyOIUj",
        "colab_type": "text"
      },
      "source": [
        "### Convert both training and testing labels into one-hot vectors.\n",
        "\n",
        "**Hint:** check **tf.keras.utils.to_categorical()**"
      ]
    },
    {
      "cell_type": "code",
      "metadata": {
        "id": "vBlfYlANOIUk",
        "colab_type": "code",
        "colab": {}
      },
      "source": [
        "trainY = tf.keras.utils.to_categorical(trainY, num_classes=10)\n",
        "testY  = tf.keras.utils.to_categorical(testY, num_classes=10)"
      ],
      "execution_count": 0,
      "outputs": []
    },
    {
      "cell_type": "code",
      "metadata": {
        "scrolled": true,
        "id": "RHV3b9mzOIUq",
        "colab_type": "code",
        "outputId": "b8c0e4ec-6b4b-4fef-d6a0-5ad5dd3d1f9e",
        "colab": {
          "base_uri": "https://localhost:8080/",
          "height": 119
        }
      },
      "source": [
        "print(trainY.shape)\n",
        "print('First 5 examples now are: ', trainY[0:5])"
      ],
      "execution_count": 10,
      "outputs": [
        {
          "output_type": "stream",
          "text": [
            "(60000, 10)\n",
            "('First 5 examples now are: ', array([[0., 0., 0., 0., 0., 0., 0., 0., 0., 1.],\n",
            "       [1., 0., 0., 0., 0., 0., 0., 0., 0., 0.],\n",
            "       [1., 0., 0., 0., 0., 0., 0., 0., 0., 0.],\n",
            "       [0., 0., 0., 1., 0., 0., 0., 0., 0., 0.],\n",
            "       [1., 0., 0., 0., 0., 0., 0., 0., 0., 0.]], dtype=float32))\n"
          ],
          "name": "stdout"
        }
      ]
    },
    {
      "cell_type": "code",
      "metadata": {
        "id": "RcyEBqaTqKU4",
        "colab_type": "code",
        "outputId": "444a53a0-3142-40f5-d985-28892825d844",
        "colab": {
          "base_uri": "https://localhost:8080/",
          "height": 34
        }
      },
      "source": [
        "print(trainX.shape)"
      ],
      "execution_count": 11,
      "outputs": [
        {
          "output_type": "stream",
          "text": [
            "(60000, 28, 28)\n"
          ],
          "name": "stdout"
        }
      ]
    },
    {
      "cell_type": "markdown",
      "metadata": {
        "id": "FwhQ8e7VOIUw",
        "colab_type": "text"
      },
      "source": [
        "### Visualize the data\n",
        "\n",
        "Plot first 10 images in the triaining set and their labels."
      ]
    },
    {
      "cell_type": "code",
      "metadata": {
        "id": "AvDML2OoOIUx",
        "colab_type": "code",
        "outputId": "50e8b57c-ff36-46c9-b178-a6c4c8292013",
        "colab": {
          "base_uri": "https://localhost:8080/",
          "height": 94
        }
      },
      "source": [
        "fig, ax = plt.subplots(1, 10)\n",
        "for i, axi in enumerate(ax.flat):\n",
        "    axi.imshow(trainX[i], cmap='gray')\n",
        "    axi.set(xticks=[], yticks=[],\n",
        "            xlabel=labels[i])\n",
        "print(\"label for each of the below images:\",labels[0:10])"
      ],
      "execution_count": 12,
      "outputs": [
        {
          "output_type": "stream",
          "text": [
            "('label for each of the below images:', array([9, 0, 0, 3, 0, 2, 7, 2, 5, 5], dtype=uint8))\n"
          ],
          "name": "stdout"
        },
        {
          "output_type": "display_data",
          "data": {
            "image/png": "[encoded data removed]",
            "text/plain": [
              "<Figure size 432x288 with 10 Axes>"
            ]
          },
          "metadata": {
            "tags": []
          }
        }
      ]
    },
    {
      "cell_type": "markdown",
      "metadata": {
        "id": "l4TbJGeSOIU4",
        "colab_type": "text"
      },
      "source": [
        "### Build a neural Network with a cross entropy loss function and sgd optimizer in Keras. The output layer with 10 neurons as we have 10 classes."
      ]
    },
    {
      "cell_type": "code",
      "metadata": {
        "id": "Ac06XZZTOIU6",
        "colab_type": "code",
        "colab": {}
      },
      "source": [
        "# Initialize the sequential model\n",
        "model1 = tf.keras.models.Sequential()\n",
        "\n",
        "# Reshape data from 2D to 1D:\n",
        "model1.add(tf.keras.layers.Reshape((784,), input_shape=(28,28)))\n",
        "\n",
        "# Add Dense Layer which provides 10 Outputs after applying softmax\n",
        "model1.add(tf.keras.layers.Dense(10, activation='softmax'))\n",
        "\n",
        "# Compile the model\n",
        "model1.compile(optimizer='sgd', loss='categorical_crossentropy', metrics=['accuracy'])"
      ],
      "execution_count": 0,
      "outputs": []
    },
    {
      "cell_type": "markdown",
      "metadata": {
        "id": "dv9vq_7ZaXil",
        "colab_type": "text"
      },
      "source": [
        "### Review the model"
      ]
    },
    {
      "cell_type": "code",
      "metadata": {
        "id": "2OE-zI737MI8",
        "colab_type": "code",
        "outputId": "73b93f59-ccc1-4ede-c4af-6e94e00cc29c",
        "colab": {
          "base_uri": "https://localhost:8080/",
          "height": 221
        }
      },
      "source": [
        "# Review the model:\n",
        "model1.summary()"
      ],
      "execution_count": 20,
      "outputs": [
        {
          "output_type": "stream",
          "text": [
            "Model: \"sequential_2\"\n",
            "_________________________________________________________________\n",
            "Layer (type)                 Output Shape              Param #   \n",
            "=================================================================\n",
            "reshape_2 (Reshape)          (None, 784)               0         \n",
            "_________________________________________________________________\n",
            "dense_2 (Dense)              (None, 10)                7850      \n",
            "=================================================================\n",
            "Total params: 7,850\n",
            "Trainable params: 7,850\n",
            "Non-trainable params: 0\n",
            "_________________________________________________________________\n"
          ],
          "name": "stdout"
        }
      ]
    },
    {
      "cell_type": "markdown",
      "metadata": {
        "id": "3hQpLv3aOIU_",
        "colab_type": "text"
      },
      "source": [
        "### Execute the model using model.fit()"
      ]
    },
    {
      "cell_type": "code",
      "metadata": {
        "id": "O59C_-IgOIVB",
        "colab_type": "code",
        "outputId": "66edfc11-0a47-4ddf-a6ab-b6fd032c9800",
        "colab": {
          "base_uri": "https://localhost:8080/",
          "height": 561
        }
      },
      "source": [
        "# Run the model:\n",
        "model1.fit(trainX, trainY, validation_data=(testX, testY), epochs=15, batch_size=1000)"
      ],
      "execution_count": 21,
      "outputs": [
        {
          "output_type": "stream",
          "text": [
            "Train on 60000 samples, validate on 10000 samples\n",
            "Epoch 1/15\n",
            "60000/60000 [==============================] - 1s 14us/sample - loss: 3923.8005 - accuracy: 0.5791 - val_loss: 1091.9013 - val_accuracy: 0.6600\n",
            "Epoch 2/15\n",
            "60000/60000 [==============================] - 1s 10us/sample - loss: 1750.7870 - accuracy: 0.7006 - val_loss: 827.0766 - val_accuracy: 0.7606\n",
            "Epoch 3/15\n",
            "60000/60000 [==============================] - 1s 10us/sample - loss: 1529.5684 - accuracy: 0.7343 - val_loss: 2378.4252 - val_accuracy: 0.7530\n",
            "Epoch 4/15\n",
            "60000/60000 [==============================] - 1s 10us/sample - loss: 1327.8741 - accuracy: 0.7368 - val_loss: 1015.6847 - val_accuracy: 0.7828\n",
            "Epoch 5/15\n",
            "60000/60000 [==============================] - 1s 10us/sample - loss: 1203.8289 - accuracy: 0.7502 - val_loss: 585.8789 - val_accuracy: 0.7711\n",
            "Epoch 6/15\n",
            "60000/60000 [==============================] - 1s 10us/sample - loss: 1158.3712 - accuracy: 0.7627 - val_loss: 826.9148 - val_accuracy: 0.7068\n",
            "Epoch 7/15\n",
            "60000/60000 [==============================] - 1s 10us/sample - loss: 1233.2664 - accuracy: 0.7511 - val_loss: 1241.1053 - val_accuracy: 0.7617\n",
            "Epoch 8/15\n",
            "60000/60000 [==============================] - 1s 10us/sample - loss: 958.2666 - accuracy: 0.7765 - val_loss: 746.6779 - val_accuracy: 0.7617\n",
            "Epoch 9/15\n",
            "60000/60000 [==============================] - 1s 10us/sample - loss: 1082.2460 - accuracy: 0.7674 - val_loss: 1346.2001 - val_accuracy: 0.7364\n",
            "Epoch 10/15\n",
            "60000/60000 [==============================] - 1s 10us/sample - loss: 1015.2389 - accuracy: 0.7648 - val_loss: 1424.9723 - val_accuracy: 0.7583\n",
            "Epoch 11/15\n",
            "60000/60000 [==============================] - 1s 10us/sample - loss: 1064.7232 - accuracy: 0.7752 - val_loss: 561.3447 - val_accuracy: 0.7721\n",
            "Epoch 12/15\n",
            "60000/60000 [==============================] - 1s 10us/sample - loss: 989.0221 - accuracy: 0.7715 - val_loss: 1440.7689 - val_accuracy: 0.6852\n",
            "Epoch 13/15\n",
            "60000/60000 [==============================] - 1s 10us/sample - loss: 1034.6724 - accuracy: 0.7743 - val_loss: 688.4700 - val_accuracy: 0.7744\n",
            "Epoch 14/15\n",
            "60000/60000 [==============================] - 1s 10us/sample - loss: 999.3218 - accuracy: 0.7705 - val_loss: 1151.1363 - val_accuracy: 0.7357\n",
            "Epoch 15/15\n",
            "60000/60000 [==============================] - 1s 10us/sample - loss: 1009.2673 - accuracy: 0.7731 - val_loss: 786.3735 - val_accuracy: 0.7666\n"
          ],
          "name": "stdout"
        },
        {
          "output_type": "execute_result",
          "data": {
            "text/plain": [
              "<tensorflow.python.keras.callbacks.History at 0x7f128c64be50>"
            ]
          },
          "metadata": {
            "tags": []
          },
          "execution_count": 21
        }
      ]
    },
    {
      "cell_type": "markdown",
      "metadata": {
        "id": "9w1WOfea64r1",
        "colab_type": "text"
      },
      "source": [
        "### **Inference**:\n",
        "A simple neural network model with 10 neurons as specified in model1 gives an accuracy of 0.77"
      ]
    },
    {
      "cell_type": "markdown",
      "metadata": {
        "id": "JdzDtGwDOIVF",
        "colab_type": "text"
      },
      "source": [
        "### In the above Neural Network model add Batch Normalization layer after the input layer and repeat the steps."
      ]
    },
    {
      "cell_type": "code",
      "metadata": {
        "id": "kndfpdidOIVI",
        "colab_type": "code",
        "colab": {}
      },
      "source": [
        "# Initialize the sequential model\n",
        "model2 = tf.keras.models.Sequential()\n",
        "\n",
        "# Reshape data from 2D to 1D:\n",
        "model2.add(tf.keras.layers.Reshape((784,), input_shape=(28,28)))\n",
        "\n",
        "# Normalize the data:\n",
        "model2.add(tf.keras.layers.BatchNormalization())\n",
        "\n",
        "# Add Dense Layer which provides 10 Outputs after applying softmax\n",
        "model2.add(tf.keras.layers.Dense(10, activation='softmax'))\n",
        "\n",
        "# Compile the model\n",
        "model2.compile(optimizer='sgd', loss='categorical_crossentropy', metrics=['accuracy'])"
      ],
      "execution_count": 0,
      "outputs": []
    },
    {
      "cell_type": "markdown",
      "metadata": {
        "id": "V9qITXXSafUA",
        "colab_type": "text"
      },
      "source": [
        "### Review the model"
      ]
    },
    {
      "cell_type": "code",
      "metadata": {
        "id": "njfTUF5r7ffw",
        "colab_type": "code",
        "outputId": "5074e5c3-07e7-46c2-a15a-889fb7fc5677",
        "colab": {
          "base_uri": "https://localhost:8080/",
          "height": 255
        }
      },
      "source": [
        "# Review the model\n",
        "model2.summary()"
      ],
      "execution_count": 23,
      "outputs": [
        {
          "output_type": "stream",
          "text": [
            "Model: \"sequential_3\"\n",
            "_________________________________________________________________\n",
            "Layer (type)                 Output Shape              Param #   \n",
            "=================================================================\n",
            "reshape_3 (Reshape)          (None, 784)               0         \n",
            "_________________________________________________________________\n",
            "batch_normalization_1 (Batch (None, 784)               3136      \n",
            "_________________________________________________________________\n",
            "dense_3 (Dense)              (None, 10)                7850      \n",
            "=================================================================\n",
            "Total params: 10,986\n",
            "Trainable params: 9,418\n",
            "Non-trainable params: 1,568\n",
            "_________________________________________________________________\n"
          ],
          "name": "stdout"
        }
      ]
    },
    {
      "cell_type": "markdown",
      "metadata": {
        "id": "mwk3T5LJOIVN",
        "colab_type": "text"
      },
      "source": [
        "### Execute the model"
      ]
    },
    {
      "cell_type": "code",
      "metadata": {
        "id": "JNLR8tcBOIVP",
        "colab_type": "code",
        "outputId": "7a8b3962-f717-409d-e4c0-77df77da9a84",
        "colab": {
          "base_uri": "https://localhost:8080/",
          "height": 561
        }
      },
      "source": [
        "model2.fit(trainX, trainY, validation_data=(testX, testY), epochs=15, batch_size=1000)"
      ],
      "execution_count": 24,
      "outputs": [
        {
          "output_type": "stream",
          "text": [
            "Train on 60000 samples, validate on 10000 samples\n",
            "Epoch 1/15\n",
            "60000/60000 [==============================] - 1s 23us/sample - loss: 1.2922 - accuracy: 0.5666 - val_loss: 1.0402 - val_accuracy: 0.6734\n",
            "Epoch 2/15\n",
            "60000/60000 [==============================] - 1s 16us/sample - loss: 0.7789 - accuracy: 0.7354 - val_loss: 0.7632 - val_accuracy: 0.7389\n",
            "Epoch 3/15\n",
            "60000/60000 [==============================] - 1s 16us/sample - loss: 0.6855 - accuracy: 0.7664 - val_loss: 0.6794 - val_accuracy: 0.7673\n",
            "Epoch 4/15\n",
            "60000/60000 [==============================] - 1s 16us/sample - loss: 0.6366 - accuracy: 0.7839 - val_loss: 0.6385 - val_accuracy: 0.7831\n",
            "Epoch 5/15\n",
            "60000/60000 [==============================] - 1s 16us/sample - loss: 0.6053 - accuracy: 0.7941 - val_loss: 0.6145 - val_accuracy: 0.7904\n",
            "Epoch 6/15\n",
            "60000/60000 [==============================] - 1s 15us/sample - loss: 0.5824 - accuracy: 0.8018 - val_loss: 0.5959 - val_accuracy: 0.7947\n",
            "Epoch 7/15\n",
            "60000/60000 [==============================] - 1s 17us/sample - loss: 0.5650 - accuracy: 0.8078 - val_loss: 0.5824 - val_accuracy: 0.8005\n",
            "Epoch 8/15\n",
            "60000/60000 [==============================] - 1s 16us/sample - loss: 0.5519 - accuracy: 0.8117 - val_loss: 0.5717 - val_accuracy: 0.8042\n",
            "Epoch 9/15\n",
            "60000/60000 [==============================] - 1s 15us/sample - loss: 0.5403 - accuracy: 0.8157 - val_loss: 0.5625 - val_accuracy: 0.8079\n",
            "Epoch 10/15\n",
            "60000/60000 [==============================] - 1s 16us/sample - loss: 0.5311 - accuracy: 0.8181 - val_loss: 0.5549 - val_accuracy: 0.8098\n",
            "Epoch 11/15\n",
            "60000/60000 [==============================] - 1s 16us/sample - loss: 0.5230 - accuracy: 0.8210 - val_loss: 0.5488 - val_accuracy: 0.8115\n",
            "Epoch 12/15\n",
            "60000/60000 [==============================] - 1s 16us/sample - loss: 0.5165 - accuracy: 0.8235 - val_loss: 0.5425 - val_accuracy: 0.8142\n",
            "Epoch 13/15\n",
            "60000/60000 [==============================] - 1s 16us/sample - loss: 0.5102 - accuracy: 0.8256 - val_loss: 0.5377 - val_accuracy: 0.8161\n",
            "Epoch 14/15\n",
            "60000/60000 [==============================] - 1s 16us/sample - loss: 0.5050 - accuracy: 0.8280 - val_loss: 0.5329 - val_accuracy: 0.8183\n",
            "Epoch 15/15\n",
            "60000/60000 [==============================] - 1s 16us/sample - loss: 0.5008 - accuracy: 0.8294 - val_loss: 0.5291 - val_accuracy: 0.8187\n"
          ],
          "name": "stdout"
        },
        {
          "output_type": "execute_result",
          "data": {
            "text/plain": [
              "<tensorflow.python.keras.callbacks.History at 0x7f128c745d50>"
            ]
          },
          "metadata": {
            "tags": []
          },
          "execution_count": 24
        }
      ]
    },
    {
      "cell_type": "markdown",
      "metadata": {
        "id": "TkR1babKDx0p",
        "colab_type": "text"
      },
      "source": [
        "### **Inference**:\n",
        "Model2 has given an accuracy of 0.82 after applying normalization. Accuracy increases in a steady fashion after applying normalization"
      ]
    },
    {
      "cell_type": "markdown",
      "metadata": {
        "id": "Py-KwkmjOIVU",
        "colab_type": "text"
      },
      "source": [
        "### Customize the learning rate to 0.001 in sgd optimizer and run the model"
      ]
    },
    {
      "cell_type": "code",
      "metadata": {
        "id": "yLXUE9jWOIVV",
        "colab_type": "code",
        "colab": {}
      },
      "source": [
        "# Initialize the sequential model\n",
        "model3 = tf.keras.models.Sequential()\n",
        "\n",
        "# Reshape data from 2D to 1D:\n",
        "model3.add(tf.keras.layers.Reshape((784,), input_shape=(28,28)))\n",
        "\n",
        "# Normalize the data:\n",
        "model3.add(tf.keras.layers.BatchNormalization())\n",
        "\n",
        "# Add Dense Layer which provides 10 Outputs after applying softmax\n",
        "model3.add(tf.keras.layers.Dense(10, activation='softmax'))\n",
        "\n",
        "# Compile the model with learning rate as 0.001\n",
        "model3.compile(optimizer=tf.keras.optimizers.SGD(lr=0.001), loss='categorical_crossentropy', metrics=['accuracy'])"
      ],
      "execution_count": 0,
      "outputs": []
    },
    {
      "cell_type": "markdown",
      "metadata": {
        "id": "XgmMkZh4apL6",
        "colab_type": "text"
      },
      "source": [
        "### Review the model"
      ]
    },
    {
      "cell_type": "code",
      "metadata": {
        "id": "XmuETU117qrS",
        "colab_type": "code",
        "outputId": "b6d5bbeb-a436-4379-fa14-f9d0bf123991",
        "colab": {
          "base_uri": "https://localhost:8080/",
          "height": 255
        }
      },
      "source": [
        "# Review the model:\n",
        "model3.summary()"
      ],
      "execution_count": 26,
      "outputs": [
        {
          "output_type": "stream",
          "text": [
            "Model: \"sequential_4\"\n",
            "_________________________________________________________________\n",
            "Layer (type)                 Output Shape              Param #   \n",
            "=================================================================\n",
            "reshape_4 (Reshape)          (None, 784)               0         \n",
            "_________________________________________________________________\n",
            "batch_normalization_2 (Batch (None, 784)               3136      \n",
            "_________________________________________________________________\n",
            "dense_4 (Dense)              (None, 10)                7850      \n",
            "=================================================================\n",
            "Total params: 10,986\n",
            "Trainable params: 9,418\n",
            "Non-trainable params: 1,568\n",
            "_________________________________________________________________\n"
          ],
          "name": "stdout"
        }
      ]
    },
    {
      "cell_type": "markdown",
      "metadata": {
        "id": "GLTdrkMcawyJ",
        "colab_type": "text"
      },
      "source": [
        "### Execute the model"
      ]
    },
    {
      "cell_type": "code",
      "metadata": {
        "id": "pJUqA5T4OIVc",
        "colab_type": "code",
        "outputId": "ebed129f-0d96-456f-cd68-eac33a670806",
        "colab": {
          "base_uri": "https://localhost:8080/",
          "height": 561
        }
      },
      "source": [
        "# Run the model\n",
        "model3.fit(trainX, trainY, validation_data=(testX, testY), epochs=15, batch_size=1000)"
      ],
      "execution_count": 27,
      "outputs": [
        {
          "output_type": "stream",
          "text": [
            "Train on 60000 samples, validate on 10000 samples\n",
            "Epoch 1/15\n",
            "60000/60000 [==============================] - 1s 22us/sample - loss: 2.3090 - accuracy: 0.2584 - val_loss: 2.1280 - val_accuracy: 0.3505\n",
            "Epoch 2/15\n",
            "60000/60000 [==============================] - 1s 18us/sample - loss: 1.6119 - accuracy: 0.4529 - val_loss: 1.4609 - val_accuracy: 0.5074\n",
            "Epoch 3/15\n",
            "60000/60000 [==============================] - 1s 16us/sample - loss: 1.3259 - accuracy: 0.5503 - val_loss: 1.2399 - val_accuracy: 0.5807\n",
            "Epoch 4/15\n",
            "60000/60000 [==============================] - 1s 16us/sample - loss: 1.1753 - accuracy: 0.6028 - val_loss: 1.1286 - val_accuracy: 0.6227\n",
            "Epoch 5/15\n",
            "60000/60000 [==============================] - 1s 16us/sample - loss: 1.0806 - accuracy: 0.6343 - val_loss: 1.0565 - val_accuracy: 0.6494\n",
            "Epoch 6/15\n",
            "60000/60000 [==============================] - 1s 16us/sample - loss: 1.0132 - accuracy: 0.6560 - val_loss: 1.0041 - val_accuracy: 0.6674\n",
            "Epoch 7/15\n",
            "60000/60000 [==============================] - 1s 16us/sample - loss: 0.9630 - accuracy: 0.6730 - val_loss: 0.9628 - val_accuracy: 0.6797\n",
            "Epoch 8/15\n",
            "60000/60000 [==============================] - 1s 15us/sample - loss: 0.9235 - accuracy: 0.6863 - val_loss: 0.9288 - val_accuracy: 0.6914\n",
            "Epoch 9/15\n",
            "60000/60000 [==============================] - 1s 16us/sample - loss: 0.8924 - accuracy: 0.6967 - val_loss: 0.9008 - val_accuracy: 0.6998\n",
            "Epoch 10/15\n",
            "60000/60000 [==============================] - 1s 15us/sample - loss: 0.8664 - accuracy: 0.7058 - val_loss: 0.8766 - val_accuracy: 0.7077\n",
            "Epoch 11/15\n",
            "60000/60000 [==============================] - 1s 16us/sample - loss: 0.8411 - accuracy: 0.7139 - val_loss: 0.8560 - val_accuracy: 0.7124\n",
            "Epoch 12/15\n",
            "60000/60000 [==============================] - 1s 16us/sample - loss: 0.8217 - accuracy: 0.7198 - val_loss: 0.8381 - val_accuracy: 0.7196\n",
            "Epoch 13/15\n",
            "60000/60000 [==============================] - 1s 16us/sample - loss: 0.8038 - accuracy: 0.7255 - val_loss: 0.8219 - val_accuracy: 0.7250\n",
            "Epoch 14/15\n",
            "60000/60000 [==============================] - 1s 16us/sample - loss: 0.7885 - accuracy: 0.7305 - val_loss: 0.8073 - val_accuracy: 0.7299\n",
            "Epoch 15/15\n",
            "60000/60000 [==============================] - 1s 16us/sample - loss: 0.7751 - accuracy: 0.7352 - val_loss: 0.7944 - val_accuracy: 0.7337\n"
          ],
          "name": "stdout"
        },
        {
          "output_type": "execute_result",
          "data": {
            "text/plain": [
              "<tensorflow.python.keras.callbacks.History at 0x7f12882c5850>"
            ]
          },
          "metadata": {
            "tags": []
          },
          "execution_count": 27
        }
      ]
    },
    {
      "cell_type": "markdown",
      "metadata": {
        "id": "MiBlaYfbE-W8",
        "colab_type": "text"
      },
      "source": [
        "### **Inference**:\n",
        "Increase in Accuracy is very slow since learning rate is specified as 0.001."
      ]
    },
    {
      "cell_type": "markdown",
      "metadata": {
        "id": "j9CSqKvpOIVk",
        "colab_type": "text"
      },
      "source": [
        "### Build the Neural Network model with 3 Dense layers with 100,100,10 neurons respectively in each layer. Use cross entropy loss function and singmoid as activation in the hidden layers and softmax as activation function in the output layer. Use sgd optimizer with learning rate 0.03."
      ]
    },
    {
      "cell_type": "code",
      "metadata": {
        "id": "GGAad54JOIVm",
        "colab_type": "code",
        "colab": {}
      },
      "source": [
        "# Initialize the sequential model\n",
        "model4 = tf.keras.models.Sequential()\n",
        "\n",
        "# Reshape data from 2D to 1D:\n",
        "model4.add(tf.keras.layers.Reshape((784,), input_shape=(28,28)))\n",
        "\n",
        "# Normalize the data:\n",
        "model4.add(tf.keras.layers.BatchNormalization())\n",
        "\n",
        "\n",
        "# Add 3 Dense Layers with 100,100,10 neurons: \n",
        "model4.add(tf.keras.layers.Dense(100, input_dim=784, activation='sigmoid'))  # activation = sigmoid\n",
        "model4.add(tf.keras.layers.Dense(100, activation='sigmoid'))                 # activation = sigmoid\n",
        "model4.add(tf.keras.layers.Dense(10, activation='softmax'))                  # activation = softmax\n",
        "\n",
        "# Compile the model with a learning rate of 0.03:\n",
        "model4.compile(optimizer=tf.keras.optimizers.SGD(lr=0.03), loss='categorical_crossentropy', metrics=['accuracy'])"
      ],
      "execution_count": 0,
      "outputs": []
    },
    {
      "cell_type": "markdown",
      "metadata": {
        "id": "Nr2YsZV0OIV0",
        "colab_type": "text"
      },
      "source": [
        "## Review model"
      ]
    },
    {
      "cell_type": "code",
      "metadata": {
        "id": "h4ojW6-oOIV2",
        "colab_type": "code",
        "outputId": "6c50b2b3-bb00-43bc-f2c0-842917d50733",
        "colab": {
          "base_uri": "https://localhost:8080/",
          "height": 323
        }
      },
      "source": [
        "# Review the model\n",
        "model4.summary()"
      ],
      "execution_count": 29,
      "outputs": [
        {
          "output_type": "stream",
          "text": [
            "Model: \"sequential_5\"\n",
            "_________________________________________________________________\n",
            "Layer (type)                 Output Shape              Param #   \n",
            "=================================================================\n",
            "reshape_5 (Reshape)          (None, 784)               0         \n",
            "_________________________________________________________________\n",
            "batch_normalization_3 (Batch (None, 784)               3136      \n",
            "_________________________________________________________________\n",
            "dense_5 (Dense)              (None, 100)               78500     \n",
            "_________________________________________________________________\n",
            "dense_6 (Dense)              (None, 100)               10100     \n",
            "_________________________________________________________________\n",
            "dense_7 (Dense)              (None, 10)                1010      \n",
            "=================================================================\n",
            "Total params: 92,746\n",
            "Trainable params: 91,178\n",
            "Non-trainable params: 1,568\n",
            "_________________________________________________________________\n"
          ],
          "name": "stdout"
        }
      ]
    },
    {
      "cell_type": "markdown",
      "metadata": {
        "id": "gfFGmbZLOIV5",
        "colab_type": "text"
      },
      "source": [
        "### Run the model"
      ]
    },
    {
      "cell_type": "code",
      "metadata": {
        "id": "bIkbMEN5OIV7",
        "colab_type": "code",
        "outputId": "d1dbd121-b425-47b8-aedd-98277b85961a",
        "colab": {
          "base_uri": "https://localhost:8080/",
          "height": 561
        }
      },
      "source": [
        "# Run the model:\n",
        "model4.fit(trainX, trainY, validation_data=(testX, testY), epochs=15, batch_size=1000)"
      ],
      "execution_count": 30,
      "outputs": [
        {
          "output_type": "stream",
          "text": [
            "Train on 60000 samples, validate on 10000 samples\n",
            "Epoch 1/15\n",
            "60000/60000 [==============================] - 2s 31us/sample - loss: 2.2419 - accuracy: 0.2994 - val_loss: 2.1193 - val_accuracy: 0.4532\n",
            "Epoch 2/15\n",
            "60000/60000 [==============================] - 1s 23us/sample - loss: 2.0409 - accuracy: 0.5254 - val_loss: 1.9447 - val_accuracy: 0.6072\n",
            "Epoch 3/15\n",
            "60000/60000 [==============================] - 1s 23us/sample - loss: 1.8751 - accuracy: 0.5762 - val_loss: 1.7785 - val_accuracy: 0.6065\n",
            "Epoch 4/15\n",
            "60000/60000 [==============================] - 1s 22us/sample - loss: 1.7126 - accuracy: 0.5989 - val_loss: 1.6253 - val_accuracy: 0.6269\n",
            "Epoch 5/15\n",
            "60000/60000 [==============================] - 1s 23us/sample - loss: 1.5621 - accuracy: 0.6289 - val_loss: 1.4886 - val_accuracy: 0.6282\n",
            "Epoch 6/15\n",
            "60000/60000 [==============================] - 1s 23us/sample - loss: 1.4305 - accuracy: 0.6457 - val_loss: 1.3706 - val_accuracy: 0.6615\n",
            "Epoch 7/15\n",
            "60000/60000 [==============================] - 1s 22us/sample - loss: 1.3187 - accuracy: 0.6707 - val_loss: 1.2704 - val_accuracy: 0.6799\n",
            "Epoch 8/15\n",
            "60000/60000 [==============================] - 1s 23us/sample - loss: 1.2241 - accuracy: 0.6897 - val_loss: 1.1856 - val_accuracy: 0.7041\n",
            "Epoch 9/15\n",
            "60000/60000 [==============================] - 1s 23us/sample - loss: 1.1442 - accuracy: 0.7097 - val_loss: 1.1136 - val_accuracy: 0.7124\n",
            "Epoch 10/15\n",
            "60000/60000 [==============================] - 1s 23us/sample - loss: 1.0766 - accuracy: 0.7223 - val_loss: 1.0522 - val_accuracy: 0.7219\n",
            "Epoch 11/15\n",
            "60000/60000 [==============================] - 1s 23us/sample - loss: 1.0187 - accuracy: 0.7309 - val_loss: 0.9997 - val_accuracy: 0.7286\n",
            "Epoch 12/15\n",
            "60000/60000 [==============================] - 1s 23us/sample - loss: 0.9689 - accuracy: 0.7363 - val_loss: 0.9544 - val_accuracy: 0.7345\n",
            "Epoch 13/15\n",
            "60000/60000 [==============================] - 1s 23us/sample - loss: 0.9258 - accuracy: 0.7402 - val_loss: 0.9149 - val_accuracy: 0.7392\n",
            "Epoch 14/15\n",
            "60000/60000 [==============================] - 1s 22us/sample - loss: 0.8883 - accuracy: 0.7450 - val_loss: 0.8807 - val_accuracy: 0.7415\n",
            "Epoch 15/15\n",
            "60000/60000 [==============================] - 1s 22us/sample - loss: 0.8556 - accuracy: 0.7477 - val_loss: 0.8505 - val_accuracy: 0.7441\n"
          ],
          "name": "stdout"
        },
        {
          "output_type": "execute_result",
          "data": {
            "text/plain": [
              "<tensorflow.python.keras.callbacks.History at 0x7f128928d090>"
            ]
          },
          "metadata": {
            "tags": []
          },
          "execution_count": 30
        }
      ]
    },
    {
      "cell_type": "markdown",
      "metadata": {
        "id": "wsL08vkFHXPe",
        "colab_type": "text"
      },
      "source": [
        "### **Inference**:\n",
        "Accuracy increases steadily in model4 when 2 hidden layers and an output layer is specified"
      ]
    },
    {
      "cell_type": "markdown",
      "metadata": {
        "id": "w8lrGpUgHwfe",
        "colab_type": "text"
      },
      "source": [
        "### **Summarizing overall actions**:\n",
        "\n",
        "For all the models, 10 epochs and batch size of 1000 was used.\n",
        "\n",
        "*   Model1 - This is a neural network model with cross entropy loss function and SGD optimizer. Output layer had 10 neurons. This model gave an accuracy of 0.77\n",
        "*   Model2 - This model as same as model 1, except that batch normalization layer was added after the input layer. This model gave an accuracy of 0.82. Accuracy steadily kept increasing here.\n",
        "*   Model3 - Same as model2, but this was built with a learning rate of 0.001 with SGD optimizer. Increase in accuracy is slow here since specified learning rate is small\n",
        "*   Model4 - This neural network model is built with 3 Dense layers with 100, 100, 10 neurons respectively in each layer. Cross entropy loss function was used. Sigmoid was the activation in the hidden layers and softmax was used in the output layer. SGD optimizer was used with a learning rate of 0.03. This model gave an accuracy of 0.74\n",
        "\n",
        "\n",
        "\n"
      ]
    }
  ]
}