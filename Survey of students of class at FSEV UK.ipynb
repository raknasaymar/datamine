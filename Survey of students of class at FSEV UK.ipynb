{
 "cells": [
  {
   "cell_type": "markdown",
   "metadata": {},
   "source": [
    "## <center> Survey of students of class at FSEV UK </center>"
   ]
  },
  {
   "cell_type": "markdown",
   "metadata": {},
   "source": [
    "**The Agenda is to find whether Spending Habits and Healthy Lifestyle is related to Gender and Place or not.**\n",
    "\n",
    "**Steps:**\n",
    "\n",
    "1. Load the data and extract the relevant columns.\n",
    "2. Hint – Relevant Columns will be Finances, Gender, Village-Town and Healthy Eating.\n",
    "\n",
    "3. Explore the data and understand how the data is distributed? Is there any outlier or missing value? And Share your insights.\n",
    "4. Create Hypothesis on the following questions – <br>\n",
    "    (a) Is saving money (finances) gender dependant? <br>\n",
    "    (b) Is there any differences in money saving (finances) between people from city or village? <br>\n",
    "    (c) Do Women have a Healthier Lifestyle than Men? <br>\n",
    "    (d) Are Village People Healthier than City People?\n",
    "    \n",
    "Perform the required statistical tests to validate/reject the Hypothesis in above step.\n",
    "State your insights and conclusions.\n"
   ]
  },
  {
   "cell_type": "code",
   "execution_count": 1,
   "metadata": {},
   "outputs": [],
   "source": [
    "import numpy as np\n",
    "import pandas as pd\n",
    "\n",
    "import matplotlib.pyplot as plt\n",
    "import seaborn as sns\n",
    "\n",
    "from scipy import stats\n",
    "from scipy.stats import levene"
   ]
  },
  {
   "cell_type": "markdown",
   "metadata": {},
   "source": [
    "#### Read the data:"
   ]
  },
  {
   "cell_type": "code",
   "execution_count": 2,
   "metadata": {},
   "outputs": [],
   "source": [
    "responses_df = pd.read_csv('responses.csv',na_values=' ')"
   ]
  },
  {
   "cell_type": "markdown",
   "metadata": {},
   "source": [
    "#### View the dataset head:"
   ]
  },
  {
   "cell_type": "code",
   "execution_count": 3,
   "metadata": {},
   "outputs": [
    {
     "data": {
      "text/html": [
       "<div>\n",
       "<style scoped>\n",
       "    .dataframe tbody tr th:only-of-type {\n",
       "        vertical-align: middle;\n",
       "    }\n",
       "\n",
       "    .dataframe tbody tr th {\n",
       "        vertical-align: top;\n",
       "    }\n",
       "\n",
       "    .dataframe thead th {\n",
       "        text-align: right;\n",
       "    }\n",
       "</style>\n",
       "<table border=\"1\" class=\"dataframe\">\n",
       "  <thead>\n",
       "    <tr style=\"text-align: right;\">\n",
       "      <th></th>\n",
       "      <th>Music</th>\n",
       "      <th>Slow songs or fast songs</th>\n",
       "      <th>Dance</th>\n",
       "      <th>Folk</th>\n",
       "      <th>Country</th>\n",
       "      <th>Classical music</th>\n",
       "      <th>Musical</th>\n",
       "      <th>Pop</th>\n",
       "      <th>Rock</th>\n",
       "      <th>Metal or Hardrock</th>\n",
       "      <th>...</th>\n",
       "      <th>Age</th>\n",
       "      <th>Height</th>\n",
       "      <th>Weight</th>\n",
       "      <th>Number of siblings</th>\n",
       "      <th>Gender</th>\n",
       "      <th>Left - right handed</th>\n",
       "      <th>Education</th>\n",
       "      <th>Only child</th>\n",
       "      <th>Village - town</th>\n",
       "      <th>House - block of flats</th>\n",
       "    </tr>\n",
       "  </thead>\n",
       "  <tbody>\n",
       "    <tr>\n",
       "      <th>0</th>\n",
       "      <td>5.0</td>\n",
       "      <td>3.0</td>\n",
       "      <td>2.0</td>\n",
       "      <td>1.0</td>\n",
       "      <td>2.0</td>\n",
       "      <td>2.0</td>\n",
       "      <td>1.0</td>\n",
       "      <td>5.0</td>\n",
       "      <td>5.0</td>\n",
       "      <td>1.0</td>\n",
       "      <td>...</td>\n",
       "      <td>20.0</td>\n",
       "      <td>163.0</td>\n",
       "      <td>48.0</td>\n",
       "      <td>1.0</td>\n",
       "      <td>female</td>\n",
       "      <td>right handed</td>\n",
       "      <td>college/bachelor degree</td>\n",
       "      <td>no</td>\n",
       "      <td>village</td>\n",
       "      <td>block of flats</td>\n",
       "    </tr>\n",
       "    <tr>\n",
       "      <th>1</th>\n",
       "      <td>4.0</td>\n",
       "      <td>4.0</td>\n",
       "      <td>2.0</td>\n",
       "      <td>1.0</td>\n",
       "      <td>1.0</td>\n",
       "      <td>1.0</td>\n",
       "      <td>2.0</td>\n",
       "      <td>3.0</td>\n",
       "      <td>5.0</td>\n",
       "      <td>4.0</td>\n",
       "      <td>...</td>\n",
       "      <td>19.0</td>\n",
       "      <td>163.0</td>\n",
       "      <td>58.0</td>\n",
       "      <td>2.0</td>\n",
       "      <td>female</td>\n",
       "      <td>right handed</td>\n",
       "      <td>college/bachelor degree</td>\n",
       "      <td>no</td>\n",
       "      <td>city</td>\n",
       "      <td>block of flats</td>\n",
       "    </tr>\n",
       "    <tr>\n",
       "      <th>2</th>\n",
       "      <td>5.0</td>\n",
       "      <td>5.0</td>\n",
       "      <td>2.0</td>\n",
       "      <td>2.0</td>\n",
       "      <td>3.0</td>\n",
       "      <td>4.0</td>\n",
       "      <td>5.0</td>\n",
       "      <td>3.0</td>\n",
       "      <td>5.0</td>\n",
       "      <td>3.0</td>\n",
       "      <td>...</td>\n",
       "      <td>20.0</td>\n",
       "      <td>176.0</td>\n",
       "      <td>67.0</td>\n",
       "      <td>2.0</td>\n",
       "      <td>female</td>\n",
       "      <td>right handed</td>\n",
       "      <td>secondary school</td>\n",
       "      <td>no</td>\n",
       "      <td>city</td>\n",
       "      <td>block of flats</td>\n",
       "    </tr>\n",
       "    <tr>\n",
       "      <th>3</th>\n",
       "      <td>5.0</td>\n",
       "      <td>3.0</td>\n",
       "      <td>2.0</td>\n",
       "      <td>1.0</td>\n",
       "      <td>1.0</td>\n",
       "      <td>1.0</td>\n",
       "      <td>1.0</td>\n",
       "      <td>2.0</td>\n",
       "      <td>2.0</td>\n",
       "      <td>1.0</td>\n",
       "      <td>...</td>\n",
       "      <td>22.0</td>\n",
       "      <td>172.0</td>\n",
       "      <td>59.0</td>\n",
       "      <td>1.0</td>\n",
       "      <td>female</td>\n",
       "      <td>right handed</td>\n",
       "      <td>college/bachelor degree</td>\n",
       "      <td>yes</td>\n",
       "      <td>city</td>\n",
       "      <td>house/bungalow</td>\n",
       "    </tr>\n",
       "    <tr>\n",
       "      <th>4</th>\n",
       "      <td>5.0</td>\n",
       "      <td>3.0</td>\n",
       "      <td>4.0</td>\n",
       "      <td>3.0</td>\n",
       "      <td>2.0</td>\n",
       "      <td>4.0</td>\n",
       "      <td>3.0</td>\n",
       "      <td>5.0</td>\n",
       "      <td>3.0</td>\n",
       "      <td>1.0</td>\n",
       "      <td>...</td>\n",
       "      <td>20.0</td>\n",
       "      <td>170.0</td>\n",
       "      <td>59.0</td>\n",
       "      <td>1.0</td>\n",
       "      <td>female</td>\n",
       "      <td>right handed</td>\n",
       "      <td>secondary school</td>\n",
       "      <td>no</td>\n",
       "      <td>village</td>\n",
       "      <td>house/bungalow</td>\n",
       "    </tr>\n",
       "  </tbody>\n",
       "</table>\n",
       "<p>5 rows × 150 columns</p>\n",
       "</div>"
      ],
      "text/plain": [
       "   Music  Slow songs or fast songs  Dance  Folk  Country  Classical music  \\\n",
       "0    5.0                       3.0    2.0   1.0      2.0              2.0   \n",
       "1    4.0                       4.0    2.0   1.0      1.0              1.0   \n",
       "2    5.0                       5.0    2.0   2.0      3.0              4.0   \n",
       "3    5.0                       3.0    2.0   1.0      1.0              1.0   \n",
       "4    5.0                       3.0    4.0   3.0      2.0              4.0   \n",
       "\n",
       "   Musical  Pop  Rock  Metal or Hardrock  ...   Age  Height  Weight  \\\n",
       "0      1.0  5.0   5.0                1.0  ...  20.0   163.0    48.0   \n",
       "1      2.0  3.0   5.0                4.0  ...  19.0   163.0    58.0   \n",
       "2      5.0  3.0   5.0                3.0  ...  20.0   176.0    67.0   \n",
       "3      1.0  2.0   2.0                1.0  ...  22.0   172.0    59.0   \n",
       "4      3.0  5.0   3.0                1.0  ...  20.0   170.0    59.0   \n",
       "\n",
       "   Number of siblings  Gender  Left - right handed                Education  \\\n",
       "0                 1.0  female         right handed  college/bachelor degree   \n",
       "1                 2.0  female         right handed  college/bachelor degree   \n",
       "2                 2.0  female         right handed         secondary school   \n",
       "3                 1.0  female         right handed  college/bachelor degree   \n",
       "4                 1.0  female         right handed         secondary school   \n",
       "\n",
       "   Only child  Village - town  House - block of flats  \n",
       "0          no         village          block of flats  \n",
       "1          no            city          block of flats  \n",
       "2          no            city          block of flats  \n",
       "3         yes            city          house/bungalow  \n",
       "4          no         village          house/bungalow  \n",
       "\n",
       "[5 rows x 150 columns]"
      ]
     },
     "execution_count": 3,
     "metadata": {},
     "output_type": "execute_result"
    }
   ],
   "source": [
    "responses_df.head()"
   ]
  },
  {
   "cell_type": "markdown",
   "metadata": {},
   "source": [
    "#### View the dataset tail"
   ]
  },
  {
   "cell_type": "code",
   "execution_count": 4,
   "metadata": {},
   "outputs": [
    {
     "data": {
      "text/html": [
       "<div>\n",
       "<style scoped>\n",
       "    .dataframe tbody tr th:only-of-type {\n",
       "        vertical-align: middle;\n",
       "    }\n",
       "\n",
       "    .dataframe tbody tr th {\n",
       "        vertical-align: top;\n",
       "    }\n",
       "\n",
       "    .dataframe thead th {\n",
       "        text-align: right;\n",
       "    }\n",
       "</style>\n",
       "<table border=\"1\" class=\"dataframe\">\n",
       "  <thead>\n",
       "    <tr style=\"text-align: right;\">\n",
       "      <th></th>\n",
       "      <th>Music</th>\n",
       "      <th>Slow songs or fast songs</th>\n",
       "      <th>Dance</th>\n",
       "      <th>Folk</th>\n",
       "      <th>Country</th>\n",
       "      <th>Classical music</th>\n",
       "      <th>Musical</th>\n",
       "      <th>Pop</th>\n",
       "      <th>Rock</th>\n",
       "      <th>Metal or Hardrock</th>\n",
       "      <th>...</th>\n",
       "      <th>Age</th>\n",
       "      <th>Height</th>\n",
       "      <th>Weight</th>\n",
       "      <th>Number of siblings</th>\n",
       "      <th>Gender</th>\n",
       "      <th>Left - right handed</th>\n",
       "      <th>Education</th>\n",
       "      <th>Only child</th>\n",
       "      <th>Village - town</th>\n",
       "      <th>House - block of flats</th>\n",
       "    </tr>\n",
       "  </thead>\n",
       "  <tbody>\n",
       "    <tr>\n",
       "      <th>1005</th>\n",
       "      <td>5.0</td>\n",
       "      <td>2.0</td>\n",
       "      <td>5.0</td>\n",
       "      <td>2.0</td>\n",
       "      <td>2.0</td>\n",
       "      <td>5.0</td>\n",
       "      <td>4.0</td>\n",
       "      <td>4.0</td>\n",
       "      <td>4.0</td>\n",
       "      <td>3.0</td>\n",
       "      <td>...</td>\n",
       "      <td>20.0</td>\n",
       "      <td>164.0</td>\n",
       "      <td>57.0</td>\n",
       "      <td>1.0</td>\n",
       "      <td>female</td>\n",
       "      <td>right handed</td>\n",
       "      <td>secondary school</td>\n",
       "      <td>no</td>\n",
       "      <td>city</td>\n",
       "      <td>house/bungalow</td>\n",
       "    </tr>\n",
       "    <tr>\n",
       "      <th>1006</th>\n",
       "      <td>4.0</td>\n",
       "      <td>4.0</td>\n",
       "      <td>5.0</td>\n",
       "      <td>1.0</td>\n",
       "      <td>3.0</td>\n",
       "      <td>4.0</td>\n",
       "      <td>1.0</td>\n",
       "      <td>4.0</td>\n",
       "      <td>1.0</td>\n",
       "      <td>1.0</td>\n",
       "      <td>...</td>\n",
       "      <td>27.0</td>\n",
       "      <td>183.0</td>\n",
       "      <td>80.0</td>\n",
       "      <td>5.0</td>\n",
       "      <td>male</td>\n",
       "      <td>left handed</td>\n",
       "      <td>masters degree</td>\n",
       "      <td>no</td>\n",
       "      <td>village</td>\n",
       "      <td>house/bungalow</td>\n",
       "    </tr>\n",
       "    <tr>\n",
       "      <th>1007</th>\n",
       "      <td>4.0</td>\n",
       "      <td>3.0</td>\n",
       "      <td>1.0</td>\n",
       "      <td>1.0</td>\n",
       "      <td>2.0</td>\n",
       "      <td>2.0</td>\n",
       "      <td>2.0</td>\n",
       "      <td>3.0</td>\n",
       "      <td>4.0</td>\n",
       "      <td>1.0</td>\n",
       "      <td>...</td>\n",
       "      <td>18.0</td>\n",
       "      <td>173.0</td>\n",
       "      <td>75.0</td>\n",
       "      <td>0.0</td>\n",
       "      <td>female</td>\n",
       "      <td>right handed</td>\n",
       "      <td>secondary school</td>\n",
       "      <td>yes</td>\n",
       "      <td>city</td>\n",
       "      <td>block of flats</td>\n",
       "    </tr>\n",
       "    <tr>\n",
       "      <th>1008</th>\n",
       "      <td>5.0</td>\n",
       "      <td>3.0</td>\n",
       "      <td>3.0</td>\n",
       "      <td>3.0</td>\n",
       "      <td>1.0</td>\n",
       "      <td>3.0</td>\n",
       "      <td>1.0</td>\n",
       "      <td>3.0</td>\n",
       "      <td>4.0</td>\n",
       "      <td>1.0</td>\n",
       "      <td>...</td>\n",
       "      <td>25.0</td>\n",
       "      <td>173.0</td>\n",
       "      <td>58.0</td>\n",
       "      <td>1.0</td>\n",
       "      <td>female</td>\n",
       "      <td>right handed</td>\n",
       "      <td>college/bachelor degree</td>\n",
       "      <td>no</td>\n",
       "      <td>city</td>\n",
       "      <td>block of flats</td>\n",
       "    </tr>\n",
       "    <tr>\n",
       "      <th>1009</th>\n",
       "      <td>5.0</td>\n",
       "      <td>5.0</td>\n",
       "      <td>4.0</td>\n",
       "      <td>3.0</td>\n",
       "      <td>2.0</td>\n",
       "      <td>3.0</td>\n",
       "      <td>3.0</td>\n",
       "      <td>4.0</td>\n",
       "      <td>1.0</td>\n",
       "      <td>1.0</td>\n",
       "      <td>...</td>\n",
       "      <td>21.0</td>\n",
       "      <td>185.0</td>\n",
       "      <td>72.0</td>\n",
       "      <td>1.0</td>\n",
       "      <td>male</td>\n",
       "      <td>right handed</td>\n",
       "      <td>secondary school</td>\n",
       "      <td>no</td>\n",
       "      <td>village</td>\n",
       "      <td>house/bungalow</td>\n",
       "    </tr>\n",
       "  </tbody>\n",
       "</table>\n",
       "<p>5 rows × 150 columns</p>\n",
       "</div>"
      ],
      "text/plain": [
       "      Music  Slow songs or fast songs  Dance  Folk  Country  Classical music  \\\n",
       "1005    5.0                       2.0    5.0   2.0      2.0              5.0   \n",
       "1006    4.0                       4.0    5.0   1.0      3.0              4.0   \n",
       "1007    4.0                       3.0    1.0   1.0      2.0              2.0   \n",
       "1008    5.0                       3.0    3.0   3.0      1.0              3.0   \n",
       "1009    5.0                       5.0    4.0   3.0      2.0              3.0   \n",
       "\n",
       "      Musical  Pop  Rock  Metal or Hardrock  ...   Age  Height  Weight  \\\n",
       "1005      4.0  4.0   4.0                3.0  ...  20.0   164.0    57.0   \n",
       "1006      1.0  4.0   1.0                1.0  ...  27.0   183.0    80.0   \n",
       "1007      2.0  3.0   4.0                1.0  ...  18.0   173.0    75.0   \n",
       "1008      1.0  3.0   4.0                1.0  ...  25.0   173.0    58.0   \n",
       "1009      3.0  4.0   1.0                1.0  ...  21.0   185.0    72.0   \n",
       "\n",
       "      Number of siblings  Gender  Left - right handed  \\\n",
       "1005                 1.0  female         right handed   \n",
       "1006                 5.0    male          left handed   \n",
       "1007                 0.0  female         right handed   \n",
       "1008                 1.0  female         right handed   \n",
       "1009                 1.0    male         right handed   \n",
       "\n",
       "                    Education  Only child  Village - town  \\\n",
       "1005         secondary school          no            city   \n",
       "1006           masters degree          no         village   \n",
       "1007         secondary school         yes            city   \n",
       "1008  college/bachelor degree          no            city   \n",
       "1009         secondary school          no         village   \n",
       "\n",
       "      House - block of flats  \n",
       "1005          house/bungalow  \n",
       "1006          house/bungalow  \n",
       "1007          block of flats  \n",
       "1008          block of flats  \n",
       "1009          house/bungalow  \n",
       "\n",
       "[5 rows x 150 columns]"
      ]
     },
     "execution_count": 4,
     "metadata": {},
     "output_type": "execute_result"
    }
   ],
   "source": [
    "responses_df.tail()"
   ]
  },
  {
   "cell_type": "markdown",
   "metadata": {},
   "source": [
    "#### Check the shape of dataset"
   ]
  },
  {
   "cell_type": "code",
   "execution_count": 5,
   "metadata": {},
   "outputs": [
    {
     "data": {
      "text/plain": [
       "(1010, 150)"
      ]
     },
     "execution_count": 5,
     "metadata": {},
     "output_type": "execute_result"
    }
   ],
   "source": [
    "responses_df.shape"
   ]
  },
  {
   "cell_type": "markdown",
   "metadata": {},
   "source": [
    "#### Extracting relevant columns - Finances, Gender, Village-Town and Healthy Eating:"
   ]
  },
  {
   "cell_type": "code",
   "execution_count": 6,
   "metadata": {},
   "outputs": [],
   "source": [
    "responses_t_df = responses_df[['Finances', 'Gender', 'Village - town', 'Healthy eating']]"
   ]
  },
  {
   "cell_type": "markdown",
   "metadata": {},
   "source": [
    "#### Analyzing the data using describe"
   ]
  },
  {
   "cell_type": "code",
   "execution_count": 7,
   "metadata": {},
   "outputs": [
    {
     "data": {
      "text/html": [
       "<div>\n",
       "<style scoped>\n",
       "    .dataframe tbody tr th:only-of-type {\n",
       "        vertical-align: middle;\n",
       "    }\n",
       "\n",
       "    .dataframe tbody tr th {\n",
       "        vertical-align: top;\n",
       "    }\n",
       "\n",
       "    .dataframe thead th {\n",
       "        text-align: right;\n",
       "    }\n",
       "</style>\n",
       "<table border=\"1\" class=\"dataframe\">\n",
       "  <thead>\n",
       "    <tr style=\"text-align: right;\">\n",
       "      <th></th>\n",
       "      <th>Finances</th>\n",
       "      <th>Gender</th>\n",
       "      <th>Village - town</th>\n",
       "      <th>Healthy eating</th>\n",
       "    </tr>\n",
       "  </thead>\n",
       "  <tbody>\n",
       "    <tr>\n",
       "      <th>count</th>\n",
       "      <td>1007.000000</td>\n",
       "      <td>1004</td>\n",
       "      <td>1006</td>\n",
       "      <td>1007.000000</td>\n",
       "    </tr>\n",
       "    <tr>\n",
       "      <th>unique</th>\n",
       "      <td>NaN</td>\n",
       "      <td>2</td>\n",
       "      <td>2</td>\n",
       "      <td>NaN</td>\n",
       "    </tr>\n",
       "    <tr>\n",
       "      <th>top</th>\n",
       "      <td>NaN</td>\n",
       "      <td>female</td>\n",
       "      <td>city</td>\n",
       "      <td>NaN</td>\n",
       "    </tr>\n",
       "    <tr>\n",
       "      <th>freq</th>\n",
       "      <td>NaN</td>\n",
       "      <td>593</td>\n",
       "      <td>707</td>\n",
       "      <td>NaN</td>\n",
       "    </tr>\n",
       "    <tr>\n",
       "      <th>mean</th>\n",
       "      <td>3.023833</td>\n",
       "      <td>NaN</td>\n",
       "      <td>NaN</td>\n",
       "      <td>3.031778</td>\n",
       "    </tr>\n",
       "    <tr>\n",
       "      <th>std</th>\n",
       "      <td>1.144365</td>\n",
       "      <td>NaN</td>\n",
       "      <td>NaN</td>\n",
       "      <td>0.936865</td>\n",
       "    </tr>\n",
       "    <tr>\n",
       "      <th>min</th>\n",
       "      <td>1.000000</td>\n",
       "      <td>NaN</td>\n",
       "      <td>NaN</td>\n",
       "      <td>1.000000</td>\n",
       "    </tr>\n",
       "    <tr>\n",
       "      <th>25%</th>\n",
       "      <td>2.000000</td>\n",
       "      <td>NaN</td>\n",
       "      <td>NaN</td>\n",
       "      <td>3.000000</td>\n",
       "    </tr>\n",
       "    <tr>\n",
       "      <th>50%</th>\n",
       "      <td>3.000000</td>\n",
       "      <td>NaN</td>\n",
       "      <td>NaN</td>\n",
       "      <td>3.000000</td>\n",
       "    </tr>\n",
       "    <tr>\n",
       "      <th>75%</th>\n",
       "      <td>4.000000</td>\n",
       "      <td>NaN</td>\n",
       "      <td>NaN</td>\n",
       "      <td>4.000000</td>\n",
       "    </tr>\n",
       "    <tr>\n",
       "      <th>max</th>\n",
       "      <td>5.000000</td>\n",
       "      <td>NaN</td>\n",
       "      <td>NaN</td>\n",
       "      <td>5.000000</td>\n",
       "    </tr>\n",
       "  </tbody>\n",
       "</table>\n",
       "</div>"
      ],
      "text/plain": [
       "           Finances  Gender Village - town  Healthy eating\n",
       "count   1007.000000    1004           1006     1007.000000\n",
       "unique          NaN       2              2             NaN\n",
       "top             NaN  female           city             NaN\n",
       "freq            NaN     593            707             NaN\n",
       "mean       3.023833     NaN            NaN        3.031778\n",
       "std        1.144365     NaN            NaN        0.936865\n",
       "min        1.000000     NaN            NaN        1.000000\n",
       "25%        2.000000     NaN            NaN        3.000000\n",
       "50%        3.000000     NaN            NaN        3.000000\n",
       "75%        4.000000     NaN            NaN        4.000000\n",
       "max        5.000000     NaN            NaN        5.000000"
      ]
     },
     "execution_count": 7,
     "metadata": {},
     "output_type": "execute_result"
    }
   ],
   "source": [
    "responses_t_df.describe(include='all')"
   ]
  },
  {
   "cell_type": "markdown",
   "metadata": {},
   "source": [
    "#### Check if there are values in \"Finances\" & \"Healthy eating\" that do not lie in the 0 - 5 valid range:"
   ]
  },
  {
   "cell_type": "code",
   "execution_count": 8,
   "metadata": {},
   "outputs": [
    {
     "data": {
      "text/plain": [
       "Finances          1010\n",
       "Gender            1010\n",
       "Village - town    1010\n",
       "Healthy eating    1010\n",
       "dtype: int64"
      ]
     },
     "execution_count": 8,
     "metadata": {},
     "output_type": "execute_result"
    }
   ],
   "source": [
    "responses_t_df[(responses_t_df.iloc[:,[0,3]] < 0.0) | (responses_t_df.iloc[:,[0,3]] > 5.0)].isna().sum()"
   ]
  },
  {
   "cell_type": "markdown",
   "metadata": {},
   "source": [
    "Since NaN row count is same as input dataset row count, all the values are within the 0 - 5 range. So we are good to proceed"
   ]
  },
  {
   "cell_type": "markdown",
   "metadata": {},
   "source": [
    "#### Check for missing values:"
   ]
  },
  {
   "cell_type": "code",
   "execution_count": 9,
   "metadata": {},
   "outputs": [
    {
     "data": {
      "text/plain": [
       "Finances          3\n",
       "Gender            6\n",
       "Village - town    4\n",
       "Healthy eating    3\n",
       "dtype: int64"
      ]
     },
     "execution_count": 9,
     "metadata": {},
     "output_type": "execute_result"
    }
   ],
   "source": [
    "responses_t_df.isna().sum()"
   ]
  },
  {
   "cell_type": "markdown",
   "metadata": {},
   "source": [
    "Missing values are present and it needs to be handled"
   ]
  },
  {
   "cell_type": "markdown",
   "metadata": {},
   "source": [
    "#### Fill in missing values with the mode of the corresponding columns:"
   ]
  },
  {
   "cell_type": "markdown",
   "metadata": {},
   "source": [
    "I will be filling the missing values with mode. Since \"Finances\" & \"Healthy eating\" are discrete numeric data as they are the results of a survey, and the columns \"Gender\" & \"Village - town\" are categorical in nature, filling missing values with median or mean didn't sound appropriate."
   ]
  },
  {
   "cell_type": "code",
   "execution_count": 10,
   "metadata": {},
   "outputs": [],
   "source": [
    "mode = responses_t_df.filter(['Finances', 'Gender', 'Village - town', 'Healthy eating']).mode()\n",
    "responses_t_df = responses_t_df[['Finances', 'Gender', 'Village - town', 'Healthy eating']].fillna(value=mode.iloc[0])"
   ]
  },
  {
   "cell_type": "markdown",
   "metadata": {},
   "source": [
    "#### Check for missing values again:"
   ]
  },
  {
   "cell_type": "code",
   "execution_count": 11,
   "metadata": {},
   "outputs": [
    {
     "data": {
      "text/plain": [
       "Finances          0\n",
       "Gender            0\n",
       "Village - town    0\n",
       "Healthy eating    0\n",
       "dtype: int64"
      ]
     },
     "execution_count": 11,
     "metadata": {},
     "output_type": "execute_result"
    }
   ],
   "source": [
    "responses_t_df.isna().sum()"
   ]
  },
  {
   "cell_type": "markdown",
   "metadata": {},
   "source": [
    "Missing values are handled and we are good to proceed"
   ]
  },
  {
   "cell_type": "markdown",
   "metadata": {},
   "source": [
    "#### Finding if outliers are present in data:"
   ]
  },
  {
   "cell_type": "markdown",
   "metadata": {},
   "source": [
    "#### <font color=Teal>(i) Boxplot Method </font>"
   ]
  },
  {
   "cell_type": "code",
   "execution_count": 12,
   "metadata": {
    "scrolled": false
   },
   "outputs": [
    {
     "data": {
      "text/plain": [
       "<matplotlib.axes._subplots.AxesSubplot at 0x2bb70b91f28>"
      ]
     },
     "execution_count": 12,
     "metadata": {},
     "output_type": "execute_result"
    },
    {
     "data": {
      "image/png": "[encoded data removed]",
      "text/plain": [
       "<Figure size 432x288 with 1 Axes>"
      ]
     },
     "metadata": {
      "needs_background": "light"
     },
     "output_type": "display_data"
    }
   ],
   "source": [
    "sns.boxplot(data=responses_t_df)"
   ]
  },
  {
   "cell_type": "markdown",
   "metadata": {},
   "source": [
    "Box-plot shows that Low-Outliers are present in 'Healthy eating' column data. Let's verify the data using IQR check:"
   ]
  },
  {
   "cell_type": "markdown",
   "metadata": {},
   "source": [
    "#### <font color=Teal>(ii) IQR check </font>"
   ]
  },
  {
   "cell_type": "code",
   "execution_count": 13,
   "metadata": {},
   "outputs": [
    {
     "name": "stdout",
     "output_type": "stream",
     "text": [
      "\n",
      "\u001b[1mFinding outliers in Finances : \u001b[0m\n",
      "\n",
      "Lower bound of data:  -1.0\n",
      "Upper bound of data:  7.0\n",
      "\n",
      "Count of Lower Outliers if any:  0\n",
      "Count of Upper Outliers if any:  0\n",
      "\n",
      "\u001b[1mFinding outliers in Healthy eating : \u001b[0m\n",
      "\n",
      "Lower bound of data:  1.5\n",
      "Upper bound of data:  5.5\n",
      "\n",
      "Count of Lower Outliers if any:  81\n",
      "Count of Upper Outliers if any:  0\n"
     ]
    }
   ],
   "source": [
    "def find_outliers(data,column):\n",
    "# Find the 25th and 75th percentiles:\n",
    "    q1, q3 = np.percentile(data,[25,75])\n",
    "# Find Inter-Quartile Range (IQR):\n",
    "    iqr = q3 - q1\n",
    "# Find lower bound value:\n",
    "    lower_bound = q1 - (1.5 * iqr)\n",
    "    upper_bound = q3 + (1.5 * iqr)\n",
    "    \n",
    "    print('\\n\\033[1mFinding outliers in', column, ': \\033[0m')\n",
    "    print('\\nLower bound of data: ', lower_bound)\n",
    "    print('Upper bound of data: ', upper_bound)\n",
    "    \n",
    "    lower_outlier_count = 0\n",
    "    upper_outlier_count = 0\n",
    "    \n",
    "    for i in data:\n",
    "        if i < lower_bound:\n",
    "            lower_outlier_count += 1\n",
    "        elif i > upper_bound:\n",
    "            upper_outlier_count += 1\n",
    "    \n",
    "    print('\\nCount of Lower Outliers if any: ',lower_outlier_count)\n",
    "    print('Count of Upper Outliers if any: ',upper_outlier_count)\n",
    "\n",
    "\n",
    "# Call find_outliers function for \"Finances\" & \"Healthy eating\" columns:\n",
    "find_outliers(responses_t_df[\"Finances\"], \"Finances\")\n",
    "find_outliers(responses_t_df[\"Healthy eating\"], \"Healthy eating\")"
   ]
  },
  {
   "cell_type": "markdown",
   "metadata": {},
   "source": [
    "IQR also shows presence of outliers in \"Healthy eating\". Let's review the data in \"Healthy eating\""
   ]
  },
  {
   "cell_type": "code",
   "execution_count": 14,
   "metadata": {},
   "outputs": [
    {
     "data": {
      "text/plain": [
       "3.0    507\n",
       "4.0    239\n",
       "2.0    137\n",
       "1.0     81\n",
       "5.0     46\n",
       "Name: Healthy eating, dtype: int64"
      ]
     },
     "execution_count": 14,
     "metadata": {},
     "output_type": "execute_result"
    }
   ],
   "source": [
    "responses_t_df[\"Healthy eating\"].value_counts()"
   ]
  },
  {
   "cell_type": "markdown",
   "metadata": {},
   "source": [
    "#### <font color=Teal> Inference: </font>\n",
    "    \n",
    "    Count of lower outliers is 81, which is the count of survey result \"1\". Since 1 is less than our lower bound value of   1.5, our IQR check has projected 1 as an outlier, whereas ideally it is not.\n",
    "    \n",
    "    So I will not be considering this as an outlier, as 1 is a valid survey result."
   ]
  },
  {
   "cell_type": "markdown",
   "metadata": {},
   "source": [
    "## Hypothesis testing:"
   ]
  },
  {
   "cell_type": "markdown",
   "metadata": {},
   "source": [
    "### <font color=blue>1. Is saving money (finances) gender dependent? </font>"
   ]
  },
  {
   "cell_type": "markdown",
   "metadata": {},
   "source": [
    "#### <font color=Teal> Step 1: Define null and alternative hypothesis </font>\n",
    "\n",
    "In testing whether saving money is gender dependent, **the null hypothesis states that** there is no association between saving money and gender. **The alternative hypothesis states that** there is association between saving money and gender."
   ]
  },
  {
   "cell_type": "markdown",
   "metadata": {},
   "source": [
    "#### <font color=Teal> Step 2: Decide the significance level </font>\n",
    "\n",
    "Here we select $\\alpha$ = 0.05 "
   ]
  },
  {
   "cell_type": "markdown",
   "metadata": {},
   "source": [
    "#### <font color=Teal> Step 3: Calculate the p - value </font>\n",
    "\n",
    "Using chi square test to test if saving money is gender dependent."
   ]
  },
  {
   "cell_type": "markdown",
   "metadata": {},
   "source": [
    "#### Create Contingency table for Chi square test:"
   ]
  },
  {
   "cell_type": "code",
   "execution_count": 15,
   "metadata": {
    "scrolled": true
   },
   "outputs": [
    {
     "name": "stdout",
     "output_type": "stream",
     "text": [
      "\u001b[1mContingency_table :-\u001b[0m\n",
      " Finances  1.0  2.0  3.0  4.0  5.0\n",
      "Gender                           \n",
      "female     65   98  223  150   63\n",
      "male       60   76  138  102   35\n"
     ]
    }
   ],
   "source": [
    "cross_tab=pd.crosstab(responses_t_df[\"Gender\"],responses_t_df[\"Finances\"])\n",
    "print('\\033[1mContingency_table :-\\033[0m\\n',cross_tab)"
   ]
  },
  {
   "cell_type": "markdown",
   "metadata": {},
   "source": [
    "#### Perform Chi Square test"
   ]
  },
  {
   "cell_type": "code",
   "execution_count": 16,
   "metadata": {},
   "outputs": [
    {
     "name": "stdout",
     "output_type": "stream",
     "text": [
      "\u001b[1mChi-square statistic:\u001b[0m 5.32889 \n",
      "\n",
      "\u001b[1mChi-square p value:\u001b[0m 0.255185 \n",
      "\n",
      "\u001b[1mDegrees of freedom:\u001b[0m 4\n",
      "\n",
      "\u001b[1mExpected values: \n",
      "\u001b[0m [[ 74.13366337 103.19405941 214.0980198  149.45346535  58.12079208]\n",
      " [ 50.86633663  70.80594059 146.9019802  102.54653465  39.87920792]]\n"
     ]
    }
   ],
   "source": [
    "# Chi square test:\n",
    "\n",
    "chi_sq_Stat, chi_p_value, deg_freedom, expected_values = stats.chi2_contingency(cross_tab)\n",
    "\n",
    "print('\\033[1mChi-square statistic:\\033[0m %3.5f \\n\\n\\033[1mChi-square p value:\\033[0m %1.6f \\n\\n'\n",
    "      '\\033[1mDegrees of freedom:\\033[0m %d' \n",
    "      %(chi_sq_Stat, chi_p_value, deg_freedom))\n",
    "print('\\n\\033[1mExpected values: \\n\\033[0m', expected_values)"
   ]
  },
  {
   "cell_type": "markdown",
   "metadata": {},
   "source": [
    "####  <font color=Teal> Step 4:  Decide to reject or accept null hypothesis </font>\n",
    "\n",
    "Here, p value is 0.255185 and it is more than 5% level of significance\n",
    "\n",
    "So the statistical decision is to accept the null hypothesis at 5% level of significance.\n",
    "\n",
    "##### So there is no sufficient evidence to reject the null hypothesis and we accept that there is no significant association between saving money and gender"
   ]
  },
  {
   "cell_type": "markdown",
   "metadata": {},
   "source": [
    "### <font color=blue> 2. Is there any difference in money saving (finances) between people from city or village? </font>"
   ]
  },
  {
   "cell_type": "markdown",
   "metadata": {},
   "source": [
    "#### <font color=Teal> Step 1: Extract Necessary data: </font>"
   ]
  },
  {
   "cell_type": "code",
   "execution_count": 17,
   "metadata": {},
   "outputs": [],
   "source": [
    "city_finances = responses_t_df[responses_t_df['Village - town'].str.lower() == 'city']['Finances']\n",
    "village_finances = responses_t_df[responses_t_df['Village - town'].str.lower() == 'village']['Finances']"
   ]
  },
  {
   "cell_type": "markdown",
   "metadata": {},
   "source": [
    "#### <font color=Teal> Step 2: Define null and alternative hypothesis </font>\n",
    "\n",
    "In testing whether there is any difference in money saving between people from city or village, **the null hypothesis states that** there is no significant difference in money saving between people from city or village, $\\mu{C}$ equals $\\mu{V}$. **The alternative hypothesis states that** there is significant difference in money saving between people from city or village, $\\mu{C}$ $\\neq$ $\\mu{V}$ \n",
    "\n",
    "* $H_0$: $\\mu{C}$ - $\\mu{V}$ =      0   (No significant difference in money saving between people from city or village)\n",
    "* $H_A$: $\\mu{C}$ - $\\mu{V}$ $\\neq$  0 (There is significant difference in money saving between people from city or village)"
   ]
  },
  {
   "cell_type": "markdown",
   "metadata": {},
   "source": [
    "#### <font color=Teal> Step 3: Decide the significance level </font>\n",
    "\n",
    "Here we select $\\alpha$ = 0.05 "
   ]
  },
  {
   "cell_type": "markdown",
   "metadata": {},
   "source": [
    "#### <font color=Teal> Step 4: Levene's test to test equality of variances </font>"
   ]
  },
  {
   "cell_type": "markdown",
   "metadata": {},
   "source": [
    "#### Significance Level:"
   ]
  },
  {
   "cell_type": "markdown",
   "metadata": {},
   "source": [
    "Here we select $\\alpha$ = 0.05 "
   ]
  },
  {
   "cell_type": "markdown",
   "metadata": {},
   "source": [
    "#### Null & Alternative hypothesis:"
   ]
  },
  {
   "cell_type": "markdown",
   "metadata": {},
   "source": [
    "* Null Hypothesis: All input samples are from populations with equal variances <br>\n",
    "* Alternative hypothesis: All input samples are from populations with different variances"
   ]
  },
  {
   "cell_type": "markdown",
   "metadata": {},
   "source": [
    "#### Perform Levene's test:"
   ]
  },
  {
   "cell_type": "code",
   "execution_count": 18,
   "metadata": {},
   "outputs": [
    {
     "name": "stdout",
     "output_type": "stream",
     "text": [
      "\u001b[1mt statistic for Levene's test:\u001b[0m 4.44526 \n",
      "\n",
      "\u001b[1mp value for Levene's test:\u001b[0m 0.035245\n"
     ]
    }
   ],
   "source": [
    "# Levene's test:\n",
    "\n",
    "lev_statistic, lev_p_value = levene(village_finances, city_finances)\n",
    "print(\"\\033[1mt statistic for Levene's test:\\033[0m %3.5f \\n\\n\\033[1mp value for Levene's test:\\033[0m %1.6f\" \n",
    "      %(lev_statistic, lev_p_value))"
   ]
  },
  {
   "cell_type": "markdown",
   "metadata": {},
   "source": [
    "Here p value is less than 0.05, so we **reject the null hypothesis** and accept that the input samples are from populations with different variances"
   ]
  },
  {
   "cell_type": "markdown",
   "metadata": {},
   "source": [
    "#### <font color=Teal> Step 5: Calculate the p - value and test statistic </font>\n",
    "\n",
    "Using scipy.stats.ttest_ind to calculate the t-test for the means of TWO INDEPENDENT samples of saving money given the two sample observations.\n"
   ]
  },
  {
   "cell_type": "code",
   "execution_count": 19,
   "metadata": {},
   "outputs": [
    {
     "name": "stdout",
     "output_type": "stream",
     "text": [
      "\u001b[1mt statistic for ttest:\u001b[0m 2.57676 \n",
      "\n",
      "\u001b[1mp value for ttest:\u001b[0m 0.010245\n"
     ]
    }
   ],
   "source": [
    "t_statistic, p_value  =  stats.ttest_ind(village_finances, city_finances, equal_var=False, nan_policy='omit')\n",
    "print('\\033[1mt statistic for ttest:\\033[0m %3.5f \\n\\n\\033[1mp value for ttest:\\033[0m %1.6f' %(t_statistic, p_value))"
   ]
  },
  {
   "cell_type": "markdown",
   "metadata": {},
   "source": [
    "#### <font color=Teal> Step 6:  Decide to reject or accept null hypothesis </font>\n",
    "\n",
    "Here, p value is 0.010245 and it is less than 5% level of significance\n",
    "\n",
    "So the statistical decision is to reject the null hypothesis at 5% level of significance.\n",
    "\n",
    "##### So there is sufficient evidence to reject the null hypothesis and we accept that saving money is different for people between city and village"
   ]
  },
  {
   "cell_type": "markdown",
   "metadata": {},
   "source": [
    "### <font color=blue> 3. Do Women have a Healthier Lifestyle than Men? </font>"
   ]
  },
  {
   "cell_type": "markdown",
   "metadata": {},
   "source": [
    "#### <font color=Teal> Step 1: Extract Necessary data: </font>"
   ]
  },
  {
   "cell_type": "code",
   "execution_count": 20,
   "metadata": {},
   "outputs": [],
   "source": [
    "women_health = responses_t_df[responses_t_df['Gender'].str.lower() == 'female']['Healthy eating']\n",
    "men_health = responses_t_df[responses_t_df['Gender'].str.lower() == 'male']['Healthy eating']"
   ]
  },
  {
   "cell_type": "markdown",
   "metadata": {},
   "source": [
    "#### <font color=Teal> Step 2: Define null and alternative hypothesis </font>\n",
    "\n",
    "In testing whether women have a healthier lifestyle than men, **the null hypothesis states that** mean healthier Lifestyle is equal for women and men, $\\mu{W}$ equals $\\mu{M}$. **The alternative hypothesis states that** women have a healthier Lifestyle than men $\\mu{W}$ $\\gt$ $\\mu{M}$\n",
    "\n",
    "* $H_0$: $\\mu{W}$ - $\\mu{M}$ =      0   (No significant difference in healthier lifestyle between women and men)\n",
    "* $H_A$: $\\mu{W}$ - $\\mu{M}$ $\\gt$  0 (Women have healthier lifestyle than men)"
   ]
  },
  {
   "cell_type": "markdown",
   "metadata": {},
   "source": [
    "#### <font color=Teal> Step 3: Decide the significance level </font>\n",
    "\n",
    "Here we select $\\alpha$ = 0.05 "
   ]
  },
  {
   "cell_type": "markdown",
   "metadata": {},
   "source": [
    "#### <font color=Teal> Step 4: Levene's test to test equality of variances </font>"
   ]
  },
  {
   "cell_type": "markdown",
   "metadata": {},
   "source": [
    "#### Significance Level:"
   ]
  },
  {
   "cell_type": "markdown",
   "metadata": {},
   "source": [
    "Here we select $\\alpha$ = 0.05 "
   ]
  },
  {
   "cell_type": "markdown",
   "metadata": {},
   "source": [
    "#### Null & Alternative hypothesis:"
   ]
  },
  {
   "cell_type": "markdown",
   "metadata": {},
   "source": [
    "* Null hypothesis: All input samples are from populations with equal variances <br>\n",
    "* Alternative hypothesis: All input samples are from populations with different variances"
   ]
  },
  {
   "cell_type": "markdown",
   "metadata": {},
   "source": [
    "#### Perform Levene's test:"
   ]
  },
  {
   "cell_type": "code",
   "execution_count": 21,
   "metadata": {},
   "outputs": [
    {
     "name": "stdout",
     "output_type": "stream",
     "text": [
      "\u001b[1mt statistic for Levene's test:\u001b[0m 19.47805 \n",
      "\n",
      "\u001b[1mp value for Levene's test:\u001b[0m 0.000011\n"
     ]
    }
   ],
   "source": [
    "# Levene's test\n",
    "lev_statistic, lev_p_value = levene(women_health, men_health)\n",
    "print(\"\\033[1mt statistic for Levene's test:\\033[0m %3.5f \\n\\n\\033[1mp value for Levene's test:\\033[0m %1.6f\" \n",
    "      %(lev_statistic, lev_p_value))"
   ]
  },
  {
   "cell_type": "markdown",
   "metadata": {},
   "source": [
    "Here p value is less than 0.05, so we **reject the null hypothesis** and accept that the input samples are from populations with different variances"
   ]
  },
  {
   "cell_type": "markdown",
   "metadata": {},
   "source": [
    "#### <font color=Teal> Step 5: Calculate the p - value and test statistic </font>\n",
    "\n",
    "Using scipy.stats.ttest_ind to calculate the t-test for the means of TWO INDEPENDENT samples of healthy eating given the two sample observations."
   ]
  },
  {
   "cell_type": "code",
   "execution_count": 22,
   "metadata": {},
   "outputs": [
    {
     "name": "stdout",
     "output_type": "stream",
     "text": [
      "\u001b[1mt statistic for ttest:\u001b[0m 1.91761 \n",
      "\n",
      "\u001b[1mp value for ttest:\u001b[0m 0.055534\n"
     ]
    }
   ],
   "source": [
    "t_statistic, p_value  =  stats.ttest_ind(women_health, men_health, equal_var=False, nan_policy='omit')\n",
    "print('\\033[1mt statistic for ttest:\\033[0m %3.5f \\n\\n\\033[1mp value for ttest:\\033[0m %1.6f' %(t_statistic, p_value))"
   ]
  },
  {
   "cell_type": "markdown",
   "metadata": {},
   "source": [
    "#### <font color=Teal> Step 6:  Decide to reject or accept null hypothesis </font>\n",
    "\n",
    "Here, p value is 0.055534 and it is greater than 5% level of significance\n",
    "\n",
    "So the statistical decision is to accept the null hypothesis at 5% level of significance.\n",
    "\n",
    "##### So there is no sufficient evidence to reject the null hypothesis and we accept that there is no significant difference in healthier lifestyle between women and men"
   ]
  },
  {
   "cell_type": "markdown",
   "metadata": {},
   "source": [
    "### <font color=blue> 4. Are Village People Healthier than City People? </font>"
   ]
  },
  {
   "cell_type": "markdown",
   "metadata": {},
   "source": [
    "#### <font color=Teal> Step 1: Extract Necessary data: </font>"
   ]
  },
  {
   "cell_type": "code",
   "execution_count": 23,
   "metadata": {},
   "outputs": [],
   "source": [
    "city_health = responses_t_df[responses_t_df['Village - town'].str.lower() == 'city']['Healthy eating']\n",
    "village_health = responses_t_df[responses_t_df['Village - town'].str.lower() == 'village']['Healthy eating']"
   ]
  },
  {
   "cell_type": "markdown",
   "metadata": {},
   "source": [
    "#### <font color=Teal> Step 2: Define null and alternative hypothesis </font>\n",
    "\n",
    "In testing whether village people are healthier than city people, **the null hypothesis states that** mean health is equal for people from village and city, $\\mu{V}$ equals $\\mu{C}$. **The alternative hypothesis states that** village people are healthier than city people, $\\mu{V}$ $\\gt$ $\\mu{C}$\n",
    "\n",
    "* $H_0$: $\\mu{V}$ - $\\mu{C}$ =      0   (No significant difference in health between Village & City people)\n",
    "* $H_A$: $\\mu{V}$ - $\\mu{C}$ $\\gt$  0 (Village people are healthier than City people)"
   ]
  },
  {
   "cell_type": "markdown",
   "metadata": {},
   "source": [
    "#### <font color=Teal> Step 3: Decide the significance level </font>\n",
    "\n",
    "Here we select $\\alpha$ = 0.05 "
   ]
  },
  {
   "cell_type": "markdown",
   "metadata": {},
   "source": [
    "#### <font color=Teal> Step 4: Levene's test to test equality of variances </font>"
   ]
  },
  {
   "cell_type": "markdown",
   "metadata": {},
   "source": [
    "#### Significance Level:"
   ]
  },
  {
   "cell_type": "markdown",
   "metadata": {},
   "source": [
    "Here we select $\\alpha$ = 0.05 "
   ]
  },
  {
   "cell_type": "markdown",
   "metadata": {},
   "source": [
    "#### Null & Alternative hypothesis:"
   ]
  },
  {
   "cell_type": "markdown",
   "metadata": {},
   "source": [
    "* Null hypothesis: All input samples are from populations with equal variances <br>\n",
    "* Alternative hypothesis: All input samples are from populations with different variances"
   ]
  },
  {
   "cell_type": "markdown",
   "metadata": {},
   "source": [
    "#### Perform Levene's test"
   ]
  },
  {
   "cell_type": "code",
   "execution_count": 24,
   "metadata": {},
   "outputs": [
    {
     "name": "stdout",
     "output_type": "stream",
     "text": [
      "\u001b[1mt statistic for Levene's test:\u001b[0m 0.02209 \n",
      "\n",
      "\u001b[1mp value for Levene's test:\u001b[0m 0.881879\n"
     ]
    }
   ],
   "source": [
    "# Levene's test\n",
    "lev_statistic, lev_p_value = levene(village_health, city_health)\n",
    "print(\"\\033[1mt statistic for Levene's test:\\033[0m %3.5f \\n\\n\\033[1mp value for Levene's test:\\033[0m %1.6f\" \n",
    "      %(lev_statistic, lev_p_value))"
   ]
  },
  {
   "cell_type": "markdown",
   "metadata": {},
   "source": [
    "Here p value is greater than 0.05, so we **accept the null hypothesis** that the input samples are from populations with equal variances"
   ]
  },
  {
   "cell_type": "markdown",
   "metadata": {},
   "source": [
    "#### <font color=Teal> Step 5: Calculate the p - value and test statistic </font>\n",
    "\n",
    "We use the scipy.stats.ttest_ind to calculate the t-test for the means of TWO INDEPENDENT samples of healthy eating given the two sample observations.\n"
   ]
  },
  {
   "cell_type": "code",
   "execution_count": 25,
   "metadata": {},
   "outputs": [
    {
     "name": "stdout",
     "output_type": "stream",
     "text": [
      "\u001b[1mt statistic for ttest:\u001b[0m 1.06649 \n",
      "\n",
      "\u001b[1mp value for ttest:\u001b[0m 0.286459\n"
     ]
    }
   ],
   "source": [
    "t_statistic, p_value  =  stats.ttest_ind(city_health, village_health, equal_var=True, nan_policy='omit')\n",
    "\n",
    "print('\\033[1mt statistic for ttest:\\033[0m %3.5f \\n\\n\\033[1mp value for ttest:\\033[0m %1.6f' %(t_statistic, p_value))"
   ]
  },
  {
   "cell_type": "markdown",
   "metadata": {},
   "source": [
    "#### <font color=Teal> Step 6:  Decide to reject or accept null hypothesis </font>\n",
    "\n",
    "Here, p value is 0.286459 and it is significantly higher than 5% level of significance\n",
    "\n",
    "So the statistical decision is to accept the null hypothesis at 5% level of significance.\n",
    "\n",
    "##### <font color=Midnight> So there is no sufficient evidence to reject the null hypothesis and we accept that there is no significant difference in the healthier lifestyle of people from city and village. </font>"
   ]
  },
  {
   "cell_type": "markdown",
   "metadata": {},
   "source": [
    "### <center>End of Statistical Learning - Project 2</center>"
   ]
  }
 ],
 "metadata": {
  "kernelspec": {
   "display_name": "Python 3",
   "language": "python",
   "name": "python3"
  },
  "language_info": {
   "codemirror_mode": {
    "name": "ipython",
    "version": 3
   },
   "file_extension": ".py",
   "mimetype": "text/x-python",
   "name": "python",
   "nbconvert_exporter": "python",
   "pygments_lexer": "ipython3",
   "version": "3.7.3"
  }
 },
 "nbformat": 4,
 "nbformat_minor": 2
}
