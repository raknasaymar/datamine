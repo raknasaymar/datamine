{
  "nbformat": 4,
  "nbformat_minor": 0,
  "metadata": {
    "colab": {
      "name": "CV_Project2_Dog_Breed_Classification_Questions.ipynb",
      "provenance": [],
      "collapsed_sections": [],
      "machine_shape": "hm"
    },
    "kernelspec": {
      "name": "python3",
      "display_name": "Python 3"
    },
    "accelerator": "GPU"
  },
  "cells": [
    {
      "cell_type": "markdown",
      "metadata": {
        "colab_type": "text",
        "id": "2kIWaR5ZpKlJ"
      },
      "source": [
        "## Dog Breed Classification\n",
        "\n",
        "In this project we will use traditional CNN, CNN with data augmentation and finally transfer Learning by VGG16 model with weights pre-trained on Imagenet to solve the dog breed classification problem"
      ]
    },
    {
      "cell_type": "markdown",
      "metadata": {
        "colab_type": "text",
        "id": "F7MDmaAw2xGO"
      },
      "source": [
        "### Load Dataset Files"
      ]
    },
    {
      "cell_type": "code",
      "metadata": {
        "id": "8Kes3iYO5vKE",
        "colab_type": "code",
        "outputId": "34e90747-989a-4c15-db86-9a4cf7ea3617",
        "colab": {
          "base_uri": "https://localhost:8080/",
          "height": 34
        }
      },
      "source": [
        "tensorflow_version 2.x"
      ],
      "execution_count": 0,
      "outputs": [
        {
          "output_type": "stream",
          "text": [
            "TensorFlow 2.x selected.\n"
          ],
          "name": "stdout"
        }
      ]
    },
    {
      "cell_type": "code",
      "metadata": {
        "colab_type": "code",
        "id": "BZWpQv1OwqYK",
        "colab": {}
      },
      "source": [
        "import tensorflow as tf\n",
        "\n",
        "import numpy as np\n",
        "import pandas as pd\n",
        "import os\n",
        "import matplotlib.pyplot as plt\n",
        "import seaborn as sns\n",
        "import cv2\n",
        "import pickle\n",
        "import re\n",
        "import io\n",
        "\n",
        "from sklearn.model_selection import train_test_split\n",
        "from sklearn.metrics import confusion_matrix, classification_report\n",
        "from sklearn.preprocessing import LabelEncoder\n",
        "from tqdm import tqdm"
      ],
      "execution_count": 0,
      "outputs": []
    },
    {
      "cell_type": "markdown",
      "metadata": {
        "id": "zLj13_4KO6Ci",
        "colab_type": "text"
      },
      "source": [
        "**Mount Drive:**"
      ]
    },
    {
      "cell_type": "code",
      "metadata": {
        "id": "LXGpsdUG5if0",
        "colab_type": "code",
        "outputId": "e3bf57ff-a499-442a-f645-6fcf6550cf94",
        "colab": {
          "base_uri": "https://localhost:8080/",
          "height": 34
        }
      },
      "source": [
        "from google.colab import drive\n",
        "drive.mount('/content/drive')"
      ],
      "execution_count": 0,
      "outputs": [
        {
          "output_type": "stream",
          "text": [
            "Drive already mounted at /content/drive; to attempt to forcibly remount, call drive.mount(\"/content/drive\", force_remount=True).\n"
          ],
          "name": "stdout"
        }
      ]
    },
    {
      "cell_type": "markdown",
      "metadata": {
        "colab_type": "text",
        "id": "1q2zzIaUprk_"
      },
      "source": [
        "Now, upload the given dataset file shared with you in your google drive and give its path for the below given `project_path` variable. For example, a path is given below according to the file path in our google drive. You need to change this to match the path of yours."
      ]
    },
    {
      "cell_type": "code",
      "metadata": {
        "colab_type": "code",
        "id": "Tp6FvAToxUFs",
        "colab": {}
      },
      "source": [
        "project_path = \"/content/drive/My Drive/CNN/dog_breed/\""
      ],
      "execution_count": 0,
      "outputs": []
    },
    {
      "cell_type": "markdown",
      "metadata": {
        "id": "7mIgLCvsd02w",
        "colab_type": "text"
      },
      "source": [
        "**I downloaded the necessary files using \"Download All\" option from the drive. Hence I will first extract the contents of the main zip file follwed by the zip files inside the main zip file**"
      ]
    },
    {
      "cell_type": "code",
      "metadata": {
        "id": "hdAhHuTL6Fpj",
        "colab_type": "code",
        "outputId": "014cb31d-79f0-4a53-fe35-d54d0030da69",
        "colab": {
          "base_uri": "https://localhost:8080/",
          "height": 85
        }
      },
      "source": [
        "from zipfile import ZipFile\n",
        "with ZipFile(project_path + 'DogBreed_Classification-20200211T155917Z-001.zip', 'r') as z:\n",
        "  z.extractall(project_path)\n",
        "\n",
        "for name in z.namelist():\n",
        "   if re.search(r'\\.zip$', name) != None:\n",
        "     print(name)\n",
        "     with ZipFile(project_path + name, 'r') as z1:\n",
        "       z1.extractall(project_path)"
      ],
      "execution_count": 0,
      "outputs": [
        {
          "output_type": "stream",
          "text": [
            "DogBreed_Classification/labels.csv.zip\n",
            "DogBreed_Classification/sample_submission.csv.zip\n",
            "DogBreed_Classification/train.zip\n",
            "DogBreed_Classification/test.zip\n"
          ],
          "name": "stdout"
        }
      ]
    },
    {
      "cell_type": "markdown",
      "metadata": {
        "id": "sJc1lVrW_jmL",
        "colab_type": "text"
      },
      "source": [
        "After this process, we will have 4 files - Train folder, test folder and labels.csv and sample_submission.csv as part of your google drive"
      ]
    },
    {
      "cell_type": "markdown",
      "metadata": {
        "colab_type": "text",
        "id": "aYmJKmDqqpng"
      },
      "source": [
        "### Read labels.csv file using pandas"
      ]
    },
    {
      "cell_type": "code",
      "metadata": {
        "id": "WmlJ2VMY96IZ",
        "colab_type": "code",
        "colab": {}
      },
      "source": [
        "labels_df = pd.read_csv(project_path + 'labels.csv')"
      ],
      "execution_count": 0,
      "outputs": []
    },
    {
      "cell_type": "code",
      "metadata": {
        "id": "Kjexs-TAS5cw",
        "colab_type": "code",
        "outputId": "8c354ed7-139b-4692-e99f-637326e5ae08",
        "colab": {
          "base_uri": "https://localhost:8080/",
          "height": 204
        }
      },
      "source": [
        "labels_df.head()"
      ],
      "execution_count": 0,
      "outputs": [
        {
          "output_type": "execute_result",
          "data": {
            "text/html": [
              "<div>\n",
              "<style scoped>\n",
              "    .dataframe tbody tr th:only-of-type {\n",
              "        vertical-align: middle;\n",
              "    }\n",
              "\n",
              "    .dataframe tbody tr th {\n",
              "        vertical-align: top;\n",
              "    }\n",
              "\n",
              "    .dataframe thead th {\n",
              "        text-align: right;\n",
              "    }\n",
              "</style>\n",
              "<table border=\"1\" class=\"dataframe\">\n",
              "  <thead>\n",
              "    <tr style=\"text-align: right;\">\n",
              "      <th></th>\n",
              "      <th>id</th>\n",
              "      <th>breed</th>\n",
              "    </tr>\n",
              "  </thead>\n",
              "  <tbody>\n",
              "    <tr>\n",
              "      <th>0</th>\n",
              "      <td>000bec180eb18c7604dcecc8fe0dba07</td>\n",
              "      <td>boston_bull</td>\n",
              "    </tr>\n",
              "    <tr>\n",
              "      <th>1</th>\n",
              "      <td>001513dfcb2ffafc82cccf4d8bbaba97</td>\n",
              "      <td>dingo</td>\n",
              "    </tr>\n",
              "    <tr>\n",
              "      <th>2</th>\n",
              "      <td>001cdf01b096e06d78e9e5112d419397</td>\n",
              "      <td>pekinese</td>\n",
              "    </tr>\n",
              "    <tr>\n",
              "      <th>3</th>\n",
              "      <td>00214f311d5d2247d5dfe4fe24b2303d</td>\n",
              "      <td>bluetick</td>\n",
              "    </tr>\n",
              "    <tr>\n",
              "      <th>4</th>\n",
              "      <td>0021f9ceb3235effd7fcde7f7538ed62</td>\n",
              "      <td>golden_retriever</td>\n",
              "    </tr>\n",
              "  </tbody>\n",
              "</table>\n",
              "</div>"
            ],
            "text/plain": [
              "                                 id             breed\n",
              "0  000bec180eb18c7604dcecc8fe0dba07       boston_bull\n",
              "1  001513dfcb2ffafc82cccf4d8bbaba97             dingo\n",
              "2  001cdf01b096e06d78e9e5112d419397          pekinese\n",
              "3  00214f311d5d2247d5dfe4fe24b2303d          bluetick\n",
              "4  0021f9ceb3235effd7fcde7f7538ed62  golden_retriever"
            ]
          },
          "metadata": {
            "tags": []
          },
          "execution_count": 6
        }
      ]
    },
    {
      "cell_type": "code",
      "metadata": {
        "id": "hPvb1RSc96If",
        "colab_type": "code",
        "outputId": "be5dd21e-4d75-4f8d-b9d8-7436334afc2a",
        "colab": {
          "base_uri": "https://localhost:8080/",
          "height": 34
        }
      },
      "source": [
        "labels_df.shape"
      ],
      "execution_count": 0,
      "outputs": [
        {
          "output_type": "execute_result",
          "data": {
            "text/plain": [
              "(10222, 2)"
            ]
          },
          "metadata": {
            "tags": []
          },
          "execution_count": 7
        }
      ]
    },
    {
      "cell_type": "markdown",
      "metadata": {
        "colab_type": "text",
        "id": "QP8YAzQvqyK-"
      },
      "source": [
        "### Print the count of each category of Dogs given in the dataset\n",
        "\n"
      ]
    },
    {
      "cell_type": "code",
      "metadata": {
        "id": "3L2naXlr96Im",
        "colab_type": "code",
        "outputId": "bffd7a33-8624-4570-b77f-ada4753dbb13",
        "colab": {
          "base_uri": "https://localhost:8080/",
          "height": 1000
        }
      },
      "source": [
        "pd.options.display.max_rows = 150\n",
        "print(labels_df['breed'].value_counts())"
      ],
      "execution_count": 0,
      "outputs": [
        {
          "output_type": "stream",
          "text": [
            "scottish_deerhound                126\n",
            "maltese_dog                       117\n",
            "afghan_hound                      116\n",
            "entlebucher                       115\n",
            "bernese_mountain_dog              114\n",
            "shih-tzu                          112\n",
            "great_pyrenees                    111\n",
            "pomeranian                        111\n",
            "basenji                           110\n",
            "samoyed                           109\n",
            "airedale                          107\n",
            "tibetan_terrier                   107\n",
            "cairn                             106\n",
            "leonberg                          106\n",
            "beagle                            105\n",
            "japanese_spaniel                  105\n",
            "australian_terrier                102\n",
            "miniature_pinscher                102\n",
            "blenheim_spaniel                  102\n",
            "irish_wolfhound                   101\n",
            "saluki                             99\n",
            "lakeland_terrier                   99\n",
            "papillon                           96\n",
            "norwegian_elkhound                 95\n",
            "siberian_husky                     95\n",
            "whippet                            95\n",
            "pug                                94\n",
            "chow                               93\n",
            "pembroke                           92\n",
            "italian_greyhound                  92\n",
            "ibizan_hound                       91\n",
            "newfoundland                       91\n",
            "border_terrier                     91\n",
            "lhasa                              90\n",
            "silky_terrier                      90\n",
            "dandie_dinmont                     89\n",
            "bedlington_terrier                 89\n",
            "rhodesian_ridgeback                88\n",
            "sealyham_terrier                   88\n",
            "irish_setter                       88\n",
            "collie                             87\n",
            "old_english_sheepdog               87\n",
            "boston_bull                        87\n",
            "schipperke                         86\n",
            "kelpie                             86\n",
            "english_foxhound                   86\n",
            "african_hunting_dog                86\n",
            "bouvier_des_flandres               86\n",
            "bloodhound                         85\n",
            "bluetick                           85\n",
            "weimaraner                         85\n",
            "labrador_retriever                 84\n",
            "saint_bernard                      84\n",
            "chesapeake_bay_retriever           83\n",
            "norfolk_terrier                    83\n",
            "english_setter                     83\n",
            "greater_swiss_mountain_dog         82\n",
            "scotch_terrier                     82\n",
            "groenendael                        82\n",
            "yorkshire_terrier                  82\n",
            "kerry_blue_terrier                 82\n",
            "irish_terrier                      82\n",
            "basset                             82\n",
            "wire-haired_fox_terrier            82\n",
            "west_highland_white_terrier        81\n",
            "keeshond                           81\n",
            "gordon_setter                      81\n",
            "malamute                           81\n",
            "mexican_hairless                   80\n",
            "toy_poodle                         80\n",
            "clumber                            80\n",
            "affenpinscher                      80\n",
            "dingo                              80\n",
            "miniature_poodle                   79\n",
            "staffordshire_bullterrier          79\n",
            "welsh_springer_spaniel             79\n",
            "standard_poodle                    79\n",
            "toy_terrier                        79\n",
            "miniature_schnauzer                78\n",
            "norwich_terrier                    78\n",
            "appenzeller                        78\n",
            "irish_water_spaniel                78\n",
            "sussex_spaniel                     78\n",
            "black-and-tan_coonhound            77\n",
            "shetland_sheepdog                  76\n",
            "cardigan                           76\n",
            "rottweiler                         76\n",
            "dhole                              76\n",
            "english_springer                   75\n",
            "german_short-haired_pointer        75\n",
            "pekinese                           75\n",
            "bull_mastiff                       75\n",
            "borzoi                             75\n",
            "boxer                              75\n",
            "great_dane                         75\n",
            "american_staffordshire_terrier     74\n",
            "cocker_spaniel                     74\n",
            "doberman                           74\n",
            "brittany_spaniel                   73\n",
            "malinois                           73\n",
            "flat-coated_retriever              72\n",
            "border_collie                      72\n",
            "redbone                            72\n",
            "curly-coated_retriever             72\n",
            "standard_schnauzer                 72\n",
            "soft-coated_wheaten_terrier        71\n",
            "chihuahua                          71\n",
            "kuvasz                             71\n",
            "french_bulldog                     70\n",
            "vizsla                             70\n",
            "otterhound                         69\n",
            "giant_schnauzer                    69\n",
            "german_shepherd                    69\n",
            "tibetan_mastiff                    69\n",
            "walker_hound                       69\n",
            "komondor                           67\n",
            "golden_retriever                   67\n",
            "brabancon_griffon                  67\n",
            "briard                             66\n",
            "eskimo_dog                         66\n",
            "Name: breed, dtype: int64\n"
          ],
          "name": "stdout"
        }
      ]
    },
    {
      "cell_type": "markdown",
      "metadata": {
        "id": "J-luD57NPQ_w",
        "colab_type": "text"
      },
      "source": [
        "### Get unique number of breeds:"
      ]
    },
    {
      "cell_type": "code",
      "metadata": {
        "id": "CLm3W5RN96Ir",
        "colab_type": "code",
        "outputId": "9600d3b3-1e5b-4d7b-d190-a25da756562a",
        "colab": {
          "base_uri": "https://localhost:8080/",
          "height": 34
        }
      },
      "source": [
        "num_classes = labels_df['breed'].nunique()\n",
        "num_classes"
      ],
      "execution_count": 0,
      "outputs": [
        {
          "output_type": "execute_result",
          "data": {
            "text/plain": [
              "120"
            ]
          },
          "metadata": {
            "tags": []
          },
          "execution_count": 9
        }
      ]
    },
    {
      "cell_type": "markdown",
      "metadata": {
        "id": "h6W1HxR8PXDL",
        "colab_type": "text"
      },
      "source": [
        "**Plotting the top 5 dog breeds in terms of count:**"
      ]
    },
    {
      "cell_type": "code",
      "metadata": {
        "id": "Hnk2DYPcUCqW",
        "colab_type": "code",
        "outputId": "1c8831af-0890-4e71-e0d5-d9ed8485337a",
        "colab": {
          "base_uri": "https://localhost:8080/",
          "height": 388
        }
      },
      "source": [
        "plt.subplots(figsize=(6,4)) \n",
        "\n",
        "ax = labels_df['breed'].value_counts().nlargest(5).plot.bar(color=sns.color_palette('Spectral',20))\n",
        "ax.set_title('Count of data under different labels - Top five breeds')\n",
        "\n",
        "for p in ax.patches:\n",
        "    ax.annotate(format(p.get_height()), (p.get_x()+.2,p.get_height()+1))\n"
      ],
      "execution_count": 0,
      "outputs": [
        {
          "output_type": "display_data",
          "data": {
            "image/png": "[encoded data removed]",
            "text/plain": [
              "<Figure size 432x288 with 1 Axes>"
            ]
          },
          "metadata": {
            "tags": []
          }
        }
      ]
    },
    {
      "cell_type": "markdown",
      "metadata": {
        "colab_type": "text",
        "id": "WI94_Qcc0D4M"
      },
      "source": [
        "### Get one-hot encodings of labels"
      ]
    },
    {
      "cell_type": "markdown",
      "metadata": {
        "id": "GAePq8htg0tF",
        "colab_type": "text"
      },
      "source": [
        "**I will do the encoding in the next step for ease of reading the data from train data and mapping it to the labels**"
      ]
    },
    {
      "cell_type": "code",
      "metadata": {
        "id": "Q48iAcY196I3",
        "colab_type": "code",
        "outputId": "4df633b3-0135-4703-c8d9-dae2d61ee5cd",
        "colab": {
          "base_uri": "https://localhost:8080/",
          "height": 629
        }
      },
      "source": [
        "labels_df['breed'].unique()"
      ],
      "execution_count": 0,
      "outputs": [
        {
          "output_type": "execute_result",
          "data": {
            "text/plain": [
              "array(['boston_bull', 'dingo', 'pekinese', 'bluetick', 'golden_retriever',\n",
              "       'bedlington_terrier', 'borzoi', 'basenji', 'scottish_deerhound',\n",
              "       'shetland_sheepdog', 'walker_hound', 'maltese_dog',\n",
              "       'norfolk_terrier', 'african_hunting_dog',\n",
              "       'wire-haired_fox_terrier', 'redbone', 'lakeland_terrier', 'boxer',\n",
              "       'doberman', 'otterhound', 'standard_schnauzer',\n",
              "       'irish_water_spaniel', 'black-and-tan_coonhound', 'cairn',\n",
              "       'affenpinscher', 'labrador_retriever', 'ibizan_hound',\n",
              "       'english_setter', 'weimaraner', 'giant_schnauzer', 'groenendael',\n",
              "       'dhole', 'toy_poodle', 'border_terrier', 'tibetan_terrier',\n",
              "       'norwegian_elkhound', 'shih-tzu', 'irish_terrier', 'kuvasz',\n",
              "       'german_shepherd', 'greater_swiss_mountain_dog', 'basset',\n",
              "       'australian_terrier', 'schipperke', 'rhodesian_ridgeback',\n",
              "       'irish_setter', 'appenzeller', 'bloodhound', 'samoyed',\n",
              "       'miniature_schnauzer', 'brittany_spaniel', 'kelpie', 'papillon',\n",
              "       'border_collie', 'entlebucher', 'collie', 'malamute',\n",
              "       'welsh_springer_spaniel', 'chihuahua', 'saluki', 'pug', 'malinois',\n",
              "       'komondor', 'airedale', 'leonberg', 'mexican_hairless',\n",
              "       'bull_mastiff', 'bernese_mountain_dog',\n",
              "       'american_staffordshire_terrier', 'lhasa', 'cardigan',\n",
              "       'italian_greyhound', 'clumber', 'scotch_terrier', 'afghan_hound',\n",
              "       'old_english_sheepdog', 'saint_bernard', 'miniature_pinscher',\n",
              "       'eskimo_dog', 'irish_wolfhound', 'brabancon_griffon',\n",
              "       'toy_terrier', 'chow', 'flat-coated_retriever', 'norwich_terrier',\n",
              "       'soft-coated_wheaten_terrier', 'staffordshire_bullterrier',\n",
              "       'english_foxhound', 'gordon_setter', 'siberian_husky',\n",
              "       'newfoundland', 'briard', 'chesapeake_bay_retriever',\n",
              "       'dandie_dinmont', 'great_pyrenees', 'beagle', 'vizsla',\n",
              "       'west_highland_white_terrier', 'kerry_blue_terrier', 'whippet',\n",
              "       'sealyham_terrier', 'standard_poodle', 'keeshond',\n",
              "       'japanese_spaniel', 'miniature_poodle', 'pomeranian',\n",
              "       'curly-coated_retriever', 'yorkshire_terrier', 'pembroke',\n",
              "       'great_dane', 'blenheim_spaniel', 'silky_terrier',\n",
              "       'sussex_spaniel', 'german_short-haired_pointer', 'french_bulldog',\n",
              "       'bouvier_des_flandres', 'tibetan_mastiff', 'english_springer',\n",
              "       'cocker_spaniel', 'rottweiler'], dtype=object)"
            ]
          },
          "metadata": {
            "tags": []
          },
          "execution_count": 11
        }
      ]
    },
    {
      "cell_type": "markdown",
      "metadata": {
        "id": "VWaJ9naXfoiU",
        "colab_type": "text"
      },
      "source": [
        "## Preparing training dataset\n",
        "1. Write a code which reads each and every id from labels.csv file and loads the corresponding image (in RGB - 128, 128, 3) from the train folder. <br>\n",
        "2. Create 2 variables <br> \n",
        "     a.  x_train - Should have all the images of the dogs from train folder <br>\n",
        "     b.  y_train - Corresponding label of the dog <br>\n",
        "<u>Note:</u> The id of the dog images and its corresponding labels are available in labels.csv file   \n",
        "<u>Hint:</u> Watch the video shared on \"Preparing the training dataset\" if you face issue on creating the training dataset"
      ]
    },
    {
      "cell_type": "markdown",
      "metadata": {
        "id": "lTd0-k52PhML",
        "colab_type": "text"
      },
      "source": [
        "**Setting image size as 128 x 128:**"
      ]
    },
    {
      "cell_type": "code",
      "metadata": {
        "colab_type": "code",
        "id": "aC2f9ecR0XGR",
        "colab": {}
      },
      "source": [
        "img_rows = 128\n",
        "img_cols = 128"
      ],
      "execution_count": 0,
      "outputs": []
    },
    {
      "cell_type": "markdown",
      "metadata": {
        "id": "lxI6eqcvPqog",
        "colab_type": "text"
      },
      "source": [
        "**Loading train images:**"
      ]
    },
    {
      "cell_type": "code",
      "metadata": {
        "id": "_Kj04lIDiDp1",
        "colab_type": "code",
        "colab": {}
      },
      "source": [
        "x_train = []\n",
        "y_train = []"
      ],
      "execution_count": 0,
      "outputs": []
    },
    {
      "cell_type": "code",
      "metadata": {
        "colab_type": "code",
        "id": "nkkZEpOe0ipk",
        "outputId": "c5e657b0-8315-447b-cfa8-d8a2f65323d7",
        "colab": {
          "base_uri": "https://localhost:8080/",
          "height": 34
        }
      },
      "source": [
        "for img_id, breed in tqdm(labels_df.values):\n",
        "  train_img = cv2.imread('/content/drive/My Drive/CNN/dog_breed/train/{}.jpg'.format(img_id), 1)\n",
        "  train_img_resize = cv2.resize(train_img, (img_rows, img_cols)) \n",
        "  x_train.append(train_img_resize)\n",
        "  y_train.append(breed)"
      ],
      "execution_count": 0,
      "outputs": [
        {
          "output_type": "stream",
          "text": [
            "100%|██████████| 10222/10222 [1:05:41<00:00,  1.97it/s]\n"
          ],
          "name": "stderr"
        }
      ]
    },
    {
      "cell_type": "markdown",
      "metadata": {
        "id": "bDLjy9bvP2Yr",
        "colab_type": "text"
      },
      "source": [
        "**Saving the data in pickle file for future use:**"
      ]
    },
    {
      "cell_type": "code",
      "metadata": {
        "id": "RnuL8HEyn_RR",
        "colab_type": "code",
        "colab": {}
      },
      "source": [
        "pickle_out = open(\"/content/drive/My Drive/CNN/dog_breed/x_train.pickle\", \"wb\")\n",
        "pickle.dump(x_train, pickle_out)\n",
        "pickle_out.close()"
      ],
      "execution_count": 0,
      "outputs": []
    },
    {
      "cell_type": "code",
      "metadata": {
        "id": "wT-F5noqzJa0",
        "colab_type": "code",
        "colab": {}
      },
      "source": [
        "pickle_out = open(\"/content/drive/My Drive/CNN/dog_breed/y_train.pickle\", \"wb\")\n",
        "pickle.dump(y_train, pickle_out)\n",
        "pickle_out.close()"
      ],
      "execution_count": 0,
      "outputs": []
    },
    {
      "cell_type": "markdown",
      "metadata": {
        "id": "aIRsL2LsP71y",
        "colab_type": "text"
      },
      "source": [
        "**Retrieve data from pickle file:**"
      ]
    },
    {
      "cell_type": "code",
      "metadata": {
        "id": "-2dV0z_X1L83",
        "colab_type": "code",
        "colab": {}
      },
      "source": [
        "pickle_in = open(\"/content/drive/My Drive/CNN/dog_breed/x_train.pickle\", \"rb\")\n",
        "x_train = pickle.load(pickle_in)\n",
        "\n",
        "pickle_in = open(\"/content/drive/My Drive/CNN/dog_breed/y_train.pickle\", \"rb\")\n",
        "y_train = pickle.load(pickle_in)"
      ],
      "execution_count": 0,
      "outputs": []
    },
    {
      "cell_type": "markdown",
      "metadata": {
        "id": "IBNdGKNwQBm4",
        "colab_type": "text"
      },
      "source": [
        "**Let's view a sample image:**"
      ]
    },
    {
      "cell_type": "code",
      "metadata": {
        "id": "dfvW1oyGzPFD",
        "colab_type": "code",
        "outputId": "e1c44118-cac4-48e4-f93b-c982759aded3",
        "colab": {
          "base_uri": "https://localhost:8080/",
          "height": 285
        }
      },
      "source": [
        "plt.imshow(x_train[100])"
      ],
      "execution_count": 0,
      "outputs": [
        {
          "output_type": "execute_result",
          "data": {
            "text/plain": [
              "<matplotlib.image.AxesImage at 0x7f8adcbd05f8>"
            ]
          },
          "metadata": {
            "tags": []
          },
          "execution_count": 15
        },
        {
          "output_type": "display_data",
          "data": {
            "image/png": "[encoded data removed]",
            "text/plain": [
              "<Figure size 432x288 with 1 Axes>"
            ]
          },
          "metadata": {
            "tags": []
          }
        }
      ]
    },
    {
      "cell_type": "markdown",
      "metadata": {
        "id": "xAw5yHE2QIlF",
        "colab_type": "text"
      },
      "source": [
        "**Let's view the breed of the above image:**"
      ]
    },
    {
      "cell_type": "code",
      "metadata": {
        "id": "EElaYgBg0P__",
        "colab_type": "code",
        "outputId": "3da121c3-21e6-4d9d-d9ae-705b035c5a98",
        "colab": {
          "base_uri": "https://localhost:8080/",
          "height": 34
        }
      },
      "source": [
        "y_train[100]"
      ],
      "execution_count": 0,
      "outputs": [
        {
          "output_type": "execute_result",
          "data": {
            "text/plain": [
              "'rhodesian_ridgeback'"
            ]
          },
          "metadata": {
            "tags": []
          },
          "execution_count": 16
        }
      ]
    },
    {
      "cell_type": "markdown",
      "metadata": {
        "id": "8lU_1lnRQQ4d",
        "colab_type": "text"
      },
      "source": [
        "**Total data in y_train:**"
      ]
    },
    {
      "cell_type": "code",
      "metadata": {
        "id": "ik3kF_Hh0fLU",
        "colab_type": "code",
        "outputId": "a898b286-0431-455c-d76e-14ecf9155a02",
        "colab": {
          "base_uri": "https://localhost:8080/",
          "height": 34
        }
      },
      "source": [
        "len(y_train)"
      ],
      "execution_count": 0,
      "outputs": [
        {
          "output_type": "execute_result",
          "data": {
            "text/plain": [
              "10222"
            ]
          },
          "metadata": {
            "tags": []
          },
          "execution_count": 17
        }
      ]
    },
    {
      "cell_type": "markdown",
      "metadata": {
        "id": "2BHpx9kiQetJ",
        "colab_type": "text"
      },
      "source": [
        "**Let's view the count of unique breeds in the data:**"
      ]
    },
    {
      "cell_type": "code",
      "metadata": {
        "id": "lYdnwkDQ0mKT",
        "colab_type": "code",
        "outputId": "3bb444eb-6899-4083-f2f6-c99a6ab02a19",
        "colab": {
          "base_uri": "https://localhost:8080/",
          "height": 34
        }
      },
      "source": [
        "len(np.unique(y_train))"
      ],
      "execution_count": 0,
      "outputs": [
        {
          "output_type": "execute_result",
          "data": {
            "text/plain": [
              "120"
            ]
          },
          "metadata": {
            "tags": []
          },
          "execution_count": 18
        }
      ]
    },
    {
      "cell_type": "markdown",
      "metadata": {
        "id": "L-gcQhzDQnxG",
        "colab_type": "text"
      },
      "source": [
        "**Label encoding the data before applying one-hot encoding:**"
      ]
    },
    {
      "cell_type": "code",
      "metadata": {
        "id": "ui1Qq0GZ01tP",
        "colab_type": "code",
        "colab": {}
      },
      "source": [
        "le = LabelEncoder()\n",
        "y_train = le.fit_transform(y_train)"
      ],
      "execution_count": 0,
      "outputs": []
    },
    {
      "cell_type": "code",
      "metadata": {
        "id": "TRy92BEr1fSh",
        "colab_type": "code",
        "outputId": "c4028f33-5a0a-462c-edde-cbe5894bb387",
        "colab": {
          "base_uri": "https://localhost:8080/",
          "height": 34
        }
      },
      "source": [
        "len(np.unique(y_train))"
      ],
      "execution_count": 0,
      "outputs": [
        {
          "output_type": "execute_result",
          "data": {
            "text/plain": [
              "120"
            ]
          },
          "metadata": {
            "tags": []
          },
          "execution_count": 20
        }
      ]
    },
    {
      "cell_type": "markdown",
      "metadata": {
        "id": "5M86hm9DQxg6",
        "colab_type": "text"
      },
      "source": [
        "**Let's check if data has been label encoded correctly:**"
      ]
    },
    {
      "cell_type": "code",
      "metadata": {
        "id": "0yQSEIz61kkB",
        "colab_type": "code",
        "outputId": "d984f1b5-f511-4c0f-fd43-33ab0831fa03",
        "colab": {
          "base_uri": "https://localhost:8080/",
          "height": 187
        }
      },
      "source": [
        "np.unique(y_train)"
      ],
      "execution_count": 0,
      "outputs": [
        {
          "output_type": "execute_result",
          "data": {
            "text/plain": [
              "array([  0,   1,   2,   3,   4,   5,   6,   7,   8,   9,  10,  11,  12,\n",
              "        13,  14,  15,  16,  17,  18,  19,  20,  21,  22,  23,  24,  25,\n",
              "        26,  27,  28,  29,  30,  31,  32,  33,  34,  35,  36,  37,  38,\n",
              "        39,  40,  41,  42,  43,  44,  45,  46,  47,  48,  49,  50,  51,\n",
              "        52,  53,  54,  55,  56,  57,  58,  59,  60,  61,  62,  63,  64,\n",
              "        65,  66,  67,  68,  69,  70,  71,  72,  73,  74,  75,  76,  77,\n",
              "        78,  79,  80,  81,  82,  83,  84,  85,  86,  87,  88,  89,  90,\n",
              "        91,  92,  93,  94,  95,  96,  97,  98,  99, 100, 101, 102, 103,\n",
              "       104, 105, 106, 107, 108, 109, 110, 111, 112, 113, 114, 115, 116,\n",
              "       117, 118, 119])"
            ]
          },
          "metadata": {
            "tags": []
          },
          "execution_count": 21
        }
      ]
    },
    {
      "cell_type": "code",
      "metadata": {
        "id": "6TYDvWxR1wFd",
        "colab_type": "code",
        "outputId": "c3682015-13b8-4832-cd93-df8128cd96a1",
        "colab": {
          "base_uri": "https://localhost:8080/",
          "height": 34
        }
      },
      "source": [
        "y_train"
      ],
      "execution_count": 0,
      "outputs": [
        {
          "output_type": "execute_result",
          "data": {
            "text/plain": [
              "array([19, 37, 85, ...,  3, 75, 28])"
            ]
          },
          "metadata": {
            "tags": []
          },
          "execution_count": 22
        }
      ]
    },
    {
      "cell_type": "markdown",
      "metadata": {
        "id": "WR0OPRRiQ6uQ",
        "colab_type": "text"
      },
      "source": [
        "**Data before One-hot encoding:**"
      ]
    },
    {
      "cell_type": "code",
      "metadata": {
        "id": "KLpwRoDs1zSz",
        "colab_type": "code",
        "outputId": "0e226169-472a-42db-e4e3-15b26255b425",
        "colab": {
          "base_uri": "https://localhost:8080/",
          "height": 34
        }
      },
      "source": [
        "y_train[100]"
      ],
      "execution_count": 0,
      "outputs": [
        {
          "output_type": "execute_result",
          "data": {
            "text/plain": [
              "90"
            ]
          },
          "metadata": {
            "tags": []
          },
          "execution_count": 23
        }
      ]
    },
    {
      "cell_type": "markdown",
      "metadata": {
        "id": "y91OwpFqRAdW",
        "colab_type": "text"
      },
      "source": [
        "**Encoding:**"
      ]
    },
    {
      "cell_type": "code",
      "metadata": {
        "id": "pxpdJdf_11Zs",
        "colab_type": "code",
        "colab": {}
      },
      "source": [
        "y_train = tf.keras.utils.to_categorical(y_train, num_classes=num_classes)"
      ],
      "execution_count": 0,
      "outputs": []
    },
    {
      "cell_type": "markdown",
      "metadata": {
        "id": "w-OFz4lbRDAf",
        "colab_type": "text"
      },
      "source": [
        "**Data after One-hot encoding:**"
      ]
    },
    {
      "cell_type": "code",
      "metadata": {
        "id": "Ox7Q3ITa174N",
        "colab_type": "code",
        "outputId": "58ae8082-129c-4c41-94af-2f4c06aac668",
        "colab": {
          "base_uri": "https://localhost:8080/",
          "height": 153
        }
      },
      "source": [
        "y_train[100]"
      ],
      "execution_count": 0,
      "outputs": [
        {
          "output_type": "execute_result",
          "data": {
            "text/plain": [
              "array([0., 0., 0., 0., 0., 0., 0., 0., 0., 0., 0., 0., 0., 0., 0., 0., 0.,\n",
              "       0., 0., 0., 0., 0., 0., 0., 0., 0., 0., 0., 0., 0., 0., 0., 0., 0.,\n",
              "       0., 0., 0., 0., 0., 0., 0., 0., 0., 0., 0., 0., 0., 0., 0., 0., 0.,\n",
              "       0., 0., 0., 0., 0., 0., 0., 0., 0., 0., 0., 0., 0., 0., 0., 0., 0.,\n",
              "       0., 0., 0., 0., 0., 0., 0., 0., 0., 0., 0., 0., 0., 0., 0., 0., 0.,\n",
              "       0., 0., 0., 0., 0., 1., 0., 0., 0., 0., 0., 0., 0., 0., 0., 0., 0.,\n",
              "       0., 0., 0., 0., 0., 0., 0., 0., 0., 0., 0., 0., 0., 0., 0., 0., 0.,\n",
              "       0.], dtype=float32)"
            ]
          },
          "metadata": {
            "tags": []
          },
          "execution_count": 25
        }
      ]
    },
    {
      "cell_type": "markdown",
      "metadata": {
        "id": "6ioWDEgElBOs",
        "colab_type": "text"
      },
      "source": [
        "**Normalize the training data and convert into 4 dimensions so that it can be used as an input to conv layers in the model:**"
      ]
    },
    {
      "cell_type": "code",
      "metadata": {
        "id": "KgR7b7v80PKQ",
        "colab_type": "code",
        "colab": {}
      },
      "source": [
        "# Convert to array:\n",
        "x_train = np.array(x_train)"
      ],
      "execution_count": 0,
      "outputs": []
    },
    {
      "cell_type": "code",
      "metadata": {
        "id": "hKu3hxFbCkKp",
        "colab_type": "code",
        "outputId": "a93b9988-396f-4fc9-c1ca-30af97ddd2a6",
        "colab": {
          "base_uri": "https://localhost:8080/",
          "height": 34
        }
      },
      "source": [
        "# View shape of data:\n",
        "x_train.shape"
      ],
      "execution_count": 0,
      "outputs": [
        {
          "output_type": "execute_result",
          "data": {
            "text/plain": [
              "(10222, 128, 128, 3)"
            ]
          },
          "metadata": {
            "tags": []
          },
          "execution_count": 27
        }
      ]
    },
    {
      "cell_type": "code",
      "metadata": {
        "id": "ItrkT6edCns_",
        "colab_type": "code",
        "outputId": "656c3fe1-8b8c-46b7-fdb9-e311ffee1347",
        "colab": {
          "base_uri": "https://localhost:8080/",
          "height": 34
        }
      },
      "source": [
        "# View shape of labels:\n",
        "y_train.shape"
      ],
      "execution_count": 0,
      "outputs": [
        {
          "output_type": "execute_result",
          "data": {
            "text/plain": [
              "(10222, 120)"
            ]
          },
          "metadata": {
            "tags": []
          },
          "execution_count": 29
        }
      ]
    },
    {
      "cell_type": "markdown",
      "metadata": {
        "id": "Phq-CWDPRaow",
        "colab_type": "text"
      },
      "source": [
        "**Normalize the data:**"
      ]
    },
    {
      "cell_type": "code",
      "metadata": {
        "id": "zTJttxRIDI-a",
        "colab_type": "code",
        "colab": {}
      },
      "source": [
        "x_train = x_train.astype('float32')"
      ],
      "execution_count": 0,
      "outputs": []
    },
    {
      "cell_type": "code",
      "metadata": {
        "id": "gUupqrWrDqAc",
        "colab_type": "code",
        "colab": {}
      },
      "source": [
        "x_train/=255"
      ],
      "execution_count": 0,
      "outputs": []
    },
    {
      "cell_type": "markdown",
      "metadata": {
        "colab_type": "text",
        "id": "bdCXuAE11gZL"
      },
      "source": [
        "### **Split the training and validation data from `x_train_data` and `y_train_data` obtained from above step**"
      ]
    },
    {
      "cell_type": "code",
      "metadata": {
        "id": "kpWx-pgV96Jv",
        "colab_type": "code",
        "colab": {}
      },
      "source": [
        "x_t_train, x_val, y_t_train, y_val = train_test_split(x_train, y_train, test_size=0.2, random_state=0, stratify=y_train)"
      ],
      "execution_count": 0,
      "outputs": []
    },
    {
      "cell_type": "markdown",
      "metadata": {
        "colab_type": "text",
        "id": "XkL-N1jDsU8m"
      },
      "source": [
        "### **Loading the test data**\n",
        "Read the id column from the samples_submission.csv and store it in test_img"
      ]
    },
    {
      "cell_type": "code",
      "metadata": {
        "colab_type": "code",
        "id": "DnpXdpd9b3E7",
        "colab": {}
      },
      "source": [
        "ss_df = pd.read_csv('/content/drive/My Drive/CNN/dog_breed/sample_submission.csv')"
      ],
      "execution_count": 0,
      "outputs": []
    },
    {
      "cell_type": "code",
      "metadata": {
        "id": "ErP519NGEyIm",
        "colab_type": "code",
        "outputId": "d64c027a-49d2-4c08-c38c-5df808ef8702",
        "colab": {
          "base_uri": "https://localhost:8080/",
          "height": 270
        }
      },
      "source": [
        "ss_df.head()"
      ],
      "execution_count": 0,
      "outputs": [
        {
          "output_type": "execute_result",
          "data": {
            "text/html": [
              "<div>\n",
              "<style scoped>\n",
              "    .dataframe tbody tr th:only-of-type {\n",
              "        vertical-align: middle;\n",
              "    }\n",
              "\n",
              "    .dataframe tbody tr th {\n",
              "        vertical-align: top;\n",
              "    }\n",
              "\n",
              "    .dataframe thead th {\n",
              "        text-align: right;\n",
              "    }\n",
              "</style>\n",
              "<table border=\"1\" class=\"dataframe\">\n",
              "  <thead>\n",
              "    <tr style=\"text-align: right;\">\n",
              "      <th></th>\n",
              "      <th>id</th>\n",
              "      <th>affenpinscher</th>\n",
              "      <th>afghan_hound</th>\n",
              "      <th>african_hunting_dog</th>\n",
              "      <th>airedale</th>\n",
              "      <th>american_staffordshire_terrier</th>\n",
              "      <th>appenzeller</th>\n",
              "      <th>australian_terrier</th>\n",
              "      <th>basenji</th>\n",
              "      <th>basset</th>\n",
              "      <th>beagle</th>\n",
              "      <th>bedlington_terrier</th>\n",
              "      <th>bernese_mountain_dog</th>\n",
              "      <th>black-and-tan_coonhound</th>\n",
              "      <th>blenheim_spaniel</th>\n",
              "      <th>bloodhound</th>\n",
              "      <th>bluetick</th>\n",
              "      <th>border_collie</th>\n",
              "      <th>border_terrier</th>\n",
              "      <th>borzoi</th>\n",
              "      <th>boston_bull</th>\n",
              "      <th>bouvier_des_flandres</th>\n",
              "      <th>boxer</th>\n",
              "      <th>brabancon_griffon</th>\n",
              "      <th>briard</th>\n",
              "      <th>brittany_spaniel</th>\n",
              "      <th>bull_mastiff</th>\n",
              "      <th>cairn</th>\n",
              "      <th>cardigan</th>\n",
              "      <th>chesapeake_bay_retriever</th>\n",
              "      <th>chihuahua</th>\n",
              "      <th>chow</th>\n",
              "      <th>clumber</th>\n",
              "      <th>cocker_spaniel</th>\n",
              "      <th>collie</th>\n",
              "      <th>curly-coated_retriever</th>\n",
              "      <th>dandie_dinmont</th>\n",
              "      <th>dhole</th>\n",
              "      <th>dingo</th>\n",
              "      <th>doberman</th>\n",
              "      <th>...</th>\n",
              "      <th>norwegian_elkhound</th>\n",
              "      <th>norwich_terrier</th>\n",
              "      <th>old_english_sheepdog</th>\n",
              "      <th>otterhound</th>\n",
              "      <th>papillon</th>\n",
              "      <th>pekinese</th>\n",
              "      <th>pembroke</th>\n",
              "      <th>pomeranian</th>\n",
              "      <th>pug</th>\n",
              "      <th>redbone</th>\n",
              "      <th>rhodesian_ridgeback</th>\n",
              "      <th>rottweiler</th>\n",
              "      <th>saint_bernard</th>\n",
              "      <th>saluki</th>\n",
              "      <th>samoyed</th>\n",
              "      <th>schipperke</th>\n",
              "      <th>scotch_terrier</th>\n",
              "      <th>scottish_deerhound</th>\n",
              "      <th>sealyham_terrier</th>\n",
              "      <th>shetland_sheepdog</th>\n",
              "      <th>shih-tzu</th>\n",
              "      <th>siberian_husky</th>\n",
              "      <th>silky_terrier</th>\n",
              "      <th>soft-coated_wheaten_terrier</th>\n",
              "      <th>staffordshire_bullterrier</th>\n",
              "      <th>standard_poodle</th>\n",
              "      <th>standard_schnauzer</th>\n",
              "      <th>sussex_spaniel</th>\n",
              "      <th>tibetan_mastiff</th>\n",
              "      <th>tibetan_terrier</th>\n",
              "      <th>toy_poodle</th>\n",
              "      <th>toy_terrier</th>\n",
              "      <th>vizsla</th>\n",
              "      <th>walker_hound</th>\n",
              "      <th>weimaraner</th>\n",
              "      <th>welsh_springer_spaniel</th>\n",
              "      <th>west_highland_white_terrier</th>\n",
              "      <th>whippet</th>\n",
              "      <th>wire-haired_fox_terrier</th>\n",
              "      <th>yorkshire_terrier</th>\n",
              "    </tr>\n",
              "  </thead>\n",
              "  <tbody>\n",
              "    <tr>\n",
              "      <th>0</th>\n",
              "      <td>000621fb3cbb32d8935728e48679680e</td>\n",
              "      <td>0.008333</td>\n",
              "      <td>0.008333</td>\n",
              "      <td>0.008333</td>\n",
              "      <td>0.008333</td>\n",
              "      <td>0.008333</td>\n",
              "      <td>0.008333</td>\n",
              "      <td>0.008333</td>\n",
              "      <td>0.008333</td>\n",
              "      <td>0.008333</td>\n",
              "      <td>0.008333</td>\n",
              "      <td>0.008333</td>\n",
              "      <td>0.008333</td>\n",
              "      <td>0.008333</td>\n",
              "      <td>0.008333</td>\n",
              "      <td>0.008333</td>\n",
              "      <td>0.008333</td>\n",
              "      <td>0.008333</td>\n",
              "      <td>0.008333</td>\n",
              "      <td>0.008333</td>\n",
              "      <td>0.008333</td>\n",
              "      <td>0.008333</td>\n",
              "      <td>0.008333</td>\n",
              "      <td>0.008333</td>\n",
              "      <td>0.008333</td>\n",
              "      <td>0.008333</td>\n",
              "      <td>0.008333</td>\n",
              "      <td>0.008333</td>\n",
              "      <td>0.008333</td>\n",
              "      <td>0.008333</td>\n",
              "      <td>0.008333</td>\n",
              "      <td>0.008333</td>\n",
              "      <td>0.008333</td>\n",
              "      <td>0.008333</td>\n",
              "      <td>0.008333</td>\n",
              "      <td>0.008333</td>\n",
              "      <td>0.008333</td>\n",
              "      <td>0.008333</td>\n",
              "      <td>0.008333</td>\n",
              "      <td>0.008333</td>\n",
              "      <td>...</td>\n",
              "      <td>0.008333</td>\n",
              "      <td>0.008333</td>\n",
              "      <td>0.008333</td>\n",
              "      <td>0.008333</td>\n",
              "      <td>0.008333</td>\n",
              "      <td>0.008333</td>\n",
              "      <td>0.008333</td>\n",
              "      <td>0.008333</td>\n",
              "      <td>0.008333</td>\n",
              "      <td>0.008333</td>\n",
              "      <td>0.008333</td>\n",
              "      <td>0.008333</td>\n",
              "      <td>0.008333</td>\n",
              "      <td>0.008333</td>\n",
              "      <td>0.008333</td>\n",
              "      <td>0.008333</td>\n",
              "      <td>0.008333</td>\n",
              "      <td>0.008333</td>\n",
              "      <td>0.008333</td>\n",
              "      <td>0.008333</td>\n",
              "      <td>0.008333</td>\n",
              "      <td>0.008333</td>\n",
              "      <td>0.008333</td>\n",
              "      <td>0.008333</td>\n",
              "      <td>0.008333</td>\n",
              "      <td>0.008333</td>\n",
              "      <td>0.008333</td>\n",
              "      <td>0.008333</td>\n",
              "      <td>0.008333</td>\n",
              "      <td>0.008333</td>\n",
              "      <td>0.008333</td>\n",
              "      <td>0.008333</td>\n",
              "      <td>0.008333</td>\n",
              "      <td>0.008333</td>\n",
              "      <td>0.008333</td>\n",
              "      <td>0.008333</td>\n",
              "      <td>0.008333</td>\n",
              "      <td>0.008333</td>\n",
              "      <td>0.008333</td>\n",
              "      <td>0.008333</td>\n",
              "    </tr>\n",
              "    <tr>\n",
              "      <th>1</th>\n",
              "      <td>00102ee9d8eb90812350685311fe5890</td>\n",
              "      <td>0.008333</td>\n",
              "      <td>0.008333</td>\n",
              "      <td>0.008333</td>\n",
              "      <td>0.008333</td>\n",
              "      <td>0.008333</td>\n",
              "      <td>0.008333</td>\n",
              "      <td>0.008333</td>\n",
              "      <td>0.008333</td>\n",
              "      <td>0.008333</td>\n",
              "      <td>0.008333</td>\n",
              "      <td>0.008333</td>\n",
              "      <td>0.008333</td>\n",
              "      <td>0.008333</td>\n",
              "      <td>0.008333</td>\n",
              "      <td>0.008333</td>\n",
              "      <td>0.008333</td>\n",
              "      <td>0.008333</td>\n",
              "      <td>0.008333</td>\n",
              "      <td>0.008333</td>\n",
              "      <td>0.008333</td>\n",
              "      <td>0.008333</td>\n",
              "      <td>0.008333</td>\n",
              "      <td>0.008333</td>\n",
              "      <td>0.008333</td>\n",
              "      <td>0.008333</td>\n",
              "      <td>0.008333</td>\n",
              "      <td>0.008333</td>\n",
              "      <td>0.008333</td>\n",
              "      <td>0.008333</td>\n",
              "      <td>0.008333</td>\n",
              "      <td>0.008333</td>\n",
              "      <td>0.008333</td>\n",
              "      <td>0.008333</td>\n",
              "      <td>0.008333</td>\n",
              "      <td>0.008333</td>\n",
              "      <td>0.008333</td>\n",
              "      <td>0.008333</td>\n",
              "      <td>0.008333</td>\n",
              "      <td>0.008333</td>\n",
              "      <td>...</td>\n",
              "      <td>0.008333</td>\n",
              "      <td>0.008333</td>\n",
              "      <td>0.008333</td>\n",
              "      <td>0.008333</td>\n",
              "      <td>0.008333</td>\n",
              "      <td>0.008333</td>\n",
              "      <td>0.008333</td>\n",
              "      <td>0.008333</td>\n",
              "      <td>0.008333</td>\n",
              "      <td>0.008333</td>\n",
              "      <td>0.008333</td>\n",
              "      <td>0.008333</td>\n",
              "      <td>0.008333</td>\n",
              "      <td>0.008333</td>\n",
              "      <td>0.008333</td>\n",
              "      <td>0.008333</td>\n",
              "      <td>0.008333</td>\n",
              "      <td>0.008333</td>\n",
              "      <td>0.008333</td>\n",
              "      <td>0.008333</td>\n",
              "      <td>0.008333</td>\n",
              "      <td>0.008333</td>\n",
              "      <td>0.008333</td>\n",
              "      <td>0.008333</td>\n",
              "      <td>0.008333</td>\n",
              "      <td>0.008333</td>\n",
              "      <td>0.008333</td>\n",
              "      <td>0.008333</td>\n",
              "      <td>0.008333</td>\n",
              "      <td>0.008333</td>\n",
              "      <td>0.008333</td>\n",
              "      <td>0.008333</td>\n",
              "      <td>0.008333</td>\n",
              "      <td>0.008333</td>\n",
              "      <td>0.008333</td>\n",
              "      <td>0.008333</td>\n",
              "      <td>0.008333</td>\n",
              "      <td>0.008333</td>\n",
              "      <td>0.008333</td>\n",
              "      <td>0.008333</td>\n",
              "    </tr>\n",
              "    <tr>\n",
              "      <th>2</th>\n",
              "      <td>0012a730dfa437f5f3613fb75efcd4ce</td>\n",
              "      <td>0.008333</td>\n",
              "      <td>0.008333</td>\n",
              "      <td>0.008333</td>\n",
              "      <td>0.008333</td>\n",
              "      <td>0.008333</td>\n",
              "      <td>0.008333</td>\n",
              "      <td>0.008333</td>\n",
              "      <td>0.008333</td>\n",
              "      <td>0.008333</td>\n",
              "      <td>0.008333</td>\n",
              "      <td>0.008333</td>\n",
              "      <td>0.008333</td>\n",
              "      <td>0.008333</td>\n",
              "      <td>0.008333</td>\n",
              "      <td>0.008333</td>\n",
              "      <td>0.008333</td>\n",
              "      <td>0.008333</td>\n",
              "      <td>0.008333</td>\n",
              "      <td>0.008333</td>\n",
              "      <td>0.008333</td>\n",
              "      <td>0.008333</td>\n",
              "      <td>0.008333</td>\n",
              "      <td>0.008333</td>\n",
              "      <td>0.008333</td>\n",
              "      <td>0.008333</td>\n",
              "      <td>0.008333</td>\n",
              "      <td>0.008333</td>\n",
              "      <td>0.008333</td>\n",
              "      <td>0.008333</td>\n",
              "      <td>0.008333</td>\n",
              "      <td>0.008333</td>\n",
              "      <td>0.008333</td>\n",
              "      <td>0.008333</td>\n",
              "      <td>0.008333</td>\n",
              "      <td>0.008333</td>\n",
              "      <td>0.008333</td>\n",
              "      <td>0.008333</td>\n",
              "      <td>0.008333</td>\n",
              "      <td>0.008333</td>\n",
              "      <td>...</td>\n",
              "      <td>0.008333</td>\n",
              "      <td>0.008333</td>\n",
              "      <td>0.008333</td>\n",
              "      <td>0.008333</td>\n",
              "      <td>0.008333</td>\n",
              "      <td>0.008333</td>\n",
              "      <td>0.008333</td>\n",
              "      <td>0.008333</td>\n",
              "      <td>0.008333</td>\n",
              "      <td>0.008333</td>\n",
              "      <td>0.008333</td>\n",
              "      <td>0.008333</td>\n",
              "      <td>0.008333</td>\n",
              "      <td>0.008333</td>\n",
              "      <td>0.008333</td>\n",
              "      <td>0.008333</td>\n",
              "      <td>0.008333</td>\n",
              "      <td>0.008333</td>\n",
              "      <td>0.008333</td>\n",
              "      <td>0.008333</td>\n",
              "      <td>0.008333</td>\n",
              "      <td>0.008333</td>\n",
              "      <td>0.008333</td>\n",
              "      <td>0.008333</td>\n",
              "      <td>0.008333</td>\n",
              "      <td>0.008333</td>\n",
              "      <td>0.008333</td>\n",
              "      <td>0.008333</td>\n",
              "      <td>0.008333</td>\n",
              "      <td>0.008333</td>\n",
              "      <td>0.008333</td>\n",
              "      <td>0.008333</td>\n",
              "      <td>0.008333</td>\n",
              "      <td>0.008333</td>\n",
              "      <td>0.008333</td>\n",
              "      <td>0.008333</td>\n",
              "      <td>0.008333</td>\n",
              "      <td>0.008333</td>\n",
              "      <td>0.008333</td>\n",
              "      <td>0.008333</td>\n",
              "    </tr>\n",
              "    <tr>\n",
              "      <th>3</th>\n",
              "      <td>001510bc8570bbeee98c8d80c8a95ec1</td>\n",
              "      <td>0.008333</td>\n",
              "      <td>0.008333</td>\n",
              "      <td>0.008333</td>\n",
              "      <td>0.008333</td>\n",
              "      <td>0.008333</td>\n",
              "      <td>0.008333</td>\n",
              "      <td>0.008333</td>\n",
              "      <td>0.008333</td>\n",
              "      <td>0.008333</td>\n",
              "      <td>0.008333</td>\n",
              "      <td>0.008333</td>\n",
              "      <td>0.008333</td>\n",
              "      <td>0.008333</td>\n",
              "      <td>0.008333</td>\n",
              "      <td>0.008333</td>\n",
              "      <td>0.008333</td>\n",
              "      <td>0.008333</td>\n",
              "      <td>0.008333</td>\n",
              "      <td>0.008333</td>\n",
              "      <td>0.008333</td>\n",
              "      <td>0.008333</td>\n",
              "      <td>0.008333</td>\n",
              "      <td>0.008333</td>\n",
              "      <td>0.008333</td>\n",
              "      <td>0.008333</td>\n",
              "      <td>0.008333</td>\n",
              "      <td>0.008333</td>\n",
              "      <td>0.008333</td>\n",
              "      <td>0.008333</td>\n",
              "      <td>0.008333</td>\n",
              "      <td>0.008333</td>\n",
              "      <td>0.008333</td>\n",
              "      <td>0.008333</td>\n",
              "      <td>0.008333</td>\n",
              "      <td>0.008333</td>\n",
              "      <td>0.008333</td>\n",
              "      <td>0.008333</td>\n",
              "      <td>0.008333</td>\n",
              "      <td>0.008333</td>\n",
              "      <td>...</td>\n",
              "      <td>0.008333</td>\n",
              "      <td>0.008333</td>\n",
              "      <td>0.008333</td>\n",
              "      <td>0.008333</td>\n",
              "      <td>0.008333</td>\n",
              "      <td>0.008333</td>\n",
              "      <td>0.008333</td>\n",
              "      <td>0.008333</td>\n",
              "      <td>0.008333</td>\n",
              "      <td>0.008333</td>\n",
              "      <td>0.008333</td>\n",
              "      <td>0.008333</td>\n",
              "      <td>0.008333</td>\n",
              "      <td>0.008333</td>\n",
              "      <td>0.008333</td>\n",
              "      <td>0.008333</td>\n",
              "      <td>0.008333</td>\n",
              "      <td>0.008333</td>\n",
              "      <td>0.008333</td>\n",
              "      <td>0.008333</td>\n",
              "      <td>0.008333</td>\n",
              "      <td>0.008333</td>\n",
              "      <td>0.008333</td>\n",
              "      <td>0.008333</td>\n",
              "      <td>0.008333</td>\n",
              "      <td>0.008333</td>\n",
              "      <td>0.008333</td>\n",
              "      <td>0.008333</td>\n",
              "      <td>0.008333</td>\n",
              "      <td>0.008333</td>\n",
              "      <td>0.008333</td>\n",
              "      <td>0.008333</td>\n",
              "      <td>0.008333</td>\n",
              "      <td>0.008333</td>\n",
              "      <td>0.008333</td>\n",
              "      <td>0.008333</td>\n",
              "      <td>0.008333</td>\n",
              "      <td>0.008333</td>\n",
              "      <td>0.008333</td>\n",
              "      <td>0.008333</td>\n",
              "    </tr>\n",
              "    <tr>\n",
              "      <th>4</th>\n",
              "      <td>001a5f3114548acdefa3d4da05474c2e</td>\n",
              "      <td>0.008333</td>\n",
              "      <td>0.008333</td>\n",
              "      <td>0.008333</td>\n",
              "      <td>0.008333</td>\n",
              "      <td>0.008333</td>\n",
              "      <td>0.008333</td>\n",
              "      <td>0.008333</td>\n",
              "      <td>0.008333</td>\n",
              "      <td>0.008333</td>\n",
              "      <td>0.008333</td>\n",
              "      <td>0.008333</td>\n",
              "      <td>0.008333</td>\n",
              "      <td>0.008333</td>\n",
              "      <td>0.008333</td>\n",
              "      <td>0.008333</td>\n",
              "      <td>0.008333</td>\n",
              "      <td>0.008333</td>\n",
              "      <td>0.008333</td>\n",
              "      <td>0.008333</td>\n",
              "      <td>0.008333</td>\n",
              "      <td>0.008333</td>\n",
              "      <td>0.008333</td>\n",
              "      <td>0.008333</td>\n",
              "      <td>0.008333</td>\n",
              "      <td>0.008333</td>\n",
              "      <td>0.008333</td>\n",
              "      <td>0.008333</td>\n",
              "      <td>0.008333</td>\n",
              "      <td>0.008333</td>\n",
              "      <td>0.008333</td>\n",
              "      <td>0.008333</td>\n",
              "      <td>0.008333</td>\n",
              "      <td>0.008333</td>\n",
              "      <td>0.008333</td>\n",
              "      <td>0.008333</td>\n",
              "      <td>0.008333</td>\n",
              "      <td>0.008333</td>\n",
              "      <td>0.008333</td>\n",
              "      <td>0.008333</td>\n",
              "      <td>...</td>\n",
              "      <td>0.008333</td>\n",
              "      <td>0.008333</td>\n",
              "      <td>0.008333</td>\n",
              "      <td>0.008333</td>\n",
              "      <td>0.008333</td>\n",
              "      <td>0.008333</td>\n",
              "      <td>0.008333</td>\n",
              "      <td>0.008333</td>\n",
              "      <td>0.008333</td>\n",
              "      <td>0.008333</td>\n",
              "      <td>0.008333</td>\n",
              "      <td>0.008333</td>\n",
              "      <td>0.008333</td>\n",
              "      <td>0.008333</td>\n",
              "      <td>0.008333</td>\n",
              "      <td>0.008333</td>\n",
              "      <td>0.008333</td>\n",
              "      <td>0.008333</td>\n",
              "      <td>0.008333</td>\n",
              "      <td>0.008333</td>\n",
              "      <td>0.008333</td>\n",
              "      <td>0.008333</td>\n",
              "      <td>0.008333</td>\n",
              "      <td>0.008333</td>\n",
              "      <td>0.008333</td>\n",
              "      <td>0.008333</td>\n",
              "      <td>0.008333</td>\n",
              "      <td>0.008333</td>\n",
              "      <td>0.008333</td>\n",
              "      <td>0.008333</td>\n",
              "      <td>0.008333</td>\n",
              "      <td>0.008333</td>\n",
              "      <td>0.008333</td>\n",
              "      <td>0.008333</td>\n",
              "      <td>0.008333</td>\n",
              "      <td>0.008333</td>\n",
              "      <td>0.008333</td>\n",
              "      <td>0.008333</td>\n",
              "      <td>0.008333</td>\n",
              "      <td>0.008333</td>\n",
              "    </tr>\n",
              "  </tbody>\n",
              "</table>\n",
              "<p>5 rows × 121 columns</p>\n",
              "</div>"
            ],
            "text/plain": [
              "                                 id  ...  yorkshire_terrier\n",
              "0  000621fb3cbb32d8935728e48679680e  ...           0.008333\n",
              "1  00102ee9d8eb90812350685311fe5890  ...           0.008333\n",
              "2  0012a730dfa437f5f3613fb75efcd4ce  ...           0.008333\n",
              "3  001510bc8570bbeee98c8d80c8a95ec1  ...           0.008333\n",
              "4  001a5f3114548acdefa3d4da05474c2e  ...           0.008333\n",
              "\n",
              "[5 rows x 121 columns]"
            ]
          },
          "metadata": {
            "tags": []
          },
          "execution_count": 35
        }
      ]
    },
    {
      "cell_type": "code",
      "metadata": {
        "id": "NnqgIMR-E_de",
        "colab_type": "code",
        "outputId": "7f2cb774-e544-4eb2-a1f4-b53745a17cbc",
        "colab": {
          "base_uri": "https://localhost:8080/",
          "height": 34
        }
      },
      "source": [
        "ss_df.shape"
      ],
      "execution_count": 0,
      "outputs": [
        {
          "output_type": "execute_result",
          "data": {
            "text/plain": [
              "(10357, 121)"
            ]
          },
          "metadata": {
            "tags": []
          },
          "execution_count": 36
        }
      ]
    },
    {
      "cell_type": "code",
      "metadata": {
        "id": "T4yyD9x-FEBG",
        "colab_type": "code",
        "colab": {}
      },
      "source": [
        "test_img = ss_df['id']"
      ],
      "execution_count": 0,
      "outputs": []
    },
    {
      "cell_type": "markdown",
      "metadata": {
        "id": "DEJqZIMbm0Jo",
        "colab_type": "text"
      },
      "source": [
        "**Run the below code to load the test image files in x_test_feature**"
      ]
    },
    {
      "cell_type": "code",
      "metadata": {
        "id": "oqp8TE0UfpP8",
        "colab_type": "code",
        "colab": {}
      },
      "source": [
        "x_test_feature = []"
      ],
      "execution_count": 0,
      "outputs": []
    },
    {
      "cell_type": "code",
      "metadata": {
        "colab_type": "code",
        "id": "zf7n4WG-b3Hv",
        "outputId": "b6485012-85dd-49a1-b18c-6c109cc27187",
        "colab": {
          "base_uri": "https://localhost:8080/",
          "height": 34
        }
      },
      "source": [
        "i = 0 # initialisation\n",
        "for f in tqdm(test_img.values): # f for format ,jpg\n",
        "    img = cv2.imread('/content/drive/My Drive/CNN/dog_breed/test/{}.jpg'.format(f), 1)\n",
        "    img_resize = cv2.resize(img, (img_rows, img_cols)) \n",
        "    x_test_feature.append(img_resize)"
      ],
      "execution_count": 0,
      "outputs": [
        {
          "output_type": "stream",
          "text": [
            "100%|██████████| 10357/10357 [1:05:07<00:00,  2.86it/s]\n"
          ],
          "name": "stderr"
        }
      ]
    },
    {
      "cell_type": "markdown",
      "metadata": {
        "id": "9My6qSyDnE-_",
        "colab_type": "text"
      },
      "source": [
        "**Normalize the test data and convert it into 4 dimensions**"
      ]
    },
    {
      "cell_type": "markdown",
      "metadata": {
        "id": "FyReR_61R2Re",
        "colab_type": "text"
      },
      "source": [
        "**Storing data in pickle file for future use:**"
      ]
    },
    {
      "cell_type": "code",
      "metadata": {
        "id": "x_6PUyZ5y9Rx",
        "colab_type": "code",
        "colab": {}
      },
      "source": [
        "# pickle_out = open(\"/content/drive/My Drive/CNN/dog_breed/x_test_feature.pickle\", \"wb\")\n",
        "# pickle.dump(x_test_feature, pickle_out)\n",
        "# pickle_out.close()"
      ],
      "execution_count": 0,
      "outputs": []
    },
    {
      "cell_type": "markdown",
      "metadata": {
        "id": "DU9hMBQkR-R5",
        "colab_type": "text"
      },
      "source": [
        "**Retrieve data from pickle file:**"
      ]
    },
    {
      "cell_type": "code",
      "metadata": {
        "id": "lhaE3laVmWrp",
        "colab_type": "code",
        "colab": {}
      },
      "source": [
        "pickle_in = open(\"/content/drive/My Drive/CNN/dog_breed/x_test_feature.pickle\", \"rb\")\n",
        "x_test_feature = pickle.load(pickle_in)"
      ],
      "execution_count": 0,
      "outputs": []
    },
    {
      "cell_type": "markdown",
      "metadata": {
        "id": "nHFXbs4uSFDq",
        "colab_type": "text"
      },
      "source": [
        "**Normalize data and verify the shape of data:**"
      ]
    },
    {
      "cell_type": "code",
      "metadata": {
        "id": "93n-IntMnJGI",
        "colab_type": "code",
        "colab": {}
      },
      "source": [
        "x_test_feature = np.array(x_test_feature)"
      ],
      "execution_count": 0,
      "outputs": []
    },
    {
      "cell_type": "code",
      "metadata": {
        "id": "n-kwamVcQaXe",
        "colab_type": "code",
        "outputId": "c1190a85-166b-431a-c180-b9ca692d125f",
        "colab": {
          "base_uri": "https://localhost:8080/",
          "height": 34
        }
      },
      "source": [
        "x_test_feature.shape"
      ],
      "execution_count": 0,
      "outputs": [
        {
          "output_type": "execute_result",
          "data": {
            "text/plain": [
              "(10357, 128, 128, 3)"
            ]
          },
          "metadata": {
            "tags": []
          },
          "execution_count": 41
        }
      ]
    },
    {
      "cell_type": "code",
      "metadata": {
        "id": "6faclhzZyiQI",
        "colab_type": "code",
        "colab": {}
      },
      "source": [
        "x_test_feature = x_test_feature.astype('float32')"
      ],
      "execution_count": 0,
      "outputs": []
    },
    {
      "cell_type": "code",
      "metadata": {
        "id": "TCFy9mJgypJc",
        "colab_type": "code",
        "colab": {}
      },
      "source": [
        "x_test_feature/= 255"
      ],
      "execution_count": 0,
      "outputs": []
    },
    {
      "cell_type": "code",
      "metadata": {
        "id": "K-Rc5hCByupu",
        "colab_type": "code",
        "outputId": "ce31db02-3b2e-4b03-93f4-87033f445dd8",
        "colab": {
          "base_uri": "https://localhost:8080/",
          "height": 34
        }
      },
      "source": [
        "x_test_feature.shape"
      ],
      "execution_count": 0,
      "outputs": [
        {
          "output_type": "execute_result",
          "data": {
            "text/plain": [
              "(10357, 128, 128, 3)"
            ]
          },
          "metadata": {
            "tags": []
          },
          "execution_count": 45
        }
      ]
    },
    {
      "cell_type": "markdown",
      "metadata": {
        "colab_type": "text",
        "id": "zKezNJVMsocP"
      },
      "source": [
        "### Build a basic conv neural network with 2 conv layers (kernel sizes - 5 and 3) add layers as mentioned below for classification.\n",
        "\n",
        "1. Add a Dense layer with 256 neurons with `relu` activation\n",
        "\n",
        "2. Add a Dense layer with 120 neurons as final layer (as there are 120 classes in the given dataset) with `softmax` activation for classifiaction. "
      ]
    },
    {
      "cell_type": "code",
      "metadata": {
        "id": "0PMVYGLQUrIp",
        "colab_type": "code",
        "colab": {}
      },
      "source": [
        "input_shape = (128, 128, 3)"
      ],
      "execution_count": 0,
      "outputs": []
    },
    {
      "cell_type": "code",
      "metadata": {
        "id": "D2jxTY2S96J4",
        "colab_type": "code",
        "colab": {}
      },
      "source": [
        "model = tf.keras.models.Sequential()\n",
        "\n",
        "model.add(tf.keras.layers.Conv2D(filters=32, kernel_size=(5,5), input_shape=input_shape, activation='relu', name='Conv_layer1'))\n",
        "model.add(tf.keras.layers.MaxPool2D())\n",
        "# model.add(tf.keras.layers.Dropout(0.1))\n",
        "model.add(tf.keras.layers.BatchNormalization())\n",
        "\n",
        "model.add(tf.keras.layers.Conv2D(filters=64, kernel_size=(3,3), activation='relu', name='Conv_layer2'))\n",
        "model.add(tf.keras.layers.MaxPool2D())\n",
        "# model.add(tf.keras.layers.Dropout(0.1))\n",
        "model.add(tf.keras.layers.BatchNormalization())\n",
        "\n",
        "model.add(tf.keras.layers.Flatten())\n",
        "\n",
        "model.add(tf.keras.layers.Dense(256, activation='relu', name='Dense_layer'))\n",
        "model.add(tf.keras.layers.BatchNormalization())\n",
        "model.add(tf.keras.layers.Dropout(0.1))\n",
        "\n",
        "model.add(tf.keras.layers.Dense(num_classes, activation='softmax', name='Output'))\n",
        "\n",
        "model.compile(loss='categorical_crossentropy', optimizer='adam', metrics=['accuracy'])"
      ],
      "execution_count": 0,
      "outputs": []
    },
    {
      "cell_type": "markdown",
      "metadata": {
        "id": "ui8EXw6_oqpR",
        "colab_type": "text"
      },
      "source": [
        "### Use batch_size = 128 and epochs = 10 and execute the model"
      ]
    },
    {
      "cell_type": "code",
      "metadata": {
        "id": "IriIc37NozbK",
        "colab_type": "code",
        "outputId": "ea3503ab-8d39-4c69-ffa5-cd8c89dab9c4",
        "colab": {
          "base_uri": "https://localhost:8080/",
          "height": 391
        }
      },
      "source": [
        "model.fit(x_t_train, y_t_train, validation_data=(x_val, y_val), epochs=10, batch_size=128)"
      ],
      "execution_count": 0,
      "outputs": [
        {
          "output_type": "stream",
          "text": [
            "Train on 8177 samples, validate on 2045 samples\n",
            "Epoch 1/10\n",
            "8177/8177 [==============================] - 6s 718us/sample - loss: 4.8252 - accuracy: 0.0295 - val_loss: 4.7672 - val_accuracy: 0.0171\n",
            "Epoch 2/10\n",
            "8177/8177 [==============================] - 3s 377us/sample - loss: 3.6940 - accuracy: 0.1781 - val_loss: 5.0495 - val_accuracy: 0.0127\n",
            "Epoch 3/10\n",
            "8177/8177 [==============================] - 3s 375us/sample - loss: 1.8913 - accuracy: 0.6384 - val_loss: 5.5531 - val_accuracy: 0.0108\n",
            "Epoch 4/10\n",
            "8177/8177 [==============================] - 3s 372us/sample - loss: 0.2747 - accuracy: 0.9821 - val_loss: 6.6842 - val_accuracy: 0.0108\n",
            "Epoch 5/10\n",
            "8177/8177 [==============================] - 3s 374us/sample - loss: 0.0369 - accuracy: 0.9993 - val_loss: 6.9301 - val_accuracy: 0.0088\n",
            "Epoch 6/10\n",
            "8177/8177 [==============================] - 3s 374us/sample - loss: 0.0183 - accuracy: 0.9991 - val_loss: 7.2422 - val_accuracy: 0.0117\n",
            "Epoch 7/10\n",
            "8177/8177 [==============================] - 3s 376us/sample - loss: 0.0133 - accuracy: 0.9993 - val_loss: 7.1224 - val_accuracy: 0.0156\n",
            "Epoch 8/10\n",
            "8177/8177 [==============================] - 3s 374us/sample - loss: 0.0112 - accuracy: 0.9994 - val_loss: 6.3879 - val_accuracy: 0.0196\n",
            "Epoch 9/10\n",
            "8177/8177 [==============================] - 3s 373us/sample - loss: 0.0095 - accuracy: 0.9991 - val_loss: 5.6099 - val_accuracy: 0.0367\n",
            "Epoch 10/10\n",
            "8177/8177 [==============================] - 3s 377us/sample - loss: 0.0085 - accuracy: 0.9993 - val_loss: 5.0696 - val_accuracy: 0.0479\n"
          ],
          "name": "stdout"
        },
        {
          "output_type": "execute_result",
          "data": {
            "text/plain": [
              "<tensorflow.python.keras.callbacks.History at 0x7f8adcc49518>"
            ]
          },
          "metadata": {
            "tags": []
          },
          "execution_count": 48
        }
      ]
    },
    {
      "cell_type": "code",
      "metadata": {
        "id": "0PR9j5_Xozmd",
        "colab_type": "code",
        "outputId": "d35accb1-4236-44f1-9009-79ee3337e1d6",
        "colab": {
          "base_uri": "https://localhost:8080/",
          "height": 527
        }
      },
      "source": [
        "model.summary()"
      ],
      "execution_count": 0,
      "outputs": [
        {
          "output_type": "stream",
          "text": [
            "Model: \"sequential\"\n",
            "_________________________________________________________________\n",
            "Layer (type)                 Output Shape              Param #   \n",
            "=================================================================\n",
            "Conv_layer1 (Conv2D)         (None, 124, 124, 32)      2432      \n",
            "_________________________________________________________________\n",
            "max_pooling2d (MaxPooling2D) (None, 62, 62, 32)        0         \n",
            "_________________________________________________________________\n",
            "batch_normalization (BatchNo (None, 62, 62, 32)        128       \n",
            "_________________________________________________________________\n",
            "Conv_layer2 (Conv2D)         (None, 60, 60, 64)        18496     \n",
            "_________________________________________________________________\n",
            "max_pooling2d_1 (MaxPooling2 (None, 30, 30, 64)        0         \n",
            "_________________________________________________________________\n",
            "batch_normalization_1 (Batch (None, 30, 30, 64)        256       \n",
            "_________________________________________________________________\n",
            "flatten (Flatten)            (None, 57600)             0         \n",
            "_________________________________________________________________\n",
            "Dense_layer (Dense)          (None, 256)               14745856  \n",
            "_________________________________________________________________\n",
            "batch_normalization_2 (Batch (None, 256)               1024      \n",
            "_________________________________________________________________\n",
            "dropout (Dropout)            (None, 256)               0         \n",
            "_________________________________________________________________\n",
            "Output (Dense)               (None, 120)               30840     \n",
            "=================================================================\n",
            "Total params: 14,799,032\n",
            "Trainable params: 14,798,328\n",
            "Non-trainable params: 704\n",
            "_________________________________________________________________\n"
          ],
          "name": "stdout"
        }
      ]
    },
    {
      "cell_type": "markdown",
      "metadata": {
        "id": "6US6fekCZy-_",
        "colab_type": "text"
      },
      "source": [
        "**Accuracy:**"
      ]
    },
    {
      "cell_type": "code",
      "metadata": {
        "id": "9cLC7w6tWCO0",
        "colab_type": "code",
        "outputId": "bd8f11ad-0c46-44de-83af-7b4f41a40a07",
        "colab": {
          "base_uri": "https://localhost:8080/",
          "height": 51
        }
      },
      "source": [
        "loss, acc = model.evaluate(x_val, y_val)\n",
        "print('Loss: {}, Accuracy: {}'.format(loss, acc))"
      ],
      "execution_count": 0,
      "outputs": [
        {
          "output_type": "stream",
          "text": [
            "2045/2045 [==============================] - 0s 230us/sample - loss: 5.0696 - accuracy: 0.0479\n",
            "Loss: 5.069601439030654, Accuracy: 0.047921761870384216\n"
          ],
          "name": "stdout"
        }
      ]
    },
    {
      "cell_type": "markdown",
      "metadata": {
        "id": "Z8hWaKmjoz69",
        "colab_type": "text"
      },
      "source": [
        "#The model accuracy is very poor !!!!"
      ]
    },
    {
      "cell_type": "markdown",
      "metadata": {
        "colab_type": "text",
        "id": "agJKkc6xtKiq"
      },
      "source": [
        "### Use Data Augmentation in the above model to see if the accuracy improves\n"
      ]
    },
    {
      "cell_type": "code",
      "metadata": {
        "colab_type": "code",
        "id": "31Mn8qnZb3Ru",
        "colab": {}
      },
      "source": [
        "# On train set:\n",
        "train_generator = tf.keras.preprocessing.image.ImageDataGenerator(\n",
        "      rotation_range = 50,\n",
        "      zoom_range = 0.2,\n",
        "      shear_range = 0.2,\n",
        "      width_shift_range = 0.2,\n",
        "      height_shift_range = 0.2,\n",
        "      horizontal_flip = True,\n",
        "      fill_mode = 'nearest')\n",
        "\n",
        "# On Validation set:\n",
        "val_generator = tf.keras.preprocessing.image.ImageDataGenerator(\n",
        "      rotation_range = 50,\n",
        "      zoom_range = 0.2,\n",
        "      shear_range = 0.2,\n",
        "      width_shift_range = 0.2,\n",
        "      height_shift_range = 0.2,\n",
        "      horizontal_flip = True,\n",
        "      fill_mode = 'nearest')"
      ],
      "execution_count": 0,
      "outputs": []
    },
    {
      "cell_type": "markdown",
      "metadata": {
        "colab_type": "text",
        "id": "6sssbaTfxlkk"
      },
      "source": [
        "### Using the above objects, create the image generators with variable names `train_generator` and `val_generator`\n",
        "\n",
        "You need to use train_datagen.flow() and val_datagen.flow()"
      ]
    },
    {
      "cell_type": "code",
      "metadata": {
        "id": "7COisYm4eKm2",
        "colab_type": "code",
        "outputId": "35c8e7cb-d34c-4021-81cd-1cad47fac9b8",
        "colab": {
          "base_uri": "https://localhost:8080/",
          "height": 34
        }
      },
      "source": [
        "x_t_train.shape"
      ],
      "execution_count": 0,
      "outputs": [
        {
          "output_type": "execute_result",
          "data": {
            "text/plain": [
              "(8177, 128, 128, 3)"
            ]
          },
          "metadata": {
            "tags": []
          },
          "execution_count": 52
        }
      ]
    },
    {
      "cell_type": "code",
      "metadata": {
        "id": "sehaRgT-96KQ",
        "colab_type": "code",
        "colab": {}
      },
      "source": [
        "train_gen_data = train_generator.flow(x_t_train, y_t_train, batch_size=32)"
      ],
      "execution_count": 0,
      "outputs": []
    },
    {
      "cell_type": "code",
      "metadata": {
        "id": "EebK2X1MeYlI",
        "colab_type": "code",
        "outputId": "297f346e-c6c0-407e-a9a2-fba193d74444",
        "colab": {
          "base_uri": "https://localhost:8080/",
          "height": 34
        }
      },
      "source": [
        "x_val.shape"
      ],
      "execution_count": 0,
      "outputs": [
        {
          "output_type": "execute_result",
          "data": {
            "text/plain": [
              "(2045, 128, 128, 3)"
            ]
          },
          "metadata": {
            "tags": []
          },
          "execution_count": 54
        }
      ]
    },
    {
      "cell_type": "code",
      "metadata": {
        "id": "qMO_Mz7_ear5",
        "colab_type": "code",
        "colab": {}
      },
      "source": [
        "val_gen_data = val_generator.flow(x_val, y_val, batch_size=32)"
      ],
      "execution_count": 0,
      "outputs": []
    },
    {
      "cell_type": "markdown",
      "metadata": {
        "colab_type": "text",
        "id": "TVFQJZw3x4-C"
      },
      "source": [
        "### Fit the model using fit_generator() using `train_generator` and `val_generator` from the above step with 10 epochs"
      ]
    },
    {
      "cell_type": "code",
      "metadata": {
        "id": "uBID382ZfEm_",
        "colab_type": "code",
        "outputId": "5b5a9a18-522d-4f94-8133-e94fb54d0b08",
        "colab": {
          "base_uri": "https://localhost:8080/",
          "height": 34
        }
      },
      "source": [
        "type(train_gen_data)"
      ],
      "execution_count": 0,
      "outputs": [
        {
          "output_type": "execute_result",
          "data": {
            "text/plain": [
              "keras_preprocessing.image.numpy_array_iterator.NumpyArrayIterator"
            ]
          },
          "metadata": {
            "tags": []
          },
          "execution_count": 56
        }
      ]
    },
    {
      "cell_type": "code",
      "metadata": {
        "colab_type": "code",
        "id": "J1K2MqHbuPUa",
        "outputId": "2372b1c2-c754-4c70-a001-a8dd60ee2388",
        "colab": {
          "base_uri": "https://localhost:8080/",
          "height": 598
        }
      },
      "source": [
        "model.fit_generator(train_gen_data, steps_per_epoch=50, validation_data=val_gen_data, validation_steps=50, epochs=10)"
      ],
      "execution_count": 0,
      "outputs": [
        {
          "output_type": "stream",
          "text": [
            "WARNING:tensorflow:From <ipython-input-57-048ee7e9aff9>:1: Model.fit_generator (from tensorflow.python.keras.engine.training) is deprecated and will be removed in a future version.\n",
            "Instructions for updating:\n",
            "Please use Model.fit, which supports generators.\n",
            "WARNING:tensorflow:sample_weight modes were coerced from\n",
            "  ...\n",
            "    to  \n",
            "  ['...']\n",
            "WARNING:tensorflow:sample_weight modes were coerced from\n",
            "  ...\n",
            "    to  \n",
            "  ['...']\n",
            "Train for 50 steps, validate for 50 steps\n",
            "Epoch 1/10\n",
            "50/50 [==============================] - 13s 251ms/step - loss: 5.3348 - accuracy: 0.0144 - val_loss: 18.6580 - val_accuracy: 0.0113\n",
            "Epoch 2/10\n",
            "50/50 [==============================] - 12s 241ms/step - loss: 4.9926 - accuracy: 0.0259 - val_loss: 6.5548 - val_accuracy: 0.0213\n",
            "Epoch 3/10\n",
            "50/50 [==============================] - 12s 243ms/step - loss: 4.7833 - accuracy: 0.0347 - val_loss: 5.2847 - val_accuracy: 0.0256\n",
            "Epoch 4/10\n",
            "50/50 [==============================] - 12s 239ms/step - loss: 4.6846 - accuracy: 0.0456 - val_loss: 7.9914 - val_accuracy: 0.0175\n",
            "Epoch 5/10\n",
            "50/50 [==============================] - 12s 240ms/step - loss: 4.5890 - accuracy: 0.0388 - val_loss: 5.6165 - val_accuracy: 0.0181\n",
            "Epoch 6/10\n",
            "50/50 [==============================] - 12s 237ms/step - loss: 4.5635 - accuracy: 0.0413 - val_loss: 4.8718 - val_accuracy: 0.0338\n",
            "Epoch 7/10\n",
            "50/50 [==============================] - 12s 240ms/step - loss: 4.4673 - accuracy: 0.0531 - val_loss: 4.9083 - val_accuracy: 0.0369\n",
            "Epoch 8/10\n",
            "50/50 [==============================] - 12s 244ms/step - loss: 4.4612 - accuracy: 0.0581 - val_loss: 5.4637 - val_accuracy: 0.0294\n",
            "Epoch 9/10\n",
            "50/50 [==============================] - 12s 239ms/step - loss: 4.3946 - accuracy: 0.0574 - val_loss: 4.9644 - val_accuracy: 0.0269\n",
            "Epoch 10/10\n",
            "50/50 [==============================] - 12s 245ms/step - loss: 4.3973 - accuracy: 0.0606 - val_loss: 5.2754 - val_accuracy: 0.0281\n"
          ],
          "name": "stdout"
        },
        {
          "output_type": "execute_result",
          "data": {
            "text/plain": [
              "<tensorflow.python.keras.callbacks.History at 0x7f8ad02ee208>"
            ]
          },
          "metadata": {
            "tags": []
          },
          "execution_count": 57
        }
      ]
    },
    {
      "cell_type": "markdown",
      "metadata": {
        "id": "JzKnuIVeZ64Y",
        "colab_type": "text"
      },
      "source": [
        "**Accuracy:**"
      ]
    },
    {
      "cell_type": "code",
      "metadata": {
        "id": "wPK9pMwmrKIt",
        "colab_type": "code",
        "outputId": "94bd7e90-6148-4ddc-a5c6-9fc9b485ad92",
        "colab": {
          "base_uri": "https://localhost:8080/",
          "height": 51
        }
      },
      "source": [
        "loss, acc = model.evaluate(x_val, y_val)\n",
        "print('Loss: {}, Accuracy: {}'.format(loss, acc))"
      ],
      "execution_count": 0,
      "outputs": [
        {
          "output_type": "stream",
          "text": [
            "2045/2045 [==============================] - 0s 216us/sample - loss: 5.6120 - accuracy: 0.0298\n",
            "Loss: 5.611950367179069, Accuracy: 0.02982885017991066\n"
          ],
          "name": "stdout"
        }
      ]
    },
    {
      "cell_type": "markdown",
      "metadata": {
        "id": "Q2zmLztqo5DY",
        "colab_type": "text"
      },
      "source": [
        "# Model accuracy is still poor!!!"
      ]
    },
    {
      "cell_type": "markdown",
      "metadata": {
        "id": "rSTATrhsAo7L",
        "colab_type": "text"
      },
      "source": [
        "### Lets use Transfer Learning\n",
        "\n",
        "Download the vgg wieght file from here : https://github.com/MinerKasch/applied_deep_learning/blob/master/vgg16_weights_tf_dim_ordering_tf_kernels_notop.h5"
      ]
    },
    {
      "cell_type": "markdown",
      "metadata": {
        "id": "zy5JdbW6pIvD",
        "colab_type": "text"
      },
      "source": [
        "Use the below code to load VGG16 weights trained on ImageNet"
      ]
    },
    {
      "cell_type": "code",
      "metadata": {
        "id": "yrqs0zg7ApNw",
        "colab_type": "code",
        "colab": {}
      },
      "source": [
        "# from keras.applications.vgg16 import VGG16, preprocess_input\n",
        "# Instantiate the model with the pre-trained weights (no top)\n",
        "base_model= tf.keras.applications.vgg16.VGG16(weights=(project_path+'vgg16_weights_tf_dim_ordering_tf_kernels_notop.h5'),\n",
        "                 include_top=False, pooling='avg')"
      ],
      "execution_count": 0,
      "outputs": []
    },
    {
      "cell_type": "markdown",
      "metadata": {
        "id": "EItOlRBGpV_A",
        "colab_type": "text"
      },
      "source": [
        "Print the summary of the base_model"
      ]
    },
    {
      "cell_type": "code",
      "metadata": {
        "id": "lQsEBgnlpHjH",
        "colab_type": "code",
        "outputId": "fa56523d-9d0e-45cf-8afd-151bf17bd726",
        "colab": {
          "base_uri": "https://localhost:8080/",
          "height": 833
        }
      },
      "source": [
        "base_model.summary()"
      ],
      "execution_count": 0,
      "outputs": [
        {
          "output_type": "stream",
          "text": [
            "Model: \"vgg16\"\n",
            "_________________________________________________________________\n",
            "Layer (type)                 Output Shape              Param #   \n",
            "=================================================================\n",
            "input_1 (InputLayer)         [(None, None, None, 3)]   0         \n",
            "_________________________________________________________________\n",
            "block1_conv1 (Conv2D)        (None, None, None, 64)    1792      \n",
            "_________________________________________________________________\n",
            "block1_conv2 (Conv2D)        (None, None, None, 64)    36928     \n",
            "_________________________________________________________________\n",
            "block1_pool (MaxPooling2D)   (None, None, None, 64)    0         \n",
            "_________________________________________________________________\n",
            "block2_conv1 (Conv2D)        (None, None, None, 128)   73856     \n",
            "_________________________________________________________________\n",
            "block2_conv2 (Conv2D)        (None, None, None, 128)   147584    \n",
            "_________________________________________________________________\n",
            "block2_pool (MaxPooling2D)   (None, None, None, 128)   0         \n",
            "_________________________________________________________________\n",
            "block3_conv1 (Conv2D)        (None, None, None, 256)   295168    \n",
            "_________________________________________________________________\n",
            "block3_conv2 (Conv2D)        (None, None, None, 256)   590080    \n",
            "_________________________________________________________________\n",
            "block3_conv3 (Conv2D)        (None, None, None, 256)   590080    \n",
            "_________________________________________________________________\n",
            "block3_pool (MaxPooling2D)   (None, None, None, 256)   0         \n",
            "_________________________________________________________________\n",
            "block4_conv1 (Conv2D)        (None, None, None, 512)   1180160   \n",
            "_________________________________________________________________\n",
            "block4_conv2 (Conv2D)        (None, None, None, 512)   2359808   \n",
            "_________________________________________________________________\n",
            "block4_conv3 (Conv2D)        (None, None, None, 512)   2359808   \n",
            "_________________________________________________________________\n",
            "block4_pool (MaxPooling2D)   (None, None, None, 512)   0         \n",
            "_________________________________________________________________\n",
            "block5_conv1 (Conv2D)        (None, None, None, 512)   2359808   \n",
            "_________________________________________________________________\n",
            "block5_conv2 (Conv2D)        (None, None, None, 512)   2359808   \n",
            "_________________________________________________________________\n",
            "block5_conv3 (Conv2D)        (None, None, None, 512)   2359808   \n",
            "_________________________________________________________________\n",
            "block5_pool (MaxPooling2D)   (None, None, None, 512)   0         \n",
            "_________________________________________________________________\n",
            "global_average_pooling2d (Gl (None, 512)               0         \n",
            "=================================================================\n",
            "Total params: 14,714,688\n",
            "Trainable params: 14,714,688\n",
            "Non-trainable params: 0\n",
            "_________________________________________________________________\n"
          ],
          "name": "stdout"
        }
      ]
    },
    {
      "cell_type": "markdown",
      "metadata": {
        "id": "fHpeOyW0qauW",
        "colab_type": "text"
      },
      "source": [
        "### Add the following classification layers to the imported VGG Model <br>\n",
        "1. Flatten Layer\n",
        "2. Dense layer with 1024 neurons with activation as Relu\n",
        "3. Dense layer with 256 neurons with activation as Relu\n",
        "4. Dense layer with 120 neurons with activation as Softmax"
      ]
    },
    {
      "cell_type": "code",
      "metadata": {
        "id": "0BpT4MLkqoaO",
        "colab_type": "code",
        "colab": {}
      },
      "source": [
        "flatten_layer = tf.keras.layers.Flatten()\n",
        "dense_layer1  = tf.keras.layers.Dense(1024, activation='relu', name='dense_layer1')\n",
        "dense_layer2  = tf.keras.layers.Dense(256, activation='relu', name='dense_layer2')\n",
        "output_layer  = tf.keras.layers.Dense(120, activation='softmax', name='output')"
      ],
      "execution_count": 0,
      "outputs": []
    },
    {
      "cell_type": "markdown",
      "metadata": {
        "id": "LeQem0pHITIj",
        "colab_type": "text"
      },
      "source": [
        "### Make all the layers in the base_model (VGG16) to be non-trainable"
      ]
    },
    {
      "cell_type": "code",
      "metadata": {
        "id": "C7w9CSPvIRnX",
        "colab_type": "code",
        "outputId": "f87dfcf5-2331-4e17-9683-313872287376",
        "colab": {
          "base_uri": "https://localhost:8080/",
          "height": 34
        }
      },
      "source": [
        "base_model.trainable = False\n",
        "\n",
        "print(base_model.trainable_weights)"
      ],
      "execution_count": 0,
      "outputs": [
        {
          "output_type": "stream",
          "text": [
            "[]\n"
          ],
          "name": "stdout"
        }
      ]
    },
    {
      "cell_type": "code",
      "metadata": {
        "id": "sC88oapajmmh",
        "colab_type": "code",
        "colab": {}
      },
      "source": [
        "model_vgg_mod = tf.keras.models.Sequential([base_model, flatten_layer, dense_layer1, dense_layer2, output_layer])"
      ],
      "execution_count": 0,
      "outputs": []
    },
    {
      "cell_type": "code",
      "metadata": {
        "id": "0z_NNSxzmLUp",
        "colab_type": "code",
        "outputId": "c33df212-a42e-4f8b-e654-150ce033c719",
        "colab": {
          "base_uri": "https://localhost:8080/",
          "height": 323
        }
      },
      "source": [
        "model_vgg_mod.summary()"
      ],
      "execution_count": 0,
      "outputs": [
        {
          "output_type": "stream",
          "text": [
            "Model: \"sequential_1\"\n",
            "_________________________________________________________________\n",
            "Layer (type)                 Output Shape              Param #   \n",
            "=================================================================\n",
            "vgg16 (Model)                (None, 512)               14714688  \n",
            "_________________________________________________________________\n",
            "flatten_1 (Flatten)          (None, 512)               0         \n",
            "_________________________________________________________________\n",
            "dense_layer1 (Dense)         (None, 1024)              525312    \n",
            "_________________________________________________________________\n",
            "dense_layer2 (Dense)         (None, 256)               262400    \n",
            "_________________________________________________________________\n",
            "output (Dense)               (None, 120)               30840     \n",
            "=================================================================\n",
            "Total params: 15,533,240\n",
            "Trainable params: 818,552\n",
            "Non-trainable params: 14,714,688\n",
            "_________________________________________________________________\n"
          ],
          "name": "stdout"
        }
      ]
    },
    {
      "cell_type": "markdown",
      "metadata": {
        "id": "kj-BwqgfIkdv",
        "colab_type": "text"
      },
      "source": [
        "### Fit and compile the model with batch_size = 128 and epochs = 10 and execute the model"
      ]
    },
    {
      "cell_type": "markdown",
      "metadata": {
        "id": "YD5fAgVQIpKZ",
        "colab_type": "text"
      },
      "source": [
        "Try to get training and validation accuracy to be more than 90%"
      ]
    },
    {
      "cell_type": "code",
      "metadata": {
        "id": "PMqU0kqZuBMx",
        "colab_type": "code",
        "outputId": "65f96554-a342-4ec0-bc22-75f82de421ab",
        "colab": {
          "base_uri": "https://localhost:8080/",
          "height": 34
        }
      },
      "source": [
        "x_t_train.shape"
      ],
      "execution_count": 0,
      "outputs": [
        {
          "output_type": "execute_result",
          "data": {
            "text/plain": [
              "(8177, 128, 128, 3)"
            ]
          },
          "metadata": {
            "tags": []
          },
          "execution_count": 65
        }
      ]
    },
    {
      "cell_type": "code",
      "metadata": {
        "id": "NWDq7ZSngsL2",
        "colab_type": "code",
        "outputId": "0f7de4a9-9105-4116-a047-ce4aebc10580",
        "colab": {
          "base_uri": "https://localhost:8080/",
          "height": 34
        }
      },
      "source": [
        "y_t_train.shape"
      ],
      "execution_count": 0,
      "outputs": [
        {
          "output_type": "execute_result",
          "data": {
            "text/plain": [
              "(8177, 120)"
            ]
          },
          "metadata": {
            "tags": []
          },
          "execution_count": 66
        }
      ]
    },
    {
      "cell_type": "code",
      "metadata": {
        "id": "KawtZyucuC24",
        "colab_type": "code",
        "outputId": "6ef2be84-909b-43c1-fd0a-4023bc1b884c",
        "colab": {
          "base_uri": "https://localhost:8080/",
          "height": 34
        }
      },
      "source": [
        "x_val.shape"
      ],
      "execution_count": 0,
      "outputs": [
        {
          "output_type": "execute_result",
          "data": {
            "text/plain": [
              "(2045, 128, 128, 3)"
            ]
          },
          "metadata": {
            "tags": []
          },
          "execution_count": 67
        }
      ]
    },
    {
      "cell_type": "code",
      "metadata": {
        "id": "9b6LkOG0uFQp",
        "colab_type": "code",
        "outputId": "1a3d0dc9-22a2-475c-c2f6-328878b325a8",
        "colab": {
          "base_uri": "https://localhost:8080/",
          "height": 34
        }
      },
      "source": [
        "y_val.shape"
      ],
      "execution_count": 0,
      "outputs": [
        {
          "output_type": "execute_result",
          "data": {
            "text/plain": [
              "(2045, 120)"
            ]
          },
          "metadata": {
            "tags": []
          },
          "execution_count": 68
        }
      ]
    },
    {
      "cell_type": "code",
      "metadata": {
        "id": "SZk2SWvjIoRP",
        "colab_type": "code",
        "colab": {}
      },
      "source": [
        "model_vgg_mod.compile(loss='categorical_crossentropy', optimizer='adam', metrics=['accuracy'])"
      ],
      "execution_count": 0,
      "outputs": []
    },
    {
      "cell_type": "code",
      "metadata": {
        "id": "tT0zRbNJu0un",
        "colab_type": "code",
        "outputId": "e8668b67-7c84-4e4e-cc8b-82b96c491851",
        "colab": {
          "base_uri": "https://localhost:8080/",
          "height": 391
        }
      },
      "source": [
        "model_vgg_mod.fit(x_t_train, y_t_train, validation_data=(x_val, y_val), epochs=10, batch_size=128)"
      ],
      "execution_count": 0,
      "outputs": [
        {
          "output_type": "stream",
          "text": [
            "Train on 8177 samples, validate on 2045 samples\n",
            "Epoch 1/10\n",
            "8177/8177 [==============================] - 11s 1ms/sample - loss: 4.7222 - accuracy: 0.0265 - val_loss: 4.5408 - val_accuracy: 0.0509\n",
            "Epoch 2/10\n",
            "8177/8177 [==============================] - 8s 943us/sample - loss: 4.2813 - accuracy: 0.0766 - val_loss: 4.0401 - val_accuracy: 0.0944\n",
            "Epoch 3/10\n",
            "8177/8177 [==============================] - 8s 946us/sample - loss: 3.7520 - accuracy: 0.1355 - val_loss: 3.6732 - val_accuracy: 0.1438\n",
            "Epoch 4/10\n",
            "8177/8177 [==============================] - 8s 957us/sample - loss: 3.3945 - accuracy: 0.1908 - val_loss: 3.5157 - val_accuracy: 0.1545\n",
            "Epoch 5/10\n",
            "8177/8177 [==============================] - 8s 959us/sample - loss: 3.1675 - accuracy: 0.2320 - val_loss: 3.3313 - val_accuracy: 0.1844\n",
            "Epoch 6/10\n",
            "8177/8177 [==============================] - 8s 954us/sample - loss: 3.0085 - accuracy: 0.2550 - val_loss: 3.2787 - val_accuracy: 0.2059\n",
            "Epoch 7/10\n",
            "8177/8177 [==============================] - 8s 955us/sample - loss: 2.8828 - accuracy: 0.2826 - val_loss: 3.2566 - val_accuracy: 0.2112\n",
            "Epoch 8/10\n",
            "8177/8177 [==============================] - 8s 954us/sample - loss: 2.7619 - accuracy: 0.3010 - val_loss: 3.1839 - val_accuracy: 0.2235\n",
            "Epoch 9/10\n",
            "8177/8177 [==============================] - 8s 957us/sample - loss: 2.6638 - accuracy: 0.3301 - val_loss: 3.1987 - val_accuracy: 0.2313\n",
            "Epoch 10/10\n",
            "8177/8177 [==============================] - 8s 955us/sample - loss: 2.5821 - accuracy: 0.3408 - val_loss: 3.1466 - val_accuracy: 0.2244\n"
          ],
          "name": "stdout"
        },
        {
          "output_type": "execute_result",
          "data": {
            "text/plain": [
              "<tensorflow.python.keras.callbacks.History at 0x7f8ad01e22e8>"
            ]
          },
          "metadata": {
            "tags": []
          },
          "execution_count": 70
        }
      ]
    },
    {
      "cell_type": "code",
      "metadata": {
        "id": "h1nmx94a6-UL",
        "colab_type": "code",
        "outputId": "3874e1ce-ae69-407c-cbba-bd2747181c58",
        "colab": {
          "base_uri": "https://localhost:8080/",
          "height": 51
        }
      },
      "source": [
        "loss, acc = model_vgg_mod.evaluate(x_val, y_val)\n",
        "print('Loss: {}, Accuracy: {}'.format(loss, acc))"
      ],
      "execution_count": 0,
      "outputs": [
        {
          "output_type": "stream",
          "text": [
            "2045/2045 [==============================] - 2s 1ms/sample - loss: 3.1466 - accuracy: 0.2244\n",
            "Loss: 3.1466466906018247, Accuracy: 0.22444987297058105\n"
          ],
          "name": "stdout"
        }
      ]
    },
    {
      "cell_type": "markdown",
      "metadata": {
        "id": "sdd5mZ3ZSXY_",
        "colab_type": "text"
      },
      "source": [
        "**Inference:**\n",
        "\n",
        "Accuracy is still poor. Let's try VGG16 after resizing the images to size 224x224"
      ]
    },
    {
      "cell_type": "markdown",
      "metadata": {
        "id": "tKcdZjyHSkvi",
        "colab_type": "text"
      },
      "source": [
        "### **Resize images into size 224x224:**"
      ]
    },
    {
      "cell_type": "code",
      "metadata": {
        "id": "XUJdtMCv-Z35",
        "colab_type": "code",
        "colab": {}
      },
      "source": [
        "img_rows_vgg = 224\n",
        "img_cols_vgg = 224"
      ],
      "execution_count": 0,
      "outputs": []
    },
    {
      "cell_type": "code",
      "metadata": {
        "id": "wGFNQdM9EFec",
        "colab_type": "code",
        "colab": {}
      },
      "source": [
        "x_train_vgg = []\n",
        "y_train_vgg = []"
      ],
      "execution_count": 0,
      "outputs": []
    },
    {
      "cell_type": "code",
      "metadata": {
        "id": "B3Z6DIv1EMDu",
        "colab_type": "code",
        "colab": {}
      },
      "source": [
        "for img_id, breed in tqdm(labels_df.values):\n",
        "  train_img = cv2.imread('/content/drive/My Drive/CNN/dog_breed/train/{}.jpg'.format(img_id), 1)\n",
        "  train_img_resize = cv2.resize(train_img, (img_rows_vgg, img_cols_vgg)) \n",
        "  # train_img_arr = image.img_to_array(train_img_resize) \n",
        "  # train_img_arr_1 = np.expand_dims(train_img_arr, axis=0)\n",
        "  x_train_vgg.append(train_img_resize)\n",
        "  y_train_vgg.append(breed)"
      ],
      "execution_count": 0,
      "outputs": []
    },
    {
      "cell_type": "markdown",
      "metadata": {
        "id": "XcgNpZQySvTn",
        "colab_type": "text"
      },
      "source": [
        "**Store the data in pickle file:**"
      ]
    },
    {
      "cell_type": "code",
      "metadata": {
        "id": "7n5jPCM_EU_L",
        "colab_type": "code",
        "colab": {}
      },
      "source": [
        "pickle_out = open(\"/content/drive/My Drive/CNN/dog_breed/x_train_vgg.pickle\", \"wb\")\n",
        "pickle.dump(x_train_vgg, pickle_out)\n",
        "pickle_out.close()\n",
        "\n",
        "pickle_out = open(\"/content/drive/My Drive/CNN/dog_breed/y_train_vgg.pickle\", \"wb\")\n",
        "pickle.dump(y_train_vgg, pickle_out)\n",
        "pickle_out.close()"
      ],
      "execution_count": 0,
      "outputs": []
    },
    {
      "cell_type": "markdown",
      "metadata": {
        "id": "b6mIo1ASSzI-",
        "colab_type": "text"
      },
      "source": [
        "**Retrieve the data from pickle file:**"
      ]
    },
    {
      "cell_type": "code",
      "metadata": {
        "id": "fdpNVCENEXT5",
        "colab_type": "code",
        "colab": {}
      },
      "source": [
        "pickle_in = open(\"/content/drive/My Drive/CNN/dog_breed/x_train_vgg.pickle\", \"rb\")\n",
        "x_train_vgg = pickle.load(pickle_in)\n",
        "\n",
        "pickle_in = open(\"/content/drive/My Drive/CNN/dog_breed/y_train_vgg.pickle\", \"rb\")\n",
        "y_train_vgg = pickle.load(pickle_in)"
      ],
      "execution_count": 0,
      "outputs": []
    },
    {
      "cell_type": "markdown",
      "metadata": {
        "id": "fwOA_6mxS6OS",
        "colab_type": "text"
      },
      "source": [
        "**View the shape of resized data:**"
      ]
    },
    {
      "cell_type": "code",
      "metadata": {
        "id": "Qp2At8hmEcv3",
        "colab_type": "code",
        "outputId": "cf328031-e8b4-4080-aade-d9c9f3eb63e2",
        "colab": {
          "base_uri": "https://localhost:8080/",
          "height": 34
        }
      },
      "source": [
        "x_train_vgg[0].shape"
      ],
      "execution_count": 0,
      "outputs": [
        {
          "output_type": "execute_result",
          "data": {
            "text/plain": [
              "(224, 224, 3)"
            ]
          },
          "metadata": {
            "tags": []
          },
          "execution_count": 75
        }
      ]
    },
    {
      "cell_type": "markdown",
      "metadata": {
        "id": "NFxf4vCjTdTK",
        "colab_type": "text"
      },
      "source": [
        "**View one of the images after resizing:**"
      ]
    },
    {
      "cell_type": "code",
      "metadata": {
        "id": "ipsXQf6GTD5Z",
        "colab_type": "code",
        "outputId": "ec1d4168-e29c-43d4-8f92-cf4e7a2d4f85",
        "colab": {
          "base_uri": "https://localhost:8080/",
          "height": 286
        }
      },
      "source": [
        "plt.imshow(x_train_vgg[100])"
      ],
      "execution_count": 0,
      "outputs": [
        {
          "output_type": "execute_result",
          "data": {
            "text/plain": [
              "<matplotlib.image.AxesImage at 0x7f8428485080>"
            ]
          },
          "metadata": {
            "tags": []
          },
          "execution_count": 108
        },
        {
          "output_type": "display_data",
          "data": {
            "image/png": "[encoded data removed]",
            "text/plain": [
              "<Figure size 432x288 with 1 Axes>"
            ]
          },
          "metadata": {
            "tags": []
          }
        }
      ]
    },
    {
      "cell_type": "markdown",
      "metadata": {
        "id": "qFS8q2Q3TlHr",
        "colab_type": "text"
      },
      "source": [
        "**Normalize the data:**"
      ]
    },
    {
      "cell_type": "code",
      "metadata": {
        "id": "1Zec5ygWEdy_",
        "colab_type": "code",
        "colab": {}
      },
      "source": [
        "x_train_vgg = np.array(x_train_vgg)"
      ],
      "execution_count": 0,
      "outputs": []
    },
    {
      "cell_type": "code",
      "metadata": {
        "id": "VC8BShoWEgS0",
        "colab_type": "code",
        "outputId": "df934cbf-d9bd-4ac5-8be7-be947d157221",
        "colab": {
          "base_uri": "https://localhost:8080/",
          "height": 34
        }
      },
      "source": [
        "x_train_vgg.shape"
      ],
      "execution_count": 0,
      "outputs": [
        {
          "output_type": "execute_result",
          "data": {
            "text/plain": [
              "(10222, 224, 224, 3)"
            ]
          },
          "metadata": {
            "tags": []
          },
          "execution_count": 110
        }
      ]
    },
    {
      "cell_type": "code",
      "metadata": {
        "id": "dFmHuDeyEmNY",
        "colab_type": "code",
        "colab": {}
      },
      "source": [
        "x_train_vgg = x_train_vgg.astype('float32')"
      ],
      "execution_count": 0,
      "outputs": []
    },
    {
      "cell_type": "code",
      "metadata": {
        "id": "wVlkWYKUEnOf",
        "colab_type": "code",
        "colab": {}
      },
      "source": [
        "x_train_vgg/= 255"
      ],
      "execution_count": 0,
      "outputs": []
    },
    {
      "cell_type": "markdown",
      "metadata": {
        "id": "ElAz2YTQTxPj",
        "colab_type": "text"
      },
      "source": [
        "**One-hot encoding of labels:**"
      ]
    },
    {
      "cell_type": "code",
      "metadata": {
        "id": "HAno5z66E0Up",
        "colab_type": "code",
        "colab": {}
      },
      "source": [
        "le = LabelEncoder()\n",
        "y_train_vgg = le.fit_transform(y_train_vgg)\n",
        "y_train_vgg = tf.keras.utils.to_categorical(y_train_vgg, num_classes=num_classes)"
      ],
      "execution_count": 0,
      "outputs": []
    },
    {
      "cell_type": "code",
      "metadata": {
        "id": "OvLg8-sRFqAA",
        "colab_type": "code",
        "outputId": "aaa57b36-8168-48e2-86ab-06c45cc760cc",
        "colab": {
          "base_uri": "https://localhost:8080/",
          "height": 153
        }
      },
      "source": [
        "y_train_vgg[0]"
      ],
      "execution_count": 0,
      "outputs": [
        {
          "output_type": "execute_result",
          "data": {
            "text/plain": [
              "array([0., 0., 0., 0., 0., 0., 0., 0., 0., 0., 0., 0., 0., 0., 0., 0., 0.,\n",
              "       0., 0., 1., 0., 0., 0., 0., 0., 0., 0., 0., 0., 0., 0., 0., 0., 0.,\n",
              "       0., 0., 0., 0., 0., 0., 0., 0., 0., 0., 0., 0., 0., 0., 0., 0., 0.,\n",
              "       0., 0., 0., 0., 0., 0., 0., 0., 0., 0., 0., 0., 0., 0., 0., 0., 0.,\n",
              "       0., 0., 0., 0., 0., 0., 0., 0., 0., 0., 0., 0., 0., 0., 0., 0., 0.,\n",
              "       0., 0., 0., 0., 0., 0., 0., 0., 0., 0., 0., 0., 0., 0., 0., 0., 0.,\n",
              "       0., 0., 0., 0., 0., 0., 0., 0., 0., 0., 0., 0., 0., 0., 0., 0., 0.,\n",
              "       0.], dtype=float32)"
            ]
          },
          "metadata": {
            "tags": []
          },
          "execution_count": 82
        }
      ]
    },
    {
      "cell_type": "markdown",
      "metadata": {
        "id": "eZYEXextT3ri",
        "colab_type": "text"
      },
      "source": [
        "**Split the data into train and test:**"
      ]
    },
    {
      "cell_type": "code",
      "metadata": {
        "id": "uz54Io1ME37k",
        "colab_type": "code",
        "colab": {}
      },
      "source": [
        "x_t_train1, x_val1, y_t_train1, y_val1 = train_test_split(x_train_vgg, y_train_vgg, test_size=0.2, random_state=0, stratify=y_train_vgg)"
      ],
      "execution_count": 0,
      "outputs": []
    },
    {
      "cell_type": "markdown",
      "metadata": {
        "id": "EhnZ0_I1T-Nn",
        "colab_type": "text"
      },
      "source": [
        "**Build a sequential model:**"
      ]
    },
    {
      "cell_type": "code",
      "metadata": {
        "id": "K40Kut98PIij",
        "colab_type": "code",
        "colab": {}
      },
      "source": [
        "input_shape_new = (224, 224, 3)"
      ],
      "execution_count": 0,
      "outputs": []
    },
    {
      "cell_type": "code",
      "metadata": {
        "id": "0CBvdogNPXXH",
        "colab_type": "code",
        "colab": {}
      },
      "source": [
        "model1 = tf.keras.models.Sequential()\n",
        "\n",
        "model1.add(tf.keras.layers.Conv2D(filters=32, kernel_size=(5,5), input_shape=input_shape_new, activation='relu', name='Conv_layer1'))\n",
        "model1.add(tf.keras.layers.MaxPool2D())\n",
        "# model1.add(tf.keras.layers.Dropout(0.1))\n",
        "model1.add(tf.keras.layers.BatchNormalization())\n",
        "\n",
        "model1.add(tf.keras.layers.Conv2D(filters=64, kernel_size=(3,3), activation='relu', name='Conv_layer2'))\n",
        "model1.add(tf.keras.layers.MaxPool2D())\n",
        "# model1.add(tf.keras.layers.Dropout(0.1))\n",
        "model1.add(tf.keras.layers.BatchNormalization())\n",
        "\n",
        "model1.add(tf.keras.layers.Flatten())\n",
        "\n",
        "model1.add(tf.keras.layers.Dense(256, activation='relu', name='Dense_layer'))\n",
        "model1.add(tf.keras.layers.BatchNormalization())\n",
        "model1.add(tf.keras.layers.Dropout(0.1))\n",
        "\n",
        "model1.add(tf.keras.layers.Dense(num_classes, activation='softmax', name='Output'))"
      ],
      "execution_count": 0,
      "outputs": []
    },
    {
      "cell_type": "markdown",
      "metadata": {
        "id": "RmbAV_uQUD3D",
        "colab_type": "text"
      },
      "source": [
        "**Compile:**"
      ]
    },
    {
      "cell_type": "code",
      "metadata": {
        "id": "s-sDNW-1Popc",
        "colab_type": "code",
        "colab": {}
      },
      "source": [
        "model1.compile(loss='categorical_crossentropy', optimizer='adam', metrics=['accuracy'])"
      ],
      "execution_count": 0,
      "outputs": []
    },
    {
      "cell_type": "markdown",
      "metadata": {
        "id": "BvKhkK3uUGuY",
        "colab_type": "text"
      },
      "source": [
        "**Fit the model in train data and validate against validation data:**"
      ]
    },
    {
      "cell_type": "code",
      "metadata": {
        "id": "jQ01lBB4Pq6V",
        "colab_type": "code",
        "outputId": "56ed032a-0805-4536-f4e1-17ed90da0b87",
        "colab": {
          "base_uri": "https://localhost:8080/",
          "height": 391
        }
      },
      "source": [
        "model1.fit(x_t_train1, y_t_train1, validation_data=(x_val1, y_val1), epochs=10, batch_size=128)"
      ],
      "execution_count": 0,
      "outputs": [
        {
          "output_type": "stream",
          "text": [
            "Train on 8177 samples, validate on 2045 samples\n",
            "Epoch 1/10\n",
            "8177/8177 [==============================] - 10s 1ms/sample - loss: 4.8672 - accuracy: 0.0300 - val_loss: 4.8004 - val_accuracy: 0.0127\n",
            "Epoch 2/10\n",
            "8177/8177 [==============================] - 8s 1ms/sample - loss: 3.8892 - accuracy: 0.1379 - val_loss: 5.0425 - val_accuracy: 0.0103\n",
            "Epoch 3/10\n",
            "8177/8177 [==============================] - 8s 1ms/sample - loss: 2.0634 - accuracy: 0.5941 - val_loss: 5.3137 - val_accuracy: 0.0098\n",
            "Epoch 4/10\n",
            "8177/8177 [==============================] - 8s 1ms/sample - loss: 0.2664 - accuracy: 0.9828 - val_loss: 5.8752 - val_accuracy: 0.0078\n",
            "Epoch 5/10\n",
            "8177/8177 [==============================] - 8s 1ms/sample - loss: 0.0364 - accuracy: 0.9988 - val_loss: 6.4824 - val_accuracy: 0.0108\n",
            "Epoch 6/10\n",
            "8177/8177 [==============================] - 8s 1ms/sample - loss: 0.0160 - accuracy: 0.9990 - val_loss: 6.7159 - val_accuracy: 0.0112\n",
            "Epoch 7/10\n",
            "8177/8177 [==============================] - 8s 999us/sample - loss: 0.0099 - accuracy: 0.9994 - val_loss: 6.5831 - val_accuracy: 0.0112\n",
            "Epoch 8/10\n",
            "8177/8177 [==============================] - 8s 1ms/sample - loss: 0.0111 - accuracy: 0.9990 - val_loss: 6.2264 - val_accuracy: 0.0152\n",
            "Epoch 9/10\n",
            "8177/8177 [==============================] - 8s 1ms/sample - loss: 0.0085 - accuracy: 0.9990 - val_loss: 5.6413 - val_accuracy: 0.0303\n",
            "Epoch 10/10\n",
            "8177/8177 [==============================] - 8s 997us/sample - loss: 0.0084 - accuracy: 0.9991 - val_loss: 5.1190 - val_accuracy: 0.0386\n"
          ],
          "name": "stdout"
        },
        {
          "output_type": "execute_result",
          "data": {
            "text/plain": [
              "<tensorflow.python.keras.callbacks.History at 0x7f8ab249b7b8>"
            ]
          },
          "metadata": {
            "tags": []
          },
          "execution_count": 87
        }
      ]
    },
    {
      "cell_type": "markdown",
      "metadata": {
        "id": "VtJAdGINURGn",
        "colab_type": "text"
      },
      "source": [
        "**View Summary of model:**"
      ]
    },
    {
      "cell_type": "code",
      "metadata": {
        "id": "Q6s4ycB4P0Z5",
        "colab_type": "code",
        "outputId": "af15dd4d-a13c-47fd-8745-2dd5f4341e2b",
        "colab": {
          "base_uri": "https://localhost:8080/",
          "height": 527
        }
      },
      "source": [
        "model1.summary()"
      ],
      "execution_count": 0,
      "outputs": [
        {
          "output_type": "stream",
          "text": [
            "Model: \"sequential_2\"\n",
            "_________________________________________________________________\n",
            "Layer (type)                 Output Shape              Param #   \n",
            "=================================================================\n",
            "Conv_layer1 (Conv2D)         (None, 220, 220, 32)      2432      \n",
            "_________________________________________________________________\n",
            "max_pooling2d_2 (MaxPooling2 (None, 110, 110, 32)      0         \n",
            "_________________________________________________________________\n",
            "batch_normalization_3 (Batch (None, 110, 110, 32)      128       \n",
            "_________________________________________________________________\n",
            "Conv_layer2 (Conv2D)         (None, 108, 108, 64)      18496     \n",
            "_________________________________________________________________\n",
            "max_pooling2d_3 (MaxPooling2 (None, 54, 54, 64)        0         \n",
            "_________________________________________________________________\n",
            "batch_normalization_4 (Batch (None, 54, 54, 64)        256       \n",
            "_________________________________________________________________\n",
            "flatten_2 (Flatten)          (None, 186624)            0         \n",
            "_________________________________________________________________\n",
            "Dense_layer (Dense)          (None, 256)               47776000  \n",
            "_________________________________________________________________\n",
            "batch_normalization_5 (Batch (None, 256)               1024      \n",
            "_________________________________________________________________\n",
            "dropout_1 (Dropout)          (None, 256)               0         \n",
            "_________________________________________________________________\n",
            "Output (Dense)               (None, 120)               30840     \n",
            "=================================================================\n",
            "Total params: 47,829,176\n",
            "Trainable params: 47,828,472\n",
            "Non-trainable params: 704\n",
            "_________________________________________________________________\n"
          ],
          "name": "stdout"
        }
      ]
    },
    {
      "cell_type": "markdown",
      "metadata": {
        "id": "0l4DB5CQUWkK",
        "colab_type": "text"
      },
      "source": [
        "**Accuracy:**"
      ]
    },
    {
      "cell_type": "code",
      "metadata": {
        "id": "kAIFhWntP10b",
        "colab_type": "code",
        "outputId": "922fa77c-8cdf-4440-ad95-5fe0f8c5c9ff",
        "colab": {
          "base_uri": "https://localhost:8080/",
          "height": 51
        }
      },
      "source": [
        "loss, acc = model1.evaluate(x_val1, y_val1)\n",
        "print('Loss: {}, Accuracy: {}'.format(loss, acc))"
      ],
      "execution_count": 0,
      "outputs": [
        {
          "output_type": "stream",
          "text": [
            "2045/2045 [==============================] - 1s 530us/sample - loss: 5.1190 - accuracy: 0.0386\n",
            "Loss: 5.119012973244441, Accuracy: 0.038630805909633636\n"
          ],
          "name": "stdout"
        }
      ]
    },
    {
      "cell_type": "markdown",
      "metadata": {
        "id": "B8e64h6-Ua64",
        "colab_type": "text"
      },
      "source": [
        "### As seen earlier, accuracy is poor even after image resizing"
      ]
    },
    {
      "cell_type": "markdown",
      "metadata": {
        "id": "hghcvghCUkmn",
        "colab_type": "text"
      },
      "source": [
        "**Let's try image augmentation:**"
      ]
    },
    {
      "cell_type": "code",
      "metadata": {
        "id": "mjiIrK3XFw5H",
        "colab_type": "code",
        "colab": {}
      },
      "source": [
        "train_gen_data1 = train_generator.flow(x_t_train1, y_t_train1, batch_size=32)\n",
        "val_gen_data1 = val_generator.flow(x_val1, y_val1, batch_size=32)"
      ],
      "execution_count": 0,
      "outputs": []
    },
    {
      "cell_type": "code",
      "metadata": {
        "id": "AzMXF-VWGaWM",
        "colab_type": "code",
        "outputId": "12eb3ded-f83b-48ab-bdcc-b3a0ab3d3d73",
        "colab": {
          "base_uri": "https://localhost:8080/",
          "height": 527
        }
      },
      "source": [
        "model1.fit_generator(train_gen_data1, steps_per_epoch=50, validation_data=val_gen_data1, validation_steps=50, epochs=10)"
      ],
      "execution_count": 0,
      "outputs": [
        {
          "output_type": "stream",
          "text": [
            "WARNING:tensorflow:sample_weight modes were coerced from\n",
            "  ...\n",
            "    to  \n",
            "  ['...']\n",
            "WARNING:tensorflow:sample_weight modes were coerced from\n",
            "  ...\n",
            "    to  \n",
            "  ['...']\n",
            "Train for 50 steps, validate for 50 steps\n",
            "Epoch 1/10\n",
            "50/50 [==============================] - 34s 677ms/step - loss: 5.1728 - accuracy: 0.0233 - val_loss: 24.0690 - val_accuracy: 0.0094\n",
            "Epoch 2/10\n",
            "50/50 [==============================] - 34s 675ms/step - loss: 4.8972 - accuracy: 0.0250 - val_loss: 7.5402 - val_accuracy: 0.0206\n",
            "Epoch 3/10\n",
            "50/50 [==============================] - 34s 682ms/step - loss: 4.6996 - accuracy: 0.0366 - val_loss: 7.3652 - val_accuracy: 0.0194\n",
            "Epoch 4/10\n",
            "50/50 [==============================] - 34s 681ms/step - loss: 4.7209 - accuracy: 0.0406 - val_loss: 5.7744 - val_accuracy: 0.0237\n",
            "Epoch 5/10\n",
            "50/50 [==============================] - 34s 676ms/step - loss: 4.6050 - accuracy: 0.0435 - val_loss: 5.1601 - val_accuracy: 0.0344\n",
            "Epoch 6/10\n",
            "50/50 [==============================] - 34s 680ms/step - loss: 4.5520 - accuracy: 0.0475 - val_loss: 4.9515 - val_accuracy: 0.0306\n",
            "Epoch 7/10\n",
            "50/50 [==============================] - 34s 683ms/step - loss: 4.5441 - accuracy: 0.0467 - val_loss: 4.7960 - val_accuracy: 0.0406\n",
            "Epoch 8/10\n",
            "50/50 [==============================] - 34s 683ms/step - loss: 4.5142 - accuracy: 0.0444 - val_loss: 5.0500 - val_accuracy: 0.0188\n",
            "Epoch 9/10\n",
            "50/50 [==============================] - 34s 682ms/step - loss: 4.4719 - accuracy: 0.0494 - val_loss: 4.9843 - val_accuracy: 0.0225\n",
            "Epoch 10/10\n",
            "50/50 [==============================] - 34s 685ms/step - loss: 4.4500 - accuracy: 0.0581 - val_loss: 4.6849 - val_accuracy: 0.0413\n"
          ],
          "name": "stdout"
        },
        {
          "output_type": "execute_result",
          "data": {
            "text/plain": [
              "<tensorflow.python.keras.callbacks.History at 0x7f8ab2263048>"
            ]
          },
          "metadata": {
            "tags": []
          },
          "execution_count": 91
        }
      ]
    },
    {
      "cell_type": "code",
      "metadata": {
        "id": "ZECduAeeQDw8",
        "colab_type": "code",
        "outputId": "587b333e-fca9-4f64-dd09-a8174c91b1f9",
        "colab": {
          "base_uri": "https://localhost:8080/",
          "height": 51
        }
      },
      "source": [
        "# Accuracy:\n",
        "loss, acc = model1.evaluate(x_val1, y_val1)\n",
        "print('Loss: {}, Accuracy: {}'.format(loss, acc))"
      ],
      "execution_count": 0,
      "outputs": [
        {
          "output_type": "stream",
          "text": [
            "2045/2045 [==============================] - 1s 494us/sample - loss: 4.5386 - accuracy: 0.0572\n",
            "Loss: 4.538603742781362, Accuracy: 0.0572127141058445\n"
          ],
          "name": "stdout"
        }
      ]
    },
    {
      "cell_type": "markdown",
      "metadata": {
        "id": "QjQ0fqzGUuhf",
        "colab_type": "text"
      },
      "source": [
        "### Accuracy is poor once again! Let's follow the earlier step of using transfer learning"
      ]
    },
    {
      "cell_type": "markdown",
      "metadata": {
        "id": "3fvc80WXU5rE",
        "colab_type": "text"
      },
      "source": [
        "**VGG16 Transfer Learning:**"
      ]
    },
    {
      "cell_type": "code",
      "metadata": {
        "id": "9nL2CtxXGnQ4",
        "colab_type": "code",
        "outputId": "e08ba055-2827-4dcb-c870-ed4f85676593",
        "colab": {
          "base_uri": "https://localhost:8080/",
          "height": 34
        }
      },
      "source": [
        "base_model.trainable = False\n",
        "print(base_model.trainable_weights)"
      ],
      "execution_count": 0,
      "outputs": [
        {
          "output_type": "stream",
          "text": [
            "[]\n"
          ],
          "name": "stdout"
        }
      ]
    },
    {
      "cell_type": "code",
      "metadata": {
        "id": "WApJ0J2NGsP1",
        "colab_type": "code",
        "colab": {}
      },
      "source": [
        "model_vgg_mod_updt = tf.keras.models.Sequential([base_model, flatten_layer, dense_layer1, dense_layer2, output_layer])"
      ],
      "execution_count": 0,
      "outputs": []
    },
    {
      "cell_type": "markdown",
      "metadata": {
        "id": "P-qcAAJyU9-9",
        "colab_type": "text"
      },
      "source": [
        "**Model Summary:**"
      ]
    },
    {
      "cell_type": "code",
      "metadata": {
        "id": "S8xJkkRtGvVx",
        "colab_type": "code",
        "outputId": "71b2f3af-6418-4951-83ec-db4a8ba65487",
        "colab": {
          "base_uri": "https://localhost:8080/",
          "height": 323
        }
      },
      "source": [
        "model_vgg_mod_updt.summary()"
      ],
      "execution_count": 0,
      "outputs": [
        {
          "output_type": "stream",
          "text": [
            "Model: \"sequential_3\"\n",
            "_________________________________________________________________\n",
            "Layer (type)                 Output Shape              Param #   \n",
            "=================================================================\n",
            "vgg16 (Model)                (None, 512)               14714688  \n",
            "_________________________________________________________________\n",
            "flatten_1 (Flatten)          (None, 512)               0         \n",
            "_________________________________________________________________\n",
            "dense_layer1 (Dense)         (None, 1024)              525312    \n",
            "_________________________________________________________________\n",
            "dense_layer2 (Dense)         (None, 256)               262400    \n",
            "_________________________________________________________________\n",
            "output (Dense)               (None, 120)               30840     \n",
            "=================================================================\n",
            "Total params: 15,533,240\n",
            "Trainable params: 818,552\n",
            "Non-trainable params: 14,714,688\n",
            "_________________________________________________________________\n"
          ],
          "name": "stdout"
        }
      ]
    },
    {
      "cell_type": "markdown",
      "metadata": {
        "id": "82oB2F3YVBap",
        "colab_type": "text"
      },
      "source": [
        "**Compile the model:**"
      ]
    },
    {
      "cell_type": "code",
      "metadata": {
        "id": "F9HWuijCGzKB",
        "colab_type": "code",
        "colab": {}
      },
      "source": [
        "model_vgg_mod_updt.compile(loss='categorical_crossentropy', optimizer='adam', metrics=['accuracy'])"
      ],
      "execution_count": 0,
      "outputs": []
    },
    {
      "cell_type": "markdown",
      "metadata": {
        "id": "9097lKz_VEev",
        "colab_type": "text"
      },
      "source": [
        "**Fit the model:**"
      ]
    },
    {
      "cell_type": "markdown",
      "metadata": {
        "id": "FZeHcGumVKOd",
        "colab_type": "text"
      },
      "source": [
        "### Im trying with 100 epochs this time so that the model will have some learning space"
      ]
    },
    {
      "cell_type": "code",
      "metadata": {
        "id": "OFX6U5RaG2d_",
        "colab_type": "code",
        "outputId": "e85c5493-238e-4e8e-e21c-2b0fd57effb6",
        "colab": {
          "base_uri": "https://localhost:8080/",
          "height": 1000
        }
      },
      "source": [
        "model_vgg_mod_updt.fit(x_t_train1, y_t_train1, validation_data=(x_val1, y_val1), epochs=100, batch_size=128)"
      ],
      "execution_count": 0,
      "outputs": [
        {
          "output_type": "stream",
          "text": [
            "Train on 8177 samples, validate on 2045 samples\n",
            "Epoch 1/100\n",
            "8177/8177 [==============================] - 30s 4ms/sample - loss: 2.5685 - accuracy: 0.3447 - val_loss: 2.7439 - val_accuracy: 0.2866\n",
            "Epoch 2/100\n",
            "8177/8177 [==============================] - 23s 3ms/sample - loss: 2.3542 - accuracy: 0.3844 - val_loss: 2.7076 - val_accuracy: 0.3007\n",
            "Epoch 3/100\n",
            "8177/8177 [==============================] - 23s 3ms/sample - loss: 2.2322 - accuracy: 0.4096 - val_loss: 2.6027 - val_accuracy: 0.3169\n",
            "Epoch 4/100\n",
            "8177/8177 [==============================] - 23s 3ms/sample - loss: 2.1468 - accuracy: 0.4282 - val_loss: 2.5953 - val_accuracy: 0.3198\n",
            "Epoch 5/100\n",
            "8177/8177 [==============================] - 23s 3ms/sample - loss: 2.0865 - accuracy: 0.4383 - val_loss: 2.5451 - val_accuracy: 0.3335\n",
            "Epoch 6/100\n",
            "8177/8177 [==============================] - 23s 3ms/sample - loss: 2.0120 - accuracy: 0.4563 - val_loss: 2.5927 - val_accuracy: 0.3198\n",
            "Epoch 7/100\n",
            "8177/8177 [==============================] - 23s 3ms/sample - loss: 1.9379 - accuracy: 0.4745 - val_loss: 2.5288 - val_accuracy: 0.3286\n",
            "Epoch 8/100\n",
            "8177/8177 [==============================] - 23s 3ms/sample - loss: 1.8805 - accuracy: 0.4959 - val_loss: 2.5174 - val_accuracy: 0.3340\n",
            "Epoch 9/100\n",
            "8177/8177 [==============================] - 23s 3ms/sample - loss: 1.8342 - accuracy: 0.4985 - val_loss: 2.5292 - val_accuracy: 0.3423\n",
            "Epoch 10/100\n",
            "8177/8177 [==============================] - 23s 3ms/sample - loss: 1.7874 - accuracy: 0.5172 - val_loss: 2.5340 - val_accuracy: 0.3462\n",
            "Epoch 11/100\n",
            "8177/8177 [==============================] - 23s 3ms/sample - loss: 1.7408 - accuracy: 0.5272 - val_loss: 2.5288 - val_accuracy: 0.3472\n",
            "Epoch 12/100\n",
            "8177/8177 [==============================] - 23s 3ms/sample - loss: 1.6867 - accuracy: 0.5391 - val_loss: 2.5184 - val_accuracy: 0.3467\n",
            "Epoch 13/100\n",
            "8177/8177 [==============================] - 23s 3ms/sample - loss: 1.6501 - accuracy: 0.5500 - val_loss: 2.5192 - val_accuracy: 0.3477\n",
            "Epoch 14/100\n",
            "8177/8177 [==============================] - 23s 3ms/sample - loss: 1.5759 - accuracy: 0.5749 - val_loss: 2.5223 - val_accuracy: 0.3594\n",
            "Epoch 15/100\n",
            "8177/8177 [==============================] - 23s 3ms/sample - loss: 1.5643 - accuracy: 0.5759 - val_loss: 2.5518 - val_accuracy: 0.3614\n",
            "Epoch 16/100\n",
            "8177/8177 [==============================] - 23s 3ms/sample - loss: 1.5089 - accuracy: 0.5848 - val_loss: 2.5408 - val_accuracy: 0.3604\n",
            "Epoch 17/100\n",
            "8177/8177 [==============================] - 23s 3ms/sample - loss: 1.4676 - accuracy: 0.5995 - val_loss: 2.5582 - val_accuracy: 0.3555\n",
            "Epoch 18/100\n",
            "8177/8177 [==============================] - 23s 3ms/sample - loss: 1.4457 - accuracy: 0.6036 - val_loss: 2.5488 - val_accuracy: 0.3452\n",
            "Epoch 19/100\n",
            "8177/8177 [==============================] - 23s 3ms/sample - loss: 1.3805 - accuracy: 0.6227 - val_loss: 2.5528 - val_accuracy: 0.3526\n",
            "Epoch 20/100\n",
            "8177/8177 [==============================] - 23s 3ms/sample - loss: 1.3419 - accuracy: 0.6254 - val_loss: 2.6063 - val_accuracy: 0.3565\n",
            "Epoch 21/100\n",
            "8177/8177 [==============================] - 23s 3ms/sample - loss: 1.3019 - accuracy: 0.6418 - val_loss: 2.6019 - val_accuracy: 0.3570\n",
            "Epoch 22/100\n",
            "8177/8177 [==============================] - 23s 3ms/sample - loss: 1.2685 - accuracy: 0.6539 - val_loss: 2.5994 - val_accuracy: 0.3482\n",
            "Epoch 23/100\n",
            "8177/8177 [==============================] - 23s 3ms/sample - loss: 1.2200 - accuracy: 0.6696 - val_loss: 2.6007 - val_accuracy: 0.3604\n",
            "Epoch 24/100\n",
            "8177/8177 [==============================] - 23s 3ms/sample - loss: 1.1903 - accuracy: 0.6786 - val_loss: 2.6308 - val_accuracy: 0.3638\n",
            "Epoch 25/100\n",
            "8177/8177 [==============================] - 23s 3ms/sample - loss: 1.1550 - accuracy: 0.6851 - val_loss: 2.6382 - val_accuracy: 0.3628\n",
            "Epoch 26/100\n",
            "8177/8177 [==============================] - 23s 3ms/sample - loss: 1.1102 - accuracy: 0.6979 - val_loss: 2.7193 - val_accuracy: 0.3575\n",
            "Epoch 27/100\n",
            "8177/8177 [==============================] - 23s 3ms/sample - loss: 1.0765 - accuracy: 0.7125 - val_loss: 2.6914 - val_accuracy: 0.3584\n",
            "Epoch 28/100\n",
            "8177/8177 [==============================] - 23s 3ms/sample - loss: 1.0369 - accuracy: 0.7168 - val_loss: 2.6795 - val_accuracy: 0.3619\n",
            "Epoch 29/100\n",
            "8177/8177 [==============================] - 23s 3ms/sample - loss: 0.9988 - accuracy: 0.7321 - val_loss: 2.7383 - val_accuracy: 0.3491\n",
            "Epoch 30/100\n",
            "8177/8177 [==============================] - 23s 3ms/sample - loss: 0.9745 - accuracy: 0.7401 - val_loss: 2.7380 - val_accuracy: 0.3614\n",
            "Epoch 31/100\n",
            "8177/8177 [==============================] - 23s 3ms/sample - loss: 0.9522 - accuracy: 0.7453 - val_loss: 2.7701 - val_accuracy: 0.3584\n",
            "Epoch 32/100\n",
            "8177/8177 [==============================] - 23s 3ms/sample - loss: 0.8996 - accuracy: 0.7597 - val_loss: 2.8056 - val_accuracy: 0.3697\n",
            "Epoch 33/100\n",
            "8177/8177 [==============================] - 23s 3ms/sample - loss: 0.8569 - accuracy: 0.7755 - val_loss: 2.7805 - val_accuracy: 0.3667\n",
            "Epoch 34/100\n",
            "8177/8177 [==============================] - 23s 3ms/sample - loss: 0.8263 - accuracy: 0.7842 - val_loss: 2.8091 - val_accuracy: 0.3589\n",
            "Epoch 35/100\n",
            "8177/8177 [==============================] - 23s 3ms/sample - loss: 0.8178 - accuracy: 0.7850 - val_loss: 2.8362 - val_accuracy: 0.3614\n",
            "Epoch 36/100\n",
            "8177/8177 [==============================] - 23s 3ms/sample - loss: 0.7759 - accuracy: 0.7964 - val_loss: 2.8719 - val_accuracy: 0.3658\n",
            "Epoch 37/100\n",
            "8177/8177 [==============================] - 23s 3ms/sample - loss: 0.7418 - accuracy: 0.8079 - val_loss: 2.8844 - val_accuracy: 0.3638\n",
            "Epoch 38/100\n",
            "8177/8177 [==============================] - 23s 3ms/sample - loss: 0.7160 - accuracy: 0.8139 - val_loss: 2.9180 - val_accuracy: 0.3721\n",
            "Epoch 39/100\n",
            "8177/8177 [==============================] - 23s 3ms/sample - loss: 0.6702 - accuracy: 0.8317 - val_loss: 2.9117 - val_accuracy: 0.3756\n",
            "Epoch 40/100\n",
            "8177/8177 [==============================] - 23s 3ms/sample - loss: 0.6403 - accuracy: 0.8404 - val_loss: 2.9670 - val_accuracy: 0.3614\n",
            "Epoch 41/100\n",
            "8177/8177 [==============================] - 23s 3ms/sample - loss: 0.6297 - accuracy: 0.8447 - val_loss: 3.0151 - val_accuracy: 0.3526\n",
            "Epoch 42/100\n",
            "8177/8177 [==============================] - 23s 3ms/sample - loss: 0.5874 - accuracy: 0.8563 - val_loss: 3.0547 - val_accuracy: 0.3545\n",
            "Epoch 43/100\n",
            "8177/8177 [==============================] - 23s 3ms/sample - loss: 0.5606 - accuracy: 0.8658 - val_loss: 3.0209 - val_accuracy: 0.3623\n",
            "Epoch 44/100\n",
            "8177/8177 [==============================] - 23s 3ms/sample - loss: 0.5164 - accuracy: 0.8806 - val_loss: 3.1441 - val_accuracy: 0.3584\n",
            "Epoch 45/100\n",
            "8177/8177 [==============================] - 23s 3ms/sample - loss: 0.5073 - accuracy: 0.8800 - val_loss: 3.1123 - val_accuracy: 0.3643\n",
            "Epoch 46/100\n",
            "8177/8177 [==============================] - 23s 3ms/sample - loss: 0.4793 - accuracy: 0.8897 - val_loss: 3.1690 - val_accuracy: 0.3535\n",
            "Epoch 47/100\n",
            "8177/8177 [==============================] - 23s 3ms/sample - loss: 0.4462 - accuracy: 0.8986 - val_loss: 3.1983 - val_accuracy: 0.3589\n",
            "Epoch 48/100\n",
            "8177/8177 [==============================] - 23s 3ms/sample - loss: 0.4376 - accuracy: 0.9000 - val_loss: 3.2036 - val_accuracy: 0.3565\n",
            "Epoch 49/100\n",
            "8177/8177 [==============================] - 23s 3ms/sample - loss: 0.4097 - accuracy: 0.9129 - val_loss: 3.3049 - val_accuracy: 0.3565\n",
            "Epoch 50/100\n",
            "8177/8177 [==============================] - 23s 3ms/sample - loss: 0.3907 - accuracy: 0.9173 - val_loss: 3.2792 - val_accuracy: 0.3619\n",
            "Epoch 51/100\n",
            "8177/8177 [==============================] - 23s 3ms/sample - loss: 0.3549 - accuracy: 0.9291 - val_loss: 3.2838 - val_accuracy: 0.3623\n",
            "Epoch 52/100\n",
            "8177/8177 [==============================] - 23s 3ms/sample - loss: 0.3216 - accuracy: 0.9414 - val_loss: 3.3583 - val_accuracy: 0.3623\n",
            "Epoch 53/100\n",
            "8177/8177 [==============================] - 23s 3ms/sample - loss: 0.3126 - accuracy: 0.9415 - val_loss: 3.4092 - val_accuracy: 0.3677\n",
            "Epoch 54/100\n",
            "8177/8177 [==============================] - 23s 3ms/sample - loss: 0.3012 - accuracy: 0.9442 - val_loss: 3.4338 - val_accuracy: 0.3614\n",
            "Epoch 55/100\n",
            "8177/8177 [==============================] - 23s 3ms/sample - loss: 0.2722 - accuracy: 0.9545 - val_loss: 3.4366 - val_accuracy: 0.3658\n",
            "Epoch 56/100\n",
            "8177/8177 [==============================] - 23s 3ms/sample - loss: 0.2569 - accuracy: 0.9568 - val_loss: 3.5251 - val_accuracy: 0.3570\n",
            "Epoch 57/100\n",
            "8177/8177 [==============================] - 23s 3ms/sample - loss: 0.2453 - accuracy: 0.9606 - val_loss: 3.5238 - val_accuracy: 0.3667\n",
            "Epoch 58/100\n",
            "8177/8177 [==============================] - 23s 3ms/sample - loss: 0.2268 - accuracy: 0.9637 - val_loss: 3.5608 - val_accuracy: 0.3555\n",
            "Epoch 59/100\n",
            "8177/8177 [==============================] - 23s 3ms/sample - loss: 0.2103 - accuracy: 0.9698 - val_loss: 3.6333 - val_accuracy: 0.3628\n",
            "Epoch 60/100\n",
            "8177/8177 [==============================] - 23s 3ms/sample - loss: 0.2004 - accuracy: 0.9725 - val_loss: 3.6376 - val_accuracy: 0.3570\n",
            "Epoch 61/100\n",
            "8177/8177 [==============================] - 23s 3ms/sample - loss: 0.1793 - accuracy: 0.9775 - val_loss: 3.7130 - val_accuracy: 0.3555\n",
            "Epoch 62/100\n",
            "8177/8177 [==============================] - 23s 3ms/sample - loss: 0.1695 - accuracy: 0.9787 - val_loss: 3.7095 - val_accuracy: 0.3560\n",
            "Epoch 63/100\n",
            "8177/8177 [==============================] - 23s 3ms/sample - loss: 0.1571 - accuracy: 0.9845 - val_loss: 3.7679 - val_accuracy: 0.3643\n",
            "Epoch 64/100\n",
            "8177/8177 [==============================] - 23s 3ms/sample - loss: 0.1405 - accuracy: 0.9875 - val_loss: 3.7939 - val_accuracy: 0.3638\n",
            "Epoch 65/100\n",
            "8177/8177 [==============================] - 23s 3ms/sample - loss: 0.1301 - accuracy: 0.9895 - val_loss: 3.8545 - val_accuracy: 0.3535\n",
            "Epoch 66/100\n",
            "8177/8177 [==============================] - 23s 3ms/sample - loss: 0.1199 - accuracy: 0.9916 - val_loss: 3.8658 - val_accuracy: 0.3589\n",
            "Epoch 67/100\n",
            "8177/8177 [==============================] - 23s 3ms/sample - loss: 0.1101 - accuracy: 0.9929 - val_loss: 3.9206 - val_accuracy: 0.3555\n",
            "Epoch 68/100\n",
            "8177/8177 [==============================] - 23s 3ms/sample - loss: 0.1042 - accuracy: 0.9933 - val_loss: 3.9357 - val_accuracy: 0.3609\n",
            "Epoch 69/100\n",
            "8177/8177 [==============================] - 23s 3ms/sample - loss: 0.0913 - accuracy: 0.9966 - val_loss: 3.9823 - val_accuracy: 0.3619\n",
            "Epoch 70/100\n",
            "8177/8177 [==============================] - 23s 3ms/sample - loss: 0.0893 - accuracy: 0.9958 - val_loss: 4.1119 - val_accuracy: 0.3619\n",
            "Epoch 71/100\n",
            "8177/8177 [==============================] - 23s 3ms/sample - loss: 0.0926 - accuracy: 0.9962 - val_loss: 4.0653 - val_accuracy: 0.3594\n",
            "Epoch 72/100\n",
            "8177/8177 [==============================] - 23s 3ms/sample - loss: 0.0931 - accuracy: 0.9929 - val_loss: 4.1587 - val_accuracy: 0.3545\n",
            "Epoch 73/100\n",
            "8177/8177 [==============================] - 23s 3ms/sample - loss: 0.0701 - accuracy: 0.9976 - val_loss: 4.1692 - val_accuracy: 0.3535\n",
            "Epoch 74/100\n",
            "8177/8177 [==============================] - 23s 3ms/sample - loss: 0.0657 - accuracy: 0.9987 - val_loss: 4.1821 - val_accuracy: 0.3526\n",
            "Epoch 75/100\n",
            "8177/8177 [==============================] - 23s 3ms/sample - loss: 0.0623 - accuracy: 0.9980 - val_loss: 4.2232 - val_accuracy: 0.3575\n",
            "Epoch 76/100\n",
            "8177/8177 [==============================] - 23s 3ms/sample - loss: 0.0554 - accuracy: 0.9987 - val_loss: 4.2288 - val_accuracy: 0.3584\n",
            "Epoch 77/100\n",
            "8177/8177 [==============================] - 23s 3ms/sample - loss: 0.0529 - accuracy: 0.9985 - val_loss: 4.2909 - val_accuracy: 0.3526\n",
            "Epoch 78/100\n",
            "8177/8177 [==============================] - 23s 3ms/sample - loss: 0.0565 - accuracy: 0.9984 - val_loss: 4.3069 - val_accuracy: 0.3570\n",
            "Epoch 79/100\n",
            "8177/8177 [==============================] - 23s 3ms/sample - loss: 0.0494 - accuracy: 0.9982 - val_loss: 4.3776 - val_accuracy: 0.3604\n",
            "Epoch 80/100\n",
            "8177/8177 [==============================] - 23s 3ms/sample - loss: 0.0440 - accuracy: 0.9990 - val_loss: 4.3930 - val_accuracy: 0.3579\n",
            "Epoch 81/100\n",
            "8177/8177 [==============================] - 23s 3ms/sample - loss: 0.0413 - accuracy: 0.9989 - val_loss: 4.4706 - val_accuracy: 0.3584\n",
            "Epoch 82/100\n",
            "8177/8177 [==============================] - 23s 3ms/sample - loss: 0.0377 - accuracy: 0.9990 - val_loss: 4.4711 - val_accuracy: 0.3594\n",
            "Epoch 83/100\n",
            "8177/8177 [==============================] - 23s 3ms/sample - loss: 0.0387 - accuracy: 0.9987 - val_loss: 4.5017 - val_accuracy: 0.3643\n",
            "Epoch 84/100\n",
            "8177/8177 [==============================] - 23s 3ms/sample - loss: 0.0342 - accuracy: 0.9990 - val_loss: 4.5615 - val_accuracy: 0.3663\n",
            "Epoch 85/100\n",
            "8177/8177 [==============================] - 23s 3ms/sample - loss: 0.0344 - accuracy: 0.9987 - val_loss: 4.5435 - val_accuracy: 0.3692\n",
            "Epoch 86/100\n",
            "8177/8177 [==============================] - 23s 3ms/sample - loss: 0.0309 - accuracy: 0.9991 - val_loss: 4.5906 - val_accuracy: 0.3599\n",
            "Epoch 87/100\n",
            "8177/8177 [==============================] - 23s 3ms/sample - loss: 0.0302 - accuracy: 0.9990 - val_loss: 4.6247 - val_accuracy: 0.3677\n",
            "Epoch 88/100\n",
            "8177/8177 [==============================] - 23s 3ms/sample - loss: 0.0308 - accuracy: 0.9991 - val_loss: 4.6616 - val_accuracy: 0.3589\n",
            "Epoch 89/100\n",
            "8177/8177 [==============================] - 23s 3ms/sample - loss: 0.0290 - accuracy: 0.9993 - val_loss: 4.6794 - val_accuracy: 0.3570\n",
            "Epoch 90/100\n",
            "8177/8177 [==============================] - 23s 3ms/sample - loss: 0.0291 - accuracy: 0.9989 - val_loss: 4.7111 - val_accuracy: 0.3628\n",
            "Epoch 91/100\n",
            "8177/8177 [==============================] - 23s 3ms/sample - loss: 0.0291 - accuracy: 0.9989 - val_loss: 4.7457 - val_accuracy: 0.3599\n",
            "Epoch 92/100\n",
            "8177/8177 [==============================] - 23s 3ms/sample - loss: 0.0412 - accuracy: 0.9972 - val_loss: 4.7240 - val_accuracy: 0.3584\n",
            "Epoch 93/100\n",
            "8177/8177 [==============================] - 23s 3ms/sample - loss: 0.0523 - accuracy: 0.9967 - val_loss: 4.8621 - val_accuracy: 0.3506\n",
            "Epoch 94/100\n",
            "8177/8177 [==============================] - 23s 3ms/sample - loss: 0.0415 - accuracy: 0.9982 - val_loss: 4.8945 - val_accuracy: 0.3565\n",
            "Epoch 95/100\n",
            "8177/8177 [==============================] - 23s 3ms/sample - loss: 0.0284 - accuracy: 0.9991 - val_loss: 4.9133 - val_accuracy: 0.3619\n",
            "Epoch 96/100\n",
            "8177/8177 [==============================] - 23s 3ms/sample - loss: 0.0243 - accuracy: 0.9985 - val_loss: 4.8953 - val_accuracy: 0.3565\n",
            "Epoch 97/100\n",
            "8177/8177 [==============================] - 23s 3ms/sample - loss: 0.0232 - accuracy: 0.9988 - val_loss: 5.0102 - val_accuracy: 0.3570\n",
            "Epoch 98/100\n",
            "8177/8177 [==============================] - 23s 3ms/sample - loss: 0.0231 - accuracy: 0.9987 - val_loss: 4.9749 - val_accuracy: 0.3604\n",
            "Epoch 99/100\n",
            "8177/8177 [==============================] - 23s 3ms/sample - loss: 0.0221 - accuracy: 0.9990 - val_loss: 5.2139 - val_accuracy: 0.3526\n",
            "Epoch 100/100\n",
            "8177/8177 [==============================] - 23s 3ms/sample - loss: 0.0258 - accuracy: 0.9984 - val_loss: 5.0573 - val_accuracy: 0.3550\n"
          ],
          "name": "stdout"
        },
        {
          "output_type": "execute_result",
          "data": {
            "text/plain": [
              "<tensorflow.python.keras.callbacks.History at 0x7f8a9c71cef0>"
            ]
          },
          "metadata": {
            "tags": []
          },
          "execution_count": 97
        }
      ]
    },
    {
      "cell_type": "markdown",
      "metadata": {
        "id": "8BHHHxx7VUjK",
        "colab_type": "text"
      },
      "source": [
        "**Accuracy:**"
      ]
    },
    {
      "cell_type": "code",
      "metadata": {
        "id": "3ZWFoUn3G73h",
        "colab_type": "code",
        "outputId": "1f9b10cb-c6a8-4162-e0fa-39998ea0915e",
        "colab": {
          "base_uri": "https://localhost:8080/",
          "height": 51
        }
      },
      "source": [
        "loss, acc = model_vgg_mod_updt.evaluate(x_val1, y_val1)\n",
        "print('Loss: {}, Accuracy: {}'.format(loss, acc))"
      ],
      "execution_count": 0,
      "outputs": [
        {
          "output_type": "stream",
          "text": [
            "2045/2045 [==============================] - 6s 3ms/sample - loss: 5.0573 - accuracy: 0.3550\n",
            "Loss: 5.057316117065168, Accuracy: 0.3550122380256653\n"
          ],
          "name": "stdout"
        }
      ]
    },
    {
      "cell_type": "markdown",
      "metadata": {
        "id": "FEMiIWlUVXc8",
        "colab_type": "text"
      },
      "source": [
        "### **Inference:**\n",
        "\n",
        "### We can see that train accuracy is almost 100, whereas the validation accuracy is still poor. However it is better compared to the earlier tries."
      ]
    },
    {
      "cell_type": "markdown",
      "metadata": {
        "id": "bmVYMCgZVp3P",
        "colab_type": "text"
      },
      "source": [
        "**Predict on validation data:**"
      ]
    },
    {
      "cell_type": "code",
      "metadata": {
        "id": "0Zovk8EMSjnY",
        "colab_type": "code",
        "colab": {}
      },
      "source": [
        "y_pred = model_vgg_mod_updt.predict_classes(x_val1)"
      ],
      "execution_count": 0,
      "outputs": []
    },
    {
      "cell_type": "markdown",
      "metadata": {
        "id": "kMb6QhVCV0mF",
        "colab_type": "text"
      },
      "source": [
        "**Classification report:**"
      ]
    },
    {
      "cell_type": "code",
      "metadata": {
        "id": "iFPNq1aHCbb4",
        "colab_type": "code",
        "outputId": "aeea249b-5860-46e8-e967-1a7f295c802e",
        "colab": {
          "base_uri": "https://localhost:8080/",
          "height": 1000
        }
      },
      "source": [
        "print(classification_report(y_val1.argmax(axis=1), y_pred))"
      ],
      "execution_count": 0,
      "outputs": [
        {
          "output_type": "stream",
          "text": [
            "              precision    recall  f1-score   support\n",
            "\n",
            "           0       0.60      0.38      0.46        16\n",
            "           1       0.74      0.61      0.67        23\n",
            "           2       0.67      0.71      0.69        17\n",
            "           3       0.30      0.27      0.29        22\n",
            "           4       0.30      0.20      0.24        15\n",
            "           5       0.35      0.38      0.36        16\n",
            "           6       0.40      0.48      0.43        21\n",
            "           7       0.55      0.55      0.55        22\n",
            "           8       0.29      0.25      0.27        16\n",
            "           9       0.21      0.33      0.25        21\n",
            "          10       0.50      0.50      0.50        18\n",
            "          11       0.65      0.57      0.60        23\n",
            "          12       0.29      0.33      0.31        15\n",
            "          13       0.59      0.62      0.60        21\n",
            "          14       0.21      0.18      0.19        17\n",
            "          15       0.32      0.35      0.33        17\n",
            "          16       0.44      0.50      0.47        14\n",
            "          17       0.24      0.22      0.23        18\n",
            "          18       0.50      0.40      0.44        15\n",
            "          19       0.44      0.47      0.46        17\n",
            "          20       0.41      0.41      0.41        17\n",
            "          21       0.19      0.27      0.22        15\n",
            "          22       0.40      0.46      0.43        13\n",
            "          23       0.00      0.00      0.00        13\n",
            "          24       0.14      0.20      0.16        15\n",
            "          25       0.50      0.60      0.55        15\n",
            "          26       0.40      0.29      0.33        21\n",
            "          27       0.21      0.27      0.24        15\n",
            "          28       0.11      0.12      0.11        17\n",
            "          29       0.14      0.07      0.10        14\n",
            "          30       0.36      0.26      0.30        19\n",
            "          31       0.62      0.62      0.62        16\n",
            "          32       0.42      0.33      0.37        15\n",
            "          33       0.28      0.29      0.29        17\n",
            "          34       0.33      0.36      0.34        14\n",
            "          35       0.64      0.39      0.48        18\n",
            "          36       0.41      0.47      0.44        15\n",
            "          37       0.29      0.12      0.17        16\n",
            "          38       0.26      0.33      0.29        15\n",
            "          39       0.30      0.35      0.32        17\n",
            "          40       0.42      0.29      0.34        17\n",
            "          41       0.31      0.67      0.43        15\n",
            "          42       0.50      0.48      0.49        23\n",
            "          43       0.20      0.23      0.21        13\n",
            "          44       0.18      0.21      0.19        14\n",
            "          45       0.60      0.43      0.50        14\n",
            "          46       0.22      0.14      0.17        14\n",
            "          47       0.24      0.60      0.35        15\n",
            "          48       0.17      0.07      0.10        14\n",
            "          49       0.45      0.38      0.42        13\n",
            "          50       0.25      0.12      0.17        16\n",
            "          51       0.36      0.27      0.31        15\n",
            "          52       0.41      0.41      0.41        22\n",
            "          53       0.70      0.44      0.54        16\n",
            "          54       0.45      0.56      0.50        16\n",
            "          55       0.36      0.28      0.31        18\n",
            "          56       0.33      0.22      0.27        18\n",
            "          57       0.17      0.25      0.21        16\n",
            "          58       0.33      0.56      0.42        16\n",
            "          59       0.11      0.10      0.11        20\n",
            "          60       0.19      0.22      0.21        18\n",
            "          61       0.58      0.67      0.62        21\n",
            "          62       0.70      0.44      0.54        16\n",
            "          63       0.29      0.35      0.32        17\n",
            "          64       0.42      0.62      0.50        16\n",
            "          65       0.57      0.62      0.59        13\n",
            "          66       0.33      0.29      0.31        14\n",
            "          67       0.42      0.47      0.44        17\n",
            "          68       0.12      0.10      0.11        20\n",
            "          69       0.37      0.52      0.43        21\n",
            "          70       0.27      0.22      0.24        18\n",
            "          71       0.09      0.06      0.07        16\n",
            "          72       0.20      0.33      0.25        15\n",
            "          73       0.29      0.29      0.29        24\n",
            "          74       0.67      0.38      0.48        16\n",
            "          75       0.45      0.43      0.44        21\n",
            "          76       0.31      0.31      0.31        16\n",
            "          77       0.22      0.12      0.16        16\n",
            "          78       0.14      0.11      0.12        18\n",
            "          79       0.25      0.29      0.27        17\n",
            "          80       0.42      0.42      0.42        19\n",
            "          81       0.40      0.38      0.39        16\n",
            "          82       0.32      0.53      0.40        17\n",
            "          83       0.22      0.14      0.17        14\n",
            "          84       0.42      0.58      0.49        19\n",
            "          85       0.20      0.13      0.16        15\n",
            "          86       0.48      0.58      0.52        19\n",
            "          87       0.61      0.50      0.55        22\n",
            "          88       0.44      0.21      0.29        19\n",
            "          89       0.38      0.21      0.27        14\n",
            "          90       0.43      0.17      0.24        18\n",
            "          91       0.42      0.33      0.37        15\n",
            "          92       0.52      0.71      0.60        17\n",
            "          93       0.47      0.35      0.40        20\n",
            "          94       0.30      0.27      0.29        22\n",
            "          95       0.38      0.18      0.24        17\n",
            "          96       0.38      0.38      0.38        16\n",
            "          97       0.36      0.48      0.41        25\n",
            "          98       0.57      0.44      0.50        18\n",
            "          99       0.33      0.47      0.39        15\n",
            "         100       0.35      0.26      0.30        23\n",
            "         101       0.14      0.26      0.19        19\n",
            "         102       0.45      0.50      0.47        18\n",
            "         103       0.10      0.07      0.08        14\n",
            "         104       0.50      0.31      0.38        16\n",
            "         105       0.33      0.25      0.29        16\n",
            "         106       0.18      0.43      0.26        14\n",
            "         107       0.53      0.62      0.57        16\n",
            "         108       0.50      0.50      0.50        14\n",
            "         109       0.40      0.36      0.38        22\n",
            "         110       0.22      0.12      0.16        16\n",
            "         111       0.67      0.38      0.48        16\n",
            "         112       0.19      0.29      0.23        14\n",
            "         113       0.26      0.36      0.30        14\n",
            "         114       0.50      0.47      0.48        17\n",
            "         115       0.23      0.19      0.21        16\n",
            "         116       0.43      0.38      0.40        16\n",
            "         117       0.11      0.11      0.11        19\n",
            "         118       0.26      0.31      0.29        16\n",
            "         119       0.33      0.31      0.32        16\n",
            "\n",
            "    accuracy                           0.36      2045\n",
            "   macro avg       0.36      0.35      0.35      2045\n",
            "weighted avg       0.37      0.36      0.35      2045\n",
            "\n"
          ],
          "name": "stdout"
        }
      ]
    },
    {
      "cell_type": "markdown",
      "metadata": {
        "id": "AFHdSCoRV_KL",
        "colab_type": "text"
      },
      "source": [
        "### *   We can see that the model has not performed very well in classifying the breed of dogs. The classification report also shows the same\n",
        "### *   Some images had humans in the background which might have created additional unwanted edges and the accuracy would have dropped in such scenarios\n",
        "\n",
        "\n"
      ]
    },
    {
      "cell_type": "markdown",
      "metadata": {
        "id": "Rn7DwUS_WVN1",
        "colab_type": "text"
      },
      "source": [
        "## **Overall Summary:**"
      ]
    },
    {
      "cell_type": "markdown",
      "metadata": {
        "id": "j6iMJUakY-yL",
        "colab_type": "text"
      },
      "source": [
        "- Imported the necessary libraries\n",
        "- Unzipped the data and placed the files in drive\n",
        "- Read the labels.csv file and performed the necessary analysis.\n",
        "- Mapped the training images with the labels from the labels.csv file and normalized the training data\n",
        "- Similarly test images were mapped with their corresponding labels from sample_submission.csv file. Normalized test data.\n",
        "- Stored the data in pickle files for future use\n",
        "- Images were resized to 128x128\n",
        "- Built a basic convolutional neural network model with 2 conv layers. Accuracy was poor.\n",
        "- Tried image augmentation and then tried training the same model. This also didn't help much in improving the accuracy\n",
        "- Made use of transfer learning using VGG16 with all its layers as non-trainable. This time accuracy slightly increased to 22.44%\n",
        "- Now, resized the images to 224x224 to check if this impacts the accuracy\n",
        "- This time transfer learning using VGG16 gave a validation accuracy of35.5%, where as the train accuracy was almost 99.9%\n",
        "- The model has not performed well in classifying the breed of dogs. The data had human beings as well in the background in some images which would have created unwanted edges and that might have resulted in a poor accuracy"
      ]
    },
    {
      "cell_type": "markdown",
      "metadata": {
        "id": "9TVibtyCZTUY",
        "colab_type": "text"
      },
      "source": [
        "### <center> **End of CV_Project2_Dog_Breed_Classification Project**</center>"
      ]
    }
  ]
}